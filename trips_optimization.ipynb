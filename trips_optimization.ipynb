{
 "cells": [
  {
   "cell_type": "markdown",
   "id": "bad70c37",
   "metadata": {},
   "source": [
    "<a href=\"https://www.kaggle.com/code/ksetdekov/coffee-amount-optimization?scriptVersionId=231761062\" target=\"_blank\"><img align=\"left\" alt=\"Kaggle\" title=\"Open in Kaggle\" src=\"https://kaggle.com/static/images/open-in-kaggle.svg\"></a>"
   ]
  },
  {
   "cell_type": "markdown",
   "id": "72f6130a",
   "metadata": {
    "papermill": {
     "duration": 0.005207,
     "end_time": "2025-04-04T07:41:57.385285",
     "exception": false,
     "start_time": "2025-04-04T07:41:57.380078",
     "status": "completed"
    },
    "tags": []
   },
   "source": [
    "### Ноутбук для подбора количества кофе, которое минимизирует стресс"
   ]
  },
  {
   "cell_type": "markdown",
   "id": "08d3e74f",
   "metadata": {
    "papermill": {
     "duration": 0.003899,
     "end_time": "2025-04-04T07:41:57.393634",
     "exception": false,
     "start_time": "2025-04-04T07:41:57.389735",
     "status": "completed"
    },
    "tags": []
   },
   "source": [
    "## main class"
   ]
  },
  {
   "cell_type": "code",
   "execution_count": 40,
   "id": "4e8c640a",
   "metadata": {
    "execution": {
     "iopub.execute_input": "2025-04-04T07:41:57.403518Z",
     "iopub.status.busy": "2025-04-04T07:41:57.403111Z",
     "iopub.status.idle": "2025-04-04T07:42:01.128187Z",
     "shell.execute_reply": "2025-04-04T07:42:01.126831Z"
    },
    "papermill": {
     "duration": 3.734362,
     "end_time": "2025-04-04T07:42:01.131954",
     "exception": false,
     "start_time": "2025-04-04T07:41:57.397592",
     "status": "completed"
    },
    "tags": []
   },
   "outputs": [],
   "source": [
    "import pandas as pd\n",
    "import numpy as np\n",
    "from scipy.stats import gamma, norm\n",
    "import seaborn as sns\n",
    "import matplotlib.pyplot as plt\n",
    "from tqdm import tqdm\n",
    "from collections import defaultdict\n",
    "import plotly.express as px\n",
    "from datetime import datetime, timedelta\n",
    "import operator\n",
    "from functools import reduce\n",
    "\n",
    "def combiner_times(time_list: list):\n",
    "    \"\"\"takes a list of times and returns a string in the format hh:mm:ss that is a sum of the times\n",
    "    Args:\n",
    "        time_list (list): a list of times in the format hh:mm:ss\n",
    "    Returns:\n",
    "        str: a string in the format hh:mm:ss that is a sum of the times\n",
    "    \"\"\"\n",
    "    time_list = [pd.to_timedelta(x) for x in time_list]\n",
    "    \n",
    "    total_time = reduce(operator.add, time_list)\n",
    "    # return total time in the format hh:mm:ss\n",
    "    total_time_str = str(total_time).split()[2]\n",
    "    return total_time_str\n",
    "\n",
    "class HandsTable():\n",
    "    minimize = True\n",
    "    rho = 3.37\n",
    "\n",
    "    def __init__(self, options_list, minimize=True, rho=1.0):\n",
    "        \"\"\"инициализация\n",
    "\n",
    "        Args:\n",
    "            options_list (list): список из названий\n",
    "            minimize (bool, optional): Минимизировать если True, максимизировать если False. Defaults to True.\n",
    "            rho (float, optional): Риск толерантность, чем больше, тем больше риска готовы принять. Defaults to 1.0.\n",
    "        \"\"\"\n",
    "        self.hands = pd.DataFrame({'name': options_list,\n",
    "                                   'mu': 0.0,\n",
    "                                   'Te': 0.0,\n",
    "                                   'alpha': 0.5,\n",
    "                                   'beta': 0.5\n",
    "                                   })\n",
    "        self.minimize = minimize\n",
    "        if rho is not None:\n",
    "            self.rho = rho\n",
    "\n",
    "        self.history = pd.DataFrame(columns=['option', 'value'])\n",
    "\n",
    "    @classmethod\n",
    "    def to_minutes(cls, timestr: str):\n",
    "        '''\n",
    "        convert timestr to float minutes\n",
    "        '''\n",
    "        return pd.to_timedelta(timestr).total_seconds()/60\n",
    "\n",
    "    @classmethod\n",
    "    def update_mean(cls, X, T_last, mu_last):\n",
    "        mu_new = T_last * mu_last / (T_last + 1) + X / (T_last + 1)\n",
    "        return mu_new\n",
    "\n",
    "    @classmethod\n",
    "    def update_samples(cls, T):\n",
    "        return T + 1\n",
    "\n",
    "    @classmethod\n",
    "    def update_shape(cls, a):\n",
    "        return a + 0.5\n",
    "\n",
    "    @classmethod\n",
    "    def update_rate(cls, X, mu_last, beta_last, T_last):\n",
    "        beta_new = beta_last + (T_last / (T_last + 1)) * \\\n",
    "            (np.square(X - mu_last)) / 2\n",
    "        return beta_new\n",
    "\n",
    "    def update_hands(self, name, value):\n",
    "        if isinstance(value, str):\n",
    "            try:\n",
    "                value = HandsTable.to_minutes(value)\n",
    "            except ValueError:\n",
    "                raise ValueError('input time string in hh:mm:ss format')\n",
    "        elif isinstance(value, float) or isinstance(value, int):\n",
    "            pass\n",
    "        else:\n",
    "            raise ValueError('input time string or int/float value')\n",
    "\n",
    "        _, mu, t, alpha, beta = self.hands[self.hands.name == name].values[0]\n",
    "        beta = HandsTable.update_rate(value, mu, beta, t)\n",
    "        mu = HandsTable.update_mean(value, t, mu)\n",
    "        t = HandsTable.update_samples(t)\n",
    "        alpha = HandsTable.update_shape(alpha)\n",
    "\n",
    "        # added code to write history\n",
    "        self.history.loc[len(self.history.index)] = [name, value]\n",
    "\n",
    "        self.hands.loc[self.hands.name == name, 'mu'] = mu\n",
    "        self.hands.loc[self.hands.name == name, 'Te'] = t\n",
    "        self.hands.loc[self.hands.name == name, 'alpha'] = alpha\n",
    "        self.hands.loc[self.hands.name == name, 'beta'] = beta\n",
    "\n",
    "    def grade(self):\n",
    "        hands_output = self.hands.copy()\n",
    "        tau = gamma.rvs(a=hands_output.alpha, scale=1/hands_output.beta)\n",
    "        theta_drops = norm.rvs(hands_output.mu, 1/hands_output.Te)\n",
    "        hands_output['tau'] = tau\n",
    "        hands_output['theta'] = theta_drops\n",
    "        hands_output['SD'] = np.sqrt(1/tau)\n",
    "\n",
    "        if self.minimize == True:\n",
    "            hands_output['var95'] = theta_drops + \\\n",
    "                norm.ppf(1-0.05/2) * hands_output.SD\n",
    "            if hands_output.mu.min() == 0:\n",
    "\n",
    "                output_df = hands_output.reindex(np.argsort(hands_output.Te))\n",
    "            else:\n",
    "                output_df = hands_output.reindex(\n",
    "                    np.argsort(self.rho * theta_drops + 1/tau))\n",
    "        else:\n",
    "            hands_output['var95'] = theta_drops + \\\n",
    "                norm.ppf(0.05/2) * hands_output.SD\n",
    "            if hands_output.mu.min() == 0:\n",
    "                output_df = hands_output.reindex(np.argsort(hands_output.Te))\n",
    "            else:\n",
    "                output_df = hands_output.reindex(\n",
    "                    np.argsort(self.rho * theta_drops - 1/tau)[::-1])\n",
    "\n",
    "        return output_df\n",
    "\n",
    "    def process_events(self, events, days=91):\n",
    "        \"\"\"Filter events and update hands\"\"\"\n",
    "        oldest_ok = max(events) - timedelta(days=days)\n",
    "        filtered_events = {k: v for k, v in events.items() if k > oldest_ok}\n",
    "\n",
    "        for category, value in filtered_events.values():\n",
    "            self.update_hands(category, value)\n",
    "        return self.grade()\n",
    "\n",
    "    def __str__(self):\n",
    "        return repr(self.hands)"
   ]
  },
  {
   "cell_type": "markdown",
   "id": "91179776",
   "metadata": {
    "papermill": {
     "duration": 0.003739,
     "end_time": "2025-04-04T07:42:01.140251",
     "exception": false,
     "start_time": "2025-04-04T07:42:01.136512",
     "status": "completed"
    },
    "tags": []
   },
   "source": [
    "# Применение"
   ]
  },
  {
   "cell_type": "code",
   "execution_count": 41,
   "id": "b2b6fecd",
   "metadata": {
    "execution": {
     "iopub.execute_input": "2025-04-04T07:42:01.151414Z",
     "iopub.status.busy": "2025-04-04T07:42:01.150823Z",
     "iopub.status.idle": "2025-04-04T07:42:01.526976Z",
     "shell.execute_reply": "2025-04-04T07:42:01.52579Z"
    },
    "papermill": {
     "duration": 0.384803,
     "end_time": "2025-04-04T07:42:01.529503",
     "exception": false,
     "start_time": "2025-04-04T07:42:01.1447",
     "status": "completed"
    },
    "tags": []
   },
   "outputs": [
    {
     "name": "stdout",
     "output_type": "stream",
     "text": [
      "oldest_ok_commute: 2024-04-09 00:00:00\n"
     ]
    },
    {
     "data": {
      "text/html": [
       "<div>\n",
       "<style scoped>\n",
       "    .dataframe tbody tr th:only-of-type {\n",
       "        vertical-align: middle;\n",
       "    }\n",
       "\n",
       "    .dataframe tbody tr th {\n",
       "        vertical-align: top;\n",
       "    }\n",
       "\n",
       "    .dataframe thead th {\n",
       "        text-align: right;\n",
       "    }\n",
       "</style>\n",
       "<table border=\"1\" class=\"dataframe\">\n",
       "  <thead>\n",
       "    <tr style=\"text-align: right;\">\n",
       "      <th></th>\n",
       "      <th>name</th>\n",
       "      <th>mu</th>\n",
       "      <th>Te</th>\n",
       "      <th>alpha</th>\n",
       "      <th>beta</th>\n",
       "      <th>tau</th>\n",
       "      <th>theta</th>\n",
       "      <th>SD</th>\n",
       "      <th>var95</th>\n",
       "    </tr>\n",
       "    <tr>\n",
       "      <th>Te</th>\n",
       "      <th></th>\n",
       "      <th></th>\n",
       "      <th></th>\n",
       "      <th></th>\n",
       "      <th></th>\n",
       "      <th></th>\n",
       "      <th></th>\n",
       "      <th></th>\n",
       "      <th></th>\n",
       "    </tr>\n",
       "  </thead>\n",
       "  <tbody>\n",
       "    <tr>\n",
       "      <th>1</th>\n",
       "      <td>motorcycle</td>\n",
       "      <td>0.000000</td>\n",
       "      <td>0.0</td>\n",
       "      <td>0.5</td>\n",
       "      <td>0.500000</td>\n",
       "      <td>0.175196</td>\n",
       "      <td>inf</td>\n",
       "      <td>2.389121</td>\n",
       "      <td>inf</td>\n",
       "    </tr>\n",
       "    <tr>\n",
       "      <th>2</th>\n",
       "      <td>МЦК</td>\n",
       "      <td>110.883333</td>\n",
       "      <td>1.0</td>\n",
       "      <td>1.0</td>\n",
       "      <td>0.500000</td>\n",
       "      <td>4.036337</td>\n",
       "      <td>112.811406</td>\n",
       "      <td>0.497744</td>\n",
       "      <td>113.786967</td>\n",
       "    </tr>\n",
       "    <tr>\n",
       "      <th>0</th>\n",
       "      <td>moped</td>\n",
       "      <td>74.033333</td>\n",
       "      <td>2.0</td>\n",
       "      <td>1.5</td>\n",
       "      <td>749.434444</td>\n",
       "      <td>0.000680</td>\n",
       "      <td>74.202774</td>\n",
       "      <td>38.356074</td>\n",
       "      <td>149.379299</td>\n",
       "    </tr>\n",
       "  </tbody>\n",
       "</table>\n",
       "</div>"
      ],
      "text/plain": [
       "          name          mu   Te  alpha        beta       tau       theta  \\\n",
       "Te                                                                         \n",
       "1   motorcycle    0.000000  0.0    0.5    0.500000  0.175196         inf   \n",
       "2          МЦК  110.883333  1.0    1.0    0.500000  4.036337  112.811406   \n",
       "0        moped   74.033333  2.0    1.5  749.434444  0.000680   74.202774   \n",
       "\n",
       "           SD       var95  \n",
       "Te                         \n",
       "1    2.389121         inf  \n",
       "2    0.497744  113.786967  \n",
       "0   38.356074  149.379299  "
      ]
     },
     "execution_count": 41,
     "metadata": {},
     "output_type": "execute_result"
    }
   ],
   "source": [
    "time_total_commute = HandsTable(options_list=['moped', 'motorcycle', 'МЦК'], minimize=True, rho=5)\n",
    "\n",
    "\n",
    "events_commute = {\n",
    "    datetime(2025, 4, 2): ('moped', combiner_times(['00:53:17', '00:48:07'])),\n",
    "    datetime(2025, 4, 3): ('МЦК', combiner_times(['0:47:39', '1:03:14'])),\n",
    "    datetime(2025, 4, 4): ('moped', combiner_times(['00:46:40']))\n",
    "}\n",
    "\n",
    "oldest_ok_commute = max(events_commute)-timedelta(days=360)\n",
    "print(f'oldest_ok_commute: {oldest_ok_commute}')\n",
    "\n",
    "# Process events within the class\n",
    "time_total_commute.process_events(events_commute, days=360)\n"
   ]
  },
  {
   "cell_type": "markdown",
   "id": "75ad26d2",
   "metadata": {
    "papermill": {
     "duration": 0.004145,
     "end_time": "2025-04-04T07:42:01.538495",
     "exception": false,
     "start_time": "2025-04-04T07:42:01.53435",
     "status": "completed"
    },
    "tags": []
   },
   "source": [
    "# commute times"
   ]
  },
  {
   "cell_type": "code",
   "execution_count": 42,
   "id": "f8850da4",
   "metadata": {
    "execution": {
     "iopub.execute_input": "2025-04-04T07:42:01.548817Z",
     "iopub.status.busy": "2025-04-04T07:42:01.548426Z",
     "iopub.status.idle": "2025-04-04T07:42:32.880315Z",
     "shell.execute_reply": "2025-04-04T07:42:32.878787Z"
    },
    "papermill": {
     "duration": 31.339918,
     "end_time": "2025-04-04T07:42:32.882728",
     "exception": false,
     "start_time": "2025-04-04T07:42:01.54281",
     "status": "completed"
    },
    "tags": []
   },
   "outputs": [
    {
     "name": "stderr",
     "output_type": "stream",
     "text": [
      "100%|██████████| 10000/10000 [00:09<00:00, 1025.61it/s]\n"
     ]
    },
    {
     "data": {
      "image/png": "[encoded data removed]",
      "text/plain": [
       "<Figure size 640x480 with 1 Axes>"
      ]
     },
     "metadata": {},
     "output_type": "display_data"
    },
    {
     "data": {
      "text/html": [
       "<div>\n",
       "<style scoped>\n",
       "    .dataframe tbody tr th:only-of-type {\n",
       "        vertical-align: middle;\n",
       "    }\n",
       "\n",
       "    .dataframe tbody tr th {\n",
       "        vertical-align: top;\n",
       "    }\n",
       "\n",
       "    .dataframe thead th {\n",
       "        text-align: right;\n",
       "    }\n",
       "</style>\n",
       "<table border=\"1\" class=\"dataframe\">\n",
       "  <thead>\n",
       "    <tr style=\"text-align: right;\">\n",
       "      <th></th>\n",
       "      <th>variant</th>\n",
       "      <th>prob</th>\n",
       "    </tr>\n",
       "  </thead>\n",
       "  <tbody>\n",
       "    <tr>\n",
       "      <th>0</th>\n",
       "      <td>motorcycle</td>\n",
       "      <td>1.0</td>\n",
       "    </tr>\n",
       "  </tbody>\n",
       "</table>\n",
       "</div>"
      ],
      "text/plain": [
       "      variant  prob\n",
       "0  motorcycle   1.0"
      ]
     },
     "execution_count": 42,
     "metadata": {},
     "output_type": "execute_result"
    }
   ],
   "source": [
    "\n",
    "results = defaultdict(int)\n",
    "for i in tqdm(range(10000)):\n",
    "    i_res = time_total_commute.grade()\n",
    "    i_var = i_res.iloc[0]['name']\n",
    "    results[i_var] += 1\n",
    "\n",
    "variants_proba_current = pd.DataFrame(results.items(), columns=['variant', 'prob'])\n",
    "variants_proba_current['prob'] = variants_proba_current['prob']/sum(variants_proba_current['prob'])\n",
    "variants_proba_current = variants_proba_current.sort_values('variant')\n",
    "\n",
    "plt.bar(variants_proba_current['variant'], variants_proba_current['prob'], align='center')\n",
    "\n",
    "plt.show()\n",
    "variants_proba_current"
   ]
  },
  {
   "cell_type": "code",
   "execution_count": 43,
   "id": "ac55f2da",
   "metadata": {
    "execution": {
     "iopub.execute_input": "2025-04-04T07:42:32.926558Z",
     "iopub.status.busy": "2025-04-04T07:42:32.926153Z",
     "iopub.status.idle": "2025-04-04T07:42:35.325273Z",
     "shell.execute_reply": "2025-04-04T07:42:35.3241Z"
    },
    "papermill": {
     "duration": 2.424702,
     "end_time": "2025-04-04T07:42:35.327896",
     "exception": false,
     "start_time": "2025-04-04T07:42:32.903194",
     "status": "completed"
    },
    "tags": []
   },
   "outputs": [
    {
     "data": {
      "application/vnd.plotly.v1+json": {
       "config": {
        "plotlyServerURL": "https://plot.ly"
       },
       "data": [
        {
         "alignmentgroup": "True",
         "box": {
          "visible": true
         },
         "hovertemplate": "option=%{x}<br>value=%{y}<extra></extra>",
         "legendgroup": "",
         "marker": {
          "color": "#636efa"
         },
         "name": "",
         "offsetgroup": "",
         "orientation": "v",
         "points": "all",
         "scalegroup": "True",
         "showlegend": false,
         "type": "violin",
         "x": [
          "moped",
          "МЦК",
          "moped"
         ],
         "x0": " ",
         "xaxis": "x",
         "y": {
          "bdata": "mpmZmZlZWUCJiIiIiLhbQFVVVVVVVUdA",
          "dtype": "f8"
         },
         "y0": " ",
         "yaxis": "y"
        }
       ],
       "layout": {
        "legend": {
         "tracegroupgap": 0
        },
        "margin": {
         "t": 60
        },
        "template": {
         "data": {
          "bar": [
           {
            "error_x": {
             "color": "#2a3f5f"
            },
            "error_y": {
             "color": "#2a3f5f"
            },
            "marker": {
             "line": {
              "color": "#E5ECF6",
              "width": 0.5
             },
             "pattern": {
              "fillmode": "overlay",
              "size": 10,
              "solidity": 0.2
             }
            },
            "type": "bar"
           }
          ],
          "barpolar": [
           {
            "marker": {
             "line": {
              "color": "#E5ECF6",
              "width": 0.5
             },
             "pattern": {
              "fillmode": "overlay",
              "size": 10,
              "solidity": 0.2
             }
            },
            "type": "barpolar"
           }
          ],
          "carpet": [
           {
            "aaxis": {
             "endlinecolor": "#2a3f5f",
             "gridcolor": "white",
             "linecolor": "white",
             "minorgridcolor": "white",
             "startlinecolor": "#2a3f5f"
            },
            "baxis": {
             "endlinecolor": "#2a3f5f",
             "gridcolor": "white",
             "linecolor": "white",
             "minorgridcolor": "white",
             "startlinecolor": "#2a3f5f"
            },
            "type": "carpet"
           }
          ],
          "choropleth": [
           {
            "colorbar": {
             "outlinewidth": 0,
             "ticks": ""
            },
            "type": "choropleth"
           }
          ],
          "contour": [
           {
            "colorbar": {
             "outlinewidth": 0,
             "ticks": ""
            },
            "colorscale": [
             [
              0,
              "#0d0887"
             ],
             [
              0.1111111111111111,
              "#46039f"
             ],
             [
              0.2222222222222222,
              "#7201a8"
             ],
             [
              0.3333333333333333,
              "#9c179e"
             ],
             [
              0.4444444444444444,
              "#bd3786"
             ],
             [
              0.5555555555555556,
              "#d8576b"
             ],
             [
              0.6666666666666666,
              "#ed7953"
             ],
             [
              0.7777777777777778,
              "#fb9f3a"
             ],
             [
              0.8888888888888888,
              "#fdca26"
             ],
             [
              1,
              "#f0f921"
             ]
            ],
            "type": "contour"
           }
          ],
          "contourcarpet": [
           {
            "colorbar": {
             "outlinewidth": 0,
             "ticks": ""
            },
            "type": "contourcarpet"
           }
          ],
          "heatmap": [
           {
            "colorbar": {
             "outlinewidth": 0,
             "ticks": ""
            },
            "colorscale": [
             [
              0,
              "#0d0887"
             ],
             [
              0.1111111111111111,
              "#46039f"
             ],
             [
              0.2222222222222222,
              "#7201a8"
             ],
             [
              0.3333333333333333,
              "#9c179e"
             ],
             [
              0.4444444444444444,
              "#bd3786"
             ],
             [
              0.5555555555555556,
              "#d8576b"
             ],
             [
              0.6666666666666666,
              "#ed7953"
             ],
             [
              0.7777777777777778,
              "#fb9f3a"
             ],
             [
              0.8888888888888888,
              "#fdca26"
             ],
             [
              1,
              "#f0f921"
             ]
            ],
            "type": "heatmap"
           }
          ],
          "histogram": [
           {
            "marker": {
             "pattern": {
              "fillmode": "overlay",
              "size": 10,
              "solidity": 0.2
             }
            },
            "type": "histogram"
           }
          ],
          "histogram2d": [
           {
            "colorbar": {
             "outlinewidth": 0,
             "ticks": ""
            },
            "colorscale": [
             [
              0,
              "#0d0887"
             ],
             [
              0.1111111111111111,
              "#46039f"
             ],
             [
              0.2222222222222222,
              "#7201a8"
             ],
             [
              0.3333333333333333,
              "#9c179e"
             ],
             [
              0.4444444444444444,
              "#bd3786"
             ],
             [
              0.5555555555555556,
              "#d8576b"
             ],
             [
              0.6666666666666666,
              "#ed7953"
             ],
             [
              0.7777777777777778,
              "#fb9f3a"
             ],
             [
              0.8888888888888888,
              "#fdca26"
             ],
             [
              1,
              "#f0f921"
             ]
            ],
            "type": "histogram2d"
           }
          ],
          "histogram2dcontour": [
           {
            "colorbar": {
             "outlinewidth": 0,
             "ticks": ""
            },
            "colorscale": [
             [
              0,
              "#0d0887"
             ],
             [
              0.1111111111111111,
              "#46039f"
             ],
             [
              0.2222222222222222,
              "#7201a8"
             ],
             [
              0.3333333333333333,
              "#9c179e"
             ],
             [
              0.4444444444444444,
              "#bd3786"
             ],
             [
              0.5555555555555556,
              "#d8576b"
             ],
             [
              0.6666666666666666,
              "#ed7953"
             ],
             [
              0.7777777777777778,
              "#fb9f3a"
             ],
             [
              0.8888888888888888,
              "#fdca26"
             ],
             [
              1,
              "#f0f921"
             ]
            ],
            "type": "histogram2dcontour"
           }
          ],
          "mesh3d": [
           {
            "colorbar": {
             "outlinewidth": 0,
             "ticks": ""
            },
            "type": "mesh3d"
           }
          ],
          "parcoords": [
           {
            "line": {
             "colorbar": {
              "outlinewidth": 0,
              "ticks": ""
             }
            },
            "type": "parcoords"
           }
          ],
          "pie": [
           {
            "automargin": true,
            "type": "pie"
           }
          ],
          "scatter": [
           {
            "fillpattern": {
             "fillmode": "overlay",
             "size": 10,
             "solidity": 0.2
            },
            "type": "scatter"
           }
          ],
          "scatter3d": [
           {
            "line": {
             "colorbar": {
              "outlinewidth": 0,
              "ticks": ""
             }
            },
            "marker": {
             "colorbar": {
              "outlinewidth": 0,
              "ticks": ""
             }
            },
            "type": "scatter3d"
           }
          ],
          "scattercarpet": [
           {
            "marker": {
             "colorbar": {
              "outlinewidth": 0,
              "ticks": ""
             }
            },
            "type": "scattercarpet"
           }
          ],
          "scattergeo": [
           {
            "marker": {
             "colorbar": {
              "outlinewidth": 0,
              "ticks": ""
             }
            },
            "type": "scattergeo"
           }
          ],
          "scattergl": [
           {
            "marker": {
             "colorbar": {
              "outlinewidth": 0,
              "ticks": ""
             }
            },
            "type": "scattergl"
           }
          ],
          "scattermap": [
           {
            "marker": {
             "colorbar": {
              "outlinewidth": 0,
              "ticks": ""
             }
            },
            "type": "scattermap"
           }
          ],
          "scattermapbox": [
           {
            "marker": {
             "colorbar": {
              "outlinewidth": 0,
              "ticks": ""
             }
            },
            "type": "scattermapbox"
           }
          ],
          "scatterpolar": [
           {
            "marker": {
             "colorbar": {
              "outlinewidth": 0,
              "ticks": ""
             }
            },
            "type": "scatterpolar"
           }
          ],
          "scatterpolargl": [
           {
            "marker": {
             "colorbar": {
              "outlinewidth": 0,
              "ticks": ""
             }
            },
            "type": "scatterpolargl"
           }
          ],
          "scatterternary": [
           {
            "marker": {
             "colorbar": {
              "outlinewidth": 0,
              "ticks": ""
             }
            },
            "type": "scatterternary"
           }
          ],
          "surface": [
           {
            "colorbar": {
             "outlinewidth": 0,
             "ticks": ""
            },
            "colorscale": [
             [
              0,
              "#0d0887"
             ],
             [
              0.1111111111111111,
              "#46039f"
             ],
             [
              0.2222222222222222,
              "#7201a8"
             ],
             [
              0.3333333333333333,
              "#9c179e"
             ],
             [
              0.4444444444444444,
              "#bd3786"
             ],
             [
              0.5555555555555556,
              "#d8576b"
             ],
             [
              0.6666666666666666,
              "#ed7953"
             ],
             [
              0.7777777777777778,
              "#fb9f3a"
             ],
             [
              0.8888888888888888,
              "#fdca26"
             ],
             [
              1,
              "#f0f921"
             ]
            ],
            "type": "surface"
           }
          ],
          "table": [
           {
            "cells": {
             "fill": {
              "color": "#EBF0F8"
             },
             "line": {
              "color": "white"
             }
            },
            "header": {
             "fill": {
              "color": "#C8D4E3"
             },
             "line": {
              "color": "white"
             }
            },
            "type": "table"
           }
          ]
         },
         "layout": {
          "annotationdefaults": {
           "arrowcolor": "#2a3f5f",
           "arrowhead": 0,
           "arrowwidth": 1
          },
          "autotypenumbers": "strict",
          "coloraxis": {
           "colorbar": {
            "outlinewidth": 0,
            "ticks": ""
           }
          },
          "colorscale": {
           "diverging": [
            [
             0,
             "#8e0152"
            ],
            [
             0.1,
             "#c51b7d"
            ],
            [
             0.2,
             "#de77ae"
            ],
            [
             0.3,
             "#f1b6da"
            ],
            [
             0.4,
             "#fde0ef"
            ],
            [
             0.5,
             "#f7f7f7"
            ],
            [
             0.6,
             "#e6f5d0"
            ],
            [
             0.7,
             "#b8e186"
            ],
            [
             0.8,
             "#7fbc41"
            ],
            [
             0.9,
             "#4d9221"
            ],
            [
             1,
             "#276419"
            ]
           ],
           "sequential": [
            [
             0,
             "#0d0887"
            ],
            [
             0.1111111111111111,
             "#46039f"
            ],
            [
             0.2222222222222222,
             "#7201a8"
            ],
            [
             0.3333333333333333,
             "#9c179e"
            ],
            [
             0.4444444444444444,
             "#bd3786"
            ],
            [
             0.5555555555555556,
             "#d8576b"
            ],
            [
             0.6666666666666666,
             "#ed7953"
            ],
            [
             0.7777777777777778,
             "#fb9f3a"
            ],
            [
             0.8888888888888888,
             "#fdca26"
            ],
            [
             1,
             "#f0f921"
            ]
           ],
           "sequentialminus": [
            [
             0,
             "#0d0887"
            ],
            [
             0.1111111111111111,
             "#46039f"
            ],
            [
             0.2222222222222222,
             "#7201a8"
            ],
            [
             0.3333333333333333,
             "#9c179e"
            ],
            [
             0.4444444444444444,
             "#bd3786"
            ],
            [
             0.5555555555555556,
             "#d8576b"
            ],
            [
             0.6666666666666666,
             "#ed7953"
            ],
            [
             0.7777777777777778,
             "#fb9f3a"
            ],
            [
             0.8888888888888888,
             "#fdca26"
            ],
            [
             1,
             "#f0f921"
            ]
           ]
          },
          "colorway": [
           "#636efa",
           "#EF553B",
           "#00cc96",
           "#ab63fa",
           "#FFA15A",
           "#19d3f3",
           "#FF6692",
           "#B6E880",
           "#FF97FF",
           "#FECB52"
          ],
          "font": {
           "color": "#2a3f5f"
          },
          "geo": {
           "bgcolor": "white",
           "lakecolor": "white",
           "landcolor": "#E5ECF6",
           "showlakes": true,
           "showland": true,
           "subunitcolor": "white"
          },
          "hoverlabel": {
           "align": "left"
          },
          "hovermode": "closest",
          "mapbox": {
           "style": "light"
          },
          "paper_bgcolor": "white",
          "plot_bgcolor": "#E5ECF6",
          "polar": {
           "angularaxis": {
            "gridcolor": "white",
            "linecolor": "white",
            "ticks": ""
           },
           "bgcolor": "#E5ECF6",
           "radialaxis": {
            "gridcolor": "white",
            "linecolor": "white",
            "ticks": ""
           }
          },
          "scene": {
           "xaxis": {
            "backgroundcolor": "#E5ECF6",
            "gridcolor": "white",
            "gridwidth": 2,
            "linecolor": "white",
            "showbackground": true,
            "ticks": "",
            "zerolinecolor": "white"
           },
           "yaxis": {
            "backgroundcolor": "#E5ECF6",
            "gridcolor": "white",
            "gridwidth": 2,
            "linecolor": "white",
            "showbackground": true,
            "ticks": "",
            "zerolinecolor": "white"
           },
           "zaxis": {
            "backgroundcolor": "#E5ECF6",
            "gridcolor": "white",
            "gridwidth": 2,
            "linecolor": "white",
            "showbackground": true,
            "ticks": "",
            "zerolinecolor": "white"
           }
          },
          "shapedefaults": {
           "line": {
            "color": "#2a3f5f"
           }
          },
          "ternary": {
           "aaxis": {
            "gridcolor": "white",
            "linecolor": "white",
            "ticks": ""
           },
           "baxis": {
            "gridcolor": "white",
            "linecolor": "white",
            "ticks": ""
           },
           "bgcolor": "#E5ECF6",
           "caxis": {
            "gridcolor": "white",
            "linecolor": "white",
            "ticks": ""
           }
          },
          "title": {
           "x": 0.05
          },
          "xaxis": {
           "automargin": true,
           "gridcolor": "white",
           "linecolor": "white",
           "ticks": "",
           "title": {
            "standoff": 15
           },
           "zerolinecolor": "white",
           "zerolinewidth": 2
          },
          "yaxis": {
           "automargin": true,
           "gridcolor": "white",
           "linecolor": "white",
           "ticks": "",
           "title": {
            "standoff": 15
           },
           "zerolinecolor": "white",
           "zerolinewidth": 2
          }
         }
        },
        "violinmode": "group",
        "xaxis": {
         "anchor": "y",
         "domain": [
          0,
          1
         ],
         "title": {
          "text": "option"
         }
        },
        "yaxis": {
         "anchor": "x",
         "domain": [
          0,
          1
         ],
         "title": {
          "text": "value"
         }
        }
       }
      }
     },
     "metadata": {},
     "output_type": "display_data"
    }
   ],
   "source": [
    "\n",
    "fig = px.violin(time_total_commute.history, y=\"value\", x=\"option\", box=True, points=\"all\",\n",
    "          hover_data=time_total_commute.history.columns)\n",
    "fig.show()"
   ]
  },
  {
   "cell_type": "code",
   "execution_count": 44,
   "id": "b589dad2",
   "metadata": {
    "execution": {
     "iopub.execute_input": "2025-04-04T07:42:35.373225Z",
     "iopub.status.busy": "2025-04-04T07:42:35.372457Z",
     "iopub.status.idle": "2025-04-04T07:42:35.828234Z",
     "shell.execute_reply": "2025-04-04T07:42:35.826996Z"
    },
    "papermill": {
     "duration": 0.482266,
     "end_time": "2025-04-04T07:42:35.83107",
     "exception": false,
     "start_time": "2025-04-04T07:42:35.348804",
     "status": "completed"
    },
    "tags": []
   },
   "outputs": [
    {
     "data": {
      "image/png": "[encoded data removed]",
      "text/plain": [
       "<Figure size 1000x600 with 1 Axes>"
      ]
     },
     "metadata": {},
     "output_type": "display_data"
    }
   ],
   "source": [
    "\n",
    "grouped_data = [group['value'].values for name, group in time_total_commute.history.groupby('option')]\n",
    "fix, ax = plt.subplots(figsize=(10, 6))\n",
    "sns.violinplot(x='option', y='value', data=time_total_commute.history, ax=ax)\n",
    "# set y axis to be in the format hh:mm:ss\n",
    "ax.set_title('Violin plot of daly commute times by option')\n",
    "ax.tick_params(axis='x', labelrotation=45)\n",
    "ax.set_xlabel('Options')\n",
    "ax.set_ylabel('Sum of commute times in minutes')\n",
    "plt.tight_layout()\n",
    "plt.show()"
   ]
  },
  {
   "cell_type": "markdown",
   "id": "c565345c",
   "metadata": {
    "papermill": {
     "duration": 0.023862,
     "end_time": "2025-04-04T07:42:35.883597",
     "exception": false,
     "start_time": "2025-04-04T07:42:35.859735",
     "status": "completed"
    },
    "tags": []
   },
   "source": [
    "# Какой выход из МЦК утром?\n",
    "* Садиться в ту дверь, которая кажется ближе к выходу\n",
    "* считать от выхода на платформу до выхода из крутящихся дверей офиса\n"
   ]
  },
  {
   "cell_type": "code",
   "execution_count": 45,
   "id": "ff45a801",
   "metadata": {
    "execution": {
     "iopub.execute_input": "2025-04-04T07:42:35.929531Z",
     "iopub.status.busy": "2025-04-04T07:42:35.929094Z",
     "iopub.status.idle": "2025-04-04T07:42:36.169138Z",
     "shell.execute_reply": "2025-04-04T07:42:36.168044Z"
    },
    "papermill": {
     "duration": 0.265905,
     "end_time": "2025-04-04T07:42:36.171492",
     "exception": false,
     "start_time": "2025-04-04T07:42:35.905587",
     "status": "completed"
    },
    "tags": []
   },
   "outputs": [
    {
     "data": {
      "text/html": [
       "<div>\n",
       "<style scoped>\n",
       "    .dataframe tbody tr th:only-of-type {\n",
       "        vertical-align: middle;\n",
       "    }\n",
       "\n",
       "    .dataframe tbody tr th {\n",
       "        vertical-align: top;\n",
       "    }\n",
       "\n",
       "    .dataframe thead th {\n",
       "        text-align: right;\n",
       "    }\n",
       "</style>\n",
       "<table border=\"1\" class=\"dataframe\">\n",
       "  <thead>\n",
       "    <tr style=\"text-align: right;\">\n",
       "      <th></th>\n",
       "      <th>name</th>\n",
       "      <th>mu</th>\n",
       "      <th>Te</th>\n",
       "      <th>alpha</th>\n",
       "      <th>beta</th>\n",
       "      <th>tau</th>\n",
       "      <th>theta</th>\n",
       "      <th>SD</th>\n",
       "      <th>var95</th>\n",
       "    </tr>\n",
       "  </thead>\n",
       "  <tbody>\n",
       "    <tr>\n",
       "      <th>1</th>\n",
       "      <td>мцд эскалатор</td>\n",
       "      <td>8.027791</td>\n",
       "      <td>51.0</td>\n",
       "      <td>26.0</td>\n",
       "      <td>6.689018</td>\n",
       "      <td>3.184349</td>\n",
       "      <td>8.029753</td>\n",
       "      <td>0.560389</td>\n",
       "      <td>9.128096</td>\n",
       "    </tr>\n",
       "    <tr>\n",
       "      <th>2</th>\n",
       "      <td>мцд пешком</td>\n",
       "      <td>8.236667</td>\n",
       "      <td>5.0</td>\n",
       "      <td>3.0</td>\n",
       "      <td>0.677297</td>\n",
       "      <td>5.283809</td>\n",
       "      <td>8.441743</td>\n",
       "      <td>0.435037</td>\n",
       "      <td>9.294401</td>\n",
       "    </tr>\n",
       "    <tr>\n",
       "      <th>0</th>\n",
       "      <td>мцк</td>\n",
       "      <td>8.905417</td>\n",
       "      <td>4.0</td>\n",
       "      <td>2.5</td>\n",
       "      <td>1.015287</td>\n",
       "      <td>0.998889</td>\n",
       "      <td>8.774786</td>\n",
       "      <td>1.000556</td>\n",
       "      <td>10.735840</td>\n",
       "    </tr>\n",
       "  </tbody>\n",
       "</table>\n",
       "</div>"
      ],
      "text/plain": [
       "            name        mu    Te  alpha      beta       tau     theta  \\\n",
       "1  мцд эскалатор  8.027791  51.0   26.0  6.689018  3.184349  8.029753   \n",
       "2     мцд пешком  8.236667   5.0    3.0  0.677297  5.283809  8.441743   \n",
       "0            мцк  8.905417   4.0    2.5  1.015287  0.998889  8.774786   \n",
       "\n",
       "         SD      var95  \n",
       "1  0.560389   9.128096  \n",
       "2  0.435037   9.294401  \n",
       "0  1.000556  10.735840  "
      ]
     },
     "execution_count": 45,
     "metadata": {},
     "output_type": "execute_result"
    }
   ],
   "source": [
    "morning_exit = HandsTable(options_list=[\"мцк\",\"мцд эскалатор\", \"мцд пешком\"], minimize=True)\n",
    "# 3 мцк\n",
    "# 6 мцд эскалатор\n",
    "morning_exit.update_hands(\"мцк\", '0:08:03.7') # вторник 19 ноября\n",
    "morning_exit.update_hands(\"мцд эскалатор\", '0:08:40') # среда 20 ноября\n",
    "morning_exit.update_hands(\"мцк\", '0:09:23.4') # mon 25 ноября\n",
    "morning_exit.update_hands(\"мцд эскалатор\", '0:07:46.5') # вторник 26 ноября\n",
    "morning_exit.update_hands(\"мцд эскалатор\", '0:07:27.9') # среда 27 ноября\n",
    "morning_exit.update_hands(\"мцк\", '0:09:11') # пятница 29 ноября\n",
    "morning_exit.update_hands(\"мцд эскалатор\", '0:08:17.6') # понедельник 2 декабря\n",
    "morning_exit.update_hands(\"мцд эскалатор\", '0:08:28.4') # вторник 3 декабря\n",
    "morning_exit.update_hands(\"мцд эскалатор\", '0:08:28.4') # wed 4 dec\n",
    "morning_exit.update_hands(\"мцд эскалатор\", '0:07:26') # th 5 dec\n",
    "morning_exit.update_hands(\"мцд эскалатор\", '0:08:46.4') # fr 6 dec\n",
    "morning_exit.update_hands(\"мцд эскалатор\", '0:08:51.5') # mon 9 dec\n",
    "morning_exit.update_hands(\"мцд эскалатор\", '0:07:54.6') # th 12 dec\n",
    "morning_exit.update_hands(\"мцд эскалатор\", '0:08:05.6') # fr 13 dec\n",
    "morning_exit.update_hands(\"мцд эскалатор\", '0:08:37') # пн 16 dec\n",
    "morning_exit.update_hands(\"мцд эскалатор\", '0:07:38.9') # tue 17 dec\n",
    "morning_exit.update_hands(\"мцк\", '0:08:59.2') # wed 18 dec\n",
    "morning_exit.update_hands(\"мцд эскалатор\", '0:07:27.7') # th 19 dec\n",
    "morning_exit.update_hands(\"мцд эскалатор\", '0:07:56.5') # fr 20 dec\n",
    "morning_exit.update_hands(\"мцд эскалатор\", '0:07:26.32') # mon 23 dec\n",
    "morning_exit.update_hands(\"мцд эскалатор\", '0:09:09.3') # tue 24 dec\n",
    "morning_exit.update_hands(\"мцд эскалатор\", '0:07:53.2') # wed 25 dec\n",
    "morning_exit.update_hands(\"мцд эскалатор\", '0:07:32.9') # thr 26 dec\n",
    "morning_exit.update_hands(\"мцд эскалатор\", '0:07:06.4') # thr 09 jan 2025\n",
    "morning_exit.update_hands(\"мцд эскалатор\", '0:08:12.6') # fr 10 jan 2025\n",
    "morning_exit.update_hands(\"мцд эскалатор\", '0:07:39.3') # mon 13 jan 2025\n",
    "morning_exit.update_hands(\"мцд эскалатор\", '0:07:54.4') # tue 14 jan 2025\n",
    "morning_exit.update_hands(\"мцд эскалатор\", '0:07:47.1') # wed 15 jan 2025\n",
    "morning_exit.update_hands(\"мцд эскалатор\", '0:08:24.0') # thr 16 jan 2025\n",
    "morning_exit.update_hands(\"мцд эскалатор\", '0:07:15.4') # fr 17 jan 2025\n",
    "morning_exit.update_hands(\"мцд эскалатор\", '0:08:04.1') # mon 20 jan 2025\n",
    "morning_exit.update_hands(\"мцд эскалатор\", '0:07:52.4') # tue 21 jan 2025\n",
    "morning_exit.update_hands(\"мцд эскалатор\", '0:07:40.0') # wed 22 jan 2025\n",
    "morning_exit.update_hands(\"мцд эскалатор\", '0:07:21.0') # thr 23 jan 2025\n",
    "morning_exit.update_hands(\"мцд эскалатор\", '0:07:50.5') # fr 24 jan 2025\n",
    "morning_exit.update_hands(\"мцд эскалатор\", '0:08:11.1') # mon 27 jan 2025\n",
    "morning_exit.update_hands(\"мцд эскалатор\", '0:07:21.52') # tue 28 jan 2025\n",
    "morning_exit.update_hands(\"мцд эскалатор\", '0:08:26.8') # wed 29 jan 2025\n",
    "morning_exit.update_hands(\"мцд эскалатор\", '0:08:01.8') # thr 30 jan 2025\n",
    "morning_exit.update_hands(\"мцд эскалатор\", '0:08:14.0') # mon 3 feb 2025\n",
    "morning_exit.update_hands(\"мцд эскалатор\", '0:07:51.4') # tue 4 feb 2025\n",
    "morning_exit.update_hands(\"мцд эскалатор\", '0:07:53') # wed 5 feb 2025\n",
    "morning_exit.update_hands(\"мцд эскалатор\", '0:08:05') # thr 6 feb 2025\n",
    "morning_exit.update_hands(\"мцд пешком\", '0:08:26.8') # fr 7 feb 2025\n",
    "morning_exit.update_hands(\"мцд пешком\", '0:08:27.8') # monday 10 feb 2025\n",
    "morning_exit.update_hands(\"мцд эскалатор\", '0:07:58.9') # tue 11 feb 2025\n",
    "morning_exit.update_hands(\"мцд пешком\", '0:08:24.6') # wed 12 feb 2025\n",
    "morning_exit.update_hands(\"мцд пешком\", '0:07:47.1') # thr 13 feb 2025\n",
    "morning_exit.update_hands(\"мцд эскалатор\", '0:07:54.1') # fr 14 feb 2025\n",
    "morning_exit.update_hands(\"мцд эскалатор\", '0:08:59.6') # mon 17 feb 2025\n",
    "morning_exit.update_hands(\"мцд эскалатор\", '0:08:53.3') # tue 18 feb 2025\n",
    "morning_exit.update_hands(\"мцд пешком\", '0:08:04.7') # wed 19 feb 2025\n",
    "morning_exit.update_hands(\"мцд эскалатор\", '0:07:15.3') # thr 20 feb 2025\n",
    "morning_exit.update_hands(\"мцд эскалатор\", '0:08:37.7') # fr 21 feb 2025\n",
    "morning_exit.update_hands(\"мцд эскалатор\", '0:08:18.5') # tue 25 feb 2025\n",
    "morning_exit.update_hands(\"мцд эскалатор\", '0:08:12.0') # fr 28 feb 2025\n",
    "morning_exit.update_hands(\"мцд эскалатор\", '0:08:39.4') # mon 10 march 2025\n",
    "morning_exit.update_hands(\"мцд эскалатор\", '0:08:17.5') # wed 12 march 2025\n",
    "morning_exit.update_hands(\"мцд эскалатор\", '0:07:31.4') # thr 13 march 2025\n",
    "morning_exit.update_hands(\"мцд эскалатор\", '0:07:40.8') # fr 14 march 2025\n",
    "\n",
    "\n",
    "morning_exit.grade()"
   ]
  },
  {
   "cell_type": "code",
   "execution_count": 46,
   "id": "b2892b6e",
   "metadata": {
    "execution": {
     "iopub.execute_input": "2025-04-04T07:42:36.216952Z",
     "iopub.status.busy": "2025-04-04T07:42:36.216554Z",
     "iopub.status.idle": "2025-04-04T07:42:36.270873Z",
     "shell.execute_reply": "2025-04-04T07:42:36.269652Z"
    },
    "papermill": {
     "duration": 0.079889,
     "end_time": "2025-04-04T07:42:36.273239",
     "exception": false,
     "start_time": "2025-04-04T07:42:36.19335",
     "status": "completed"
    },
    "tags": []
   },
   "outputs": [
    {
     "ename": "NameError",
     "evalue": "name 'cups' is not defined",
     "output_type": "error",
     "traceback": [
      "\u001b[0;31m---------------------------------------------------------------------------\u001b[0m",
      "\u001b[0;31mNameError\u001b[0m                                 Traceback (most recent call last)",
      "Cell \u001b[0;32mIn[46], line 2\u001b[0m\n\u001b[1;32m      1\u001b[0m fig \u001b[38;5;241m=\u001b[39m px\u001b[38;5;241m.\u001b[39mviolin(morning_exit\u001b[38;5;241m.\u001b[39mhistory, y\u001b[38;5;241m=\u001b[39m\u001b[38;5;124m\"\u001b[39m\u001b[38;5;124mvalue\u001b[39m\u001b[38;5;124m\"\u001b[39m, x\u001b[38;5;241m=\u001b[39m\u001b[38;5;124m\"\u001b[39m\u001b[38;5;124moption\u001b[39m\u001b[38;5;124m\"\u001b[39m, box\u001b[38;5;241m=\u001b[39m\u001b[38;5;28;01mTrue\u001b[39;00m, points\u001b[38;5;241m=\u001b[39m\u001b[38;5;124m\"\u001b[39m\u001b[38;5;124mall\u001b[39m\u001b[38;5;124m\"\u001b[39m,\n\u001b[0;32m----> 2\u001b[0m           hover_data\u001b[38;5;241m=\u001b[39m\u001b[43mcups\u001b[49m\u001b[38;5;241m.\u001b[39mhistory\u001b[38;5;241m.\u001b[39mcolumns)\n\u001b[1;32m      3\u001b[0m fig\u001b[38;5;241m.\u001b[39mshow()\n",
      "\u001b[0;31mNameError\u001b[0m: name 'cups' is not defined"
     ]
    }
   ],
   "source": [
    "fig = px.violin(morning_exit.history, y=\"value\", x=\"option\", box=True, points=\"all\",\n",
    "          hover_data=cups.history.columns)\n",
    "fig.show()"
   ]
  },
  {
   "cell_type": "markdown",
   "id": "210bc9c8",
   "metadata": {
    "papermill": {
     "duration": 0.022322,
     "end_time": "2025-04-04T07:42:36.318947",
     "exception": false,
     "start_time": "2025-04-04T07:42:36.296625",
     "status": "completed"
    },
    "tags": []
   },
   "source": [
    "# Какой вход в МЦК вечером?\n",
    "* Садиться в ту дверь, которая кажется ближе к выходу\n",
    "* считать от выхода из крутящихся дверей до посадки в поезд\n"
   ]
  },
  {
   "cell_type": "code",
   "execution_count": null,
   "id": "82ddf3dd",
   "metadata": {
    "execution": {
     "iopub.execute_input": "2025-04-04T07:42:36.367169Z",
     "iopub.status.busy": "2025-04-04T07:42:36.366166Z",
     "iopub.status.idle": "2025-04-04T07:42:36.523672Z",
     "shell.execute_reply": "2025-04-04T07:42:36.522377Z"
    },
    "papermill": {
     "duration": 0.183559,
     "end_time": "2025-04-04T07:42:36.526126",
     "exception": false,
     "start_time": "2025-04-04T07:42:36.342567",
     "status": "completed"
    },
    "tags": []
   },
   "outputs": [
    {
     "data": {
      "text/html": [
       "<div>\n",
       "<style scoped>\n",
       "    .dataframe tbody tr th:only-of-type {\n",
       "        vertical-align: middle;\n",
       "    }\n",
       "\n",
       "    .dataframe tbody tr th {\n",
       "        vertical-align: top;\n",
       "    }\n",
       "\n",
       "    .dataframe thead th {\n",
       "        text-align: right;\n",
       "    }\n",
       "</style>\n",
       "<table border=\"1\" class=\"dataframe\">\n",
       "  <thead>\n",
       "    <tr style=\"text-align: right;\">\n",
       "      <th></th>\n",
       "      <th>name</th>\n",
       "      <th>mu</th>\n",
       "      <th>Te</th>\n",
       "      <th>alpha</th>\n",
       "      <th>beta</th>\n",
       "      <th>tau</th>\n",
       "      <th>theta</th>\n",
       "      <th>SD</th>\n",
       "      <th>var95</th>\n",
       "    </tr>\n",
       "  </thead>\n",
       "  <tbody>\n",
       "    <tr>\n",
       "      <th>2</th>\n",
       "      <td>мцд пешком</td>\n",
       "      <td>11.161000</td>\n",
       "      <td>10.0</td>\n",
       "      <td>5.5</td>\n",
       "      <td>15.254734</td>\n",
       "      <td>0.467155</td>\n",
       "      <td>11.100141</td>\n",
       "      <td>1.463085</td>\n",
       "      <td>13.967734</td>\n",
       "    </tr>\n",
       "    <tr>\n",
       "      <th>1</th>\n",
       "      <td>мцд эскалатор</td>\n",
       "      <td>10.586538</td>\n",
       "      <td>13.0</td>\n",
       "      <td>7.0</td>\n",
       "      <td>22.144001</td>\n",
       "      <td>0.230722</td>\n",
       "      <td>10.512552</td>\n",
       "      <td>2.081878</td>\n",
       "      <td>14.592958</td>\n",
       "    </tr>\n",
       "    <tr>\n",
       "      <th>0</th>\n",
       "      <td>мцк</td>\n",
       "      <td>11.290972</td>\n",
       "      <td>12.0</td>\n",
       "      <td>6.5</td>\n",
       "      <td>34.899532</td>\n",
       "      <td>0.263877</td>\n",
       "      <td>11.429555</td>\n",
       "      <td>1.946701</td>\n",
       "      <td>15.245019</td>\n",
       "    </tr>\n",
       "  </tbody>\n",
       "</table>\n",
       "</div>"
      ],
      "text/plain": [
       "            name         mu    Te  alpha       beta       tau      theta  \\\n",
       "2     мцд пешком  11.161000  10.0    5.5  15.254734  0.467155  11.100141   \n",
       "1  мцд эскалатор  10.586538  13.0    7.0  22.144001  0.230722  10.512552   \n",
       "0            мцк  11.290972  12.0    6.5  34.899532  0.263877  11.429555   \n",
       "\n",
       "         SD      var95  \n",
       "2  1.463085  13.967734  \n",
       "1  2.081878  14.592958  \n",
       "0  1.946701  15.245019  "
      ]
     },
     "execution_count": 8,
     "metadata": {},
     "output_type": "execute_result"
    }
   ],
   "source": [
    "evening_entrance = HandsTable(options_list=[\"мцк\",\"мцд эскалатор\", \"мцд пешком\"], minimize=True)\n",
    "# 3 мцк\n",
    "# 6 мцд эскалатор\n",
    "evening_entrance.update_hands(\"мцд эскалатор\", '0:08:03.7') # четверг 21 ноября\n",
    "evening_entrance.update_hands(\"мцк\", '0:11:14') # четверг 28 ноября\n",
    "evening_entrance.update_hands(\"мцд эскалатор\", '0:15:47.8') # понедельник 2 декабря\n",
    "evening_entrance.update_hands(\"мцк\", '0:11:03') # tue 3 dec\n",
    "evening_entrance.update_hands(\"мцк\", '0:14:29.3') # wed 4 dec\n",
    "evening_entrance.update_hands(\"мцк\", '0:12:05') # fr 06 dec\n",
    "evening_entrance.update_hands(\"мцк\", '0:13:53') # mon 09 dec\n",
    "evening_entrance.update_hands(\"мцд эскалатор\", '0:10:14') # fr 13 декабря\n",
    "evening_entrance.update_hands(\"мцк\", '0:09:31.7') # tue 17 dec\n",
    "evening_entrance.update_hands(\"мцк\", '0:08:33') # wed 18 dec\n",
    "evening_entrance.update_hands(\"мцд эскалатор\", '0:09:51.9') # th 19 dec\n",
    "evening_entrance.update_hands(\"мцд эскалатор\", '0:09:16.1') # mon 23 dec\n",
    "evening_entrance.update_hands(\"мцд эскалатор\", '0:09:31.7') # tue 24 dec\n",
    "evening_entrance.update_hands(\"мцк\", '0:08:19.6') # wed 18 dec\n",
    "evening_entrance.update_hands(\"мцд эскалатор\", '0:09:18.6') # th 9 jan\n",
    "evening_entrance.update_hands(\"мцк\", '0:08:11.9') # fr 10 jan\n",
    "evening_entrance.update_hands(\"мцд эскалатор\", '0:10:50') # mon 13 jan\n",
    "evening_entrance.update_hands(\"мцд эскалатор\", '0:11:15') # tue 14 jan\n",
    "evening_entrance.update_hands(\"мцк\", '0:12:08') # wed 15 jan\n",
    "evening_entrance.update_hands(\"мцк\", '0:10:13') # mon 20 jan\n",
    "evening_entrance.update_hands(\"мцд эскалатор\", '0:11:40') # tue 21 jan\n",
    "evening_entrance.update_hands(\"мцк\", '0:15:48') # wed 22 jan\n",
    "evening_entrance.update_hands(\"мцд эскалатор\", '0:09:34.7') # thr 23 jan\n",
    "evening_entrance.update_hands(\"мцд пешком\", '0:10:45') # thr 6 feb\n",
    "evening_entrance.update_hands(\"мцд пешком\", '0:12:01') # fr 7 feb\n",
    "evening_entrance.update_hands(\"мцд пешком\", '0:10:34') # monday 10 feb\n",
    "evening_entrance.update_hands(\"мцд пешком\", '0:09:08.2') # thr 13 feb\n",
    "evening_entrance.update_hands(\"мцд пешком\", '0:09:57.6') # fr 14 feb\n",
    "evening_entrance.update_hands(\"мцд пешком\", '0:09:46.8') # mon 17 feb\n",
    "evening_entrance.update_hands(\"мцд пешком\", '0:15:38') # wed 19 feb\n",
    "evening_entrance.update_hands(\"мцд пешком\", '0:11:49') # thr 20 feb\n",
    "evening_entrance.update_hands(\"мцд пешком\", '0:10:35') # thr 27 feb\n",
    "evening_entrance.update_hands(\"мцд эскалатор\", '0:11:57.0') # mon 10 march\n",
    "evening_entrance.update_hands(\"мцд эскалатор\", '0:10:17.0') # tue 11 march\n",
    "evening_entrance.update_hands(\"мцд пешком\", '0:11:22.0') # thr 13 march\n",
    "\n",
    "evening_entrance.grade()"
   ]
  },
  {
   "cell_type": "code",
   "execution_count": null,
   "id": "191b335a",
   "metadata": {
    "execution": {
     "iopub.execute_input": "2025-04-04T07:42:36.574878Z",
     "iopub.status.busy": "2025-04-04T07:42:36.574517Z",
     "iopub.status.idle": "2025-04-04T07:42:36.630966Z",
     "shell.execute_reply": "2025-04-04T07:42:36.629707Z"
    },
    "papermill": {
     "duration": 0.083498,
     "end_time": "2025-04-04T07:42:36.633485",
     "exception": false,
     "start_time": "2025-04-04T07:42:36.549987",
     "status": "completed"
    },
    "tags": []
   },
   "outputs": [
    {
     "data": {
      "text/html": [
       "<div>                            <div id=\"07cbaf28-2aaf-4c89-86fa-72ee47d7b6df\" class=\"plotly-graph-div\" style=\"height:525px; width:100%;\"></div>            <script type=\"text/javascript\">                require([\"plotly\"], function(Plotly) {                    window.PLOTLYENV=window.PLOTLYENV || {};                                    if (document.getElementById(\"07cbaf28-2aaf-4c89-86fa-72ee47d7b6df\")) {                    Plotly.newPlot(                        \"07cbaf28-2aaf-4c89-86fa-72ee47d7b6df\",                        [{\"alignmentgroup\":\"True\",\"box\":{\"visible\":true},\"hovertemplate\":\"option=%{x}\\u003cbr\\u003evalue=%{y}\\u003cextra\\u003e\\u003c\\u002fextra\\u003e\",\"legendgroup\":\"\",\"marker\":{\"color\":\"#636efa\"},\"name\":\"\",\"offsetgroup\":\"\",\"orientation\":\"v\",\"points\":\"all\",\"scalegroup\":\"True\",\"showlegend\":false,\"x\":[\"мцд эскалатор\",\"мцк\",\"мцд эскалатор\",\"мцк\",\"мцк\",\"мцк\",\"мцк\",\"мцд эскалатор\",\"мцк\",\"мцк\",\"мцд эскалатор\",\"мцд эскалатор\",\"мцд эскалатор\",\"мцк\",\"мцд эскалатор\",\"мцк\",\"мцд эскалатор\",\"мцд эскалатор\",\"мцк\",\"мцк\",\"мцд эскалатор\",\"мцк\",\"мцд эскалатор\",\"мцд пешком\",\"мцд пешком\",\"мцд пешком\",\"мцд пешком\",\"мцд пешком\",\"мцд пешком\",\"мцд пешком\",\"мцд пешком\",\"мцд пешком\",\"мцд эскалатор\",\"мцд эскалатор\",\"мцд пешком\"],\"x0\":\" \",\"xaxis\":\"x\",\"y\":[8.061666666666666,11.233333333333333,15.796666666666665,11.05,14.488333333333333,12.083333333333334,13.883333333333333,10.233333333333333,9.528333333333334,8.55,9.865,9.268333333333334,9.528333333333334,8.326666666666666,9.31,8.198333333333332,10.833333333333334,11.25,12.133333333333333,10.216666666666667,11.666666666666666,15.8,9.578333333333335,10.75,12.016666666666667,10.566666666666666,9.136666666666667,9.96,9.78,15.633333333333333,11.816666666666666,10.583333333333334,11.95,10.283333333333333,11.366666666666667],\"y0\":\" \",\"yaxis\":\"y\",\"type\":\"violin\"}],                        {\"template\":{\"data\":{\"histogram2dcontour\":[{\"type\":\"histogram2dcontour\",\"colorbar\":{\"outlinewidth\":0,\"ticks\":\"\"},\"colorscale\":[[0.0,\"#0d0887\"],[0.1111111111111111,\"#46039f\"],[0.2222222222222222,\"#7201a8\"],[0.3333333333333333,\"#9c179e\"],[0.4444444444444444,\"#bd3786\"],[0.5555555555555556,\"#d8576b\"],[0.6666666666666666,\"#ed7953\"],[0.7777777777777778,\"#fb9f3a\"],[0.8888888888888888,\"#fdca26\"],[1.0,\"#f0f921\"]]}],\"choropleth\":[{\"type\":\"choropleth\",\"colorbar\":{\"outlinewidth\":0,\"ticks\":\"\"}}],\"histogram2d\":[{\"type\":\"histogram2d\",\"colorbar\":{\"outlinewidth\":0,\"ticks\":\"\"},\"colorscale\":[[0.0,\"#0d0887\"],[0.1111111111111111,\"#46039f\"],[0.2222222222222222,\"#7201a8\"],[0.3333333333333333,\"#9c179e\"],[0.4444444444444444,\"#bd3786\"],[0.5555555555555556,\"#d8576b\"],[0.6666666666666666,\"#ed7953\"],[0.7777777777777778,\"#fb9f3a\"],[0.8888888888888888,\"#fdca26\"],[1.0,\"#f0f921\"]]}],\"heatmap\":[{\"type\":\"heatmap\",\"colorbar\":{\"outlinewidth\":0,\"ticks\":\"\"},\"colorscale\":[[0.0,\"#0d0887\"],[0.1111111111111111,\"#46039f\"],[0.2222222222222222,\"#7201a8\"],[0.3333333333333333,\"#9c179e\"],[0.4444444444444444,\"#bd3786\"],[0.5555555555555556,\"#d8576b\"],[0.6666666666666666,\"#ed7953\"],[0.7777777777777778,\"#fb9f3a\"],[0.8888888888888888,\"#fdca26\"],[1.0,\"#f0f921\"]]}],\"heatmapgl\":[{\"type\":\"heatmapgl\",\"colorbar\":{\"outlinewidth\":0,\"ticks\":\"\"},\"colorscale\":[[0.0,\"#0d0887\"],[0.1111111111111111,\"#46039f\"],[0.2222222222222222,\"#7201a8\"],[0.3333333333333333,\"#9c179e\"],[0.4444444444444444,\"#bd3786\"],[0.5555555555555556,\"#d8576b\"],[0.6666666666666666,\"#ed7953\"],[0.7777777777777778,\"#fb9f3a\"],[0.8888888888888888,\"#fdca26\"],[1.0,\"#f0f921\"]]}],\"contourcarpet\":[{\"type\":\"contourcarpet\",\"colorbar\":{\"outlinewidth\":0,\"ticks\":\"\"}}],\"contour\":[{\"type\":\"contour\",\"colorbar\":{\"outlinewidth\":0,\"ticks\":\"\"},\"colorscale\":[[0.0,\"#0d0887\"],[0.1111111111111111,\"#46039f\"],[0.2222222222222222,\"#7201a8\"],[0.3333333333333333,\"#9c179e\"],[0.4444444444444444,\"#bd3786\"],[0.5555555555555556,\"#d8576b\"],[0.6666666666666666,\"#ed7953\"],[0.7777777777777778,\"#fb9f3a\"],[0.8888888888888888,\"#fdca26\"],[1.0,\"#f0f921\"]]}],\"surface\":[{\"type\":\"surface\",\"colorbar\":{\"outlinewidth\":0,\"ticks\":\"\"},\"colorscale\":[[0.0,\"#0d0887\"],[0.1111111111111111,\"#46039f\"],[0.2222222222222222,\"#7201a8\"],[0.3333333333333333,\"#9c179e\"],[0.4444444444444444,\"#bd3786\"],[0.5555555555555556,\"#d8576b\"],[0.6666666666666666,\"#ed7953\"],[0.7777777777777778,\"#fb9f3a\"],[0.8888888888888888,\"#fdca26\"],[1.0,\"#f0f921\"]]}],\"mesh3d\":[{\"type\":\"mesh3d\",\"colorbar\":{\"outlinewidth\":0,\"ticks\":\"\"}}],\"scatter\":[{\"fillpattern\":{\"fillmode\":\"overlay\",\"size\":10,\"solidity\":0.2},\"type\":\"scatter\"}],\"parcoords\":[{\"type\":\"parcoords\",\"line\":{\"colorbar\":{\"outlinewidth\":0,\"ticks\":\"\"}}}],\"scatterpolargl\":[{\"type\":\"scatterpolargl\",\"marker\":{\"colorbar\":{\"outlinewidth\":0,\"ticks\":\"\"}}}],\"bar\":[{\"error_x\":{\"color\":\"#2a3f5f\"},\"error_y\":{\"color\":\"#2a3f5f\"},\"marker\":{\"line\":{\"color\":\"#E5ECF6\",\"width\":0.5},\"pattern\":{\"fillmode\":\"overlay\",\"size\":10,\"solidity\":0.2}},\"type\":\"bar\"}],\"scattergeo\":[{\"type\":\"scattergeo\",\"marker\":{\"colorbar\":{\"outlinewidth\":0,\"ticks\":\"\"}}}],\"scatterpolar\":[{\"type\":\"scatterpolar\",\"marker\":{\"colorbar\":{\"outlinewidth\":0,\"ticks\":\"\"}}}],\"histogram\":[{\"marker\":{\"pattern\":{\"fillmode\":\"overlay\",\"size\":10,\"solidity\":0.2}},\"type\":\"histogram\"}],\"scattergl\":[{\"type\":\"scattergl\",\"marker\":{\"colorbar\":{\"outlinewidth\":0,\"ticks\":\"\"}}}],\"scatter3d\":[{\"type\":\"scatter3d\",\"line\":{\"colorbar\":{\"outlinewidth\":0,\"ticks\":\"\"}},\"marker\":{\"colorbar\":{\"outlinewidth\":0,\"ticks\":\"\"}}}],\"scattermapbox\":[{\"type\":\"scattermapbox\",\"marker\":{\"colorbar\":{\"outlinewidth\":0,\"ticks\":\"\"}}}],\"scatterternary\":[{\"type\":\"scatterternary\",\"marker\":{\"colorbar\":{\"outlinewidth\":0,\"ticks\":\"\"}}}],\"scattercarpet\":[{\"type\":\"scattercarpet\",\"marker\":{\"colorbar\":{\"outlinewidth\":0,\"ticks\":\"\"}}}],\"carpet\":[{\"aaxis\":{\"endlinecolor\":\"#2a3f5f\",\"gridcolor\":\"white\",\"linecolor\":\"white\",\"minorgridcolor\":\"white\",\"startlinecolor\":\"#2a3f5f\"},\"baxis\":{\"endlinecolor\":\"#2a3f5f\",\"gridcolor\":\"white\",\"linecolor\":\"white\",\"minorgridcolor\":\"white\",\"startlinecolor\":\"#2a3f5f\"},\"type\":\"carpet\"}],\"table\":[{\"cells\":{\"fill\":{\"color\":\"#EBF0F8\"},\"line\":{\"color\":\"white\"}},\"header\":{\"fill\":{\"color\":\"#C8D4E3\"},\"line\":{\"color\":\"white\"}},\"type\":\"table\"}],\"barpolar\":[{\"marker\":{\"line\":{\"color\":\"#E5ECF6\",\"width\":0.5},\"pattern\":{\"fillmode\":\"overlay\",\"size\":10,\"solidity\":0.2}},\"type\":\"barpolar\"}],\"pie\":[{\"automargin\":true,\"type\":\"pie\"}]},\"layout\":{\"autotypenumbers\":\"strict\",\"colorway\":[\"#636efa\",\"#EF553B\",\"#00cc96\",\"#ab63fa\",\"#FFA15A\",\"#19d3f3\",\"#FF6692\",\"#B6E880\",\"#FF97FF\",\"#FECB52\"],\"font\":{\"color\":\"#2a3f5f\"},\"hovermode\":\"closest\",\"hoverlabel\":{\"align\":\"left\"},\"paper_bgcolor\":\"white\",\"plot_bgcolor\":\"#E5ECF6\",\"polar\":{\"bgcolor\":\"#E5ECF6\",\"angularaxis\":{\"gridcolor\":\"white\",\"linecolor\":\"white\",\"ticks\":\"\"},\"radialaxis\":{\"gridcolor\":\"white\",\"linecolor\":\"white\",\"ticks\":\"\"}},\"ternary\":{\"bgcolor\":\"#E5ECF6\",\"aaxis\":{\"gridcolor\":\"white\",\"linecolor\":\"white\",\"ticks\":\"\"},\"baxis\":{\"gridcolor\":\"white\",\"linecolor\":\"white\",\"ticks\":\"\"},\"caxis\":{\"gridcolor\":\"white\",\"linecolor\":\"white\",\"ticks\":\"\"}},\"coloraxis\":{\"colorbar\":{\"outlinewidth\":0,\"ticks\":\"\"}},\"colorscale\":{\"sequential\":[[0.0,\"#0d0887\"],[0.1111111111111111,\"#46039f\"],[0.2222222222222222,\"#7201a8\"],[0.3333333333333333,\"#9c179e\"],[0.4444444444444444,\"#bd3786\"],[0.5555555555555556,\"#d8576b\"],[0.6666666666666666,\"#ed7953\"],[0.7777777777777778,\"#fb9f3a\"],[0.8888888888888888,\"#fdca26\"],[1.0,\"#f0f921\"]],\"sequentialminus\":[[0.0,\"#0d0887\"],[0.1111111111111111,\"#46039f\"],[0.2222222222222222,\"#7201a8\"],[0.3333333333333333,\"#9c179e\"],[0.4444444444444444,\"#bd3786\"],[0.5555555555555556,\"#d8576b\"],[0.6666666666666666,\"#ed7953\"],[0.7777777777777778,\"#fb9f3a\"],[0.8888888888888888,\"#fdca26\"],[1.0,\"#f0f921\"]],\"diverging\":[[0,\"#8e0152\"],[0.1,\"#c51b7d\"],[0.2,\"#de77ae\"],[0.3,\"#f1b6da\"],[0.4,\"#fde0ef\"],[0.5,\"#f7f7f7\"],[0.6,\"#e6f5d0\"],[0.7,\"#b8e186\"],[0.8,\"#7fbc41\"],[0.9,\"#4d9221\"],[1,\"#276419\"]]},\"xaxis\":{\"gridcolor\":\"white\",\"linecolor\":\"white\",\"ticks\":\"\",\"title\":{\"standoff\":15},\"zerolinecolor\":\"white\",\"automargin\":true,\"zerolinewidth\":2},\"yaxis\":{\"gridcolor\":\"white\",\"linecolor\":\"white\",\"ticks\":\"\",\"title\":{\"standoff\":15},\"zerolinecolor\":\"white\",\"automargin\":true,\"zerolinewidth\":2},\"scene\":{\"xaxis\":{\"backgroundcolor\":\"#E5ECF6\",\"gridcolor\":\"white\",\"linecolor\":\"white\",\"showbackground\":true,\"ticks\":\"\",\"zerolinecolor\":\"white\",\"gridwidth\":2},\"yaxis\":{\"backgroundcolor\":\"#E5ECF6\",\"gridcolor\":\"white\",\"linecolor\":\"white\",\"showbackground\":true,\"ticks\":\"\",\"zerolinecolor\":\"white\",\"gridwidth\":2},\"zaxis\":{\"backgroundcolor\":\"#E5ECF6\",\"gridcolor\":\"white\",\"linecolor\":\"white\",\"showbackground\":true,\"ticks\":\"\",\"zerolinecolor\":\"white\",\"gridwidth\":2}},\"shapedefaults\":{\"line\":{\"color\":\"#2a3f5f\"}},\"annotationdefaults\":{\"arrowcolor\":\"#2a3f5f\",\"arrowhead\":0,\"arrowwidth\":1},\"geo\":{\"bgcolor\":\"white\",\"landcolor\":\"#E5ECF6\",\"subunitcolor\":\"white\",\"showland\":true,\"showlakes\":true,\"lakecolor\":\"white\"},\"title\":{\"x\":0.05},\"mapbox\":{\"style\":\"light\"}}},\"xaxis\":{\"anchor\":\"y\",\"domain\":[0.0,1.0],\"title\":{\"text\":\"option\"}},\"yaxis\":{\"anchor\":\"x\",\"domain\":[0.0,1.0],\"title\":{\"text\":\"value\"}},\"legend\":{\"tracegroupgap\":0},\"margin\":{\"t\":60},\"violinmode\":\"group\"},                        {\"responsive\": true}                    ).then(function(){\n",
       "                            \n",
       "var gd = document.getElementById('07cbaf28-2aaf-4c89-86fa-72ee47d7b6df');\n",
       "var x = new MutationObserver(function (mutations, observer) {{\n",
       "        var display = window.getComputedStyle(gd).display;\n",
       "        if (!display || display === 'none') {{\n",
       "            console.log([gd, 'removed!']);\n",
       "            Plotly.purge(gd);\n",
       "            observer.disconnect();\n",
       "        }}\n",
       "}});\n",
       "\n",
       "// Listen for the removal of the full notebook cells\n",
       "var notebookContainer = gd.closest('#notebook-container');\n",
       "if (notebookContainer) {{\n",
       "    x.observe(notebookContainer, {childList: true});\n",
       "}}\n",
       "\n",
       "// Listen for the clearing of the current output cell\n",
       "var outputEl = gd.closest('.output');\n",
       "if (outputEl) {{\n",
       "    x.observe(outputEl, {childList: true});\n",
       "}}\n",
       "\n",
       "                        })                };                });            </script>        </div>"
      ]
     },
     "metadata": {},
     "output_type": "display_data"
    }
   ],
   "source": [
    "fig = px.violin(evening_entrance.history, y=\"value\", x=\"option\", box=True, points=\"all\",\n",
    "          hover_data=cups.history.columns)\n",
    "fig.show()"
   ]
  },
  {
   "cell_type": "code",
   "execution_count": null,
   "id": "ed9d488d",
   "metadata": {
    "papermill": {
     "duration": 0.025602,
     "end_time": "2025-04-04T07:42:36.684122",
     "exception": false,
     "start_time": "2025-04-04T07:42:36.65852",
     "status": "completed"
    },
    "tags": []
   },
   "outputs": [],
   "source": []
  }
 ],
 "metadata": {
  "kaggle": {
   "accelerator": "none",
   "dataSources": [],
   "dockerImageVersionId": 30786,
   "isGpuEnabled": false,
   "isInternetEnabled": true,
   "language": "python",
   "sourceType": "notebook"
  },
  "kernelspec": {
   "display_name": "venv",
   "language": "python",
   "name": "python3"
  },
  "language_info": {
   "codemirror_mode": {
    "name": "ipython",
    "version": 3
   },
   "file_extension": ".py",
   "mimetype": "text/x-python",
   "name": "python",
   "nbconvert_exporter": "python",
   "pygments_lexer": "ipython3",
   "version": "3.9.6"
  },
  "papermill": {
   "default_parameters": {},
   "duration": 43.69301,
   "end_time": "2025-04-04T07:42:37.429858",
   "environment_variables": {},
   "exception": null,
   "input_path": "__notebook__.ipynb",
   "output_path": "__notebook__.ipynb",
   "parameters": {},
   "start_time": "2025-04-04T07:41:53.736848",
   "version": "2.6.0"
  }
 },
 "nbformat": 4,
 "nbformat_minor": 5
}
