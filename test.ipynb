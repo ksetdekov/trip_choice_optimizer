{
  "nbformat": 4,
  "nbformat_minor": 0,
  "metadata": {
    "orig_nbformat": 4,
    "language_info": {
      "name": "python",
      "version": "3.8.9",
      "mimetype": "text/x-python",
      "codemirror_mode": {
        "name": "ipython",
        "version": 3
      },
      "pygments_lexer": "ipython3",
      "nbconvert_exporter": "python",
      "file_extension": ".py"
    },
    "kernelspec": {
      "name": "python3",
      "display_name": "Python 3.8.9 64-bit"
    },
    "interpreter": {
      "hash": "31f2aee4e71d21fbe5cf8b01ff0e069b9275f58929596ceb00d14d90e3e16cd6"
    },
    "colab": {
      "name": "test.ipynb",
      "provenance": [],
      "include_colab_link": true
    }
  },
  "cells": [
    {
      "cell_type": "markdown",
      "metadata": {
        "id": "view-in-github",
        "colab_type": "text"
      },
      "source": [
        "<a href=\"https://colab.research.google.com/github/ksetdekov/trip_choice_optimizer/blob/master/test.ipynb\" target=\"_parent\"><img src=\"https://colab.research.google.com/assets/colab-badge.svg\" alt=\"Open In Colab\"/></a>"
      ]
    },
    {
      "cell_type": "code",
      "metadata": {
        "id": "IqTBBo5YBm9W"
      },
      "source": [
        "import numpy as np\n",
        "import pandas as pd\n",
        "\n",
        "from  scipy.stats import gamma, norm"
      ],
      "execution_count": 1,
      "outputs": []
    },
    {
      "cell_type": "code",
      "metadata": {
        "id": "LUHhu0QGBm9a"
      },
      "source": [
        "# np.random.seed(43) # фиксируем seed"
      ],
      "execution_count": 2,
      "outputs": []
    },
    {
      "cell_type": "markdown",
      "metadata": {
        "id": "jceLBlhqBm9c"
      },
      "source": [
        "# risk tolerance\n",
        "$$\\rho = 3.37$$"
      ]
    },
    {
      "cell_type": "markdown",
      "metadata": {
        "id": "-3zFtF1LBm9g"
      },
      "source": [
        "# initialize"
      ]
    },
    {
      "cell_type": "code",
      "metadata": {
        "id": "SNr5fH5wBm9h"
      },
      "source": [
        "mu_hat_i = 0 # mean\n",
        "t_i = 0\n",
        "alpha_i = 0.5\n",
        "beta_i = 0.5\n",
        "# rho = 3.37\n",
        "rho = 1"
      ],
      "execution_count": 3,
      "outputs": []
    },
    {
      "cell_type": "code",
      "metadata": {
        "id": "Fa21rEMrBm9j"
      },
      "source": [
        "def update_mean(X, T_last, mu_last):\n",
        "    mu_new = T_last * mu_last / (T_last + 1) + X / (T_last + 1)\n",
        "    return mu_new\n",
        "\n",
        "def update_samples(T):\n",
        "    return T + 1\n",
        "\n",
        "def update_shape(a):\n",
        "    return a + 0.5\n",
        "\n",
        "def update_rate(X, mu_last, beta_last, T_last):\n",
        "    beta_new = beta_last + (T_last / (T_last + 1)) * (np.square(X - mu_last)) / 2\n",
        "    return beta_new"
      ],
      "execution_count": 4,
      "outputs": []
    },
    {
      "cell_type": "code",
      "metadata": {
        "id": "vNp5Z2f2Bm9l",
        "colab": {
          "base_uri": "https://localhost:8080/",
          "height": 282
        },
        "outputId": "524b55ef-a6c7-416c-c378-9fec352bc581"
      },
      "source": [
        "import matplotlib.pyplot as plt\n",
        "fig, ax = plt.subplots(1, 1)\n",
        "a = 2.5\n",
        "beta = 18\n",
        "mean, var, skew, kurt = gamma.stats(a, moments='mvsk')\n",
        "x = np.linspace(gamma.ppf(0.01, a = a, scale =1/beta),\n",
        "                gamma.ppf(0.99, a = a, scale =1/beta), 100)\n",
        "ax.plot(x, gamma.pdf(x, a, scale =1/beta),\n",
        "       'r-', lw=5, alpha=0.6, label='gamma pdf')"
      ],
      "execution_count": 5,
      "outputs": [
        {
          "output_type": "execute_result",
          "data": {
            "text/plain": [
              "[<matplotlib.lines.Line2D at 0x7fa1ae448850>]"
            ]
          },
          "metadata": {},
          "execution_count": 5
        },
        {
          "output_type": "display_data",
          "data": {
            "image/png": "[encoded data removed]",
            "text/plain": [
              "<Figure size 432x288 with 1 Axes>"
            ]
          },
          "metadata": {
            "needs_background": "light"
          }
        }
      ]
    },
    {
      "cell_type": "code",
      "metadata": {
        "id": "3PJD8qtOBm9n"
      },
      "source": [
        "hands = pd.DataFrame({'name': ['трамвай + 44', 'пешком + 44', 'мотоцикл', '9 + 44', 'рыжая + жёлтая + салатовая', \n",
        "                               'каршеринг', 'серая + салатовая', 'рыжая + фиолетовая + салатовая', 'рыжая + салатовая']})"
      ],
      "execution_count": 6,
      "outputs": []
    },
    {
      "cell_type": "code",
      "metadata": {
        "id": "ZacMI499Bm9o",
        "colab": {
          "base_uri": "https://localhost:8080/",
          "height": 328
        },
        "outputId": "cb78aac8-951b-4fce-d7e6-653003f6ab1b"
      },
      "source": [
        "hands['mu'] = 0\n",
        "hands['Te'] = 0\n",
        "hands['alpha'] = 0.5\n",
        "hands['beta'] = 0.5\n",
        "\n",
        "hands"
      ],
      "execution_count": 7,
      "outputs": [
        {
          "output_type": "execute_result",
          "data": {
            "text/html": [
              "<div>\n",
              "<style scoped>\n",
              "    .dataframe tbody tr th:only-of-type {\n",
              "        vertical-align: middle;\n",
              "    }\n",
              "\n",
              "    .dataframe tbody tr th {\n",
              "        vertical-align: top;\n",
              "    }\n",
              "\n",
              "    .dataframe thead th {\n",
              "        text-align: right;\n",
              "    }\n",
              "</style>\n",
              "<table border=\"1\" class=\"dataframe\">\n",
              "  <thead>\n",
              "    <tr style=\"text-align: right;\">\n",
              "      <th></th>\n",
              "      <th>name</th>\n",
              "      <th>mu</th>\n",
              "      <th>Te</th>\n",
              "      <th>alpha</th>\n",
              "      <th>beta</th>\n",
              "    </tr>\n",
              "  </thead>\n",
              "  <tbody>\n",
              "    <tr>\n",
              "      <th>0</th>\n",
              "      <td>трамвай + 44</td>\n",
              "      <td>0</td>\n",
              "      <td>0</td>\n",
              "      <td>0.5</td>\n",
              "      <td>0.5</td>\n",
              "    </tr>\n",
              "    <tr>\n",
              "      <th>1</th>\n",
              "      <td>пешком + 44</td>\n",
              "      <td>0</td>\n",
              "      <td>0</td>\n",
              "      <td>0.5</td>\n",
              "      <td>0.5</td>\n",
              "    </tr>\n",
              "    <tr>\n",
              "      <th>2</th>\n",
              "      <td>мотоцикл</td>\n",
              "      <td>0</td>\n",
              "      <td>0</td>\n",
              "      <td>0.5</td>\n",
              "      <td>0.5</td>\n",
              "    </tr>\n",
              "    <tr>\n",
              "      <th>3</th>\n",
              "      <td>9 + 44</td>\n",
              "      <td>0</td>\n",
              "      <td>0</td>\n",
              "      <td>0.5</td>\n",
              "      <td>0.5</td>\n",
              "    </tr>\n",
              "    <tr>\n",
              "      <th>4</th>\n",
              "      <td>рыжая + жёлтая + салатовая</td>\n",
              "      <td>0</td>\n",
              "      <td>0</td>\n",
              "      <td>0.5</td>\n",
              "      <td>0.5</td>\n",
              "    </tr>\n",
              "    <tr>\n",
              "      <th>5</th>\n",
              "      <td>каршеринг</td>\n",
              "      <td>0</td>\n",
              "      <td>0</td>\n",
              "      <td>0.5</td>\n",
              "      <td>0.5</td>\n",
              "    </tr>\n",
              "    <tr>\n",
              "      <th>6</th>\n",
              "      <td>серая + салатовая</td>\n",
              "      <td>0</td>\n",
              "      <td>0</td>\n",
              "      <td>0.5</td>\n",
              "      <td>0.5</td>\n",
              "    </tr>\n",
              "    <tr>\n",
              "      <th>7</th>\n",
              "      <td>рыжая + фиолетовая + салатовая</td>\n",
              "      <td>0</td>\n",
              "      <td>0</td>\n",
              "      <td>0.5</td>\n",
              "      <td>0.5</td>\n",
              "    </tr>\n",
              "    <tr>\n",
              "      <th>8</th>\n",
              "      <td>рыжая + салатовая</td>\n",
              "      <td>0</td>\n",
              "      <td>0</td>\n",
              "      <td>0.5</td>\n",
              "      <td>0.5</td>\n",
              "    </tr>\n",
              "  </tbody>\n",
              "</table>\n",
              "</div>"
            ],
            "text/plain": [
              "                             name  mu  Te  alpha  beta\n",
              "0                    трамвай + 44   0   0    0.5   0.5\n",
              "1                     пешком + 44   0   0    0.5   0.5\n",
              "2                        мотоцикл   0   0    0.5   0.5\n",
              "3                          9 + 44   0   0    0.5   0.5\n",
              "4      рыжая + жёлтая + салатовая   0   0    0.5   0.5\n",
              "5                       каршеринг   0   0    0.5   0.5\n",
              "6               серая + салатовая   0   0    0.5   0.5\n",
              "7  рыжая + фиолетовая + салатовая   0   0    0.5   0.5\n",
              "8               рыжая + салатовая   0   0    0.5   0.5"
            ]
          },
          "metadata": {},
          "execution_count": 7
        }
      ]
    },
    {
      "cell_type": "code",
      "metadata": {
        "id": "iTILmdiuBm9q"
      },
      "source": [
        "('трамвай + 44', 35.03)\n",
        "x_new = 35.03"
      ],
      "execution_count": 8,
      "outputs": []
    },
    {
      "cell_type": "code",
      "metadata": {
        "id": "PNmjvg_i8gyf"
      },
      "source": [
        "def to_minutes(timestr: str):\n",
        "  '''\n",
        "  convert timestr to float minutes\n",
        "  '''\n",
        "  return pd.to_timedelta(timestr).total_seconds()/60"
      ],
      "execution_count": 9,
      "outputs": []
    },
    {
      "cell_type": "code",
      "metadata": {
        "id": "OcqeEW1SBm9r"
      },
      "source": [
        "def update_hands(hands, name, value):\n",
        "    if isinstance(value, str):\n",
        "        try:\n",
        "            value = to_minutes(value)\n",
        "        except ValueError:\n",
        "            raise ValueError('input time string in hh:mm:ss format')\n",
        "    elif isinstance(value, float) or isinstance(value, int):\n",
        "        pass\n",
        "    else:\n",
        "        raise ValueError('input time string or int/float value')\n",
        "    # print(value)\n",
        "    _, mu, t, alpha, beta = hands[hands.name ==name].values[0]\n",
        "    beta = update_rate(value, mu, beta, t)\n",
        "    mu =  update_mean(value, t, mu)\n",
        "    t = update_samples(t)\n",
        "    alpha = update_shape(alpha)\n",
        "\n",
        "    # print(mu, t, alpha, beta)\n",
        "\n",
        "    hands.loc[hands.name ==name, 'mu'] = mu\n",
        "    hands.loc[hands.name ==name, 'Te'] = t\n",
        "    hands.loc[hands.name ==name, 'alpha'] = alpha\n",
        "    hands.loc[hands.name ==name, 'beta'] = beta\n",
        "\n",
        "    return hands\n"
      ],
      "execution_count": 10,
      "outputs": []
    },
    {
      "cell_type": "code",
      "metadata": {
        "colab": {
          "base_uri": "https://localhost:8080/"
        },
        "id": "Grn_Zn4C7ZDZ",
        "outputId": "78a91109-0d34-492c-b965-6255a0921b55"
      },
      "source": [
        "pd.to_timedelta(\"0:25:18\").total_seconds()/60"
      ],
      "execution_count": 11,
      "outputs": [
        {
          "output_type": "execute_result",
          "data": {
            "text/plain": [
              "25.3"
            ]
          },
          "metadata": {},
          "execution_count": 11
        }
      ]
    },
    {
      "cell_type": "code",
      "metadata": {
        "id": "_vLIB1y_Bm9s",
        "colab": {
          "base_uri": "https://localhost:8080/",
          "height": 328
        },
        "outputId": "f7fb572e-3ad6-4dc7-9322-218a70bbb2df"
      },
      "source": [
        "hands = update_hands(hands, 'трамвай + 44', 35.03)\n",
        "hands = update_hands(hands, 'пешком + 44', 40)\n",
        "hands = update_hands(hands, 'пешком + 44', 36.18)\n",
        "hands = update_hands(hands, 'пешком + 44', 35.13)\n",
        "hands = update_hands(hands, 'пешком + 44', 31.65)\n",
        "hands = update_hands(hands, 'трамвай + 44', 51.23)\n",
        "hands = update_hands(hands, 'мотоцикл', 13)\n",
        "hands = update_hands(hands, 'трамвай + 44', 29.65)\n",
        "hands = update_hands(hands, '9 + 44', 37.63)\n",
        "hands = update_hands(hands, 'трамвай + 44', 39.58)\n",
        "hands = update_hands(hands, 'рыжая + жёлтая + салатовая', 47.63)\n",
        "hands = update_hands(hands, 'каршеринг', 31.75)\n",
        "hands = update_hands(hands, 'рыжая + салатовая', 52.6)\n",
        "hands = update_hands(hands, 'каршеринг', 23.15)\n",
        "hands = update_hands(hands, 'рыжая + фиолетовая + салатовая', 52.82)\n",
        "hands = update_hands(hands, 'серая + салатовая', 52.37)\n",
        "hands = update_hands(hands, 'мотоцикл', 21.05)\n",
        "hands = update_hands(hands, 'мотоцикл', 26.40)\n",
        "hands = update_hands(hands, 'мотоцикл', \"0:25:18\")\n",
        "\n",
        "hands"
      ],
      "execution_count": 12,
      "outputs": [
        {
          "output_type": "execute_result",
          "data": {
            "text/html": [
              "<div>\n",
              "<style scoped>\n",
              "    .dataframe tbody tr th:only-of-type {\n",
              "        vertical-align: middle;\n",
              "    }\n",
              "\n",
              "    .dataframe tbody tr th {\n",
              "        vertical-align: top;\n",
              "    }\n",
              "\n",
              "    .dataframe thead th {\n",
              "        text-align: right;\n",
              "    }\n",
              "</style>\n",
              "<table border=\"1\" class=\"dataframe\">\n",
              "  <thead>\n",
              "    <tr style=\"text-align: right;\">\n",
              "      <th></th>\n",
              "      <th>name</th>\n",
              "      <th>mu</th>\n",
              "      <th>Te</th>\n",
              "      <th>alpha</th>\n",
              "      <th>beta</th>\n",
              "    </tr>\n",
              "  </thead>\n",
              "  <tbody>\n",
              "    <tr>\n",
              "      <th>0</th>\n",
              "      <td>трамвай + 44</td>\n",
              "      <td>38.8725</td>\n",
              "      <td>4</td>\n",
              "      <td>2.5</td>\n",
              "      <td>127.013837</td>\n",
              "    </tr>\n",
              "    <tr>\n",
              "      <th>1</th>\n",
              "      <td>пешком + 44</td>\n",
              "      <td>35.7400</td>\n",
              "      <td>4</td>\n",
              "      <td>2.5</td>\n",
              "      <td>18.220700</td>\n",
              "    </tr>\n",
              "    <tr>\n",
              "      <th>2</th>\n",
              "      <td>мотоцикл</td>\n",
              "      <td>21.4375</td>\n",
              "      <td>4</td>\n",
              "      <td>2.5</td>\n",
              "      <td>55.943438</td>\n",
              "    </tr>\n",
              "    <tr>\n",
              "      <th>3</th>\n",
              "      <td>9 + 44</td>\n",
              "      <td>37.6300</td>\n",
              "      <td>1</td>\n",
              "      <td>1.0</td>\n",
              "      <td>0.500000</td>\n",
              "    </tr>\n",
              "    <tr>\n",
              "      <th>4</th>\n",
              "      <td>рыжая + жёлтая + салатовая</td>\n",
              "      <td>47.6300</td>\n",
              "      <td>1</td>\n",
              "      <td>1.0</td>\n",
              "      <td>0.500000</td>\n",
              "    </tr>\n",
              "    <tr>\n",
              "      <th>5</th>\n",
              "      <td>каршеринг</td>\n",
              "      <td>27.4500</td>\n",
              "      <td>2</td>\n",
              "      <td>1.5</td>\n",
              "      <td>18.990000</td>\n",
              "    </tr>\n",
              "    <tr>\n",
              "      <th>6</th>\n",
              "      <td>серая + салатовая</td>\n",
              "      <td>52.3700</td>\n",
              "      <td>1</td>\n",
              "      <td>1.0</td>\n",
              "      <td>0.500000</td>\n",
              "    </tr>\n",
              "    <tr>\n",
              "      <th>7</th>\n",
              "      <td>рыжая + фиолетовая + салатовая</td>\n",
              "      <td>52.8200</td>\n",
              "      <td>1</td>\n",
              "      <td>1.0</td>\n",
              "      <td>0.500000</td>\n",
              "    </tr>\n",
              "    <tr>\n",
              "      <th>8</th>\n",
              "      <td>рыжая + салатовая</td>\n",
              "      <td>52.6000</td>\n",
              "      <td>1</td>\n",
              "      <td>1.0</td>\n",
              "      <td>0.500000</td>\n",
              "    </tr>\n",
              "  </tbody>\n",
              "</table>\n",
              "</div>"
            ],
            "text/plain": [
              "                             name       mu  Te  alpha        beta\n",
              "0                    трамвай + 44  38.8725   4    2.5  127.013837\n",
              "1                     пешком + 44  35.7400   4    2.5   18.220700\n",
              "2                        мотоцикл  21.4375   4    2.5   55.943438\n",
              "3                          9 + 44  37.6300   1    1.0    0.500000\n",
              "4      рыжая + жёлтая + салатовая  47.6300   1    1.0    0.500000\n",
              "5                       каршеринг  27.4500   2    1.5   18.990000\n",
              "6               серая + салатовая  52.3700   1    1.0    0.500000\n",
              "7  рыжая + фиолетовая + салатовая  52.8200   1    1.0    0.500000\n",
              "8               рыжая + салатовая  52.6000   1    1.0    0.500000"
            ]
          },
          "metadata": {},
          "execution_count": 12
        }
      ]
    },
    {
      "cell_type": "markdown",
      "metadata": {
        "id": "gbcpKc3mBm9u"
      },
      "source": [
        ": for each t = K + 1, K + 2, . . ., do\n",
        "\n",
        "7: Sample τi,t from Gamma(αi,t−1, βi,t−1).\n",
        "\n",
        "8: Sample θi,t from N (ˆµi,t−1, 1/Ti,t−1)\n",
        "\n",
        "9: Play arm i(t) = arg maxi∈[K] ρθi,t − 1/τi,t and observe reward Xi(t),t\n",
        "\n",
        "10: Update(ˆµi(t),t−1, Ti(t),t−1, αi(t),t−1, βi(t),t−1)\n",
        "\n",
        "11: end for\n"
      ]
    },
    {
      "cell_type": "code",
      "metadata": {
        "id": "aZesvCjDBm9w",
        "colab": {
          "base_uri": "https://localhost:8080/",
          "height": 328
        },
        "outputId": "02cd4407-a800-4672-a89e-67040e7aded6"
      },
      "source": [
        "tau = gamma.rvs( a = hands.alpha, scale=1/hands.beta)\n",
        "theta = norm.rvs(hands.mu, 1/hands.Te)\n",
        "hands['tau'] = tau\n",
        "hands['theta'] = theta\n",
        "hands['SD'] = np.sqrt(1/tau)\n",
        "hands['var95'] = theta + norm.ppf(1-0.05/2) * hands.SD\n",
        "\n",
        "hands.reindex(np.argsort(rho * theta + 1/tau))"
      ],
      "execution_count": 21,
      "outputs": [
        {
          "output_type": "execute_result",
          "data": {
            "text/html": [
              "<div>\n",
              "<style scoped>\n",
              "    .dataframe tbody tr th:only-of-type {\n",
              "        vertical-align: middle;\n",
              "    }\n",
              "\n",
              "    .dataframe tbody tr th {\n",
              "        vertical-align: top;\n",
              "    }\n",
              "\n",
              "    .dataframe thead th {\n",
              "        text-align: right;\n",
              "    }\n",
              "</style>\n",
              "<table border=\"1\" class=\"dataframe\">\n",
              "  <thead>\n",
              "    <tr style=\"text-align: right;\">\n",
              "      <th></th>\n",
              "      <th>name</th>\n",
              "      <th>mu</th>\n",
              "      <th>Te</th>\n",
              "      <th>alpha</th>\n",
              "      <th>beta</th>\n",
              "      <th>tau</th>\n",
              "      <th>theta</th>\n",
              "      <th>SD</th>\n",
              "      <th>var95</th>\n",
              "    </tr>\n",
              "  </thead>\n",
              "  <tbody>\n",
              "    <tr>\n",
              "      <th>2</th>\n",
              "      <td>мотоцикл</td>\n",
              "      <td>21.4375</td>\n",
              "      <td>4</td>\n",
              "      <td>2.5</td>\n",
              "      <td>55.943438</td>\n",
              "      <td>0.061025</td>\n",
              "      <td>21.227297</td>\n",
              "      <td>4.048054</td>\n",
              "      <td>29.161336</td>\n",
              "    </tr>\n",
              "    <tr>\n",
              "      <th>3</th>\n",
              "      <td>9 + 44</td>\n",
              "      <td>37.6300</td>\n",
              "      <td>1</td>\n",
              "      <td>1.0</td>\n",
              "      <td>0.500000</td>\n",
              "      <td>1.164669</td>\n",
              "      <td>38.593222</td>\n",
              "      <td>0.926614</td>\n",
              "      <td>40.409352</td>\n",
              "    </tr>\n",
              "    <tr>\n",
              "      <th>5</th>\n",
              "      <td>каршеринг</td>\n",
              "      <td>27.4500</td>\n",
              "      <td>2</td>\n",
              "      <td>1.5</td>\n",
              "      <td>18.990000</td>\n",
              "      <td>0.076978</td>\n",
              "      <td>26.898671</td>\n",
              "      <td>3.604275</td>\n",
              "      <td>33.962920</td>\n",
              "    </tr>\n",
              "    <tr>\n",
              "      <th>4</th>\n",
              "      <td>рыжая + жёлтая + салатовая</td>\n",
              "      <td>47.6300</td>\n",
              "      <td>1</td>\n",
              "      <td>1.0</td>\n",
              "      <td>0.500000</td>\n",
              "      <td>4.396860</td>\n",
              "      <td>50.115860</td>\n",
              "      <td>0.476901</td>\n",
              "      <td>51.050570</td>\n",
              "    </tr>\n",
              "    <tr>\n",
              "      <th>7</th>\n",
              "      <td>рыжая + фиолетовая + салатовая</td>\n",
              "      <td>52.8200</td>\n",
              "      <td>1</td>\n",
              "      <td>1.0</td>\n",
              "      <td>0.500000</td>\n",
              "      <td>2.128112</td>\n",
              "      <td>50.334589</td>\n",
              "      <td>0.685493</td>\n",
              "      <td>51.678130</td>\n",
              "    </tr>\n",
              "    <tr>\n",
              "      <th>6</th>\n",
              "      <td>серая + салатовая</td>\n",
              "      <td>52.3700</td>\n",
              "      <td>1</td>\n",
              "      <td>1.0</td>\n",
              "      <td>0.500000</td>\n",
              "      <td>1.165075</td>\n",
              "      <td>50.502293</td>\n",
              "      <td>0.926452</td>\n",
              "      <td>52.318106</td>\n",
              "    </tr>\n",
              "    <tr>\n",
              "      <th>1</th>\n",
              "      <td>пешком + 44</td>\n",
              "      <td>35.7400</td>\n",
              "      <td>4</td>\n",
              "      <td>2.5</td>\n",
              "      <td>18.220700</td>\n",
              "      <td>0.058988</td>\n",
              "      <td>35.880681</td>\n",
              "      <td>4.117364</td>\n",
              "      <td>43.950567</td>\n",
              "    </tr>\n",
              "    <tr>\n",
              "      <th>8</th>\n",
              "      <td>рыжая + салатовая</td>\n",
              "      <td>52.6000</td>\n",
              "      <td>1</td>\n",
              "      <td>1.0</td>\n",
              "      <td>0.500000</td>\n",
              "      <td>0.961987</td>\n",
              "      <td>52.151673</td>\n",
              "      <td>1.019566</td>\n",
              "      <td>54.149986</td>\n",
              "    </tr>\n",
              "    <tr>\n",
              "      <th>0</th>\n",
              "      <td>трамвай + 44</td>\n",
              "      <td>38.8725</td>\n",
              "      <td>4</td>\n",
              "      <td>2.5</td>\n",
              "      <td>127.013837</td>\n",
              "      <td>0.022634</td>\n",
              "      <td>39.234874</td>\n",
              "      <td>6.646898</td>\n",
              "      <td>52.262555</td>\n",
              "    </tr>\n",
              "  </tbody>\n",
              "</table>\n",
              "</div>"
            ],
            "text/plain": [
              "                             name       mu  Te  ...      theta        SD      var95\n",
              "2                        мотоцикл  21.4375   4  ...  21.227297  4.048054  29.161336\n",
              "3                          9 + 44  37.6300   1  ...  38.593222  0.926614  40.409352\n",
              "5                       каршеринг  27.4500   2  ...  26.898671  3.604275  33.962920\n",
              "4      рыжая + жёлтая + салатовая  47.6300   1  ...  50.115860  0.476901  51.050570\n",
              "7  рыжая + фиолетовая + салатовая  52.8200   1  ...  50.334589  0.685493  51.678130\n",
              "6               серая + салатовая  52.3700   1  ...  50.502293  0.926452  52.318106\n",
              "1                     пешком + 44  35.7400   4  ...  35.880681  4.117364  43.950567\n",
              "8               рыжая + салатовая  52.6000   1  ...  52.151673  1.019566  54.149986\n",
              "0                    трамвай + 44  38.8725   4  ...  39.234874  6.646898  52.262555\n",
              "\n",
              "[9 rows x 9 columns]"
            ]
          },
          "metadata": {},
          "execution_count": 21
        }
      ]
    },
    {
      "cell_type": "code",
      "metadata": {
        "colab": {
          "base_uri": "https://localhost:8080/",
          "height": 282
        },
        "id": "L7JEP0UhKlFM",
        "outputId": "99032fcd-243e-4a3c-fef1-654285428be9"
      },
      "source": [
        "fig, ax = plt.subplots(1, 1)\n",
        "a = 2.5\n",
        "beta = 55.94\n",
        "mean, var, skew, kurt = gamma.stats(a, moments='mvsk')\n",
        "x = np.linspace(gamma.ppf(0.01, a = a, scale =1/beta),\n",
        "                gamma.ppf(0.99, a = a, scale =1/beta), 100)\n",
        "ax.plot(x, gamma.pdf(x, a, scale =1/beta),\n",
        "       'r-', lw=5, alpha=0.6, label='gamma pdf')"
      ],
      "execution_count": 14,
      "outputs": [
        {
          "output_type": "execute_result",
          "data": {
            "text/plain": [
              "[<matplotlib.lines.Line2D at 0x7fa1adc17650>]"
            ]
          },
          "metadata": {},
          "execution_count": 14
        },
        {
          "output_type": "display_data",
          "data": {
            "image/png": "[encoded data removed]",
            "text/plain": [
              "<Figure size 432x288 with 1 Axes>"
            ]
          },
          "metadata": {
            "needs_background": "light"
          }
        }
      ]
    },
    {
      "cell_type": "code",
      "metadata": {
        "id": "poUYg8HAMpUe"
      },
      "source": [
        ""
      ],
      "execution_count": 14,
      "outputs": []
    }
  ]
}