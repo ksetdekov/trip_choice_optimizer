{
 "cells": [
  {
   "cell_type": "code",
   "execution_count": 1,
   "metadata": {},
   "outputs": [],
   "source": [
    "from binomial_sampling import BinomialBandit\n",
    "from datetime import timedelta, datetime\n",
    "import pandas as pd\n",
    "import matplotlib.pyplot as plt"
   ]
  },
  {
   "cell_type": "code",
   "execution_count": 2,
   "metadata": {},
   "outputs": [],
   "source": [
    "headached_from_coffee = BinomialBandit([0, 1, 2, 3, 4], minimize=True)"
   ]
  },
  {
   "cell_type": "code",
   "execution_count": 3,
   "metadata": {},
   "outputs": [],
   "source": [
    "# 1 - болит голова\n",
    "# 0 - не болит голова\n",
    "# первое число - количество чашек кофе\n",
    "events = {\n",
    "datetime(2025, 4,12): (2, 0),\n",
    "datetime(2025, 4,13): (2, 1),\n",
    "datetime(2025, 4,14): (2, 0),\n",
    "datetime(2025, 4,15): (2, 0),\n",
    "datetime(2025, 4,16): (3, 0),\n",
    "datetime(2025, 4,17): (2, 0),\n",
    "datetime(2025, 4,18): (3, 1),\n",
    "datetime(2025, 4,19): (2, 0),\n",
    "datetime(2025, 4,20): (1, 0),\n",
    "datetime(2025, 4,21): (4, 0),\n",
    "datetime(2025, 4,22): (1, 0),\n",
    "datetime(2025, 4,23): (2, 1),\n",
    "datetime(2025, 4,24): (2, 0),\n",
    "datetime(2025, 4,25): (1, 1),\n",
    "datetime(2025, 4,26): (2, 0),\n",
    "datetime(2025, 4,27): (2, 0),\n",
    "datetime(2025, 4,28): (4, 0),\n",
    "datetime(2025, 4,29): (4, 0),\n",
    "datetime(2025, 4,30): (0, 1),\n",
    "datetime(2025, 5, 1): (4, 1),\n",
    "datetime(2025, 5, 2): (0, 0),\n",
    "datetime(2025, 5, 3): (2, 1),\n",
    "datetime(2025, 5, 4): (2, 0),\n",
    "datetime(2025, 5, 5): (2, 1),\n",
    "datetime(2025, 5, 6): (4, 1),\n",
    "datetime(2025, 5, 7): (1, 0),\n",
    "datetime(2025, 5, 8): (2, 0),\n",
    "datetime(2025, 5, 9): (2, 0),\n",
    "datetime(2025, 5, 10): (2, 0),\n",
    "datetime(2025, 5, 11): (2, 0),\n",
    "datetime(2025, 5, 12): (3, 1),\n",
    "datetime(2025, 5, 13): (2, 1),\n",
    "datetime(2025, 5, 14): (4, 1),\n",
    "datetime(2025, 5, 15): (2, 1),\n",
    "datetime(2025, 5, 16): (2, 0),\n",
    "datetime(2025, 5, 17): (2, 0),\n",
    "datetime(2025, 5, 18): (2, 0),\n",
    "datetime(2025, 5, 19): (3, 1),\n",
    "datetime(2025, 5, 20): (2, 1),\n",
    "datetime(2025, 5, 21): (1, 0),\n",
    "datetime(2025, 5, 22): (0, 0),\n",
    "datetime(2025, 5, 23): (1, 0),\n",
    "datetime(2025, 5, 24): (2, 0),\n",
    "datetime(2025, 5, 25): (1, 0),\n",
    "datetime(2025, 5, 26): (1, 1),\n",
    "datetime(2025, 5, 27): (4, 1),\n",
    "datetime(2025, 5, 28): (2, 0),\n",
    "datetime(2025, 5, 30): (3, 0),\n",
    "datetime(2025, 5, 31): (2, 0),\n",
    "datetime(2025, 6, 1):  (0, 0),\n",
    "datetime(2025, 6, 2):  (2, 0),\n",
    "datetime(2025, 6, 3):  (1, 0),\n",
    "datetime(2025, 6, 4):  (2, 0),\n",
    "datetime(2025, 6, 5):  (2, 0),\n",
    "datetime(2025, 6, 6):  (4, 0),\n",
    "datetime(2025, 6, 7):  (3, 0),\n",
    "datetime(2025, 6, 8):  (0, 1),\n",
    "datetime(2025, 6, 9):  (1, 0),\n",
    "datetime(2025, 6, 10):  (3, 0),\n",
    "datetime(2025, 6, 11):  (2, 0),\n",
    "datetime(2025, 6, 12):  (2, 0),\n",
    "datetime(2025, 6, 13):  (2, 0),\n",
    "datetime(2025, 6, 14):  (2, 0),\n",
    "datetime(2025, 6, 15):  (1, 0),\n",
    "datetime(2025, 6, 16):  (3, 0),\n",
    "datetime(2025, 6, 17):  (1, 1),\n",
    "datetime(2025, 6, 17):  (2, 1)\n",
    "}\n"
   ]
  },
  {
   "cell_type": "code",
   "execution_count": 4,
   "metadata": {},
   "outputs": [
    {
     "data": {
      "text/html": [
       "<div>\n",
       "<style scoped>\n",
       "    .dataframe tbody tr th:only-of-type {\n",
       "        vertical-align: middle;\n",
       "    }\n",
       "\n",
       "    .dataframe tbody tr th {\n",
       "        vertical-align: top;\n",
       "    }\n",
       "\n",
       "    .dataframe thead th {\n",
       "        text-align: right;\n",
       "    }\n",
       "</style>\n",
       "<table border=\"1\" class=\"dataframe\">\n",
       "  <thead>\n",
       "    <tr style=\"text-align: right;\">\n",
       "      <th></th>\n",
       "      <th>name</th>\n",
       "      <th>alpha</th>\n",
       "      <th>beta</th>\n",
       "      <th>runs</th>\n",
       "      <th>theta_sample</th>\n",
       "    </tr>\n",
       "  </thead>\n",
       "  <tbody>\n",
       "    <tr>\n",
       "      <th>2</th>\n",
       "      <td>2</td>\n",
       "      <td>9.0</td>\n",
       "      <td>27.0</td>\n",
       "      <td>34</td>\n",
       "      <td>0.168449</td>\n",
       "    </tr>\n",
       "    <tr>\n",
       "      <th>1</th>\n",
       "      <td>1</td>\n",
       "      <td>3.0</td>\n",
       "      <td>10.0</td>\n",
       "      <td>11</td>\n",
       "      <td>0.193961</td>\n",
       "    </tr>\n",
       "    <tr>\n",
       "      <th>0</th>\n",
       "      <td>0</td>\n",
       "      <td>3.0</td>\n",
       "      <td>4.0</td>\n",
       "      <td>5</td>\n",
       "      <td>0.377588</td>\n",
       "    </tr>\n",
       "    <tr>\n",
       "      <th>4</th>\n",
       "      <td>4</td>\n",
       "      <td>5.0</td>\n",
       "      <td>5.0</td>\n",
       "      <td>8</td>\n",
       "      <td>0.576909</td>\n",
       "    </tr>\n",
       "    <tr>\n",
       "      <th>3</th>\n",
       "      <td>3</td>\n",
       "      <td>4.0</td>\n",
       "      <td>6.0</td>\n",
       "      <td>8</td>\n",
       "      <td>0.581771</td>\n",
       "    </tr>\n",
       "  </tbody>\n",
       "</table>\n",
       "</div>"
      ],
      "text/plain": [
       "   name  alpha  beta  runs  theta_sample\n",
       "2     2    9.0  27.0    34      0.168449\n",
       "1     1    3.0  10.0    11      0.193961\n",
       "0     0    3.0   4.0     5      0.377588\n",
       "4     4    5.0   5.0     8      0.576909\n",
       "3     3    4.0   6.0     8      0.581771"
      ]
     },
     "execution_count": 4,
     "metadata": {},
     "output_type": "execute_result"
    }
   ],
   "source": [
    "headached_from_coffee.process_events(events, days=365)"
   ]
  },
  {
   "cell_type": "code",
   "execution_count": 5,
   "metadata": {},
   "outputs": [
    {
     "name": "stderr",
     "output_type": "stream",
     "text": [
      "100%|██████████| 10000/10000 [00:05<00:00, 1749.80it/s]\n"
     ]
    },
    {
     "data": {
      "image/png": "[encoded data removed]",
      "text/plain": [
       "<Figure size 640x480 with 1 Axes>"
      ]
     },
     "metadata": {},
     "output_type": "display_data"
    },
    {
     "data": {
      "text/html": [
       "<div>\n",
       "<style scoped>\n",
       "    .dataframe tbody tr th:only-of-type {\n",
       "        vertical-align: middle;\n",
       "    }\n",
       "\n",
       "    .dataframe tbody tr th {\n",
       "        vertical-align: top;\n",
       "    }\n",
       "\n",
       "    .dataframe thead th {\n",
       "        text-align: right;\n",
       "    }\n",
       "</style>\n",
       "<table border=\"1\" class=\"dataframe\">\n",
       "  <thead>\n",
       "    <tr style=\"text-align: right;\">\n",
       "      <th></th>\n",
       "      <th>variant</th>\n",
       "      <th>prob</th>\n",
       "    </tr>\n",
       "  </thead>\n",
       "  <tbody>\n",
       "    <tr>\n",
       "      <th>2</th>\n",
       "      <td>0.0</td>\n",
       "      <td>0.0939</td>\n",
       "    </tr>\n",
       "    <tr>\n",
       "      <th>0</th>\n",
       "      <td>1.0</td>\n",
       "      <td>0.4910</td>\n",
       "    </tr>\n",
       "    <tr>\n",
       "      <th>1</th>\n",
       "      <td>2.0</td>\n",
       "      <td>0.3085</td>\n",
       "    </tr>\n",
       "    <tr>\n",
       "      <th>4</th>\n",
       "      <td>3.0</td>\n",
       "      <td>0.0865</td>\n",
       "    </tr>\n",
       "    <tr>\n",
       "      <th>3</th>\n",
       "      <td>4.0</td>\n",
       "      <td>0.0201</td>\n",
       "    </tr>\n",
       "  </tbody>\n",
       "</table>\n",
       "</div>"
      ],
      "text/plain": [
       "   variant    prob\n",
       "2      0.0  0.0939\n",
       "0      1.0  0.4910\n",
       "1      2.0  0.3085\n",
       "4      3.0  0.0865\n",
       "3      4.0  0.0201"
      ]
     },
     "execution_count": 5,
     "metadata": {},
     "output_type": "execute_result"
    }
   ],
   "source": [
    "from collections import defaultdict\n",
    "from tqdm import tqdm\n",
    "\n",
    "\n",
    "results = defaultdict(int)\n",
    "for i in tqdm(range(10000)):\n",
    "    i_res = headached_from_coffee.grade()\n",
    "    i_var = i_res.iloc[0]['name']\n",
    "    results[i_var] += 1\n",
    "\n",
    "variants_proba_current = pd.DataFrame(results.items(), columns=['variant', 'prob'])\n",
    "variants_proba_current['prob'] = variants_proba_current['prob']/sum(variants_proba_current['prob'])\n",
    "variants_proba_current = variants_proba_current.sort_values('variant')\n",
    "\n",
    "plt.bar(variants_proba_current['variant'], variants_proba_current['prob'], align='center')\n",
    "\n",
    "plt.show()\n",
    "variants_proba_current"
   ]
  },
  {
   "cell_type": "code",
   "execution_count": 6,
   "metadata": {},
   "outputs": [
    {
     "data": {
      "text/plain": [
       "{0: array([1, 0, 0, 0, 1]),\n",
       " 1: array([0, 0, 1, 0, 0, 0, 0, 1, 0, 0, 0]),\n",
       " 2: array([0, 1, 0, 0, 0, 0, 1, 0, 0, 0, 1, 0, 1, 0, 0, 0, 0, 1, 1, 0, 0, 0,\n",
       "        1, 0, 0, 0, 0, 0, 0, 0, 0, 0, 0, 1]),\n",
       " 3: array([0, 1, 1, 1, 0, 0, 0, 0]),\n",
       " 4: array([0, 0, 0, 1, 1, 1, 1, 0])}"
      ]
     },
     "execution_count": 6,
     "metadata": {},
     "output_type": "execute_result"
    }
   ],
   "source": [
    "grouped_data = {name: group['reward'].values for name, group in headached_from_coffee.history.groupby('option')}\n",
    "grouped_data"
   ]
  },
  {
   "cell_type": "code",
   "execution_count": 7,
   "metadata": {},
   "outputs": [],
   "source": [
    "import numpy as np\n",
    "import matplotlib.pyplot as plt\n",
    "from scipy.stats import beta\n",
    "\n",
    "def binomial_confidence(values, confidence=0.95):\n",
    "    \"\"\"\n",
    "    Compute the binomial proportion confidence interval for a list of binary values (0/1).\n",
    "\n",
    "    Parameters:\n",
    "        values (list of int): A list consisting of 0s and 1s.\n",
    "        confidence (float): The desired confidence level between 0 and 1 (default is 0.95).\n",
    "\n",
    "    Returns:\n",
    "        (lower_bound, upper_bound): The lower and upper bounds of the confidence interval.\n",
    "\n",
    "    Raises:\n",
    "        ValueError: If the input list is empty.\n",
    "    \"\"\"\n",
    "    n = len(values)\n",
    "    if n == 0:\n",
    "        raise ValueError(\"The input list is empty.\")\n",
    "    \n",
    "    successes = sum(values)\n",
    "    lower_bound = beta.ppf((1 - confidence) / 2, successes + 1, n - successes + 1)\n",
    "    upper_bound = beta.ppf(1 - (1 - confidence) / 2, successes + 1, n - successes + 1)\n",
    "    return lower_bound, upper_bound\n",
    "\n",
    "def compute_group_statistics(grouped_data, confidence=0.95):\n",
    "    \"\"\"\n",
    "    Given a dictionary of grouped binary data, compute the mean (i.e. proportion) for each group along\n",
    "    with the lower and upper bounds of the confidence interval using a binomial model.\n",
    "\n",
    "    Parameters:\n",
    "        grouped_data (dict): Keys are group labels and values are arrays/lists of binary values (0/1).\n",
    "        confidence (float): The desired confidence level (default is 0.95).\n",
    "\n",
    "    Returns:\n",
    "        group_keys (list): Sorted list of group labels.\n",
    "        means (list): List of computed mean proportions for each group.\n",
    "        lower_bounds (list): Lower bounds of the confidence interval for each group.\n",
    "        upper_bounds (list): Upper bounds of the confidence interval for each group.\n",
    "    \"\"\"\n",
    "    group_keys = []\n",
    "    means = []\n",
    "    lower_bounds = []\n",
    "    upper_bounds = []\n",
    "    counts = []\n",
    "    for key, values in grouped_data.items():\n",
    "        group_keys.append(key)\n",
    "        values_list = list(values)  # ensure it's a list\n",
    "        means.append(np.mean(values_list))\n",
    "        lb, ub = binomial_confidence(values_list, confidence)\n",
    "        lower_bounds.append(lb)\n",
    "        upper_bounds.append(ub)\n",
    "        counts.append(len(values_list))\n",
    "    \n",
    "    # Optional: sort by group key if desired\n",
    "    sorted_indices = np.argsort(group_keys)\n",
    "    group_keys = np.array(group_keys)[sorted_indices]\n",
    "    means = np.array(means)[sorted_indices]\n",
    "    lower_bounds = np.array(lower_bounds)[sorted_indices]\n",
    "    upper_bounds = np.array(upper_bounds)[sorted_indices]\n",
    "    counts = np.array(counts)[sorted_indices]\n",
    "\n",
    "    return group_keys, means, lower_bounds, upper_bounds, counts\n",
    "\n",
    "def plot_group_statistics(group_keys, means, lower_bounds, upper_bounds, counts):\n",
    "    \"\"\"\n",
    "    Plot a bar chart with error bars for the provided group statistics.\n",
    "\n",
    "    Parameters:\n",
    "        group_keys (list): Group labels.\n",
    "        means (list): Mean values.\n",
    "        lower_bounds (list): Lower confidence bounds.\n",
    "        upper_bounds (list): Upper confidence bounds.\n",
    "    \"\"\"\n",
    "    import numpy as np\n",
    "    import matplotlib.pyplot as plt\n",
    "\n",
    "    x = np.arange(len(group_keys))\n",
    "    err_lower = np.clip(means - lower_bounds, a_min=0, a_max=None)\n",
    "    err_upper = np.clip(upper_bounds - means, a_min=0, a_max=None)\n",
    "\n",
    "    fig, ax = plt.subplots()\n",
    "    bars = ax.bar(x, means, \n",
    "           yerr=[err_lower, err_upper], \n",
    "           capsize=5, alpha=0.7, color='b')\n",
    "\n",
    "    ax.set_xticks(x)\n",
    "    ax.set_xticklabels(group_keys)\n",
    "    ax.set_xlabel('Group')\n",
    "    ax.set_ylabel('Probability with Confidence Bounds')\n",
    "    ax.set_title('Grouped Data with Confidence Bounds')\n",
    "\n",
    "    # Add number of observations below each bar\n",
    "    for i, count in enumerate(counts):\n",
    "        ax.text(x[i], -0.05, f'n={count}', ha='center', va='top', fontsize=9)\n",
    "\n",
    "    ax.set_ylim(bottom=-0.1)  # Adjust to make space for the text\n",
    "    plt.tight_layout()\n",
    "    plt.show()\n"
   ]
  },
  {
   "cell_type": "code",
   "execution_count": 8,
   "metadata": {},
   "outputs": [
    {
     "data": {
      "image/png": "[encoded data removed]",
      "text/plain": [
       "<Figure size 640x480 with 1 Axes>"
      ]
     },
     "metadata": {},
     "output_type": "display_data"
    }
   ],
   "source": [
    "grouped_data = {name: group['reward'].values for name, group in headached_from_coffee.history.groupby('option')}\n",
    "\n",
    "# Compute statistics for each group\n",
    "group_keys, means, lower_bounds, upper_bounds, counts = compute_group_statistics(grouped_data, confidence=0.95)\n",
    "\n",
    "# Plot the results\n",
    "plot_group_statistics(group_keys, means, lower_bounds, upper_bounds, counts)"
   ]
  },
  {
   "cell_type": "code",
   "execution_count": 9,
   "metadata": {},
   "outputs": [
    {
     "data": {
      "text/plain": [
       "array([0.4       , 0.18181818, 0.23529412, 0.375     , 0.5       ])"
      ]
     },
     "execution_count": 9,
     "metadata": {},
     "output_type": "execute_result"
    }
   ],
   "source": [
    "means"
   ]
  },
  {
   "cell_type": "code",
   "execution_count": null,
   "metadata": {},
   "outputs": [],
   "source": []
  }
 ],
 "metadata": {
  "kernelspec": {
   "display_name": "venv",
   "language": "python",
   "name": "python3"
  },
  "language_info": {
   "codemirror_mode": {
    "name": "ipython",
    "version": 3
   },
   "file_extension": ".py",
   "mimetype": "text/x-python",
   "name": "python",
   "nbconvert_exporter": "python",
   "pygments_lexer": "ipython3",
   "version": "3.9.6"
  }
 },
 "nbformat": 4,
 "nbformat_minor": 2
}
