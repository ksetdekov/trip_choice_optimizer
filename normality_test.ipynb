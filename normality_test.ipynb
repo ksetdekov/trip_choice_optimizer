{
 "cells": [
  {
   "cell_type": "code",
   "execution_count": 1,
   "metadata": {},
   "outputs": [],
   "source": [
    "import numpy as np\n",
    "import pandas as pd\n",
    "from scipy.stats import chisquare\n",
    "from scipy import stats\n",
    "from statsmodels.stats.weightstats import *\n",
    "import matplotlib.pyplot as plt\n",
    "from scipy.stats import norm"
   ]
  },
  {
   "cell_type": "code",
   "execution_count": 2,
   "metadata": {},
   "outputs": [
    {
     "data": {
      "text/html": [
       "<div>\n",
       "<style scoped>\n",
       "    .dataframe tbody tr th:only-of-type {\n",
       "        vertical-align: middle;\n",
       "    }\n",
       "\n",
       "    .dataframe tbody tr th {\n",
       "        vertical-align: top;\n",
       "    }\n",
       "\n",
       "    .dataframe thead th {\n",
       "        text-align: right;\n",
       "    }\n",
       "</style>\n",
       "<table border=\"1\" class=\"dataframe\">\n",
       "  <thead>\n",
       "    <tr style=\"text-align: right;\">\n",
       "      <th></th>\n",
       "      <th>time</th>\n",
       "      <th>days_per_10</th>\n",
       "      <th>ml_in_30_days</th>\n",
       "    </tr>\n",
       "  </thead>\n",
       "  <tbody>\n",
       "    <tr>\n",
       "      <th>0</th>\n",
       "      <td>2019-12-20 09:43:37</td>\n",
       "      <td>14.990046</td>\n",
       "      <td>20.013280</td>\n",
       "    </tr>\n",
       "    <tr>\n",
       "      <th>1</th>\n",
       "      <td>2020-01-07 23:51:36</td>\n",
       "      <td>18.588877</td>\n",
       "      <td>16.138683</td>\n",
       "    </tr>\n",
       "    <tr>\n",
       "      <th>2</th>\n",
       "      <td>2020-01-20 19:38:58</td>\n",
       "      <td>12.824560</td>\n",
       "      <td>23.392615</td>\n",
       "    </tr>\n",
       "    <tr>\n",
       "      <th>3</th>\n",
       "      <td>2020-01-30 12:27:48</td>\n",
       "      <td>9.700579</td>\n",
       "      <td>30.925990</td>\n",
       "    </tr>\n",
       "    <tr>\n",
       "      <th>4</th>\n",
       "      <td>2020-02-12 19:28:04</td>\n",
       "      <td>13.291852</td>\n",
       "      <td>22.570218</td>\n",
       "    </tr>\n",
       "    <tr>\n",
       "      <th>5</th>\n",
       "      <td>2020-02-22 11:57:41</td>\n",
       "      <td>9.687234</td>\n",
       "      <td>30.968593</td>\n",
       "    </tr>\n",
       "    <tr>\n",
       "      <th>6</th>\n",
       "      <td>2020-03-02 23:43:14</td>\n",
       "      <td>9.489965</td>\n",
       "      <td>31.612339</td>\n",
       "    </tr>\n",
       "    <tr>\n",
       "      <th>8</th>\n",
       "      <td>2020-03-29 11:52:01</td>\n",
       "      <td>24.481991</td>\n",
       "      <td>12.253905</td>\n",
       "    </tr>\n",
       "    <tr>\n",
       "      <th>9</th>\n",
       "      <td>2020-04-11 12:24:35</td>\n",
       "      <td>13.022616</td>\n",
       "      <td>23.036847</td>\n",
       "    </tr>\n",
       "    <tr>\n",
       "      <th>10</th>\n",
       "      <td>2020-04-25 10:01:34</td>\n",
       "      <td>13.900683</td>\n",
       "      <td>21.581674</td>\n",
       "    </tr>\n",
       "    <tr>\n",
       "      <th>11</th>\n",
       "      <td>2020-05-07 10:16:40</td>\n",
       "      <td>12.010486</td>\n",
       "      <td>24.978173</td>\n",
       "    </tr>\n",
       "    <tr>\n",
       "      <th>12</th>\n",
       "      <td>2020-05-17 10:01:29</td>\n",
       "      <td>9.989456</td>\n",
       "      <td>30.031665</td>\n",
       "    </tr>\n",
       "    <tr>\n",
       "      <th>13</th>\n",
       "      <td>2020-05-29 09:44:38</td>\n",
       "      <td>11.988299</td>\n",
       "      <td>25.024402</td>\n",
       "    </tr>\n",
       "    <tr>\n",
       "      <th>14</th>\n",
       "      <td>2020-06-14 09:30:54</td>\n",
       "      <td>15.990463</td>\n",
       "      <td>18.761183</td>\n",
       "    </tr>\n",
       "    <tr>\n",
       "      <th>15</th>\n",
       "      <td>2020-06-26 09:07:20</td>\n",
       "      <td>11.983634</td>\n",
       "      <td>25.034142</td>\n",
       "    </tr>\n",
       "    <tr>\n",
       "      <th>17</th>\n",
       "      <td>2020-11-22 17:35:18</td>\n",
       "      <td>30.351481</td>\n",
       "      <td>9.884196</td>\n",
       "    </tr>\n",
       "    <tr>\n",
       "      <th>18</th>\n",
       "      <td>2020-12-11 07:48:24</td>\n",
       "      <td>18.592431</td>\n",
       "      <td>16.135599</td>\n",
       "    </tr>\n",
       "    <tr>\n",
       "      <th>19</th>\n",
       "      <td>2020-12-22 09:01:47</td>\n",
       "      <td>11.050961</td>\n",
       "      <td>27.146961</td>\n",
       "    </tr>\n",
       "    <tr>\n",
       "      <th>20</th>\n",
       "      <td>2020-12-31 09:24:22</td>\n",
       "      <td>9.015683</td>\n",
       "      <td>33.275350</td>\n",
       "    </tr>\n",
       "    <tr>\n",
       "      <th>21</th>\n",
       "      <td>2021-01-16 13:13:45</td>\n",
       "      <td>16.159294</td>\n",
       "      <td>18.565168</td>\n",
       "    </tr>\n",
       "    <tr>\n",
       "      <th>22</th>\n",
       "      <td>2021-02-04 11:53:04</td>\n",
       "      <td>18.943970</td>\n",
       "      <td>15.836174</td>\n",
       "    </tr>\n",
       "    <tr>\n",
       "      <th>23</th>\n",
       "      <td>2021-02-22 09:17:04</td>\n",
       "      <td>17.891667</td>\n",
       "      <td>16.767583</td>\n",
       "    </tr>\n",
       "    <tr>\n",
       "      <th>24</th>\n",
       "      <td>2021-03-09 18:07:13</td>\n",
       "      <td>15.368160</td>\n",
       "      <td>19.520880</td>\n",
       "    </tr>\n",
       "    <tr>\n",
       "      <th>25</th>\n",
       "      <td>2021-03-26 09:03:26</td>\n",
       "      <td>16.622373</td>\n",
       "      <td>18.047965</td>\n",
       "    </tr>\n",
       "    <tr>\n",
       "      <th>26</th>\n",
       "      <td>2021-04-13 09:16:33</td>\n",
       "      <td>18.009109</td>\n",
       "      <td>16.658237</td>\n",
       "    </tr>\n",
       "    <tr>\n",
       "      <th>27</th>\n",
       "      <td>2021-04-26 09:03:20</td>\n",
       "      <td>12.990822</td>\n",
       "      <td>23.093227</td>\n",
       "    </tr>\n",
       "    <tr>\n",
       "      <th>28</th>\n",
       "      <td>2021-05-10 09:03:51</td>\n",
       "      <td>14.000359</td>\n",
       "      <td>21.428022</td>\n",
       "    </tr>\n",
       "    <tr>\n",
       "      <th>29</th>\n",
       "      <td>2021-05-30 11:55:39</td>\n",
       "      <td>20.119306</td>\n",
       "      <td>14.911051</td>\n",
       "    </tr>\n",
       "    <tr>\n",
       "      <th>30</th>\n",
       "      <td>2021-06-11 13:31:34</td>\n",
       "      <td>12.066609</td>\n",
       "      <td>24.861998</td>\n",
       "    </tr>\n",
       "    <tr>\n",
       "      <th>31</th>\n",
       "      <td>2021-06-23 17:29:09</td>\n",
       "      <td>12.164988</td>\n",
       "      <td>24.660936</td>\n",
       "    </tr>\n",
       "    <tr>\n",
       "      <th>32</th>\n",
       "      <td>2021-07-06 08:27:51</td>\n",
       "      <td>12.624097</td>\n",
       "      <td>23.764076</td>\n",
       "    </tr>\n",
       "    <tr>\n",
       "      <th>33</th>\n",
       "      <td>2021-08-07 14:04:40</td>\n",
       "      <td>32.233900</td>\n",
       "      <td>9.306972</td>\n",
       "    </tr>\n",
       "    <tr>\n",
       "      <th>34</th>\n",
       "      <td>2021-08-22 08:42:29</td>\n",
       "      <td>14.776262</td>\n",
       "      <td>20.302835</td>\n",
       "    </tr>\n",
       "    <tr>\n",
       "      <th>35</th>\n",
       "      <td>2021-09-08 22:44:37</td>\n",
       "      <td>17.584815</td>\n",
       "      <td>17.060174</td>\n",
       "    </tr>\n",
       "  </tbody>\n",
       "</table>\n",
       "</div>"
      ],
      "text/plain": [
       "                   time  days_per_10  ml_in_30_days\n",
       "0   2019-12-20 09:43:37    14.990046      20.013280\n",
       "1   2020-01-07 23:51:36    18.588877      16.138683\n",
       "2   2020-01-20 19:38:58    12.824560      23.392615\n",
       "3   2020-01-30 12:27:48     9.700579      30.925990\n",
       "4   2020-02-12 19:28:04    13.291852      22.570218\n",
       "5   2020-02-22 11:57:41     9.687234      30.968593\n",
       "6   2020-03-02 23:43:14     9.489965      31.612339\n",
       "8   2020-03-29 11:52:01    24.481991      12.253905\n",
       "9   2020-04-11 12:24:35    13.022616      23.036847\n",
       "10  2020-04-25 10:01:34    13.900683      21.581674\n",
       "11  2020-05-07 10:16:40    12.010486      24.978173\n",
       "12  2020-05-17 10:01:29     9.989456      30.031665\n",
       "13  2020-05-29 09:44:38    11.988299      25.024402\n",
       "14  2020-06-14 09:30:54    15.990463      18.761183\n",
       "15  2020-06-26 09:07:20    11.983634      25.034142\n",
       "17  2020-11-22 17:35:18    30.351481       9.884196\n",
       "18  2020-12-11 07:48:24    18.592431      16.135599\n",
       "19  2020-12-22 09:01:47    11.050961      27.146961\n",
       "20  2020-12-31 09:24:22     9.015683      33.275350\n",
       "21  2021-01-16 13:13:45    16.159294      18.565168\n",
       "22  2021-02-04 11:53:04    18.943970      15.836174\n",
       "23  2021-02-22 09:17:04    17.891667      16.767583\n",
       "24  2021-03-09 18:07:13    15.368160      19.520880\n",
       "25  2021-03-26 09:03:26    16.622373      18.047965\n",
       "26  2021-04-13 09:16:33    18.009109      16.658237\n",
       "27  2021-04-26 09:03:20    12.990822      23.093227\n",
       "28  2021-05-10 09:03:51    14.000359      21.428022\n",
       "29  2021-05-30 11:55:39    20.119306      14.911051\n",
       "30  2021-06-11 13:31:34    12.066609      24.861998\n",
       "31  2021-06-23 17:29:09    12.164988      24.660936\n",
       "32  2021-07-06 08:27:51    12.624097      23.764076\n",
       "33  2021-08-07 14:04:40    32.233900       9.306972\n",
       "34  2021-08-22 08:42:29    14.776262      20.302835\n",
       "35  2021-09-08 22:44:37    17.584815      17.060174"
      ]
     },
     "execution_count": 2,
     "metadata": {},
     "output_type": "execute_result"
    }
   ],
   "source": [
    "# eyedrops = pd.read_excel('eye drops.xlsx', sheet_name='for_export')\n",
    "\n",
    "eyedrops = pd.read_csv('eyedrops.gz')\n",
    "eyedrops = eyedrops[['time', 'days_per_10', 'ml_in_30_days']]\n",
    "eyedrops.dropna(inplace=True)\n",
    "eyedrops.to_csv('eyedrops.gz')\n",
    "\n",
    "eyedrops = eyedrops[eyedrops.days_per_10 < 100]\n",
    "eyedrops = eyedrops[eyedrops.ml_in_30_days < 100]\n",
    "\n",
    "eyedrops"
   ]
  },
  {
   "cell_type": "markdown",
   "metadata": {},
   "source": [
    "days per 10 ml"
   ]
  },
  {
   "cell_type": "code",
   "execution_count": 3,
   "metadata": {},
   "outputs": [
    {
     "data": {
      "text/plain": [
       "<AxesSubplot:>"
      ]
     },
     "execution_count": 3,
     "metadata": {},
     "output_type": "execute_result"
    },
    {
     "data": {
      "image/png": "[encoded data removed]",
      "text/plain": [
       "<Figure size 432x288 with 1 Axes>"
      ]
     },
     "metadata": {
      "needs_background": "light"
     },
     "output_type": "display_data"
    }
   ],
   "source": [
    "eyedrops.days_per_10.hist()\n"
   ]
  },
  {
   "cell_type": "code",
   "execution_count": 4,
   "metadata": {},
   "outputs": [
    {
     "data": {
      "image/png": "[encoded data removed]",
      "text/plain": [
       "<Figure size 432x288 with 1 Axes>"
      ]
     },
     "metadata": {
      "needs_background": "light"
     },
     "output_type": "display_data"
    }
   ],
   "source": [
    "f = stats.probplot(eyedrops.days_per_10, dist=\"norm\", plot = plt)"
   ]
  },
  {
   "cell_type": "code",
   "execution_count": 5,
   "metadata": {},
   "outputs": [],
   "source": [
    "def do_normal_test(column, buckets=31):\n",
    "    \"\"\"\n",
    "    проводим 3 теста на нормальность\n",
    "\n",
    "    Args:\n",
    "        column (pd.Series): входящие данные\n",
    "        buckets (int): число бакетов для теста\n",
    "    \"\"\"    \n",
    "    intervals = np.linspace(min(column), max(column),buckets)\n",
    "    expected = []\n",
    "    observed = []\n",
    "    std = np.std(column)\n",
    "    mu = np.mean(column)\n",
    "    for i in range(1,len(intervals)):\n",
    "        observed.append(len(column[(column < intervals[i]) & (column >= intervals[i-1])]))\n",
    "        expected.append((norm.cdf(intervals[i], mu, std) - norm.cdf(intervals[i-1], mu, std))*len(column))\n",
    "\n",
    "    print(chisquare(observed, expected, ddof = 2))\n",
    "\n",
    "    k2, p = stats.normaltest(column)\n",
    "    print(\"p = {:g} for stats.normaltest\".format(p))\n",
    "    alpha = 0.01\n",
    "    if p < alpha:  # null hypothesis: x comes from a normal distribution\n",
    "        print(\"The null hypothesis can be rejected\")\n",
    "    else:\n",
    "        print(\"The null hypothesis cannot be rejected\")\n",
    "\n",
    "    print(stats.shapiro(column))\n",
    "\n"
   ]
  },
  {
   "cell_type": "code",
   "execution_count": 6,
   "metadata": {},
   "outputs": [
    {
     "name": "stdout",
     "output_type": "stream",
     "text": [
      "Power_divergenceResult(statistic=20.505877171224565, pvalue=0.0022496939991987473)\n",
      "p = 8.93651e-05 for stats.normaltest\n",
      "The null hypothesis can be rejected\n",
      "ShapiroResult(statistic=0.8468838334083557, pvalue=0.00023861309455242008)\n"
     ]
    }
   ],
   "source": [
    "do_normal_test(eyedrops.days_per_10, 10)"
   ]
  },
  {
   "cell_type": "markdown",
   "metadata": {},
   "source": [
    "## ml in 30 days"
   ]
  },
  {
   "cell_type": "code",
   "execution_count": 7,
   "metadata": {},
   "outputs": [
    {
     "data": {
      "text/plain": [
       "<AxesSubplot:>"
      ]
     },
     "execution_count": 7,
     "metadata": {},
     "output_type": "execute_result"
    },
    {
     "data": {
      "image/png": "[encoded data removed]",
      "text/plain": [
       "<Figure size 432x288 with 1 Axes>"
      ]
     },
     "metadata": {
      "needs_background": "light"
     },
     "output_type": "display_data"
    }
   ],
   "source": [
    "eyedrops.ml_in_30_days.hist()\n"
   ]
  },
  {
   "cell_type": "code",
   "execution_count": 8,
   "metadata": {},
   "outputs": [
    {
     "data": {
      "image/png": "[encoded data removed]",
      "text/plain": [
       "<Figure size 432x288 with 1 Axes>"
      ]
     },
     "metadata": {
      "needs_background": "light"
     },
     "output_type": "display_data"
    }
   ],
   "source": [
    "f = stats.probplot(eyedrops.ml_in_30_days, dist=\"norm\", plot = plt)"
   ]
  },
  {
   "cell_type": "code",
   "execution_count": 9,
   "metadata": {},
   "outputs": [
    {
     "name": "stdout",
     "output_type": "stream",
     "text": [
      "Power_divergenceResult(statistic=11.992854974424187, pvalue=0.06212839109346921)\n",
      "p = 0.935497 for stats.normaltest\n",
      "The null hypothesis cannot be rejected\n",
      "ShapiroResult(statistic=0.9772131443023682, pvalue=0.6830801963806152)\n"
     ]
    }
   ],
   "source": [
    "do_normal_test(eyedrops.ml_in_30_days, 10)"
   ]
  },
  {
   "cell_type": "markdown",
   "metadata": {},
   "source": [
    "мл на 30 дней, если выкинуть выбросы - нельзя отвергать гипотезу о нормальном распределении"
   ]
  }
 ],
 "metadata": {
  "interpreter": {
   "hash": "40d3a090f54c6569ab1632332b64b2c03c39dcf918b08424e98f38b5ae0af88f"
  },
  "kernelspec": {
   "display_name": "Python 3.8.5 64-bit ('base': conda)",
   "language": "python",
   "name": "python3"
  },
  "language_info": {
   "codemirror_mode": {
    "name": "ipython",
    "version": 3
   },
   "file_extension": ".py",
   "mimetype": "text/x-python",
   "name": "python",
   "nbconvert_exporter": "python",
   "pygments_lexer": "ipython3",
   "version": "3.8.5"
  },
  "orig_nbformat": 4
 },
 "nbformat": 4,
 "nbformat_minor": 2
}
