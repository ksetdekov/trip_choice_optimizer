{
 "cells": [
  {
   "cell_type": "code",
   "execution_count": 1,
   "id": "c21c41a0",
   "metadata": {
    "_cell_guid": "b1076dfc-b9ad-4769-8c92-a6c4dae69d19",
    "_uuid": "8f2839f25d086af736a60e9eeb907d3b93b6e0e5",
    "execution": {
     "iopub.execute_input": "2024-11-11T16:16:09.359851Z",
     "iopub.status.busy": "2024-11-11T16:16:09.359352Z",
     "iopub.status.idle": "2024-11-11T16:16:27.084902Z",
     "shell.execute_reply": "2024-11-11T16:16:27.083757Z"
    },
    "papermill": {
     "duration": 17.732523,
     "end_time": "2024-11-11T16:16:27.087692",
     "exception": false,
     "start_time": "2024-11-11T16:16:09.355169",
     "status": "completed"
    },
    "tags": []
   },
   "outputs": [
    {
     "name": "stdout",
     "output_type": "stream",
     "text": [
      "Collecting glis\r\n",
      "  Downloading glis-2.0.2-py3-none-any.whl.metadata (22 kB)\r\n",
      "Requirement already satisfied: numpy in /opt/conda/lib/python3.10/site-packages (from glis) (1.26.4)\r\n",
      "Requirement already satisfied: scipy in /opt/conda/lib/python3.10/site-packages (from glis) (1.14.1)\r\n",
      "Collecting pyswarm (from glis)\r\n",
      "  Downloading pyswarm-0.6.tar.gz (4.3 kB)\r\n",
      "  Preparing metadata (setup.py) ... \u001b[?25l-\b \bdone\r\n",
      "\u001b[?25hCollecting pydoe (from glis)\r\n",
      "  Downloading pyDOE-0.3.8.zip (22 kB)\r\n",
      "  Preparing metadata (setup.py) ... \u001b[?25l-\b \bdone\r\n",
      "\u001b[?25hRequirement already satisfied: numba in /opt/conda/lib/python3.10/site-packages (from glis) (0.60.0)\r\n",
      "Requirement already satisfied: llvmlite<0.44,>=0.43.0dev0 in /opt/conda/lib/python3.10/site-packages (from numba->glis) (0.43.0)\r\n",
      "Downloading glis-2.0.2-py3-none-any.whl (26 kB)\r\n",
      "Building wheels for collected packages: pydoe, pyswarm\r\n",
      "  Building wheel for pydoe (setup.py) ... \u001b[?25l-\b \b\\\b \bdone\r\n",
      "\u001b[?25h  Created wheel for pydoe: filename=pyDOE-0.3.8-py3-none-any.whl size=18168 sha256=eed2b14df443860129228b3d73295bce0d13f00e519c636cafef942f15eb0fc0\r\n",
      "  Stored in directory: /root/.cache/pip/wheels/ce/b6/d7/c6b64746dba6433c593e471e0ac3acf4f36040456d1d160d17\r\n",
      "  Building wheel for pyswarm (setup.py) ... \u001b[?25l-\b \b\\\b \bdone\r\n",
      "\u001b[?25h  Created wheel for pyswarm: filename=pyswarm-0.6-py3-none-any.whl size=4464 sha256=32b6137cc29feea45a9de2aaa1416cd62cead1b0f7252f7c9a666c3f486bbdf6\r\n",
      "  Stored in directory: /root/.cache/pip/wheels/71/67/40/62fa158f497f942277cbab8199b05cb61c571ab324e67ad0d6\r\n",
      "Successfully built pydoe pyswarm\r\n",
      "Installing collected packages: pyswarm, pydoe, glis\r\n",
      "Successfully installed glis-2.0.2 pydoe-0.3.8 pyswarm-0.6\r\n"
     ]
    }
   ],
   "source": [
    "!pip install glis"
   ]
  },
  {
   "cell_type": "code",
   "execution_count": 2,
   "id": "0b7e7273",
   "metadata": {
    "execution": {
     "iopub.execute_input": "2024-11-11T16:16:27.096809Z",
     "iopub.status.busy": "2024-11-11T16:16:27.096372Z",
     "iopub.status.idle": "2024-11-11T16:16:28.787462Z",
     "shell.execute_reply": "2024-11-11T16:16:28.785895Z"
    },
    "papermill": {
     "duration": 1.698292,
     "end_time": "2024-11-11T16:16:28.789792",
     "exception": false,
     "start_time": "2024-11-11T16:16:27.091500",
     "status": "completed"
    },
    "tags": []
   },
   "outputs": [
    {
     "name": "stdout",
     "output_type": "stream",
     "text": [
      "Solve the problem incrementally (i.e., provide the preference at each iteration)\n"
     ]
    }
   ],
   "source": [
    "from glis.solvers import GLISp\n",
    "import numpy as np\n",
    "\n",
    "key = 3\n",
    "np.random.seed(key)  # rng default for reproducibility\n",
    "print(\"Solve the problem incrementally (i.e., provide the preference at each iteration)\")\n",
    "n_initial_random = 10\n",
    "lb = np.array([\n",
    "    0, # coffee\n",
    "    0, # size\n",
    "    1, # ground\n",
    "    1  # кнопка размера\n",
    "    ])\n",
    "ub = np.array([\n",
    "    2, # coffee\n",
    "    2, # size\n",
    "    7, # ground\n",
    "    2  # кнопка размера\n",
    "    ])\n",
    "     \n",
    "prob = GLISp(bounds=(lb, ub), n_initial_random=n_initial_random, RBFcalibrate=True, acquisition_method=\"prob_improvement\")\n",
    "xbest, x = prob.initialize()  # get first two random samples"
   ]
  },
  {
   "cell_type": "code",
   "execution_count": 3,
   "id": "4751f02d",
   "metadata": {
    "execution": {
     "iopub.execute_input": "2024-11-11T16:16:28.799527Z",
     "iopub.status.busy": "2024-11-11T16:16:28.798389Z",
     "iopub.status.idle": "2024-11-11T16:16:28.812712Z",
     "shell.execute_reply": "2024-11-11T16:16:28.811527Z"
    },
    "papermill": {
     "duration": 0.022162,
     "end_time": "2024-11-11T16:16:28.815621",
     "exception": false,
     "start_time": "2024-11-11T16:16:28.793459",
     "status": "completed"
    },
    "tags": []
   },
   "outputs": [
    {
     "name": "stdout",
     "output_type": "stream",
     "text": [
      "первый стакан\n",
      "coffee min + 0.5\n",
      "size min + 0.4\n",
      "ground 2.9\n",
      "кнопка стаканов 1.0\n",
      "\n",
      "\n",
      "второй стакан\n",
      "coffee min + 0.7\n",
      "size middle + 0.0\n",
      "ground 2.5\n",
      "кнопка стаканов 1.0\n",
      "1, если первый стакан вкуснее, -1 если второй и 0, если не отличить\n"
     ]
    }
   ],
   "source": [
    "def param_des(arr, pos=0, name='coffee'):\n",
    "    if arr[pos] < 1:\n",
    "        return f'{name} min + {str(round(arr[pos], 1))}'\n",
    "    elif arr[pos] <1.5:\n",
    "        return f'{name} middle + {str(round(arr[pos]-1, 1))}'\n",
    "    else:\n",
    "        return f'{name} max - {str(round(2-arr[pos], 1))}'\n",
    "\n",
    "\n",
    "def ground(arr):\n",
    "    return(f'ground {str(round(arr[2], 1))}')\n",
    "\n",
    "\n",
    "def cups_count(arr):\n",
    "    return(f'кнопка стаканов {str(round(arr[3], 0))}')\n",
    "\n",
    "def cup_asker(arr1, arr2):\n",
    "    print('первый стакан')\n",
    "    print(param_des(arr1, pos=0, name='coffee'))\n",
    "    print(param_des(arr1, pos=1, name='size'))\n",
    "    print(ground(arr1))\n",
    "    print(cups_count(arr1))\n",
    "    print('\\n')\n",
    "\n",
    "    print('второй стакан')\n",
    "    print(param_des(arr2, pos=0, name='coffee'))\n",
    "    print(param_des(arr2, pos=1, name='size'))\n",
    "    print(ground(arr2))\n",
    "    print(cups_count(arr2))\n",
    "\n",
    "    print('1, если первый стакан вкуснее, -1 если второй и 0, если не отличить')\n",
    "\n",
    "\n",
    "cup_asker(xbest, x)"
   ]
  },
  {
   "cell_type": "code",
   "execution_count": 4,
   "id": "dd6f6908",
   "metadata": {
    "execution": {
     "iopub.execute_input": "2024-11-11T16:16:28.828205Z",
     "iopub.status.busy": "2024-11-11T16:16:28.827796Z",
     "iopub.status.idle": "2024-11-11T16:16:28.832365Z",
     "shell.execute_reply": "2024-11-11T16:16:28.831359Z"
    },
    "papermill": {
     "duration": 0.014001,
     "end_time": "2024-11-11T16:16:28.835094",
     "exception": false,
     "start_time": "2024-11-11T16:16:28.821093",
     "status": "completed"
    },
    "tags": []
   },
   "outputs": [],
   "source": [
    "# pref = 0\n",
    "# x = prob.update(pref)\n",
    "# # prob.rbf_recalibrate()\n",
    "# xbest = prob.xbest\n",
    "# cup_asker(xbest, x)\n",
    "     "
   ]
  }
 ],
 "metadata": {
  "kaggle": {
   "accelerator": "none",
   "dataSources": [],
   "dockerImageVersionId": 30786,
   "isGpuEnabled": false,
   "isInternetEnabled": true,
   "language": "python",
   "sourceType": "notebook"
  },
  "kernelspec": {
   "display_name": "Python 3",
   "language": "python",
   "name": "python3"
  },
  "language_info": {
   "codemirror_mode": {
    "name": "ipython",
    "version": 3
   },
   "file_extension": ".py",
   "mimetype": "text/x-python",
   "name": "python",
   "nbconvert_exporter": "python",
   "pygments_lexer": "ipython3",
   "version": "3.10.14"
  },
  "papermill": {
   "default_parameters": {},
   "duration": 22.777162,
   "end_time": "2024-11-11T16:16:29.361342",
   "environment_variables": {},
   "exception": null,
   "input_path": "__notebook__.ipynb",
   "output_path": "__notebook__.ipynb",
   "parameters": {},
   "start_time": "2024-11-11T16:16:06.584180",
   "version": "2.6.0"
  }
 },
 "nbformat": 4,
 "nbformat_minor": 5
}
