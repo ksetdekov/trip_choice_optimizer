{
 "cells": [
  {
   "cell_type": "markdown",
   "id": "bad70c37",
   "metadata": {},
   "source": [
    "<a href=\"https://www.kaggle.com/code/ksetdekov/coffee-amount-optimization?scriptVersionId=231761062\" target=\"_blank\"><img align=\"left\" alt=\"Kaggle\" title=\"Open in Kaggle\" src=\"https://kaggle.com/static/images/open-in-kaggle.svg\"></a>"
   ]
  },
  {
   "cell_type": "markdown",
   "id": "72f6130a",
   "metadata": {
    "papermill": {
     "duration": 0.005207,
     "end_time": "2025-04-04T07:41:57.385285",
     "exception": false,
     "start_time": "2025-04-04T07:41:57.380078",
     "status": "completed"
    },
    "tags": []
   },
   "source": [
    "### Ноутбук для подбора количества кофе, которое минимизирует стресс"
   ]
  },
  {
   "cell_type": "markdown",
   "id": "08d3e74f",
   "metadata": {
    "papermill": {
     "duration": 0.003899,
     "end_time": "2025-04-04T07:41:57.393634",
     "exception": false,
     "start_time": "2025-04-04T07:41:57.389735",
     "status": "completed"
    },
    "tags": []
   },
   "source": [
    "## main class"
   ]
  },
  {
   "cell_type": "code",
   "execution_count": 4,
   "id": "4e8c640a",
   "metadata": {
    "execution": {
     "iopub.execute_input": "2025-04-04T07:41:57.403518Z",
     "iopub.status.busy": "2025-04-04T07:41:57.403111Z",
     "iopub.status.idle": "2025-04-04T07:42:01.128187Z",
     "shell.execute_reply": "2025-04-04T07:42:01.126831Z"
    },
    "papermill": {
     "duration": 3.734362,
     "end_time": "2025-04-04T07:42:01.131954",
     "exception": false,
     "start_time": "2025-04-04T07:41:57.397592",
     "status": "completed"
    },
    "tags": []
   },
   "outputs": [],
   "source": [
    "import pandas as pd\n",
    "import numpy as np\n",
    "from scipy.stats import gamma, norm\n",
    "import seaborn as sns\n",
    "import matplotlib.pyplot as plt\n",
    "from tqdm import tqdm\n",
    "from collections import defaultdict\n",
    "import plotly.express as px\n",
    "from datetime import datetime, timedelta\n",
    "\n",
    "class HandsTable():\n",
    "    minimize = True\n",
    "    rho = 3.37\n",
    "\n",
    "    def __init__(self, options_list, minimize=True, rho=1.0):\n",
    "        \"\"\"инициализация\n",
    "\n",
    "        Args:\n",
    "            options_list (list): список из названий\n",
    "            minimize (bool, optional): Минимизировать если True, максимизировать если False. Defaults to True.\n",
    "            rho (float, optional): Риск толерантность, чем больше, тем больше риска готовы принять. Defaults to 1.0.\n",
    "        \"\"\"\n",
    "        self.hands = pd.DataFrame({'name': options_list,\n",
    "                                   'mu': 0.0,\n",
    "                                   'Te': 0.0,\n",
    "                                   'alpha': 0.5,\n",
    "                                   'beta': 0.5\n",
    "                                   })\n",
    "        self.minimize = minimize\n",
    "        if rho is not None:\n",
    "            self.rho = rho\n",
    "\n",
    "        self.history = pd.DataFrame(columns=['option', 'value'])\n",
    "\n",
    "    @classmethod\n",
    "    def to_minutes(self, timestr: str):\n",
    "        '''\n",
    "        convert timestr to float minutes\n",
    "        '''\n",
    "        return pd.to_timedelta(timestr).total_seconds()/60\n",
    "\n",
    "    @classmethod\n",
    "    def update_mean(self, X, T_last, mu_last):\n",
    "        mu_new = T_last * mu_last / (T_last + 1) + X / (T_last + 1)\n",
    "        return mu_new\n",
    "\n",
    "    @classmethod\n",
    "    def update_samples(self, T):\n",
    "        return T + 1\n",
    "\n",
    "    @classmethod\n",
    "    def update_shape(self, a):\n",
    "        return a + 0.5\n",
    "\n",
    "    @classmethod\n",
    "    def update_rate(self, X, mu_last, beta_last, T_last):\n",
    "        beta_new = beta_last + (T_last / (T_last + 1)) * \\\n",
    "            (np.square(X - mu_last)) / 2\n",
    "        return beta_new\n",
    "\n",
    "    def update_hands(self, name, value):\n",
    "        if isinstance(value, str):\n",
    "            try:\n",
    "                value = HandsTable.to_minutes(value)\n",
    "            except ValueError:\n",
    "                raise ValueError('input time string in hh:mm:ss format')\n",
    "        elif isinstance(value, float) or isinstance(value, int):\n",
    "            pass\n",
    "        else:\n",
    "            raise ValueError('input time string or int/float value')\n",
    "\n",
    "        _, mu, t, alpha, beta = self.hands[self.hands.name == name].values[0]\n",
    "        beta = HandsTable.update_rate(value, mu, beta, t)\n",
    "        mu = HandsTable.update_mean(value, t, mu)\n",
    "        t = HandsTable.update_samples(t)\n",
    "        alpha = HandsTable.update_shape(alpha)\n",
    "\n",
    "        # added code to write history\n",
    "        self.history.loc[len(self.history.index)] = [name, value]\n",
    "\n",
    "        self.hands.loc[self.hands.name == name, 'mu'] = mu\n",
    "        self.hands.loc[self.hands.name == name, 'Te'] = t\n",
    "        self.hands.loc[self.hands.name == name, 'alpha'] = alpha\n",
    "        self.hands.loc[self.hands.name == name, 'beta'] = beta\n",
    "\n",
    "    def grade(self):\n",
    "        hands_output = self.hands.copy()\n",
    "        tau = gamma.rvs(a=hands_output.alpha, scale=1/hands_output.beta)\n",
    "        theta_drops = norm.rvs(hands_output.mu, 1/hands_output.Te)\n",
    "        hands_output['tau'] = tau\n",
    "        hands_output['theta'] = theta_drops\n",
    "        hands_output['SD'] = np.sqrt(1/tau)\n",
    "\n",
    "        if self.minimize == True:\n",
    "            hands_output['var95'] = theta_drops + \\\n",
    "                norm.ppf(1-0.05/2) * hands_output.SD\n",
    "            if hands_output.mu.min() == 0:\n",
    "\n",
    "                output_df = hands_output.reindex(np.argsort(hands_output.Te))\n",
    "            else:\n",
    "                output_df = hands_output.reindex(\n",
    "                    np.argsort(self.rho * theta_drops + 1/tau))\n",
    "        else:\n",
    "            hands_output['var95'] = theta_drops + \\\n",
    "                norm.ppf(0.05/2) * hands_output.SD\n",
    "            if hands_output.mu.min() == 0:\n",
    "                output_df = hands_output.reindex(np.argsort(hands_output.Te))\n",
    "            else:\n",
    "                output_df = hands_output.reindex(\n",
    "                    np.argsort(self.rho * theta_drops - 1/tau)[::-1])\n",
    "\n",
    "        return output_df\n",
    "\n",
    "    def process_events(self, events, days=91):\n",
    "        \"\"\"Filter events and update hands\"\"\"\n",
    "        oldest_ok = max(events) - timedelta(days=days)\n",
    "        filtered_events = {k: v for k, v in events.items() if k > oldest_ok}\n",
    "\n",
    "        for category, value in filtered_events.values():\n",
    "            self.update_hands(category, value)\n",
    "        return self.grade()\n",
    "\n",
    "    def __str__(self):\n",
    "        return repr(self.hands)"
   ]
  },
  {
   "cell_type": "markdown",
   "id": "91179776",
   "metadata": {
    "papermill": {
     "duration": 0.003739,
     "end_time": "2025-04-04T07:42:01.140251",
     "exception": false,
     "start_time": "2025-04-04T07:42:01.136512",
     "status": "completed"
    },
    "tags": []
   },
   "source": [
    "# Применение"
   ]
  },
  {
   "cell_type": "code",
   "execution_count": 5,
   "id": "b2b6fecd",
   "metadata": {
    "execution": {
     "iopub.execute_input": "2025-04-04T07:42:01.151414Z",
     "iopub.status.busy": "2025-04-04T07:42:01.150823Z",
     "iopub.status.idle": "2025-04-04T07:42:01.526976Z",
     "shell.execute_reply": "2025-04-04T07:42:01.52579Z"
    },
    "papermill": {
     "duration": 0.384803,
     "end_time": "2025-04-04T07:42:01.529503",
     "exception": false,
     "start_time": "2025-04-04T07:42:01.1447",
     "status": "completed"
    },
    "tags": []
   },
   "outputs": [
    {
     "name": "stdout",
     "output_type": "stream",
     "text": [
      "2024-04-08 00:00:00\n"
     ]
    },
    {
     "data": {
      "text/html": [
       "<div>\n",
       "<style scoped>\n",
       "    .dataframe tbody tr th:only-of-type {\n",
       "        vertical-align: middle;\n",
       "    }\n",
       "\n",
       "    .dataframe tbody tr th {\n",
       "        vertical-align: top;\n",
       "    }\n",
       "\n",
       "    .dataframe thead th {\n",
       "        text-align: right;\n",
       "    }\n",
       "</style>\n",
       "<table border=\"1\" class=\"dataframe\">\n",
       "  <thead>\n",
       "    <tr style=\"text-align: right;\">\n",
       "      <th></th>\n",
       "      <th>name</th>\n",
       "      <th>mu</th>\n",
       "      <th>Te</th>\n",
       "      <th>alpha</th>\n",
       "      <th>beta</th>\n",
       "      <th>tau</th>\n",
       "      <th>theta</th>\n",
       "      <th>SD</th>\n",
       "      <th>var95</th>\n",
       "    </tr>\n",
       "  </thead>\n",
       "  <tbody>\n",
       "    <tr>\n",
       "      <th>3</th>\n",
       "      <td>3</td>\n",
       "      <td>29.944444</td>\n",
       "      <td>36.0</td>\n",
       "      <td>18.5</td>\n",
       "      <td>550.444444</td>\n",
       "      <td>0.039421</td>\n",
       "      <td>29.920221</td>\n",
       "      <td>5.036571</td>\n",
       "      <td>39.791720</td>\n",
       "    </tr>\n",
       "    <tr>\n",
       "      <th>2</th>\n",
       "      <td>2</td>\n",
       "      <td>30.509434</td>\n",
       "      <td>53.0</td>\n",
       "      <td>27.0</td>\n",
       "      <td>500.122642</td>\n",
       "      <td>0.041543</td>\n",
       "      <td>30.506495</td>\n",
       "      <td>4.906288</td>\n",
       "      <td>40.122643</td>\n",
       "    </tr>\n",
       "    <tr>\n",
       "      <th>4</th>\n",
       "      <td>4</td>\n",
       "      <td>29.848485</td>\n",
       "      <td>33.0</td>\n",
       "      <td>17.0</td>\n",
       "      <td>508.621212</td>\n",
       "      <td>0.035147</td>\n",
       "      <td>29.828460</td>\n",
       "      <td>5.334050</td>\n",
       "      <td>40.283006</td>\n",
       "    </tr>\n",
       "    <tr>\n",
       "      <th>0</th>\n",
       "      <td>0</td>\n",
       "      <td>32.777778</td>\n",
       "      <td>9.0</td>\n",
       "      <td>5.0</td>\n",
       "      <td>82.277778</td>\n",
       "      <td>0.058413</td>\n",
       "      <td>32.802593</td>\n",
       "      <td>4.137565</td>\n",
       "      <td>40.912071</td>\n",
       "    </tr>\n",
       "    <tr>\n",
       "      <th>1</th>\n",
       "      <td>1</td>\n",
       "      <td>33.166667</td>\n",
       "      <td>12.0</td>\n",
       "      <td>6.5</td>\n",
       "      <td>295.333333</td>\n",
       "      <td>0.026880</td>\n",
       "      <td>33.060749</td>\n",
       "      <td>6.099341</td>\n",
       "      <td>45.015237</td>\n",
       "    </tr>\n",
       "  </tbody>\n",
       "</table>\n",
       "</div>"
      ],
      "text/plain": [
       "   name         mu    Te  alpha        beta       tau      theta        SD  \\\n",
       "3     3  29.944444  36.0   18.5  550.444444  0.039421  29.920221  5.036571   \n",
       "2     2  30.509434  53.0   27.0  500.122642  0.041543  30.506495  4.906288   \n",
       "4     4  29.848485  33.0   17.0  508.621212  0.035147  29.828460  5.334050   \n",
       "0     0  32.777778   9.0    5.0   82.277778  0.058413  32.802593  4.137565   \n",
       "1     1  33.166667  12.0    6.5  295.333333  0.026880  33.060749  6.099341   \n",
       "\n",
       "       var95  \n",
       "3  39.791720  \n",
       "2  40.122643  \n",
       "4  40.283006  \n",
       "0  40.912071  \n",
       "1  45.015237  "
      ]
     },
     "execution_count": 5,
     "metadata": {},
     "output_type": "execute_result"
    }
   ],
   "source": [
    "cups = HandsTable(options_list=[*range(4+1)], minimize=True, rho=5)\n",
    "\n",
    "\n",
    "events = {\n",
    "    datetime(2024,11,9):(0, 32), # суббота 9 ноября\n",
    "    datetime(2024,11,10):(2, 33), # воскресенье 10 ноября\n",
    "    datetime(2024,11,12):(1, 35), # вторник 12 ноября\n",
    "    datetime(2024,11,13):(3, 34), # среда 13 ноября\n",
    "    datetime(2024,11,14):(4, 34), # четверг 14 ноября\n",
    "    datetime(2024,11,15):(3, 34), # пятница 15 ноября\n",
    "    datetime(2024,11,16):(1, 34), # суббота 16 ноября\n",
    "    datetime(2024,11,17):(1, 43), # воскресенье 17 ноября\n",
    "    datetime(2024,11,20):(4, 38), # wednesday 20 ноября\n",
    "    datetime(2024,11,21):(0, 36), # thursday 21 ноября\n",
    "    datetime(2024,11,22):(2, 33), # friday 22 ноября\n",
    "    datetime(2024,11,23):(0, 37), # sat 23 ноября\n",
    "    datetime(2024,11,24):(1, 32), # sun 24 ноября\n",
    "    datetime(2024,11,25):(2, 28), # mon 25 ноября\n",
    "    datetime(2024,11,26):(3, 29), # tue 26 ноября\n",
    "    datetime(2024,11,27):(3, 25), # wed 27 ноября\n",
    "    datetime(2024,11,28):(2, 30), # th 28 ноября\n",
    "    datetime(2024,11,29):(2, 29), # fr 29 ноября\n",
    "    datetime(2024,11,30):(2, 29), # sat 30 ноября\n",
    "    datetime(2024,12,1):(2, 33), # sun 1 dec\n",
    "    datetime(2024,12,2):(2, 24), # mon 2 dec\n",
    "    datetime(2024,12,3):(2, 25), # tue 3 dec\n",
    "    datetime(2024,12,4):(3, 25), # wed 4 dec\n",
    "    datetime(2024,12,5):(3, 29), # th 5 dec\n",
    "    datetime(2024,12,6):(1, 31), # fr 6 dec\n",
    "    datetime(2024,12,7):(0, 35), # sat 7 dec\n",
    "    datetime(2024,12,8):(0, 25), # sun 8 dec\n",
    "    datetime(2024,12,9):(2, 25), # mon 9 dec\n",
    "    datetime(2024,12,10):(3, 34), # tue 10 dec\n",
    "    datetime(2024,12,11):(2, 34), # wed 11 dec\n",
    "    datetime(2024,12,12):(2, 33), # th 12 dec\n",
    "    datetime(2024,12,13):(2, 28), # пт 13 dec\n",
    "    datetime(2024,12,14):(2, 37), # сб 14 dec\n",
    "    datetime(2024,12,15):(2, 32), # вс 15 dec\n",
    "    datetime(2024,12,16):(3, 32), # mon 16 dec\n",
    "    datetime(2024,12,17):(3, 27), # tue 17 dec\n",
    "    datetime(2024,12,18):(3, 28), # wed 18 dec\n",
    "    datetime(2024,12,19):(3, 28), # th 19 dec\n",
    "    datetime(2024,12,20):(3, 30), # fr 20 dec\n",
    "    datetime(2024,12,21):(3, 44), # sat 21 dec\n",
    "    datetime(2024,12,22):(2, 29), # sun 22 dec\n",
    "    datetime(2024,12,23):(2, 31), # mon 23 dec\n",
    "    datetime(2024,12,24):(2, 34), # tue 24 dec\n",
    "    datetime(2024,12,25):(2, 32), # wed 25 dec\n",
    "    datetime(2024,12,26):(4, 22), # thr 26 dec\n",
    "    datetime(2024,12,27):(4, 30), # fr 27 dec\n",
    "    datetime(2024,12,28):(2, 37), # sat 28 dec !\n",
    "    datetime(2024,12,29):(1, 29), # sun 29 dec !\n",
    "    datetime(2024,12,30):(2, 23), # mon 30 dec !\n",
    "    datetime(2024,12,31):(2, 26), # tue 31 dec !\n",
    "    datetime(2025,1,1):(2, 29), # wed 1 jan !\n",
    "    datetime(2025,1,2):(2, 26), # thr 2 jan !\n",
    "    datetime(2025,1,3):(0, 28), # fr 3 jan !\n",
    "    datetime(2025,1,4):(3, 27), # sat 4 jan !\n",
    "    datetime(2025,1,5):(4, 25), # sun 5 jan !\n",
    "    datetime(2025,1,6):(2, 35), # mon 6 jan !\n",
    "    datetime(2025,1,7):(3, 29), # tue 7 jan !\n",
    "    datetime(2025,1,8):(4, 37), # wed 8 jan !\n",
    "    datetime(2025,1,9):(3, 20), # thr 9 jan !\n",
    "    datetime(2025,1,10):(3, 27), # fr 10 jan !\n",
    "    datetime(2025,1,11):(1, 41), # sat 11 jan !\n",
    "    datetime(2025,1,12):(3, 32), # sun 12 jan !\n",
    "    datetime(2025,1,13):(3, 22), # mon 13 jan !\n",
    "    datetime(2025,1,14):(4, 21), # tue 14 jan !\n",
    "    datetime(2025,1,15):(3, 38), # wed 15 jan !\n",
    "    datetime(2025,1,16):(0, 33), # thr 16 jan !\n",
    "    datetime(2025,1,17):(3, 27), # fr 17 jan !\n",
    "    datetime(2025,1,18):(0, 39), # sat 18 jan !\n",
    "    datetime(2025,1,19):(2, 27), # sun 19 jan !\n",
    "    datetime(2025,1,20):(2, 32), # mon 20 jan !\n",
    "    datetime(2025,1,21):(2, 28), # tue 21 jan !\n",
    "    datetime(2025,1,22):(4, 29), # wed 22 jan !\n",
    "    datetime(2025,1,23):(3, 35), # thr 23 jan !\n",
    "    datetime(2025,1,24):(2, 31), # fr 24 jan !\n",
    "    datetime(2025,1,25):(2, 40), # sat 25 jan !\n",
    "    datetime(2025,1,26):(3, 22), # sun 26 jan !\n",
    "    datetime(2025, 1, 27): (4, 31),\n",
    "    datetime(2025, 1, 28): (4, 25),\n",
    "    datetime(2025, 1, 29): (4, 35),\n",
    "    datetime(2025, 1, 30): (2, 29),\n",
    "    datetime(2025, 1, 31): (3, 26),\n",
    "    datetime(2025, 2, 1): (2, 34),\n",
    "    datetime(2025, 2, 2): (2, 29),\n",
    "    datetime(2025, 2, 3): (2, 32),\n",
    "    datetime(2025, 2, 4): (3, 31),\n",
    "    datetime(2025, 2, 5): (2, 31),\n",
    "    datetime(2025, 2, 6): (2, 25),\n",
    "    datetime(2025, 2, 7): (4, 26),\n",
    "    datetime(2025, 2, 8): (2, 35),\n",
    "    datetime(2025, 2, 9): (2, 33),\n",
    "    datetime(2025, 2, 10): (3, 35),\n",
    "    datetime(2025, 2, 11): (3, 33),\n",
    "    datetime(2025, 2, 12): (2, 35),\n",
    "    datetime(2025, 2, 13): (4, 26),\n",
    "    datetime(2025, 2, 14): (2, 35),\n",
    "    datetime(2025, 2, 15): (4, 30),\n",
    "    datetime(2025, 2, 16): (3, 43),\n",
    "    datetime(2025, 2, 17): (2, 38),\n",
    "    datetime(2025, 2, 18): (4, 25),\n",
    "    datetime(2025, 2, 19): (4, 33),\n",
    "    datetime(2025, 2, 20): (3, 28),\n",
    "    datetime(2025, 2, 21): (4, 38),\n",
    "    datetime(2025, 2, 22): (2, 34),\n",
    "    datetime(2025, 2, 23): (3, 34),\n",
    "    datetime(2025, 2, 24): (4, 27),\n",
    "    datetime(2025, 2, 25): (4, 25),\n",
    "    datetime(2025, 2, 26): (4, 26),\n",
    "    datetime(2025, 2, 27): (2, 25),\n",
    "    datetime(2025, 2, 28): (4, 27),\n",
    "    datetime(2025, 3, 1): (3, 37),\n",
    "    datetime(2025, 3, 2): (4, 39),\n",
    "    datetime(2025, 3, 3): (2, 33),\n",
    "    datetime(2025, 3, 4): (0, 30),\n",
    "    datetime(2025, 3, 5): (3, 25),\n",
    "    datetime(2025, 3, 6): (1, 30),\n",
    "    datetime(2025, 3, 7): (1, 32),\n",
    "    datetime(2025, 3, 8): (4, 39),\n",
    "    datetime(2025, 3, 9): (2, 29),\n",
    "    datetime(2025, 3,10): (2, 26),\n",
    "    datetime(2025, 3,11): (4, 26),\n",
    "    datetime(2025, 3,12): (3, 30),\n",
    "    datetime(2025, 3,13): (3, 26),\n",
    "    datetime(2025, 3,14): (4, 26),\n",
    "    datetime(2025, 3,15): (4, 38),\n",
    "    datetime(2025, 3,16): (2, 33),\n",
    "    datetime(2025, 3,17): (4, 23),\n",
    "    datetime(2025, 3,18): (1, 23),\n",
    "    datetime(2025, 3,19): (2, 27),\n",
    "    datetime(2025, 3,20): (2, 25),\n",
    "    datetime(2025, 3,21): (4, 32),\n",
    "    datetime(2025, 3,22): (4, 24),\n",
    "    datetime(2025, 3,23): (4, 36),\n",
    "    datetime(2025, 3,24): (2, 28),\n",
    "    datetime(2025, 3,25): (2, 24),\n",
    "    datetime(2025, 3,26): (4, 36),\n",
    "    datetime(2025, 3,27): (4, 33),\n",
    "    datetime(2025, 3,28): (2, 41),\n",
    "    datetime(2025, 3,29): (1, 46),\n",
    "    datetime(2025, 3,30): (3, 32),\n",
    "    datetime(2025, 3,31): (1, 22),\n",
    "    datetime(2025, 4, 1): (3, 20),\n",
    "    datetime(2025, 4, 2): (2, 23),\n",
    "    datetime(2025, 4, 3): (4, 23)\n",
    "\n",
    "}\n",
    "\n",
    "oldest_ok = max(events)-timedelta(days=360)\n",
    "print(oldest_ok)\n",
    "\n",
    "# Process events within the class\n",
    "cups.process_events(events, days=360)\n"
   ]
  },
  {
   "cell_type": "markdown",
   "id": "75ad26d2",
   "metadata": {
    "papermill": {
     "duration": 0.004145,
     "end_time": "2025-04-04T07:42:01.538495",
     "exception": false,
     "start_time": "2025-04-04T07:42:01.53435",
     "status": "completed"
    },
    "tags": []
   },
   "source": [
    "# Количество кофе и стресс"
   ]
  },
  {
   "cell_type": "code",
   "execution_count": 6,
   "id": "f8850da4",
   "metadata": {
    "execution": {
     "iopub.execute_input": "2025-04-04T07:42:01.548817Z",
     "iopub.status.busy": "2025-04-04T07:42:01.548426Z",
     "iopub.status.idle": "2025-04-04T07:42:32.880315Z",
     "shell.execute_reply": "2025-04-04T07:42:32.878787Z"
    },
    "papermill": {
     "duration": 31.339918,
     "end_time": "2025-04-04T07:42:32.882728",
     "exception": false,
     "start_time": "2025-04-04T07:42:01.54281",
     "status": "completed"
    },
    "tags": []
   },
   "outputs": [
    {
     "name": "stderr",
     "output_type": "stream",
     "text": [
      "100%|██████████| 10000/10000 [00:09<00:00, 1054.93it/s]\n"
     ]
    },
    {
     "data": {
      "image/png": "[encoded data removed]",
      "text/plain": [
       "<Figure size 640x480 with 1 Axes>"
      ]
     },
     "metadata": {},
     "output_type": "display_data"
    },
    {
     "data": {
      "text/html": [
       "<div>\n",
       "<style scoped>\n",
       "    .dataframe tbody tr th:only-of-type {\n",
       "        vertical-align: middle;\n",
       "    }\n",
       "\n",
       "    .dataframe tbody tr th {\n",
       "        vertical-align: top;\n",
       "    }\n",
       "\n",
       "    .dataframe thead th {\n",
       "        text-align: right;\n",
       "    }\n",
       "</style>\n",
       "<table border=\"1\" class=\"dataframe\">\n",
       "  <thead>\n",
       "    <tr style=\"text-align: right;\">\n",
       "      <th></th>\n",
       "      <th>variant</th>\n",
       "      <th>prob</th>\n",
       "    </tr>\n",
       "  </thead>\n",
       "  <tbody>\n",
       "    <tr>\n",
       "      <th>3</th>\n",
       "      <td>0</td>\n",
       "      <td>0.0496</td>\n",
       "    </tr>\n",
       "    <tr>\n",
       "      <th>0</th>\n",
       "      <td>2</td>\n",
       "      <td>0.7453</td>\n",
       "    </tr>\n",
       "    <tr>\n",
       "      <th>1</th>\n",
       "      <td>3</td>\n",
       "      <td>0.0936</td>\n",
       "    </tr>\n",
       "    <tr>\n",
       "      <th>2</th>\n",
       "      <td>4</td>\n",
       "      <td>0.1115</td>\n",
       "    </tr>\n",
       "  </tbody>\n",
       "</table>\n",
       "</div>"
      ],
      "text/plain": [
       "   variant    prob\n",
       "3        0  0.0496\n",
       "0        2  0.7453\n",
       "1        3  0.0936\n",
       "2        4  0.1115"
      ]
     },
     "execution_count": 6,
     "metadata": {},
     "output_type": "execute_result"
    }
   ],
   "source": [
    "\n",
    "results = defaultdict(int)\n",
    "for i in tqdm(range(10000)):\n",
    "    i_res = cups.grade()\n",
    "    i_var = int(i_res.iloc[0]['name'])\n",
    "    results[i_var] += 1\n",
    "\n",
    "variants_proba_current = pd.DataFrame(results.items(), columns=['variant', 'prob'])\n",
    "variants_proba_current['prob'] = variants_proba_current['prob']/sum(variants_proba_current['prob'])\n",
    "variants_proba_current = variants_proba_current.sort_values('variant')\n",
    "\n",
    "plt.bar(variants_proba_current['variant'], variants_proba_current['prob'], align='center')\n",
    "\n",
    "plt.show()\n",
    "variants_proba_current"
   ]
  },
  {
   "cell_type": "code",
   "execution_count": 7,
   "id": "ac55f2da",
   "metadata": {
    "execution": {
     "iopub.execute_input": "2025-04-04T07:42:32.926558Z",
     "iopub.status.busy": "2025-04-04T07:42:32.926153Z",
     "iopub.status.idle": "2025-04-04T07:42:35.325273Z",
     "shell.execute_reply": "2025-04-04T07:42:35.3241Z"
    },
    "papermill": {
     "duration": 2.424702,
     "end_time": "2025-04-04T07:42:35.327896",
     "exception": false,
     "start_time": "2025-04-04T07:42:32.903194",
     "status": "completed"
    },
    "tags": []
   },
   "outputs": [
    {
     "data": {
      "application/vnd.plotly.v1+json": {
       "config": {
        "plotlyServerURL": "https://plot.ly"
       },
       "data": [
        {
         "alignmentgroup": "True",
         "box": {
          "visible": true
         },
         "hovertemplate": "option=%{x}<br>value=%{y}<extra></extra>",
         "legendgroup": "",
         "marker": {
          "color": "#636efa"
         },
         "name": "",
         "offsetgroup": "",
         "orientation": "v",
         "points": "all",
         "scalegroup": "True",
         "showlegend": false,
         "type": "violin",
         "x": {
          "bdata": "AAIBAwQDAQEEAAIAAQIDAwICAgICAgMDAQAAAgMCAgICAgMDAwMDAwICAgIEBAIBAgICAgADBAIDBAMDAQMDBAMAAwACAgIEAwICAwQEBAIDAgICAwICBAICAwMCBAIEAwIEBAMEAgMEBAQCBAMEAgADAQEEAgIEAwMEBAIEAQICBAQEAgIEBAIBAwEDAgQ=",
          "dtype": "i1"
         },
         "x0": " ",
         "xaxis": "x",
         "y": {
          "bdata": "ICEjIiIiIismJCElIBwdGR4dHSEYGRkdHyMZGSIiIRwlICAbHBweLB0fIiAWHiUdFxodGhwbGSMdJRQbKSAWFSYhGycbIBwdIx8oFh8ZIx0aIh0gHx8ZGiMhIyEjGiMeKyYZIRwmIiIbGRoZGyUnIR4ZHiAnHRoaHhoaJiEXFxsZIBgkHBgkISkuIBYUFxc=",
          "dtype": "i1"
         },
         "y0": " ",
         "yaxis": "y"
        }
       ],
       "layout": {
        "legend": {
         "tracegroupgap": 0
        },
        "margin": {
         "t": 60
        },
        "template": {
         "data": {
          "bar": [
           {
            "error_x": {
             "color": "#2a3f5f"
            },
            "error_y": {
             "color": "#2a3f5f"
            },
            "marker": {
             "line": {
              "color": "#E5ECF6",
              "width": 0.5
             },
             "pattern": {
              "fillmode": "overlay",
              "size": 10,
              "solidity": 0.2
             }
            },
            "type": "bar"
           }
          ],
          "barpolar": [
           {
            "marker": {
             "line": {
              "color": "#E5ECF6",
              "width": 0.5
             },
             "pattern": {
              "fillmode": "overlay",
              "size": 10,
              "solidity": 0.2
             }
            },
            "type": "barpolar"
           }
          ],
          "carpet": [
           {
            "aaxis": {
             "endlinecolor": "#2a3f5f",
             "gridcolor": "white",
             "linecolor": "white",
             "minorgridcolor": "white",
             "startlinecolor": "#2a3f5f"
            },
            "baxis": {
             "endlinecolor": "#2a3f5f",
             "gridcolor": "white",
             "linecolor": "white",
             "minorgridcolor": "white",
             "startlinecolor": "#2a3f5f"
            },
            "type": "carpet"
           }
          ],
          "choropleth": [
           {
            "colorbar": {
             "outlinewidth": 0,
             "ticks": ""
            },
            "type": "choropleth"
           }
          ],
          "contour": [
           {
            "colorbar": {
             "outlinewidth": 0,
             "ticks": ""
            },
            "colorscale": [
             [
              0,
              "#0d0887"
             ],
             [
              0.1111111111111111,
              "#46039f"
             ],
             [
              0.2222222222222222,
              "#7201a8"
             ],
             [
              0.3333333333333333,
              "#9c179e"
             ],
             [
              0.4444444444444444,
              "#bd3786"
             ],
             [
              0.5555555555555556,
              "#d8576b"
             ],
             [
              0.6666666666666666,
              "#ed7953"
             ],
             [
              0.7777777777777778,
              "#fb9f3a"
             ],
             [
              0.8888888888888888,
              "#fdca26"
             ],
             [
              1,
              "#f0f921"
             ]
            ],
            "type": "contour"
           }
          ],
          "contourcarpet": [
           {
            "colorbar": {
             "outlinewidth": 0,
             "ticks": ""
            },
            "type": "contourcarpet"
           }
          ],
          "heatmap": [
           {
            "colorbar": {
             "outlinewidth": 0,
             "ticks": ""
            },
            "colorscale": [
             [
              0,
              "#0d0887"
             ],
             [
              0.1111111111111111,
              "#46039f"
             ],
             [
              0.2222222222222222,
              "#7201a8"
             ],
             [
              0.3333333333333333,
              "#9c179e"
             ],
             [
              0.4444444444444444,
              "#bd3786"
             ],
             [
              0.5555555555555556,
              "#d8576b"
             ],
             [
              0.6666666666666666,
              "#ed7953"
             ],
             [
              0.7777777777777778,
              "#fb9f3a"
             ],
             [
              0.8888888888888888,
              "#fdca26"
             ],
             [
              1,
              "#f0f921"
             ]
            ],
            "type": "heatmap"
           }
          ],
          "histogram": [
           {
            "marker": {
             "pattern": {
              "fillmode": "overlay",
              "size": 10,
              "solidity": 0.2
             }
            },
            "type": "histogram"
           }
          ],
          "histogram2d": [
           {
            "colorbar": {
             "outlinewidth": 0,
             "ticks": ""
            },
            "colorscale": [
             [
              0,
              "#0d0887"
             ],
             [
              0.1111111111111111,
              "#46039f"
             ],
             [
              0.2222222222222222,
              "#7201a8"
             ],
             [
              0.3333333333333333,
              "#9c179e"
             ],
             [
              0.4444444444444444,
              "#bd3786"
             ],
             [
              0.5555555555555556,
              "#d8576b"
             ],
             [
              0.6666666666666666,
              "#ed7953"
             ],
             [
              0.7777777777777778,
              "#fb9f3a"
             ],
             [
              0.8888888888888888,
              "#fdca26"
             ],
             [
              1,
              "#f0f921"
             ]
            ],
            "type": "histogram2d"
           }
          ],
          "histogram2dcontour": [
           {
            "colorbar": {
             "outlinewidth": 0,
             "ticks": ""
            },
            "colorscale": [
             [
              0,
              "#0d0887"
             ],
             [
              0.1111111111111111,
              "#46039f"
             ],
             [
              0.2222222222222222,
              "#7201a8"
             ],
             [
              0.3333333333333333,
              "#9c179e"
             ],
             [
              0.4444444444444444,
              "#bd3786"
             ],
             [
              0.5555555555555556,
              "#d8576b"
             ],
             [
              0.6666666666666666,
              "#ed7953"
             ],
             [
              0.7777777777777778,
              "#fb9f3a"
             ],
             [
              0.8888888888888888,
              "#fdca26"
             ],
             [
              1,
              "#f0f921"
             ]
            ],
            "type": "histogram2dcontour"
           }
          ],
          "mesh3d": [
           {
            "colorbar": {
             "outlinewidth": 0,
             "ticks": ""
            },
            "type": "mesh3d"
           }
          ],
          "parcoords": [
           {
            "line": {
             "colorbar": {
              "outlinewidth": 0,
              "ticks": ""
             }
            },
            "type": "parcoords"
           }
          ],
          "pie": [
           {
            "automargin": true,
            "type": "pie"
           }
          ],
          "scatter": [
           {
            "fillpattern": {
             "fillmode": "overlay",
             "size": 10,
             "solidity": 0.2
            },
            "type": "scatter"
           }
          ],
          "scatter3d": [
           {
            "line": {
             "colorbar": {
              "outlinewidth": 0,
              "ticks": ""
             }
            },
            "marker": {
             "colorbar": {
              "outlinewidth": 0,
              "ticks": ""
             }
            },
            "type": "scatter3d"
           }
          ],
          "scattercarpet": [
           {
            "marker": {
             "colorbar": {
              "outlinewidth": 0,
              "ticks": ""
             }
            },
            "type": "scattercarpet"
           }
          ],
          "scattergeo": [
           {
            "marker": {
             "colorbar": {
              "outlinewidth": 0,
              "ticks": ""
             }
            },
            "type": "scattergeo"
           }
          ],
          "scattergl": [
           {
            "marker": {
             "colorbar": {
              "outlinewidth": 0,
              "ticks": ""
             }
            },
            "type": "scattergl"
           }
          ],
          "scattermap": [
           {
            "marker": {
             "colorbar": {
              "outlinewidth": 0,
              "ticks": ""
             }
            },
            "type": "scattermap"
           }
          ],
          "scattermapbox": [
           {
            "marker": {
             "colorbar": {
              "outlinewidth": 0,
              "ticks": ""
             }
            },
            "type": "scattermapbox"
           }
          ],
          "scatterpolar": [
           {
            "marker": {
             "colorbar": {
              "outlinewidth": 0,
              "ticks": ""
             }
            },
            "type": "scatterpolar"
           }
          ],
          "scatterpolargl": [
           {
            "marker": {
             "colorbar": {
              "outlinewidth": 0,
              "ticks": ""
             }
            },
            "type": "scatterpolargl"
           }
          ],
          "scatterternary": [
           {
            "marker": {
             "colorbar": {
              "outlinewidth": 0,
              "ticks": ""
             }
            },
            "type": "scatterternary"
           }
          ],
          "surface": [
           {
            "colorbar": {
             "outlinewidth": 0,
             "ticks": ""
            },
            "colorscale": [
             [
              0,
              "#0d0887"
             ],
             [
              0.1111111111111111,
              "#46039f"
             ],
             [
              0.2222222222222222,
              "#7201a8"
             ],
             [
              0.3333333333333333,
              "#9c179e"
             ],
             [
              0.4444444444444444,
              "#bd3786"
             ],
             [
              0.5555555555555556,
              "#d8576b"
             ],
             [
              0.6666666666666666,
              "#ed7953"
             ],
             [
              0.7777777777777778,
              "#fb9f3a"
             ],
             [
              0.8888888888888888,
              "#fdca26"
             ],
             [
              1,
              "#f0f921"
             ]
            ],
            "type": "surface"
           }
          ],
          "table": [
           {
            "cells": {
             "fill": {
              "color": "#EBF0F8"
             },
             "line": {
              "color": "white"
             }
            },
            "header": {
             "fill": {
              "color": "#C8D4E3"
             },
             "line": {
              "color": "white"
             }
            },
            "type": "table"
           }
          ]
         },
         "layout": {
          "annotationdefaults": {
           "arrowcolor": "#2a3f5f",
           "arrowhead": 0,
           "arrowwidth": 1
          },
          "autotypenumbers": "strict",
          "coloraxis": {
           "colorbar": {
            "outlinewidth": 0,
            "ticks": ""
           }
          },
          "colorscale": {
           "diverging": [
            [
             0,
             "#8e0152"
            ],
            [
             0.1,
             "#c51b7d"
            ],
            [
             0.2,
             "#de77ae"
            ],
            [
             0.3,
             "#f1b6da"
            ],
            [
             0.4,
             "#fde0ef"
            ],
            [
             0.5,
             "#f7f7f7"
            ],
            [
             0.6,
             "#e6f5d0"
            ],
            [
             0.7,
             "#b8e186"
            ],
            [
             0.8,
             "#7fbc41"
            ],
            [
             0.9,
             "#4d9221"
            ],
            [
             1,
             "#276419"
            ]
           ],
           "sequential": [
            [
             0,
             "#0d0887"
            ],
            [
             0.1111111111111111,
             "#46039f"
            ],
            [
             0.2222222222222222,
             "#7201a8"
            ],
            [
             0.3333333333333333,
             "#9c179e"
            ],
            [
             0.4444444444444444,
             "#bd3786"
            ],
            [
             0.5555555555555556,
             "#d8576b"
            ],
            [
             0.6666666666666666,
             "#ed7953"
            ],
            [
             0.7777777777777778,
             "#fb9f3a"
            ],
            [
             0.8888888888888888,
             "#fdca26"
            ],
            [
             1,
             "#f0f921"
            ]
           ],
           "sequentialminus": [
            [
             0,
             "#0d0887"
            ],
            [
             0.1111111111111111,
             "#46039f"
            ],
            [
             0.2222222222222222,
             "#7201a8"
            ],
            [
             0.3333333333333333,
             "#9c179e"
            ],
            [
             0.4444444444444444,
             "#bd3786"
            ],
            [
             0.5555555555555556,
             "#d8576b"
            ],
            [
             0.6666666666666666,
             "#ed7953"
            ],
            [
             0.7777777777777778,
             "#fb9f3a"
            ],
            [
             0.8888888888888888,
             "#fdca26"
            ],
            [
             1,
             "#f0f921"
            ]
           ]
          },
          "colorway": [
           "#636efa",
           "#EF553B",
           "#00cc96",
           "#ab63fa",
           "#FFA15A",
           "#19d3f3",
           "#FF6692",
           "#B6E880",
           "#FF97FF",
           "#FECB52"
          ],
          "font": {
           "color": "#2a3f5f"
          },
          "geo": {
           "bgcolor": "white",
           "lakecolor": "white",
           "landcolor": "#E5ECF6",
           "showlakes": true,
           "showland": true,
           "subunitcolor": "white"
          },
          "hoverlabel": {
           "align": "left"
          },
          "hovermode": "closest",
          "mapbox": {
           "style": "light"
          },
          "paper_bgcolor": "white",
          "plot_bgcolor": "#E5ECF6",
          "polar": {
           "angularaxis": {
            "gridcolor": "white",
            "linecolor": "white",
            "ticks": ""
           },
           "bgcolor": "#E5ECF6",
           "radialaxis": {
            "gridcolor": "white",
            "linecolor": "white",
            "ticks": ""
           }
          },
          "scene": {
           "xaxis": {
            "backgroundcolor": "#E5ECF6",
            "gridcolor": "white",
            "gridwidth": 2,
            "linecolor": "white",
            "showbackground": true,
            "ticks": "",
            "zerolinecolor": "white"
           },
           "yaxis": {
            "backgroundcolor": "#E5ECF6",
            "gridcolor": "white",
            "gridwidth": 2,
            "linecolor": "white",
            "showbackground": true,
            "ticks": "",
            "zerolinecolor": "white"
           },
           "zaxis": {
            "backgroundcolor": "#E5ECF6",
            "gridcolor": "white",
            "gridwidth": 2,
            "linecolor": "white",
            "showbackground": true,
            "ticks": "",
            "zerolinecolor": "white"
           }
          },
          "shapedefaults": {
           "line": {
            "color": "#2a3f5f"
           }
          },
          "ternary": {
           "aaxis": {
            "gridcolor": "white",
            "linecolor": "white",
            "ticks": ""
           },
           "baxis": {
            "gridcolor": "white",
            "linecolor": "white",
            "ticks": ""
           },
           "bgcolor": "#E5ECF6",
           "caxis": {
            "gridcolor": "white",
            "linecolor": "white",
            "ticks": ""
           }
          },
          "title": {
           "x": 0.05
          },
          "xaxis": {
           "automargin": true,
           "gridcolor": "white",
           "linecolor": "white",
           "ticks": "",
           "title": {
            "standoff": 15
           },
           "zerolinecolor": "white",
           "zerolinewidth": 2
          },
          "yaxis": {
           "automargin": true,
           "gridcolor": "white",
           "linecolor": "white",
           "ticks": "",
           "title": {
            "standoff": 15
           },
           "zerolinecolor": "white",
           "zerolinewidth": 2
          }
         }
        },
        "violinmode": "group",
        "xaxis": {
         "anchor": "y",
         "domain": [
          0,
          1
         ],
         "title": {
          "text": "option"
         }
        },
        "yaxis": {
         "anchor": "x",
         "domain": [
          0,
          1
         ],
         "title": {
          "text": "value"
         }
        }
       }
      }
     },
     "metadata": {},
     "output_type": "display_data"
    }
   ],
   "source": [
    "\n",
    "fig = px.violin(cups.history, y=\"value\", x=\"option\", box=True, points=\"all\",\n",
    "          hover_data=cups.history.columns)\n",
    "fig.show()"
   ]
  },
  {
   "cell_type": "code",
   "execution_count": 8,
   "id": "b589dad2",
   "metadata": {
    "execution": {
     "iopub.execute_input": "2025-04-04T07:42:35.373225Z",
     "iopub.status.busy": "2025-04-04T07:42:35.372457Z",
     "iopub.status.idle": "2025-04-04T07:42:35.828234Z",
     "shell.execute_reply": "2025-04-04T07:42:35.826996Z"
    },
    "papermill": {
     "duration": 0.482266,
     "end_time": "2025-04-04T07:42:35.83107",
     "exception": false,
     "start_time": "2025-04-04T07:42:35.348804",
     "status": "completed"
    },
    "tags": []
   },
   "outputs": [
    {
     "data": {
      "image/png": "[encoded data removed]",
      "text/plain": [
       "<Figure size 1000x600 with 1 Axes>"
      ]
     },
     "metadata": {},
     "output_type": "display_data"
    }
   ],
   "source": [
    "\n",
    "grouped_data = [group['value'].values for name, group in cups.history.groupby('option')]\n",
    "fix, ax = plt.subplots(figsize=(10, 6))\n",
    "sns.violinplot(x='option', y='value', data=cups.history, ax=ax)\n",
    "ax.set_title('Violin plot of daly stress distribution for different cups of coffee')\n",
    "ax.set_xlabel('Cups of coffee')\n",
    "ax.set_ylabel('Garmin daily stress')\n",
    "plt.tight_layout()\n",
    "plt.show()"
   ]
  }
 ],
 "metadata": {
  "kaggle": {
   "accelerator": "none",
   "dataSources": [],
   "dockerImageVersionId": 30786,
   "isGpuEnabled": false,
   "isInternetEnabled": true,
   "language": "python",
   "sourceType": "notebook"
  },
  "kernelspec": {
   "display_name": "venv",
   "language": "python",
   "name": "python3"
  },
  "language_info": {
   "codemirror_mode": {
    "name": "ipython",
    "version": 3
   },
   "file_extension": ".py",
   "mimetype": "text/x-python",
   "name": "python",
   "nbconvert_exporter": "python",
   "pygments_lexer": "ipython3",
   "version": "3.9.6"
  },
  "papermill": {
   "default_parameters": {},
   "duration": 43.69301,
   "end_time": "2025-04-04T07:42:37.429858",
   "environment_variables": {},
   "exception": null,
   "input_path": "__notebook__.ipynb",
   "output_path": "__notebook__.ipynb",
   "parameters": {},
   "start_time": "2025-04-04T07:41:53.736848",
   "version": "2.6.0"
  }
 },
 "nbformat": 4,
 "nbformat_minor": 5
}
