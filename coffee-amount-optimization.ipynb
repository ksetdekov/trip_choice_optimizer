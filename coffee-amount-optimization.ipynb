{
 "cells": [
  {
   "cell_type": "markdown",
   "id": "ed228613",
   "metadata": {
    "papermill": {
     "duration": 0.003323,
     "end_time": "2024-11-28T07:14:23.565132",
     "exception": false,
     "start_time": "2024-11-28T07:14:23.561809",
     "status": "completed"
    },
    "tags": []
   },
   "source": [
    "# Ноутбук для подбора количества кофе, которое минимизирует стресс"
   ]
  },
  {
   "cell_type": "markdown",
   "id": "50069edf",
   "metadata": {
    "papermill": {
     "duration": 0.002688,
     "end_time": "2024-11-28T07:14:23.570980",
     "exception": false,
     "start_time": "2024-11-28T07:14:23.568292",
     "status": "completed"
    },
    "tags": []
   },
   "source": [
    "## main class"
   ]
  },
  {
   "cell_type": "code",
   "execution_count": 1,
   "id": "0f830ab3",
   "metadata": {
    "execution": {
     "iopub.execute_input": "2024-11-28T07:14:23.578451Z",
     "iopub.status.busy": "2024-11-28T07:14:23.578057Z",
     "iopub.status.idle": "2024-11-28T07:14:25.384316Z",
     "shell.execute_reply": "2024-11-28T07:14:25.383400Z"
    },
    "papermill": {
     "duration": 1.812914,
     "end_time": "2024-11-28T07:14:25.386618",
     "exception": false,
     "start_time": "2024-11-28T07:14:23.573704",
     "status": "completed"
    },
    "tags": []
   },
   "outputs": [],
   "source": [
    "import pandas as pd\n",
    "import numpy as np\n",
    "from scipy.stats import gamma, norm\n",
    "\n",
    "\n",
    "class HandsTable():\n",
    "    minimize = True\n",
    "    rho = 3.37\n",
    "\n",
    "    def __init__(self, options_list, minimize=True, rho=1.0):\n",
    "        \"\"\"инициализация\n",
    "\n",
    "        Args:\n",
    "            options_list (list): список из названий\n",
    "            minimize (bool, optional): Минимизировать если True, максимизировать если False. Defaults to True.\n",
    "            rho (float, optional): Риск толерантность, чем больше, тем больше риска готовы принять. Defaults to 1.0.\n",
    "        \"\"\"\n",
    "        self.hands = pd.DataFrame({'name': options_list,\n",
    "                                   'mu': 0.0,\n",
    "                                   'Te': 0.0,\n",
    "                                   'alpha': 0.5,\n",
    "                                   'beta': 0.5\n",
    "                                   })\n",
    "        self.minimize = minimize\n",
    "        if rho is not None:\n",
    "            self.rho = rho\n",
    "\n",
    "        self.history = pd.DataFrame(columns=['option', 'value'])\n",
    "\n",
    "    @classmethod\n",
    "    def to_minutes(self, timestr: str):\n",
    "        '''\n",
    "        convert timestr to float minutes\n",
    "        '''\n",
    "        return pd.to_timedelta(timestr).total_seconds()/60\n",
    "\n",
    "    @classmethod\n",
    "    def update_mean(self, X, T_last, mu_last):\n",
    "        mu_new = T_last * mu_last / (T_last + 1) + X / (T_last + 1)\n",
    "        return mu_new\n",
    "\n",
    "    @classmethod\n",
    "    def update_samples(self, T):\n",
    "        return T + 1\n",
    "\n",
    "    @classmethod\n",
    "    def update_shape(self, a):\n",
    "        return a + 0.5\n",
    "\n",
    "    @classmethod\n",
    "    def update_rate(self, X, mu_last, beta_last, T_last):\n",
    "        beta_new = beta_last + (T_last / (T_last + 1)) * \\\n",
    "            (np.square(X - mu_last)) / 2\n",
    "        return beta_new\n",
    "\n",
    "    def update_hands(self, name, value):\n",
    "        if isinstance(value, str):\n",
    "            try:\n",
    "                value = HandsTable.to_minutes(value)\n",
    "            except ValueError:\n",
    "                raise ValueError('input time string in hh:mm:ss format')\n",
    "        elif isinstance(value, float) or isinstance(value, int):\n",
    "            pass\n",
    "        else:\n",
    "            raise ValueError('input time string or int/float value')\n",
    "\n",
    "        _, mu, t, alpha, beta = self.hands[self.hands.name == name].values[0]\n",
    "        beta = HandsTable.update_rate(value, mu, beta, t)\n",
    "        mu = HandsTable.update_mean(value, t, mu)\n",
    "        t = HandsTable.update_samples(t)\n",
    "        alpha = HandsTable.update_shape(alpha)\n",
    "\n",
    "        # added code to write history\n",
    "        self.history.loc[len(self.history.index)] = [name, value]\n",
    "\n",
    "        self.hands.loc[self.hands.name == name, 'mu'] = mu\n",
    "        self.hands.loc[self.hands.name == name, 'Te'] = t\n",
    "        self.hands.loc[self.hands.name == name, 'alpha'] = alpha\n",
    "        self.hands.loc[self.hands.name == name, 'beta'] = beta\n",
    "\n",
    "    def grade(self):\n",
    "        hands_output = self.hands.copy()\n",
    "        tau = gamma.rvs(a=hands_output.alpha, scale=1/hands_output.beta)\n",
    "        theta_drops = norm.rvs(hands_output.mu, 1/hands_output.Te)\n",
    "        hands_output['tau'] = tau\n",
    "        hands_output['theta'] = theta_drops\n",
    "        hands_output['SD'] = np.sqrt(1/tau)\n",
    "\n",
    "        if self.minimize == True:\n",
    "            hands_output['var95'] = theta_drops + \\\n",
    "                norm.ppf(1-0.05/2) * hands_output.SD\n",
    "            if hands_output.mu.min() == 0:\n",
    "\n",
    "                output_df = hands_output.reindex(np.argsort(hands_output.Te))\n",
    "            else:\n",
    "                output_df = hands_output.reindex(\n",
    "                    np.argsort(self.rho * theta_drops + 1/tau))\n",
    "        else:\n",
    "            hands_output['var95'] = theta_drops + \\\n",
    "                norm.ppf(0.05/2) * hands_output.SD\n",
    "            if hands_output.mu.min() == 0:\n",
    "                output_df = hands_output.reindex(np.argsort(hands_output.Te))\n",
    "            else:\n",
    "                output_df = hands_output.reindex(\n",
    "                    np.argsort(self.rho * theta_drops - 1/tau)[::-1])\n",
    "\n",
    "        return output_df\n",
    "\n",
    "    def __str__(self):\n",
    "        return repr(self.hands)"
   ]
  },
  {
   "cell_type": "markdown",
   "id": "91137a2b",
   "metadata": {
    "papermill": {
     "duration": 0.002437,
     "end_time": "2024-11-28T07:14:25.392065",
     "exception": false,
     "start_time": "2024-11-28T07:14:25.389628",
     "status": "completed"
    },
    "tags": []
   },
   "source": [
    "# Применение"
   ]
  },
  {
   "cell_type": "code",
   "execution_count": 2,
   "id": "7950c108",
   "metadata": {
    "execution": {
     "iopub.execute_input": "2024-11-28T07:14:25.399166Z",
     "iopub.status.busy": "2024-11-28T07:14:25.398649Z",
     "iopub.status.idle": "2024-11-28T07:14:25.499730Z",
     "shell.execute_reply": "2024-11-28T07:14:25.498619Z"
    },
    "papermill": {
     "duration": 0.107022,
     "end_time": "2024-11-28T07:14:25.501807",
     "exception": false,
     "start_time": "2024-11-28T07:14:25.394785",
     "status": "completed"
    },
    "tags": []
   },
   "outputs": [
    {
     "data": {
      "text/html": [
       "<div>\n",
       "<style scoped>\n",
       "    .dataframe tbody tr th:only-of-type {\n",
       "        vertical-align: middle;\n",
       "    }\n",
       "\n",
       "    .dataframe tbody tr th {\n",
       "        vertical-align: top;\n",
       "    }\n",
       "\n",
       "    .dataframe thead th {\n",
       "        text-align: right;\n",
       "    }\n",
       "</style>\n",
       "<table border=\"1\" class=\"dataframe\">\n",
       "  <thead>\n",
       "    <tr style=\"text-align: right;\">\n",
       "      <th></th>\n",
       "      <th>name</th>\n",
       "      <th>mu</th>\n",
       "      <th>Te</th>\n",
       "      <th>alpha</th>\n",
       "      <th>beta</th>\n",
       "      <th>tau</th>\n",
       "      <th>theta</th>\n",
       "      <th>SD</th>\n",
       "      <th>var95</th>\n",
       "    </tr>\n",
       "  </thead>\n",
       "  <tbody>\n",
       "    <tr>\n",
       "      <th>0</th>\n",
       "      <td>0</td>\n",
       "      <td>35.0</td>\n",
       "      <td>3.0</td>\n",
       "      <td>2.0</td>\n",
       "      <td>7.5</td>\n",
       "      <td>0.328108</td>\n",
       "      <td>35.130045</td>\n",
       "      <td>1.745788</td>\n",
       "      <td>38.551727</td>\n",
       "    </tr>\n",
       "    <tr>\n",
       "      <th>3</th>\n",
       "      <td>3</td>\n",
       "      <td>30.5</td>\n",
       "      <td>4.0</td>\n",
       "      <td>2.5</td>\n",
       "      <td>29.0</td>\n",
       "      <td>0.110567</td>\n",
       "      <td>30.988386</td>\n",
       "      <td>3.007378</td>\n",
       "      <td>36.882739</td>\n",
       "    </tr>\n",
       "    <tr>\n",
       "      <th>1</th>\n",
       "      <td>1</td>\n",
       "      <td>36.0</td>\n",
       "      <td>4.0</td>\n",
       "      <td>2.5</td>\n",
       "      <td>35.5</td>\n",
       "      <td>0.106082</td>\n",
       "      <td>35.832447</td>\n",
       "      <td>3.070282</td>\n",
       "      <td>41.850090</td>\n",
       "    </tr>\n",
       "    <tr>\n",
       "      <th>4</th>\n",
       "      <td>4</td>\n",
       "      <td>36.0</td>\n",
       "      <td>2.0</td>\n",
       "      <td>1.5</td>\n",
       "      <td>4.5</td>\n",
       "      <td>0.033287</td>\n",
       "      <td>35.825209</td>\n",
       "      <td>5.481059</td>\n",
       "      <td>46.567887</td>\n",
       "    </tr>\n",
       "    <tr>\n",
       "      <th>2</th>\n",
       "      <td>2</td>\n",
       "      <td>26.0</td>\n",
       "      <td>4.0</td>\n",
       "      <td>2.5</td>\n",
       "      <td>179.5</td>\n",
       "      <td>0.006426</td>\n",
       "      <td>25.899051</td>\n",
       "      <td>12.475047</td>\n",
       "      <td>50.349694</td>\n",
       "    </tr>\n",
       "  </tbody>\n",
       "</table>\n",
       "</div>"
      ],
      "text/plain": [
       "   name    mu   Te  alpha   beta       tau      theta         SD      var95\n",
       "0     0  35.0  3.0    2.0    7.5  0.328108  35.130045   1.745788  38.551727\n",
       "3     3  30.5  4.0    2.5   29.0  0.110567  30.988386   3.007378  36.882739\n",
       "1     1  36.0  4.0    2.5   35.5  0.106082  35.832447   3.070282  41.850090\n",
       "4     4  36.0  2.0    1.5    4.5  0.033287  35.825209   5.481059  46.567887\n",
       "2     2  26.0  4.0    2.5  179.5  0.006426  25.899051  12.475047  50.349694"
      ]
     },
     "execution_count": 2,
     "metadata": {},
     "output_type": "execute_result"
    }
   ],
   "source": [
    "cups = HandsTable(options_list=[*range(4+1)], minimize=True)\n",
    "cups.update_hands(0, 32) # суббота 9 ноября\n",
    "cups.update_hands(2, 33) # воскресенье 10 ноября\n",
    "cups.update_hands(1, 35) # вторник 12 ноября\n",
    "cups.update_hands(3, 34) # среда 13 ноября\n",
    "cups.update_hands(4, 34) # четверг 14 ноября\n",
    "cups.update_hands(3, 34) # пятница 15 ноября\n",
    "cups.update_hands(1, 34) # суббота 16 ноября\n",
    "cups.update_hands(1, 43) # воскресенье 17 ноября\n",
    "# cups.update_hands(6, 28) # понедельник 18 ноября я убрал 5  и 6 из подбора, это мучительно\n",
    "# cups.update_hands(5, 39) # вторник 19 ноября\n",
    "cups.update_hands(4, 38) # wednesday 20 ноября\n",
    "cups.update_hands(0, 36) # thursday 21 ноября\n",
    "cups.update_hands(2, 33) # friday 22 ноября\n",
    "cups.update_hands(0, 37) # sat 23 ноября\n",
    "cups.update_hands(1, 32) # sun 24 ноября\n",
    "cups.update_hands(2, 28) # mon 25 ноября\n",
    "cups.update_hands(3, 29) # tue 26 ноября\n",
    "cups.update_hands(3, 25) # wed 27 ноября\n",
    "cups.update_hands(2, 10) # th 28 ноября\n",
    "\n",
    "cups.grade()"
   ]
  },
  {
   "cell_type": "code",
   "execution_count": 3,
   "id": "05311544",
   "metadata": {
    "execution": {
     "iopub.execute_input": "2024-11-28T07:14:25.509966Z",
     "iopub.status.busy": "2024-11-28T07:14:25.509034Z",
     "iopub.status.idle": "2024-11-28T07:14:27.947549Z",
     "shell.execute_reply": "2024-11-28T07:14:27.946491Z"
    },
    "papermill": {
     "duration": 2.444812,
     "end_time": "2024-11-28T07:14:27.949709",
     "exception": false,
     "start_time": "2024-11-28T07:14:25.504897",
     "status": "completed"
    },
    "tags": []
   },
   "outputs": [
    {
     "data": {
      "text/html": [
       "        <script type=\"text/javascript\">\n",
       "        window.PlotlyConfig = {MathJaxConfig: 'local'};\n",
       "        if (window.MathJax && window.MathJax.Hub && window.MathJax.Hub.Config) {window.MathJax.Hub.Config({SVG: {font: \"STIX-Web\"}});}\n",
       "        if (typeof require !== 'undefined') {\n",
       "        require.undef(\"plotly\");\n",
       "        requirejs.config({\n",
       "            paths: {\n",
       "                'plotly': ['https://cdn.plot.ly/plotly-2.32.0.min']\n",
       "            }\n",
       "        });\n",
       "        require(['plotly'], function(Plotly) {\n",
       "            window._Plotly = Plotly;\n",
       "        });\n",
       "        }\n",
       "        </script>\n",
       "        "
      ]
     },
     "metadata": {},
     "output_type": "display_data"
    },
    {
     "data": {
      "text/html": [
       "<div>                            <div id=\"1f8d5869-f533-4f3e-a5a0-4c34d72c7749\" class=\"plotly-graph-div\" style=\"height:525px; width:100%;\"></div>            <script type=\"text/javascript\">                require([\"plotly\"], function(Plotly) {                    window.PLOTLYENV=window.PLOTLYENV || {};                                    if (document.getElementById(\"1f8d5869-f533-4f3e-a5a0-4c34d72c7749\")) {                    Plotly.newPlot(                        \"1f8d5869-f533-4f3e-a5a0-4c34d72c7749\",                        [{\"alignmentgroup\":\"True\",\"box\":{\"visible\":true},\"hovertemplate\":\"option=%{x}\\u003cbr\\u003evalue=%{y}\\u003cextra\\u003e\\u003c\\u002fextra\\u003e\",\"legendgroup\":\"\",\"marker\":{\"color\":\"#636efa\"},\"name\":\"\",\"offsetgroup\":\"\",\"orientation\":\"v\",\"points\":\"all\",\"scalegroup\":\"True\",\"showlegend\":false,\"x\":[0,2,1,3,4,3,1,1,4,0,2,0,1,2,3,3,2],\"x0\":\" \",\"xaxis\":\"x\",\"y\":[32,33,35,34,34,34,34,43,38,36,33,37,32,28,29,25,10],\"y0\":\" \",\"yaxis\":\"y\",\"type\":\"violin\"}],                        {\"template\":{\"data\":{\"histogram2dcontour\":[{\"type\":\"histogram2dcontour\",\"colorbar\":{\"outlinewidth\":0,\"ticks\":\"\"},\"colorscale\":[[0.0,\"#0d0887\"],[0.1111111111111111,\"#46039f\"],[0.2222222222222222,\"#7201a8\"],[0.3333333333333333,\"#9c179e\"],[0.4444444444444444,\"#bd3786\"],[0.5555555555555556,\"#d8576b\"],[0.6666666666666666,\"#ed7953\"],[0.7777777777777778,\"#fb9f3a\"],[0.8888888888888888,\"#fdca26\"],[1.0,\"#f0f921\"]]}],\"choropleth\":[{\"type\":\"choropleth\",\"colorbar\":{\"outlinewidth\":0,\"ticks\":\"\"}}],\"histogram2d\":[{\"type\":\"histogram2d\",\"colorbar\":{\"outlinewidth\":0,\"ticks\":\"\"},\"colorscale\":[[0.0,\"#0d0887\"],[0.1111111111111111,\"#46039f\"],[0.2222222222222222,\"#7201a8\"],[0.3333333333333333,\"#9c179e\"],[0.4444444444444444,\"#bd3786\"],[0.5555555555555556,\"#d8576b\"],[0.6666666666666666,\"#ed7953\"],[0.7777777777777778,\"#fb9f3a\"],[0.8888888888888888,\"#fdca26\"],[1.0,\"#f0f921\"]]}],\"heatmap\":[{\"type\":\"heatmap\",\"colorbar\":{\"outlinewidth\":0,\"ticks\":\"\"},\"colorscale\":[[0.0,\"#0d0887\"],[0.1111111111111111,\"#46039f\"],[0.2222222222222222,\"#7201a8\"],[0.3333333333333333,\"#9c179e\"],[0.4444444444444444,\"#bd3786\"],[0.5555555555555556,\"#d8576b\"],[0.6666666666666666,\"#ed7953\"],[0.7777777777777778,\"#fb9f3a\"],[0.8888888888888888,\"#fdca26\"],[1.0,\"#f0f921\"]]}],\"heatmapgl\":[{\"type\":\"heatmapgl\",\"colorbar\":{\"outlinewidth\":0,\"ticks\":\"\"},\"colorscale\":[[0.0,\"#0d0887\"],[0.1111111111111111,\"#46039f\"],[0.2222222222222222,\"#7201a8\"],[0.3333333333333333,\"#9c179e\"],[0.4444444444444444,\"#bd3786\"],[0.5555555555555556,\"#d8576b\"],[0.6666666666666666,\"#ed7953\"],[0.7777777777777778,\"#fb9f3a\"],[0.8888888888888888,\"#fdca26\"],[1.0,\"#f0f921\"]]}],\"contourcarpet\":[{\"type\":\"contourcarpet\",\"colorbar\":{\"outlinewidth\":0,\"ticks\":\"\"}}],\"contour\":[{\"type\":\"contour\",\"colorbar\":{\"outlinewidth\":0,\"ticks\":\"\"},\"colorscale\":[[0.0,\"#0d0887\"],[0.1111111111111111,\"#46039f\"],[0.2222222222222222,\"#7201a8\"],[0.3333333333333333,\"#9c179e\"],[0.4444444444444444,\"#bd3786\"],[0.5555555555555556,\"#d8576b\"],[0.6666666666666666,\"#ed7953\"],[0.7777777777777778,\"#fb9f3a\"],[0.8888888888888888,\"#fdca26\"],[1.0,\"#f0f921\"]]}],\"surface\":[{\"type\":\"surface\",\"colorbar\":{\"outlinewidth\":0,\"ticks\":\"\"},\"colorscale\":[[0.0,\"#0d0887\"],[0.1111111111111111,\"#46039f\"],[0.2222222222222222,\"#7201a8\"],[0.3333333333333333,\"#9c179e\"],[0.4444444444444444,\"#bd3786\"],[0.5555555555555556,\"#d8576b\"],[0.6666666666666666,\"#ed7953\"],[0.7777777777777778,\"#fb9f3a\"],[0.8888888888888888,\"#fdca26\"],[1.0,\"#f0f921\"]]}],\"mesh3d\":[{\"type\":\"mesh3d\",\"colorbar\":{\"outlinewidth\":0,\"ticks\":\"\"}}],\"scatter\":[{\"fillpattern\":{\"fillmode\":\"overlay\",\"size\":10,\"solidity\":0.2},\"type\":\"scatter\"}],\"parcoords\":[{\"type\":\"parcoords\",\"line\":{\"colorbar\":{\"outlinewidth\":0,\"ticks\":\"\"}}}],\"scatterpolargl\":[{\"type\":\"scatterpolargl\",\"marker\":{\"colorbar\":{\"outlinewidth\":0,\"ticks\":\"\"}}}],\"bar\":[{\"error_x\":{\"color\":\"#2a3f5f\"},\"error_y\":{\"color\":\"#2a3f5f\"},\"marker\":{\"line\":{\"color\":\"#E5ECF6\",\"width\":0.5},\"pattern\":{\"fillmode\":\"overlay\",\"size\":10,\"solidity\":0.2}},\"type\":\"bar\"}],\"scattergeo\":[{\"type\":\"scattergeo\",\"marker\":{\"colorbar\":{\"outlinewidth\":0,\"ticks\":\"\"}}}],\"scatterpolar\":[{\"type\":\"scatterpolar\",\"marker\":{\"colorbar\":{\"outlinewidth\":0,\"ticks\":\"\"}}}],\"histogram\":[{\"marker\":{\"pattern\":{\"fillmode\":\"overlay\",\"size\":10,\"solidity\":0.2}},\"type\":\"histogram\"}],\"scattergl\":[{\"type\":\"scattergl\",\"marker\":{\"colorbar\":{\"outlinewidth\":0,\"ticks\":\"\"}}}],\"scatter3d\":[{\"type\":\"scatter3d\",\"line\":{\"colorbar\":{\"outlinewidth\":0,\"ticks\":\"\"}},\"marker\":{\"colorbar\":{\"outlinewidth\":0,\"ticks\":\"\"}}}],\"scattermapbox\":[{\"type\":\"scattermapbox\",\"marker\":{\"colorbar\":{\"outlinewidth\":0,\"ticks\":\"\"}}}],\"scatterternary\":[{\"type\":\"scatterternary\",\"marker\":{\"colorbar\":{\"outlinewidth\":0,\"ticks\":\"\"}}}],\"scattercarpet\":[{\"type\":\"scattercarpet\",\"marker\":{\"colorbar\":{\"outlinewidth\":0,\"ticks\":\"\"}}}],\"carpet\":[{\"aaxis\":{\"endlinecolor\":\"#2a3f5f\",\"gridcolor\":\"white\",\"linecolor\":\"white\",\"minorgridcolor\":\"white\",\"startlinecolor\":\"#2a3f5f\"},\"baxis\":{\"endlinecolor\":\"#2a3f5f\",\"gridcolor\":\"white\",\"linecolor\":\"white\",\"minorgridcolor\":\"white\",\"startlinecolor\":\"#2a3f5f\"},\"type\":\"carpet\"}],\"table\":[{\"cells\":{\"fill\":{\"color\":\"#EBF0F8\"},\"line\":{\"color\":\"white\"}},\"header\":{\"fill\":{\"color\":\"#C8D4E3\"},\"line\":{\"color\":\"white\"}},\"type\":\"table\"}],\"barpolar\":[{\"marker\":{\"line\":{\"color\":\"#E5ECF6\",\"width\":0.5},\"pattern\":{\"fillmode\":\"overlay\",\"size\":10,\"solidity\":0.2}},\"type\":\"barpolar\"}],\"pie\":[{\"automargin\":true,\"type\":\"pie\"}]},\"layout\":{\"autotypenumbers\":\"strict\",\"colorway\":[\"#636efa\",\"#EF553B\",\"#00cc96\",\"#ab63fa\",\"#FFA15A\",\"#19d3f3\",\"#FF6692\",\"#B6E880\",\"#FF97FF\",\"#FECB52\"],\"font\":{\"color\":\"#2a3f5f\"},\"hovermode\":\"closest\",\"hoverlabel\":{\"align\":\"left\"},\"paper_bgcolor\":\"white\",\"plot_bgcolor\":\"#E5ECF6\",\"polar\":{\"bgcolor\":\"#E5ECF6\",\"angularaxis\":{\"gridcolor\":\"white\",\"linecolor\":\"white\",\"ticks\":\"\"},\"radialaxis\":{\"gridcolor\":\"white\",\"linecolor\":\"white\",\"ticks\":\"\"}},\"ternary\":{\"bgcolor\":\"#E5ECF6\",\"aaxis\":{\"gridcolor\":\"white\",\"linecolor\":\"white\",\"ticks\":\"\"},\"baxis\":{\"gridcolor\":\"white\",\"linecolor\":\"white\",\"ticks\":\"\"},\"caxis\":{\"gridcolor\":\"white\",\"linecolor\":\"white\",\"ticks\":\"\"}},\"coloraxis\":{\"colorbar\":{\"outlinewidth\":0,\"ticks\":\"\"}},\"colorscale\":{\"sequential\":[[0.0,\"#0d0887\"],[0.1111111111111111,\"#46039f\"],[0.2222222222222222,\"#7201a8\"],[0.3333333333333333,\"#9c179e\"],[0.4444444444444444,\"#bd3786\"],[0.5555555555555556,\"#d8576b\"],[0.6666666666666666,\"#ed7953\"],[0.7777777777777778,\"#fb9f3a\"],[0.8888888888888888,\"#fdca26\"],[1.0,\"#f0f921\"]],\"sequentialminus\":[[0.0,\"#0d0887\"],[0.1111111111111111,\"#46039f\"],[0.2222222222222222,\"#7201a8\"],[0.3333333333333333,\"#9c179e\"],[0.4444444444444444,\"#bd3786\"],[0.5555555555555556,\"#d8576b\"],[0.6666666666666666,\"#ed7953\"],[0.7777777777777778,\"#fb9f3a\"],[0.8888888888888888,\"#fdca26\"],[1.0,\"#f0f921\"]],\"diverging\":[[0,\"#8e0152\"],[0.1,\"#c51b7d\"],[0.2,\"#de77ae\"],[0.3,\"#f1b6da\"],[0.4,\"#fde0ef\"],[0.5,\"#f7f7f7\"],[0.6,\"#e6f5d0\"],[0.7,\"#b8e186\"],[0.8,\"#7fbc41\"],[0.9,\"#4d9221\"],[1,\"#276419\"]]},\"xaxis\":{\"gridcolor\":\"white\",\"linecolor\":\"white\",\"ticks\":\"\",\"title\":{\"standoff\":15},\"zerolinecolor\":\"white\",\"automargin\":true,\"zerolinewidth\":2},\"yaxis\":{\"gridcolor\":\"white\",\"linecolor\":\"white\",\"ticks\":\"\",\"title\":{\"standoff\":15},\"zerolinecolor\":\"white\",\"automargin\":true,\"zerolinewidth\":2},\"scene\":{\"xaxis\":{\"backgroundcolor\":\"#E5ECF6\",\"gridcolor\":\"white\",\"linecolor\":\"white\",\"showbackground\":true,\"ticks\":\"\",\"zerolinecolor\":\"white\",\"gridwidth\":2},\"yaxis\":{\"backgroundcolor\":\"#E5ECF6\",\"gridcolor\":\"white\",\"linecolor\":\"white\",\"showbackground\":true,\"ticks\":\"\",\"zerolinecolor\":\"white\",\"gridwidth\":2},\"zaxis\":{\"backgroundcolor\":\"#E5ECF6\",\"gridcolor\":\"white\",\"linecolor\":\"white\",\"showbackground\":true,\"ticks\":\"\",\"zerolinecolor\":\"white\",\"gridwidth\":2}},\"shapedefaults\":{\"line\":{\"color\":\"#2a3f5f\"}},\"annotationdefaults\":{\"arrowcolor\":\"#2a3f5f\",\"arrowhead\":0,\"arrowwidth\":1},\"geo\":{\"bgcolor\":\"white\",\"landcolor\":\"#E5ECF6\",\"subunitcolor\":\"white\",\"showland\":true,\"showlakes\":true,\"lakecolor\":\"white\"},\"title\":{\"x\":0.05},\"mapbox\":{\"style\":\"light\"}}},\"xaxis\":{\"anchor\":\"y\",\"domain\":[0.0,1.0],\"title\":{\"text\":\"option\"}},\"yaxis\":{\"anchor\":\"x\",\"domain\":[0.0,1.0],\"title\":{\"text\":\"value\"}},\"legend\":{\"tracegroupgap\":0},\"margin\":{\"t\":60},\"violinmode\":\"group\"},                        {\"responsive\": true}                    ).then(function(){\n",
       "                            \n",
       "var gd = document.getElementById('1f8d5869-f533-4f3e-a5a0-4c34d72c7749');\n",
       "var x = new MutationObserver(function (mutations, observer) {{\n",
       "        var display = window.getComputedStyle(gd).display;\n",
       "        if (!display || display === 'none') {{\n",
       "            console.log([gd, 'removed!']);\n",
       "            Plotly.purge(gd);\n",
       "            observer.disconnect();\n",
       "        }}\n",
       "}});\n",
       "\n",
       "// Listen for the removal of the full notebook cells\n",
       "var notebookContainer = gd.closest('#notebook-container');\n",
       "if (notebookContainer) {{\n",
       "    x.observe(notebookContainer, {childList: true});\n",
       "}}\n",
       "\n",
       "// Listen for the clearing of the current output cell\n",
       "var outputEl = gd.closest('.output');\n",
       "if (outputEl) {{\n",
       "    x.observe(outputEl, {childList: true});\n",
       "}}\n",
       "\n",
       "                        })                };                });            </script>        </div>"
      ]
     },
     "metadata": {},
     "output_type": "display_data"
    }
   ],
   "source": [
    "import plotly.express as px\n",
    "\n",
    "fig = px.violin(cups.history, y=\"value\", x=\"option\", box=True, points=\"all\",\n",
    "          hover_data=cups.history.columns)\n",
    "fig.show()"
   ]
  },
  {
   "cell_type": "markdown",
   "id": "c3a13e53",
   "metadata": {
    "papermill": {
     "duration": 0.003036,
     "end_time": "2024-11-28T07:14:27.956176",
     "exception": false,
     "start_time": "2024-11-28T07:14:27.953140",
     "status": "completed"
    },
    "tags": []
   },
   "source": [
    "# Какой выход из МЦК утром?\n",
    "* Садиться в ту дверь, которая кажется ближе к выходу\n",
    "* считать от выхода на платформу до выхода из крутящихся дверей офиса\n"
   ]
  },
  {
   "cell_type": "code",
   "execution_count": 4,
   "id": "4207b924",
   "metadata": {
    "execution": {
     "iopub.execute_input": "2024-11-28T07:14:27.964141Z",
     "iopub.status.busy": "2024-11-28T07:14:27.963775Z",
     "iopub.status.idle": "2024-11-28T07:14:28.003004Z",
     "shell.execute_reply": "2024-11-28T07:14:28.001947Z"
    },
    "papermill": {
     "duration": 0.045721,
     "end_time": "2024-11-28T07:14:28.005006",
     "exception": false,
     "start_time": "2024-11-28T07:14:27.959285",
     "status": "completed"
    },
    "tags": []
   },
   "outputs": [
    {
     "data": {
      "text/html": [
       "<div>\n",
       "<style scoped>\n",
       "    .dataframe tbody tr th:only-of-type {\n",
       "        vertical-align: middle;\n",
       "    }\n",
       "\n",
       "    .dataframe tbody tr th {\n",
       "        vertical-align: top;\n",
       "    }\n",
       "\n",
       "    .dataframe thead th {\n",
       "        text-align: right;\n",
       "    }\n",
       "</style>\n",
       "<table border=\"1\" class=\"dataframe\">\n",
       "  <thead>\n",
       "    <tr style=\"text-align: right;\">\n",
       "      <th></th>\n",
       "      <th>name</th>\n",
       "      <th>mu</th>\n",
       "      <th>Te</th>\n",
       "      <th>alpha</th>\n",
       "      <th>beta</th>\n",
       "      <th>tau</th>\n",
       "      <th>theta</th>\n",
       "      <th>SD</th>\n",
       "      <th>var95</th>\n",
       "    </tr>\n",
       "  </thead>\n",
       "  <tbody>\n",
       "    <tr>\n",
       "      <th>1</th>\n",
       "      <td>мцд</td>\n",
       "      <td>7.968889</td>\n",
       "      <td>3.0</td>\n",
       "      <td>2.0</td>\n",
       "      <td>0.889195</td>\n",
       "      <td>0.421751</td>\n",
       "      <td>7.950242</td>\n",
       "      <td>1.539826</td>\n",
       "      <td>10.968247</td>\n",
       "    </tr>\n",
       "    <tr>\n",
       "      <th>0</th>\n",
       "      <td>мцк</td>\n",
       "      <td>8.725833</td>\n",
       "      <td>2.0</td>\n",
       "      <td>1.5</td>\n",
       "      <td>0.941117</td>\n",
       "      <td>0.160064</td>\n",
       "      <td>8.900455</td>\n",
       "      <td>2.499499</td>\n",
       "      <td>13.799383</td>\n",
       "    </tr>\n",
       "  </tbody>\n",
       "</table>\n",
       "</div>"
      ],
      "text/plain": [
       "  name        mu   Te  alpha      beta       tau     theta        SD  \\\n",
       "1  мцд  7.968889  3.0    2.0  0.889195  0.421751  7.950242  1.539826   \n",
       "0  мцк  8.725833  2.0    1.5  0.941117  0.160064  8.900455  2.499499   \n",
       "\n",
       "       var95  \n",
       "1  10.968247  \n",
       "0  13.799383  "
      ]
     },
     "execution_count": 4,
     "metadata": {},
     "output_type": "execute_result"
    }
   ],
   "source": [
    "morning_exit = HandsTable(options_list=[\"мцк\",\"мцд\"], minimize=True)\n",
    "# 3 мцк\n",
    "# 6 мцд\n",
    "morning_exit.update_hands(\"мцк\", '0:08:03.7') # вторник 19 ноября\n",
    "morning_exit.update_hands(\"мцд\", '0:08:40') # среда 20 ноября\n",
    "morning_exit.update_hands(\"мцк\", '0:09:23.4') # mon 25 ноября\n",
    "morning_exit.update_hands(\"мцд\", '0:07:46.5') # вторник 26 ноября\n",
    "morning_exit.update_hands(\"мцд\", '0:07:27.9') # среда 27 ноября\n",
    "\n",
    "morning_exit.grade()"
   ]
  },
  {
   "cell_type": "markdown",
   "id": "e25cc77d",
   "metadata": {
    "papermill": {
     "duration": 0.00309,
     "end_time": "2024-11-28T07:14:28.011590",
     "exception": false,
     "start_time": "2024-11-28T07:14:28.008500",
     "status": "completed"
    },
    "tags": []
   },
   "source": [
    "# Какой вход в МЦК вечером?\n",
    "* Садиться в ту дверь, которая кажется ближе к выходу\n",
    "* считать от выхода из крутящихся дверей до посадки в поезд\n"
   ]
  },
  {
   "cell_type": "code",
   "execution_count": 5,
   "id": "f3e21680",
   "metadata": {
    "execution": {
     "iopub.execute_input": "2024-11-28T07:14:28.019962Z",
     "iopub.status.busy": "2024-11-28T07:14:28.019580Z",
     "iopub.status.idle": "2024-11-28T07:14:28.042414Z",
     "shell.execute_reply": "2024-11-28T07:14:28.041337Z"
    },
    "papermill": {
     "duration": 0.02957,
     "end_time": "2024-11-28T07:14:28.044429",
     "exception": false,
     "start_time": "2024-11-28T07:14:28.014859",
     "status": "completed"
    },
    "tags": []
   },
   "outputs": [
    {
     "data": {
      "text/html": [
       "<div>\n",
       "<style scoped>\n",
       "    .dataframe tbody tr th:only-of-type {\n",
       "        vertical-align: middle;\n",
       "    }\n",
       "\n",
       "    .dataframe tbody tr th {\n",
       "        vertical-align: top;\n",
       "    }\n",
       "\n",
       "    .dataframe thead th {\n",
       "        text-align: right;\n",
       "    }\n",
       "</style>\n",
       "<table border=\"1\" class=\"dataframe\">\n",
       "  <thead>\n",
       "    <tr style=\"text-align: right;\">\n",
       "      <th></th>\n",
       "      <th>name</th>\n",
       "      <th>mu</th>\n",
       "      <th>Te</th>\n",
       "      <th>alpha</th>\n",
       "      <th>beta</th>\n",
       "      <th>tau</th>\n",
       "      <th>theta</th>\n",
       "      <th>SD</th>\n",
       "      <th>var95</th>\n",
       "    </tr>\n",
       "    <tr>\n",
       "      <th>Te</th>\n",
       "      <th></th>\n",
       "      <th></th>\n",
       "      <th></th>\n",
       "      <th></th>\n",
       "      <th></th>\n",
       "      <th></th>\n",
       "      <th></th>\n",
       "      <th></th>\n",
       "      <th></th>\n",
       "    </tr>\n",
       "  </thead>\n",
       "  <tbody>\n",
       "    <tr>\n",
       "      <th>0</th>\n",
       "      <td>мцк</td>\n",
       "      <td>0.000000</td>\n",
       "      <td>0.0</td>\n",
       "      <td>0.5</td>\n",
       "      <td>0.5</td>\n",
       "      <td>3.131278</td>\n",
       "      <td>-inf</td>\n",
       "      <td>0.565118</td>\n",
       "      <td>-inf</td>\n",
       "    </tr>\n",
       "    <tr>\n",
       "      <th>1</th>\n",
       "      <td>мцд</td>\n",
       "      <td>8.061667</td>\n",
       "      <td>1.0</td>\n",
       "      <td>1.0</td>\n",
       "      <td>0.5</td>\n",
       "      <td>0.026969</td>\n",
       "      <td>7.445445</td>\n",
       "      <td>6.089290</td>\n",
       "      <td>19.380234</td>\n",
       "    </tr>\n",
       "  </tbody>\n",
       "</table>\n",
       "</div>"
      ],
      "text/plain": [
       "   name        mu   Te  alpha  beta       tau     theta        SD      var95\n",
       "Te                                                                          \n",
       "0   мцк  0.000000  0.0    0.5   0.5  3.131278      -inf  0.565118       -inf\n",
       "1   мцд  8.061667  1.0    1.0   0.5  0.026969  7.445445  6.089290  19.380234"
      ]
     },
     "execution_count": 5,
     "metadata": {},
     "output_type": "execute_result"
    }
   ],
   "source": [
    "evening_entrance = HandsTable(options_list=[\"мцк\",\"мцд\"], minimize=True)\n",
    "# 3 мцк\n",
    "# 6 мцд\n",
    "evening_entrance.update_hands(\"мцд\", '0:08:03.7') # четверг 21 ноября\n",
    "# evening_entrance.update_hands(3, '0:08:03.7') # четверг 28 ноября\n",
    "\n",
    "evening_entrance.grade()"
   ]
  }
 ],
 "metadata": {
  "kaggle": {
   "accelerator": "none",
   "dataSources": [],
   "dockerImageVersionId": 30786,
   "isGpuEnabled": false,
   "isInternetEnabled": true,
   "language": "python",
   "sourceType": "notebook"
  },
  "kernelspec": {
   "display_name": "Python 3",
   "language": "python",
   "name": "python3"
  },
  "language_info": {
   "codemirror_mode": {
    "name": "ipython",
    "version": 3
   },
   "file_extension": ".py",
   "mimetype": "text/x-python",
   "name": "python",
   "nbconvert_exporter": "python",
   "pygments_lexer": "ipython3",
   "version": "3.10.14"
  },
  "papermill": {
   "default_parameters": {},
   "duration": 7.678836,
   "end_time": "2024-11-28T07:14:28.668618",
   "environment_variables": {},
   "exception": null,
   "input_path": "__notebook__.ipynb",
   "output_path": "__notebook__.ipynb",
   "parameters": {},
   "start_time": "2024-11-28T07:14:20.989782",
   "version": "2.6.0"
  }
 },
 "nbformat": 4,
 "nbformat_minor": 5
}
