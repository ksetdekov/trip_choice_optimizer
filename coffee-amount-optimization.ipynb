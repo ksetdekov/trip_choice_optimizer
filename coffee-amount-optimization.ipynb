{
 "cells": [
  {
   "cell_type": "markdown",
   "id": "15650daa",
   "metadata": {
    "papermill": {
     "duration": 0.004436,
     "end_time": "2024-12-06T12:13:47.437826",
     "exception": false,
     "start_time": "2024-12-06T12:13:47.433390",
     "status": "completed"
    },
    "tags": []
   },
   "source": [
    "# Ноутбук для подбора количества кофе, которое минимизирует стресс"
   ]
  },
  {
   "cell_type": "markdown",
   "id": "f85bc405",
   "metadata": {
    "papermill": {
     "duration": 0.003351,
     "end_time": "2024-12-06T12:13:47.445248",
     "exception": false,
     "start_time": "2024-12-06T12:13:47.441897",
     "status": "completed"
    },
    "tags": []
   },
   "source": [
    "## main class"
   ]
  },
  {
   "cell_type": "code",
   "execution_count": 1,
   "id": "86138c4b",
   "metadata": {
    "execution": {
     "iopub.execute_input": "2024-12-06T12:13:47.455560Z",
     "iopub.status.busy": "2024-12-06T12:13:47.454926Z",
     "iopub.status.idle": "2024-12-06T12:13:49.732366Z",
     "shell.execute_reply": "2024-12-06T12:13:49.731109Z"
    },
    "papermill": {
     "duration": 2.286304,
     "end_time": "2024-12-06T12:13:49.735208",
     "exception": false,
     "start_time": "2024-12-06T12:13:47.448904",
     "status": "completed"
    },
    "tags": []
   },
   "outputs": [],
   "source": [
    "import pandas as pd\n",
    "import numpy as np\n",
    "from scipy.stats import gamma, norm\n",
    "\n",
    "\n",
    "class HandsTable():\n",
    "    minimize = True\n",
    "    rho = 3.37\n",
    "\n",
    "    def __init__(self, options_list, minimize=True, rho=1.0):\n",
    "        \"\"\"инициализация\n",
    "\n",
    "        Args:\n",
    "            options_list (list): список из названий\n",
    "            minimize (bool, optional): Минимизировать если True, максимизировать если False. Defaults to True.\n",
    "            rho (float, optional): Риск толерантность, чем больше, тем больше риска готовы принять. Defaults to 1.0.\n",
    "        \"\"\"\n",
    "        self.hands = pd.DataFrame({'name': options_list,\n",
    "                                   'mu': 0.0,\n",
    "                                   'Te': 0.0,\n",
    "                                   'alpha': 0.5,\n",
    "                                   'beta': 0.5\n",
    "                                   })\n",
    "        self.minimize = minimize\n",
    "        if rho is not None:\n",
    "            self.rho = rho\n",
    "\n",
    "        self.history = pd.DataFrame(columns=['option', 'value'])\n",
    "\n",
    "    @classmethod\n",
    "    def to_minutes(self, timestr: str):\n",
    "        '''\n",
    "        convert timestr to float minutes\n",
    "        '''\n",
    "        return pd.to_timedelta(timestr).total_seconds()/60\n",
    "\n",
    "    @classmethod\n",
    "    def update_mean(self, X, T_last, mu_last):\n",
    "        mu_new = T_last * mu_last / (T_last + 1) + X / (T_last + 1)\n",
    "        return mu_new\n",
    "\n",
    "    @classmethod\n",
    "    def update_samples(self, T):\n",
    "        return T + 1\n",
    "\n",
    "    @classmethod\n",
    "    def update_shape(self, a):\n",
    "        return a + 0.5\n",
    "\n",
    "    @classmethod\n",
    "    def update_rate(self, X, mu_last, beta_last, T_last):\n",
    "        beta_new = beta_last + (T_last / (T_last + 1)) * \\\n",
    "            (np.square(X - mu_last)) / 2\n",
    "        return beta_new\n",
    "\n",
    "    def update_hands(self, name, value):\n",
    "        if isinstance(value, str):\n",
    "            try:\n",
    "                value = HandsTable.to_minutes(value)\n",
    "            except ValueError:\n",
    "                raise ValueError('input time string in hh:mm:ss format')\n",
    "        elif isinstance(value, float) or isinstance(value, int):\n",
    "            pass\n",
    "        else:\n",
    "            raise ValueError('input time string or int/float value')\n",
    "\n",
    "        _, mu, t, alpha, beta = self.hands[self.hands.name == name].values[0]\n",
    "        beta = HandsTable.update_rate(value, mu, beta, t)\n",
    "        mu = HandsTable.update_mean(value, t, mu)\n",
    "        t = HandsTable.update_samples(t)\n",
    "        alpha = HandsTable.update_shape(alpha)\n",
    "\n",
    "        # added code to write history\n",
    "        self.history.loc[len(self.history.index)] = [name, value]\n",
    "\n",
    "        self.hands.loc[self.hands.name == name, 'mu'] = mu\n",
    "        self.hands.loc[self.hands.name == name, 'Te'] = t\n",
    "        self.hands.loc[self.hands.name == name, 'alpha'] = alpha\n",
    "        self.hands.loc[self.hands.name == name, 'beta'] = beta\n",
    "\n",
    "    def grade(self):\n",
    "        hands_output = self.hands.copy()\n",
    "        tau = gamma.rvs(a=hands_output.alpha, scale=1/hands_output.beta)\n",
    "        theta_drops = norm.rvs(hands_output.mu, 1/hands_output.Te)\n",
    "        hands_output['tau'] = tau\n",
    "        hands_output['theta'] = theta_drops\n",
    "        hands_output['SD'] = np.sqrt(1/tau)\n",
    "\n",
    "        if self.minimize == True:\n",
    "            hands_output['var95'] = theta_drops + \\\n",
    "                norm.ppf(1-0.05/2) * hands_output.SD\n",
    "            if hands_output.mu.min() == 0:\n",
    "\n",
    "                output_df = hands_output.reindex(np.argsort(hands_output.Te))\n",
    "            else:\n",
    "                output_df = hands_output.reindex(\n",
    "                    np.argsort(self.rho * theta_drops + 1/tau))\n",
    "        else:\n",
    "            hands_output['var95'] = theta_drops + \\\n",
    "                norm.ppf(0.05/2) * hands_output.SD\n",
    "            if hands_output.mu.min() == 0:\n",
    "                output_df = hands_output.reindex(np.argsort(hands_output.Te))\n",
    "            else:\n",
    "                output_df = hands_output.reindex(\n",
    "                    np.argsort(self.rho * theta_drops - 1/tau)[::-1])\n",
    "\n",
    "        return output_df\n",
    "\n",
    "    def __str__(self):\n",
    "        return repr(self.hands)"
   ]
  },
  {
   "cell_type": "markdown",
   "id": "edf37955",
   "metadata": {
    "papermill": {
     "duration": 0.003051,
     "end_time": "2024-12-06T12:13:49.741863",
     "exception": false,
     "start_time": "2024-12-06T12:13:49.738812",
     "status": "completed"
    },
    "tags": []
   },
   "source": [
    "# Применение"
   ]
  },
  {
   "cell_type": "code",
   "execution_count": 2,
   "id": "16bc7fb6",
   "metadata": {
    "execution": {
     "iopub.execute_input": "2024-12-06T12:13:49.750468Z",
     "iopub.status.busy": "2024-12-06T12:13:49.749792Z",
     "iopub.status.idle": "2024-12-06T12:13:49.890359Z",
     "shell.execute_reply": "2024-12-06T12:13:49.888950Z"
    },
    "papermill": {
     "duration": 0.148142,
     "end_time": "2024-12-06T12:13:49.893187",
     "exception": false,
     "start_time": "2024-12-06T12:13:49.745045",
     "status": "completed"
    },
    "tags": []
   },
   "outputs": [
    {
     "data": {
      "text/html": [
       "<div>\n",
       "<style scoped>\n",
       "    .dataframe tbody tr th:only-of-type {\n",
       "        vertical-align: middle;\n",
       "    }\n",
       "\n",
       "    .dataframe tbody tr th {\n",
       "        vertical-align: top;\n",
       "    }\n",
       "\n",
       "    .dataframe thead th {\n",
       "        text-align: right;\n",
       "    }\n",
       "</style>\n",
       "<table border=\"1\" class=\"dataframe\">\n",
       "  <thead>\n",
       "    <tr style=\"text-align: right;\">\n",
       "      <th></th>\n",
       "      <th>name</th>\n",
       "      <th>mu</th>\n",
       "      <th>Te</th>\n",
       "      <th>alpha</th>\n",
       "      <th>beta</th>\n",
       "      <th>tau</th>\n",
       "      <th>theta</th>\n",
       "      <th>SD</th>\n",
       "      <th>var95</th>\n",
       "    </tr>\n",
       "  </thead>\n",
       "  <tbody>\n",
       "    <tr>\n",
       "      <th>2</th>\n",
       "      <td>2</td>\n",
       "      <td>29.333333</td>\n",
       "      <td>9.0</td>\n",
       "      <td>5.0</td>\n",
       "      <td>45.500000</td>\n",
       "      <td>0.151817</td>\n",
       "      <td>29.298041</td>\n",
       "      <td>2.566489</td>\n",
       "      <td>34.328268</td>\n",
       "    </tr>\n",
       "    <tr>\n",
       "      <th>3</th>\n",
       "      <td>3</td>\n",
       "      <td>29.333333</td>\n",
       "      <td>6.0</td>\n",
       "      <td>3.5</td>\n",
       "      <td>41.166667</td>\n",
       "      <td>0.068199</td>\n",
       "      <td>29.057321</td>\n",
       "      <td>3.829239</td>\n",
       "      <td>36.562491</td>\n",
       "    </tr>\n",
       "    <tr>\n",
       "      <th>0</th>\n",
       "      <td>0</td>\n",
       "      <td>35.000000</td>\n",
       "      <td>3.0</td>\n",
       "      <td>2.0</td>\n",
       "      <td>7.500000</td>\n",
       "      <td>0.087128</td>\n",
       "      <td>34.898232</td>\n",
       "      <td>3.387821</td>\n",
       "      <td>41.538238</td>\n",
       "    </tr>\n",
       "    <tr>\n",
       "      <th>4</th>\n",
       "      <td>4</td>\n",
       "      <td>36.000000</td>\n",
       "      <td>2.0</td>\n",
       "      <td>1.5</td>\n",
       "      <td>4.500000</td>\n",
       "      <td>0.059004</td>\n",
       "      <td>36.368374</td>\n",
       "      <td>4.116797</td>\n",
       "      <td>44.437148</td>\n",
       "    </tr>\n",
       "    <tr>\n",
       "      <th>1</th>\n",
       "      <td>1</td>\n",
       "      <td>36.000000</td>\n",
       "      <td>4.0</td>\n",
       "      <td>2.5</td>\n",
       "      <td>35.500000</td>\n",
       "      <td>0.044305</td>\n",
       "      <td>36.083151</td>\n",
       "      <td>4.750885</td>\n",
       "      <td>45.394713</td>\n",
       "    </tr>\n",
       "  </tbody>\n",
       "</table>\n",
       "</div>"
      ],
      "text/plain": [
       "   name         mu   Te  alpha       beta       tau      theta        SD  \\\n",
       "2     2  29.333333  9.0    5.0  45.500000  0.151817  29.298041  2.566489   \n",
       "3     3  29.333333  6.0    3.5  41.166667  0.068199  29.057321  3.829239   \n",
       "0     0  35.000000  3.0    2.0   7.500000  0.087128  34.898232  3.387821   \n",
       "4     4  36.000000  2.0    1.5   4.500000  0.059004  36.368374  4.116797   \n",
       "1     1  36.000000  4.0    2.5  35.500000  0.044305  36.083151  4.750885   \n",
       "\n",
       "       var95  \n",
       "2  34.328268  \n",
       "3  36.562491  \n",
       "0  41.538238  \n",
       "4  44.437148  \n",
       "1  45.394713  "
      ]
     },
     "execution_count": 2,
     "metadata": {},
     "output_type": "execute_result"
    }
   ],
   "source": [
    "cups = HandsTable(options_list=[*range(4+1)], minimize=True)\n",
    "cups.update_hands(0, 32) # суббота 9 ноября\n",
    "cups.update_hands(2, 33) # воскресенье 10 ноября\n",
    "cups.update_hands(1, 35) # вторник 12 ноября\n",
    "cups.update_hands(3, 34) # среда 13 ноября\n",
    "cups.update_hands(4, 34) # четверг 14 ноября\n",
    "cups.update_hands(3, 34) # пятница 15 ноября\n",
    "cups.update_hands(1, 34) # суббота 16 ноября\n",
    "cups.update_hands(1, 43) # воскресенье 17 ноября\n",
    "# cups.update_hands(6, 28) # понедельник 18 ноября я убрал 5  и 6 из подбора, это мучительно\n",
    "# cups.update_hands(5, 39) # вторник 19 ноября\n",
    "cups.update_hands(4, 38) # wednesday 20 ноября\n",
    "cups.update_hands(0, 36) # thursday 21 ноября\n",
    "cups.update_hands(2, 33) # friday 22 ноября\n",
    "cups.update_hands(0, 37) # sat 23 ноября\n",
    "cups.update_hands(1, 32) # sun 24 ноября\n",
    "cups.update_hands(2, 28) # mon 25 ноября\n",
    "cups.update_hands(3, 29) # tue 26 ноября\n",
    "cups.update_hands(3, 25) # wed 27 ноября\n",
    "cups.update_hands(2, 30) # th 28 ноября\n",
    "cups.update_hands(2, 29) # fr 29 ноября\n",
    "cups.update_hands(2, 29) # sat 30 ноября\n",
    "cups.update_hands(2, 33) # sun 1 dec\n",
    "cups.update_hands(2, 24) # mon 2 dec\n",
    "cups.update_hands(2, 25) # tue 3 dec\n",
    "cups.update_hands(3, 25) # wed 4 dec\n",
    "cups.update_hands(3, 29) # th 5 dec\n",
    "# cups.update_hands(1, 29) # fr 6 dec\n",
    "# cups.update_hands(0, 29) # sat 7 dec\n",
    "# cups.update_hands(0, 29) # sun 8 dec\n",
    "\n",
    "\n",
    "cups.grade()"
   ]
  },
  {
   "cell_type": "code",
   "execution_count": 3,
   "id": "69e21f23",
   "metadata": {
    "execution": {
     "iopub.execute_input": "2024-12-06T12:13:49.903446Z",
     "iopub.status.busy": "2024-12-06T12:13:49.903050Z",
     "iopub.status.idle": "2024-12-06T12:13:52.750816Z",
     "shell.execute_reply": "2024-12-06T12:13:52.749481Z"
    },
    "papermill": {
     "duration": 2.856224,
     "end_time": "2024-12-06T12:13:52.753440",
     "exception": false,
     "start_time": "2024-12-06T12:13:49.897216",
     "status": "completed"
    },
    "tags": []
   },
   "outputs": [
    {
     "data": {
      "text/html": [
       "        <script type=\"text/javascript\">\n",
       "        window.PlotlyConfig = {MathJaxConfig: 'local'};\n",
       "        if (window.MathJax && window.MathJax.Hub && window.MathJax.Hub.Config) {window.MathJax.Hub.Config({SVG: {font: \"STIX-Web\"}});}\n",
       "        if (typeof require !== 'undefined') {\n",
       "        require.undef(\"plotly\");\n",
       "        requirejs.config({\n",
       "            paths: {\n",
       "                'plotly': ['https://cdn.plot.ly/plotly-2.32.0.min']\n",
       "            }\n",
       "        });\n",
       "        require(['plotly'], function(Plotly) {\n",
       "            window._Plotly = Plotly;\n",
       "        });\n",
       "        }\n",
       "        </script>\n",
       "        "
      ]
     },
     "metadata": {},
     "output_type": "display_data"
    },
    {
     "data": {
      "text/html": [
       "<div>                            <div id=\"ffdc3a65-fe4d-4ba3-9e6b-220cf524b55d\" class=\"plotly-graph-div\" style=\"height:525px; width:100%;\"></div>            <script type=\"text/javascript\">                require([\"plotly\"], function(Plotly) {                    window.PLOTLYENV=window.PLOTLYENV || {};                                    if (document.getElementById(\"ffdc3a65-fe4d-4ba3-9e6b-220cf524b55d\")) {                    Plotly.newPlot(                        \"ffdc3a65-fe4d-4ba3-9e6b-220cf524b55d\",                        [{\"alignmentgroup\":\"True\",\"box\":{\"visible\":true},\"hovertemplate\":\"option=%{x}\\u003cbr\\u003evalue=%{y}\\u003cextra\\u003e\\u003c\\u002fextra\\u003e\",\"legendgroup\":\"\",\"marker\":{\"color\":\"#636efa\"},\"name\":\"\",\"offsetgroup\":\"\",\"orientation\":\"v\",\"points\":\"all\",\"scalegroup\":\"True\",\"showlegend\":false,\"x\":[0,2,1,3,4,3,1,1,4,0,2,0,1,2,3,3,2,2,2,2,2,2,3,3],\"x0\":\" \",\"xaxis\":\"x\",\"y\":[32,33,35,34,34,34,34,43,38,36,33,37,32,28,29,25,30,29,29,33,24,25,25,29],\"y0\":\" \",\"yaxis\":\"y\",\"type\":\"violin\"}],                        {\"template\":{\"data\":{\"histogram2dcontour\":[{\"type\":\"histogram2dcontour\",\"colorbar\":{\"outlinewidth\":0,\"ticks\":\"\"},\"colorscale\":[[0.0,\"#0d0887\"],[0.1111111111111111,\"#46039f\"],[0.2222222222222222,\"#7201a8\"],[0.3333333333333333,\"#9c179e\"],[0.4444444444444444,\"#bd3786\"],[0.5555555555555556,\"#d8576b\"],[0.6666666666666666,\"#ed7953\"],[0.7777777777777778,\"#fb9f3a\"],[0.8888888888888888,\"#fdca26\"],[1.0,\"#f0f921\"]]}],\"choropleth\":[{\"type\":\"choropleth\",\"colorbar\":{\"outlinewidth\":0,\"ticks\":\"\"}}],\"histogram2d\":[{\"type\":\"histogram2d\",\"colorbar\":{\"outlinewidth\":0,\"ticks\":\"\"},\"colorscale\":[[0.0,\"#0d0887\"],[0.1111111111111111,\"#46039f\"],[0.2222222222222222,\"#7201a8\"],[0.3333333333333333,\"#9c179e\"],[0.4444444444444444,\"#bd3786\"],[0.5555555555555556,\"#d8576b\"],[0.6666666666666666,\"#ed7953\"],[0.7777777777777778,\"#fb9f3a\"],[0.8888888888888888,\"#fdca26\"],[1.0,\"#f0f921\"]]}],\"heatmap\":[{\"type\":\"heatmap\",\"colorbar\":{\"outlinewidth\":0,\"ticks\":\"\"},\"colorscale\":[[0.0,\"#0d0887\"],[0.1111111111111111,\"#46039f\"],[0.2222222222222222,\"#7201a8\"],[0.3333333333333333,\"#9c179e\"],[0.4444444444444444,\"#bd3786\"],[0.5555555555555556,\"#d8576b\"],[0.6666666666666666,\"#ed7953\"],[0.7777777777777778,\"#fb9f3a\"],[0.8888888888888888,\"#fdca26\"],[1.0,\"#f0f921\"]]}],\"heatmapgl\":[{\"type\":\"heatmapgl\",\"colorbar\":{\"outlinewidth\":0,\"ticks\":\"\"},\"colorscale\":[[0.0,\"#0d0887\"],[0.1111111111111111,\"#46039f\"],[0.2222222222222222,\"#7201a8\"],[0.3333333333333333,\"#9c179e\"],[0.4444444444444444,\"#bd3786\"],[0.5555555555555556,\"#d8576b\"],[0.6666666666666666,\"#ed7953\"],[0.7777777777777778,\"#fb9f3a\"],[0.8888888888888888,\"#fdca26\"],[1.0,\"#f0f921\"]]}],\"contourcarpet\":[{\"type\":\"contourcarpet\",\"colorbar\":{\"outlinewidth\":0,\"ticks\":\"\"}}],\"contour\":[{\"type\":\"contour\",\"colorbar\":{\"outlinewidth\":0,\"ticks\":\"\"},\"colorscale\":[[0.0,\"#0d0887\"],[0.1111111111111111,\"#46039f\"],[0.2222222222222222,\"#7201a8\"],[0.3333333333333333,\"#9c179e\"],[0.4444444444444444,\"#bd3786\"],[0.5555555555555556,\"#d8576b\"],[0.6666666666666666,\"#ed7953\"],[0.7777777777777778,\"#fb9f3a\"],[0.8888888888888888,\"#fdca26\"],[1.0,\"#f0f921\"]]}],\"surface\":[{\"type\":\"surface\",\"colorbar\":{\"outlinewidth\":0,\"ticks\":\"\"},\"colorscale\":[[0.0,\"#0d0887\"],[0.1111111111111111,\"#46039f\"],[0.2222222222222222,\"#7201a8\"],[0.3333333333333333,\"#9c179e\"],[0.4444444444444444,\"#bd3786\"],[0.5555555555555556,\"#d8576b\"],[0.6666666666666666,\"#ed7953\"],[0.7777777777777778,\"#fb9f3a\"],[0.8888888888888888,\"#fdca26\"],[1.0,\"#f0f921\"]]}],\"mesh3d\":[{\"type\":\"mesh3d\",\"colorbar\":{\"outlinewidth\":0,\"ticks\":\"\"}}],\"scatter\":[{\"fillpattern\":{\"fillmode\":\"overlay\",\"size\":10,\"solidity\":0.2},\"type\":\"scatter\"}],\"parcoords\":[{\"type\":\"parcoords\",\"line\":{\"colorbar\":{\"outlinewidth\":0,\"ticks\":\"\"}}}],\"scatterpolargl\":[{\"type\":\"scatterpolargl\",\"marker\":{\"colorbar\":{\"outlinewidth\":0,\"ticks\":\"\"}}}],\"bar\":[{\"error_x\":{\"color\":\"#2a3f5f\"},\"error_y\":{\"color\":\"#2a3f5f\"},\"marker\":{\"line\":{\"color\":\"#E5ECF6\",\"width\":0.5},\"pattern\":{\"fillmode\":\"overlay\",\"size\":10,\"solidity\":0.2}},\"type\":\"bar\"}],\"scattergeo\":[{\"type\":\"scattergeo\",\"marker\":{\"colorbar\":{\"outlinewidth\":0,\"ticks\":\"\"}}}],\"scatterpolar\":[{\"type\":\"scatterpolar\",\"marker\":{\"colorbar\":{\"outlinewidth\":0,\"ticks\":\"\"}}}],\"histogram\":[{\"marker\":{\"pattern\":{\"fillmode\":\"overlay\",\"size\":10,\"solidity\":0.2}},\"type\":\"histogram\"}],\"scattergl\":[{\"type\":\"scattergl\",\"marker\":{\"colorbar\":{\"outlinewidth\":0,\"ticks\":\"\"}}}],\"scatter3d\":[{\"type\":\"scatter3d\",\"line\":{\"colorbar\":{\"outlinewidth\":0,\"ticks\":\"\"}},\"marker\":{\"colorbar\":{\"outlinewidth\":0,\"ticks\":\"\"}}}],\"scattermapbox\":[{\"type\":\"scattermapbox\",\"marker\":{\"colorbar\":{\"outlinewidth\":0,\"ticks\":\"\"}}}],\"scatterternary\":[{\"type\":\"scatterternary\",\"marker\":{\"colorbar\":{\"outlinewidth\":0,\"ticks\":\"\"}}}],\"scattercarpet\":[{\"type\":\"scattercarpet\",\"marker\":{\"colorbar\":{\"outlinewidth\":0,\"ticks\":\"\"}}}],\"carpet\":[{\"aaxis\":{\"endlinecolor\":\"#2a3f5f\",\"gridcolor\":\"white\",\"linecolor\":\"white\",\"minorgridcolor\":\"white\",\"startlinecolor\":\"#2a3f5f\"},\"baxis\":{\"endlinecolor\":\"#2a3f5f\",\"gridcolor\":\"white\",\"linecolor\":\"white\",\"minorgridcolor\":\"white\",\"startlinecolor\":\"#2a3f5f\"},\"type\":\"carpet\"}],\"table\":[{\"cells\":{\"fill\":{\"color\":\"#EBF0F8\"},\"line\":{\"color\":\"white\"}},\"header\":{\"fill\":{\"color\":\"#C8D4E3\"},\"line\":{\"color\":\"white\"}},\"type\":\"table\"}],\"barpolar\":[{\"marker\":{\"line\":{\"color\":\"#E5ECF6\",\"width\":0.5},\"pattern\":{\"fillmode\":\"overlay\",\"size\":10,\"solidity\":0.2}},\"type\":\"barpolar\"}],\"pie\":[{\"automargin\":true,\"type\":\"pie\"}]},\"layout\":{\"autotypenumbers\":\"strict\",\"colorway\":[\"#636efa\",\"#EF553B\",\"#00cc96\",\"#ab63fa\",\"#FFA15A\",\"#19d3f3\",\"#FF6692\",\"#B6E880\",\"#FF97FF\",\"#FECB52\"],\"font\":{\"color\":\"#2a3f5f\"},\"hovermode\":\"closest\",\"hoverlabel\":{\"align\":\"left\"},\"paper_bgcolor\":\"white\",\"plot_bgcolor\":\"#E5ECF6\",\"polar\":{\"bgcolor\":\"#E5ECF6\",\"angularaxis\":{\"gridcolor\":\"white\",\"linecolor\":\"white\",\"ticks\":\"\"},\"radialaxis\":{\"gridcolor\":\"white\",\"linecolor\":\"white\",\"ticks\":\"\"}},\"ternary\":{\"bgcolor\":\"#E5ECF6\",\"aaxis\":{\"gridcolor\":\"white\",\"linecolor\":\"white\",\"ticks\":\"\"},\"baxis\":{\"gridcolor\":\"white\",\"linecolor\":\"white\",\"ticks\":\"\"},\"caxis\":{\"gridcolor\":\"white\",\"linecolor\":\"white\",\"ticks\":\"\"}},\"coloraxis\":{\"colorbar\":{\"outlinewidth\":0,\"ticks\":\"\"}},\"colorscale\":{\"sequential\":[[0.0,\"#0d0887\"],[0.1111111111111111,\"#46039f\"],[0.2222222222222222,\"#7201a8\"],[0.3333333333333333,\"#9c179e\"],[0.4444444444444444,\"#bd3786\"],[0.5555555555555556,\"#d8576b\"],[0.6666666666666666,\"#ed7953\"],[0.7777777777777778,\"#fb9f3a\"],[0.8888888888888888,\"#fdca26\"],[1.0,\"#f0f921\"]],\"sequentialminus\":[[0.0,\"#0d0887\"],[0.1111111111111111,\"#46039f\"],[0.2222222222222222,\"#7201a8\"],[0.3333333333333333,\"#9c179e\"],[0.4444444444444444,\"#bd3786\"],[0.5555555555555556,\"#d8576b\"],[0.6666666666666666,\"#ed7953\"],[0.7777777777777778,\"#fb9f3a\"],[0.8888888888888888,\"#fdca26\"],[1.0,\"#f0f921\"]],\"diverging\":[[0,\"#8e0152\"],[0.1,\"#c51b7d\"],[0.2,\"#de77ae\"],[0.3,\"#f1b6da\"],[0.4,\"#fde0ef\"],[0.5,\"#f7f7f7\"],[0.6,\"#e6f5d0\"],[0.7,\"#b8e186\"],[0.8,\"#7fbc41\"],[0.9,\"#4d9221\"],[1,\"#276419\"]]},\"xaxis\":{\"gridcolor\":\"white\",\"linecolor\":\"white\",\"ticks\":\"\",\"title\":{\"standoff\":15},\"zerolinecolor\":\"white\",\"automargin\":true,\"zerolinewidth\":2},\"yaxis\":{\"gridcolor\":\"white\",\"linecolor\":\"white\",\"ticks\":\"\",\"title\":{\"standoff\":15},\"zerolinecolor\":\"white\",\"automargin\":true,\"zerolinewidth\":2},\"scene\":{\"xaxis\":{\"backgroundcolor\":\"#E5ECF6\",\"gridcolor\":\"white\",\"linecolor\":\"white\",\"showbackground\":true,\"ticks\":\"\",\"zerolinecolor\":\"white\",\"gridwidth\":2},\"yaxis\":{\"backgroundcolor\":\"#E5ECF6\",\"gridcolor\":\"white\",\"linecolor\":\"white\",\"showbackground\":true,\"ticks\":\"\",\"zerolinecolor\":\"white\",\"gridwidth\":2},\"zaxis\":{\"backgroundcolor\":\"#E5ECF6\",\"gridcolor\":\"white\",\"linecolor\":\"white\",\"showbackground\":true,\"ticks\":\"\",\"zerolinecolor\":\"white\",\"gridwidth\":2}},\"shapedefaults\":{\"line\":{\"color\":\"#2a3f5f\"}},\"annotationdefaults\":{\"arrowcolor\":\"#2a3f5f\",\"arrowhead\":0,\"arrowwidth\":1},\"geo\":{\"bgcolor\":\"white\",\"landcolor\":\"#E5ECF6\",\"subunitcolor\":\"white\",\"showland\":true,\"showlakes\":true,\"lakecolor\":\"white\"},\"title\":{\"x\":0.05},\"mapbox\":{\"style\":\"light\"}}},\"xaxis\":{\"anchor\":\"y\",\"domain\":[0.0,1.0],\"title\":{\"text\":\"option\"}},\"yaxis\":{\"anchor\":\"x\",\"domain\":[0.0,1.0],\"title\":{\"text\":\"value\"}},\"legend\":{\"tracegroupgap\":0},\"margin\":{\"t\":60},\"violinmode\":\"group\"},                        {\"responsive\": true}                    ).then(function(){\n",
       "                            \n",
       "var gd = document.getElementById('ffdc3a65-fe4d-4ba3-9e6b-220cf524b55d');\n",
       "var x = new MutationObserver(function (mutations, observer) {{\n",
       "        var display = window.getComputedStyle(gd).display;\n",
       "        if (!display || display === 'none') {{\n",
       "            console.log([gd, 'removed!']);\n",
       "            Plotly.purge(gd);\n",
       "            observer.disconnect();\n",
       "        }}\n",
       "}});\n",
       "\n",
       "// Listen for the removal of the full notebook cells\n",
       "var notebookContainer = gd.closest('#notebook-container');\n",
       "if (notebookContainer) {{\n",
       "    x.observe(notebookContainer, {childList: true});\n",
       "}}\n",
       "\n",
       "// Listen for the clearing of the current output cell\n",
       "var outputEl = gd.closest('.output');\n",
       "if (outputEl) {{\n",
       "    x.observe(outputEl, {childList: true});\n",
       "}}\n",
       "\n",
       "                        })                };                });            </script>        </div>"
      ]
     },
     "metadata": {},
     "output_type": "display_data"
    }
   ],
   "source": [
    "import plotly.express as px\n",
    "\n",
    "fig = px.violin(cups.history, y=\"value\", x=\"option\", box=True, points=\"all\",\n",
    "          hover_data=cups.history.columns)\n",
    "fig.show()"
   ]
  },
  {
   "cell_type": "code",
   "execution_count": 4,
   "id": "ffc3218b",
   "metadata": {
    "execution": {
     "iopub.execute_input": "2024-12-06T12:13:52.765536Z",
     "iopub.status.busy": "2024-12-06T12:13:52.765067Z",
     "iopub.status.idle": "2024-12-06T12:13:53.986402Z",
     "shell.execute_reply": "2024-12-06T12:13:53.984993Z"
    },
    "papermill": {
     "duration": 1.231111,
     "end_time": "2024-12-06T12:13:53.989543",
     "exception": false,
     "start_time": "2024-12-06T12:13:52.758432",
     "status": "completed"
    },
    "tags": []
   },
   "outputs": [
    {
     "data": {
      "image/png": "[encoded data removed]",
      "text/plain": [
       "<Figure size 1000x600 with 1 Axes>"
      ]
     },
     "metadata": {},
     "output_type": "display_data"
    }
   ],
   "source": [
    "import seaborn as sns\n",
    "import matplotlib.pyplot as plt\n",
    "grouped_data = [group['value'].values for name, group in cups.history.groupby('option')]\n",
    "fix, ax = plt.subplots(figsize=(10, 6))\n",
    "sns.violinplot(x='option', y='value', data=cups.history, ax=ax)\n",
    "ax.set_title('Violin plot of daly stress distribution for different cups of coffee')\n",
    "ax.set_xlabel('Cups of coffee')\n",
    "ax.set_ylabel('Garmin daily stress')\n",
    "plt.tight_layout()\n",
    "plt.show()"
   ]
  },
  {
   "cell_type": "markdown",
   "id": "b9ed4c43",
   "metadata": {
    "papermill": {
     "duration": 0.005133,
     "end_time": "2024-12-06T12:13:54.000393",
     "exception": false,
     "start_time": "2024-12-06T12:13:53.995260",
     "status": "completed"
    },
    "tags": []
   },
   "source": [
    "# Какой выход из МЦК утром?\n",
    "* Садиться в ту дверь, которая кажется ближе к выходу\n",
    "* считать от выхода на платформу до выхода из крутящихся дверей офиса\n"
   ]
  },
  {
   "cell_type": "code",
   "execution_count": 5,
   "id": "9769f62b",
   "metadata": {
    "execution": {
     "iopub.execute_input": "2024-12-06T12:13:54.014204Z",
     "iopub.status.busy": "2024-12-06T12:13:54.013282Z",
     "iopub.status.idle": "2024-12-06T12:13:54.080131Z",
     "shell.execute_reply": "2024-12-06T12:13:54.078798Z"
    },
    "papermill": {
     "duration": 0.076785,
     "end_time": "2024-12-06T12:13:54.082820",
     "exception": false,
     "start_time": "2024-12-06T12:13:54.006035",
     "status": "completed"
    },
    "tags": []
   },
   "outputs": [
    {
     "data": {
      "text/html": [
       "<div>\n",
       "<style scoped>\n",
       "    .dataframe tbody tr th:only-of-type {\n",
       "        vertical-align: middle;\n",
       "    }\n",
       "\n",
       "    .dataframe tbody tr th {\n",
       "        vertical-align: top;\n",
       "    }\n",
       "\n",
       "    .dataframe thead th {\n",
       "        text-align: right;\n",
       "    }\n",
       "</style>\n",
       "<table border=\"1\" class=\"dataframe\">\n",
       "  <thead>\n",
       "    <tr style=\"text-align: right;\">\n",
       "      <th></th>\n",
       "      <th>name</th>\n",
       "      <th>mu</th>\n",
       "      <th>Te</th>\n",
       "      <th>alpha</th>\n",
       "      <th>beta</th>\n",
       "      <th>tau</th>\n",
       "      <th>theta</th>\n",
       "      <th>SD</th>\n",
       "      <th>var95</th>\n",
       "    </tr>\n",
       "  </thead>\n",
       "  <tbody>\n",
       "    <tr>\n",
       "      <th>0</th>\n",
       "      <td>мцк</td>\n",
       "      <td>8.878333</td>\n",
       "      <td>3.0</td>\n",
       "      <td>2.0</td>\n",
       "      <td>1.010886</td>\n",
       "      <td>1.898784</td>\n",
       "      <td>8.204498</td>\n",
       "      <td>0.725709</td>\n",
       "      <td>9.626861</td>\n",
       "    </tr>\n",
       "    <tr>\n",
       "      <th>1</th>\n",
       "      <td>мцд</td>\n",
       "      <td>8.169167</td>\n",
       "      <td>8.0</td>\n",
       "      <td>4.5</td>\n",
       "      <td>1.502822</td>\n",
       "      <td>1.935379</td>\n",
       "      <td>8.218938</td>\n",
       "      <td>0.718815</td>\n",
       "      <td>9.627789</td>\n",
       "    </tr>\n",
       "  </tbody>\n",
       "</table>\n",
       "</div>"
      ],
      "text/plain": [
       "  name        mu   Te  alpha      beta       tau     theta        SD     var95\n",
       "0  мцк  8.878333  3.0    2.0  1.010886  1.898784  8.204498  0.725709  9.626861\n",
       "1  мцд  8.169167  8.0    4.5  1.502822  1.935379  8.218938  0.718815  9.627789"
      ]
     },
     "execution_count": 5,
     "metadata": {},
     "output_type": "execute_result"
    }
   ],
   "source": [
    "morning_exit = HandsTable(options_list=[\"мцк\",\"мцд\"], minimize=True)\n",
    "# 3 мцк\n",
    "# 6 мцд\n",
    "morning_exit.update_hands(\"мцк\", '0:08:03.7') # вторник 19 ноября\n",
    "morning_exit.update_hands(\"мцд\", '0:08:40') # среда 20 ноября\n",
    "morning_exit.update_hands(\"мцк\", '0:09:23.4') # mon 25 ноября\n",
    "morning_exit.update_hands(\"мцд\", '0:07:46.5') # вторник 26 ноября\n",
    "morning_exit.update_hands(\"мцд\", '0:07:27.9') # среда 27 ноября\n",
    "morning_exit.update_hands(\"мцк\", '0:09:11') # пятница 29 ноября\n",
    "morning_exit.update_hands(\"мцд\", '0:08:17.6') # понедельник 2 декабря\n",
    "morning_exit.update_hands(\"мцд\", '0:08:28.4') # вторник 3 декабря\n",
    "morning_exit.update_hands(\"мцд\", '0:08:28.4') # wed 4 dec\n",
    "morning_exit.update_hands(\"мцд\", '0:07:26') # th 5 dec\n",
    "morning_exit.update_hands(\"мцд\", '0:08:46.4') # fr 6 dec\n",
    "\n",
    "morning_exit.grade()"
   ]
  },
  {
   "cell_type": "code",
   "execution_count": 6,
   "id": "5ccfb208",
   "metadata": {
    "execution": {
     "iopub.execute_input": "2024-12-06T12:13:54.097391Z",
     "iopub.status.busy": "2024-12-06T12:13:54.096275Z",
     "iopub.status.idle": "2024-12-06T12:13:54.153331Z",
     "shell.execute_reply": "2024-12-06T12:13:54.152116Z"
    },
    "papermill": {
     "duration": 0.067127,
     "end_time": "2024-12-06T12:13:54.155670",
     "exception": false,
     "start_time": "2024-12-06T12:13:54.088543",
     "status": "completed"
    },
    "tags": []
   },
   "outputs": [
    {
     "data": {
      "text/html": [
       "<div>                            <div id=\"e065179b-c4db-4bd5-b91e-194c3693fee0\" class=\"plotly-graph-div\" style=\"height:525px; width:100%;\"></div>            <script type=\"text/javascript\">                require([\"plotly\"], function(Plotly) {                    window.PLOTLYENV=window.PLOTLYENV || {};                                    if (document.getElementById(\"e065179b-c4db-4bd5-b91e-194c3693fee0\")) {                    Plotly.newPlot(                        \"e065179b-c4db-4bd5-b91e-194c3693fee0\",                        [{\"alignmentgroup\":\"True\",\"box\":{\"visible\":true},\"hovertemplate\":\"option=%{x}\\u003cbr\\u003evalue=%{y}\\u003cextra\\u003e\\u003c\\u002fextra\\u003e\",\"legendgroup\":\"\",\"marker\":{\"color\":\"#636efa\"},\"name\":\"\",\"offsetgroup\":\"\",\"orientation\":\"v\",\"points\":\"all\",\"scalegroup\":\"True\",\"showlegend\":false,\"x\":[\"мцк\",\"мцд\",\"мцк\",\"мцд\",\"мцд\",\"мцк\",\"мцд\",\"мцд\",\"мцд\",\"мцд\",\"мцд\"],\"x0\":\" \",\"xaxis\":\"x\",\"y\":[8.061666666666666,8.666666666666666,9.389999999999999,7.775,7.465,9.183333333333334,8.293333333333333,8.473333333333333,8.473333333333333,7.433333333333334,8.773333333333333],\"y0\":\" \",\"yaxis\":\"y\",\"type\":\"violin\"}],                        {\"template\":{\"data\":{\"histogram2dcontour\":[{\"type\":\"histogram2dcontour\",\"colorbar\":{\"outlinewidth\":0,\"ticks\":\"\"},\"colorscale\":[[0.0,\"#0d0887\"],[0.1111111111111111,\"#46039f\"],[0.2222222222222222,\"#7201a8\"],[0.3333333333333333,\"#9c179e\"],[0.4444444444444444,\"#bd3786\"],[0.5555555555555556,\"#d8576b\"],[0.6666666666666666,\"#ed7953\"],[0.7777777777777778,\"#fb9f3a\"],[0.8888888888888888,\"#fdca26\"],[1.0,\"#f0f921\"]]}],\"choropleth\":[{\"type\":\"choropleth\",\"colorbar\":{\"outlinewidth\":0,\"ticks\":\"\"}}],\"histogram2d\":[{\"type\":\"histogram2d\",\"colorbar\":{\"outlinewidth\":0,\"ticks\":\"\"},\"colorscale\":[[0.0,\"#0d0887\"],[0.1111111111111111,\"#46039f\"],[0.2222222222222222,\"#7201a8\"],[0.3333333333333333,\"#9c179e\"],[0.4444444444444444,\"#bd3786\"],[0.5555555555555556,\"#d8576b\"],[0.6666666666666666,\"#ed7953\"],[0.7777777777777778,\"#fb9f3a\"],[0.8888888888888888,\"#fdca26\"],[1.0,\"#f0f921\"]]}],\"heatmap\":[{\"type\":\"heatmap\",\"colorbar\":{\"outlinewidth\":0,\"ticks\":\"\"},\"colorscale\":[[0.0,\"#0d0887\"],[0.1111111111111111,\"#46039f\"],[0.2222222222222222,\"#7201a8\"],[0.3333333333333333,\"#9c179e\"],[0.4444444444444444,\"#bd3786\"],[0.5555555555555556,\"#d8576b\"],[0.6666666666666666,\"#ed7953\"],[0.7777777777777778,\"#fb9f3a\"],[0.8888888888888888,\"#fdca26\"],[1.0,\"#f0f921\"]]}],\"heatmapgl\":[{\"type\":\"heatmapgl\",\"colorbar\":{\"outlinewidth\":0,\"ticks\":\"\"},\"colorscale\":[[0.0,\"#0d0887\"],[0.1111111111111111,\"#46039f\"],[0.2222222222222222,\"#7201a8\"],[0.3333333333333333,\"#9c179e\"],[0.4444444444444444,\"#bd3786\"],[0.5555555555555556,\"#d8576b\"],[0.6666666666666666,\"#ed7953\"],[0.7777777777777778,\"#fb9f3a\"],[0.8888888888888888,\"#fdca26\"],[1.0,\"#f0f921\"]]}],\"contourcarpet\":[{\"type\":\"contourcarpet\",\"colorbar\":{\"outlinewidth\":0,\"ticks\":\"\"}}],\"contour\":[{\"type\":\"contour\",\"colorbar\":{\"outlinewidth\":0,\"ticks\":\"\"},\"colorscale\":[[0.0,\"#0d0887\"],[0.1111111111111111,\"#46039f\"],[0.2222222222222222,\"#7201a8\"],[0.3333333333333333,\"#9c179e\"],[0.4444444444444444,\"#bd3786\"],[0.5555555555555556,\"#d8576b\"],[0.6666666666666666,\"#ed7953\"],[0.7777777777777778,\"#fb9f3a\"],[0.8888888888888888,\"#fdca26\"],[1.0,\"#f0f921\"]]}],\"surface\":[{\"type\":\"surface\",\"colorbar\":{\"outlinewidth\":0,\"ticks\":\"\"},\"colorscale\":[[0.0,\"#0d0887\"],[0.1111111111111111,\"#46039f\"],[0.2222222222222222,\"#7201a8\"],[0.3333333333333333,\"#9c179e\"],[0.4444444444444444,\"#bd3786\"],[0.5555555555555556,\"#d8576b\"],[0.6666666666666666,\"#ed7953\"],[0.7777777777777778,\"#fb9f3a\"],[0.8888888888888888,\"#fdca26\"],[1.0,\"#f0f921\"]]}],\"mesh3d\":[{\"type\":\"mesh3d\",\"colorbar\":{\"outlinewidth\":0,\"ticks\":\"\"}}],\"scatter\":[{\"fillpattern\":{\"fillmode\":\"overlay\",\"size\":10,\"solidity\":0.2},\"type\":\"scatter\"}],\"parcoords\":[{\"type\":\"parcoords\",\"line\":{\"colorbar\":{\"outlinewidth\":0,\"ticks\":\"\"}}}],\"scatterpolargl\":[{\"type\":\"scatterpolargl\",\"marker\":{\"colorbar\":{\"outlinewidth\":0,\"ticks\":\"\"}}}],\"bar\":[{\"error_x\":{\"color\":\"#2a3f5f\"},\"error_y\":{\"color\":\"#2a3f5f\"},\"marker\":{\"line\":{\"color\":\"#E5ECF6\",\"width\":0.5},\"pattern\":{\"fillmode\":\"overlay\",\"size\":10,\"solidity\":0.2}},\"type\":\"bar\"}],\"scattergeo\":[{\"type\":\"scattergeo\",\"marker\":{\"colorbar\":{\"outlinewidth\":0,\"ticks\":\"\"}}}],\"scatterpolar\":[{\"type\":\"scatterpolar\",\"marker\":{\"colorbar\":{\"outlinewidth\":0,\"ticks\":\"\"}}}],\"histogram\":[{\"marker\":{\"pattern\":{\"fillmode\":\"overlay\",\"size\":10,\"solidity\":0.2}},\"type\":\"histogram\"}],\"scattergl\":[{\"type\":\"scattergl\",\"marker\":{\"colorbar\":{\"outlinewidth\":0,\"ticks\":\"\"}}}],\"scatter3d\":[{\"type\":\"scatter3d\",\"line\":{\"colorbar\":{\"outlinewidth\":0,\"ticks\":\"\"}},\"marker\":{\"colorbar\":{\"outlinewidth\":0,\"ticks\":\"\"}}}],\"scattermapbox\":[{\"type\":\"scattermapbox\",\"marker\":{\"colorbar\":{\"outlinewidth\":0,\"ticks\":\"\"}}}],\"scatterternary\":[{\"type\":\"scatterternary\",\"marker\":{\"colorbar\":{\"outlinewidth\":0,\"ticks\":\"\"}}}],\"scattercarpet\":[{\"type\":\"scattercarpet\",\"marker\":{\"colorbar\":{\"outlinewidth\":0,\"ticks\":\"\"}}}],\"carpet\":[{\"aaxis\":{\"endlinecolor\":\"#2a3f5f\",\"gridcolor\":\"white\",\"linecolor\":\"white\",\"minorgridcolor\":\"white\",\"startlinecolor\":\"#2a3f5f\"},\"baxis\":{\"endlinecolor\":\"#2a3f5f\",\"gridcolor\":\"white\",\"linecolor\":\"white\",\"minorgridcolor\":\"white\",\"startlinecolor\":\"#2a3f5f\"},\"type\":\"carpet\"}],\"table\":[{\"cells\":{\"fill\":{\"color\":\"#EBF0F8\"},\"line\":{\"color\":\"white\"}},\"header\":{\"fill\":{\"color\":\"#C8D4E3\"},\"line\":{\"color\":\"white\"}},\"type\":\"table\"}],\"barpolar\":[{\"marker\":{\"line\":{\"color\":\"#E5ECF6\",\"width\":0.5},\"pattern\":{\"fillmode\":\"overlay\",\"size\":10,\"solidity\":0.2}},\"type\":\"barpolar\"}],\"pie\":[{\"automargin\":true,\"type\":\"pie\"}]},\"layout\":{\"autotypenumbers\":\"strict\",\"colorway\":[\"#636efa\",\"#EF553B\",\"#00cc96\",\"#ab63fa\",\"#FFA15A\",\"#19d3f3\",\"#FF6692\",\"#B6E880\",\"#FF97FF\",\"#FECB52\"],\"font\":{\"color\":\"#2a3f5f\"},\"hovermode\":\"closest\",\"hoverlabel\":{\"align\":\"left\"},\"paper_bgcolor\":\"white\",\"plot_bgcolor\":\"#E5ECF6\",\"polar\":{\"bgcolor\":\"#E5ECF6\",\"angularaxis\":{\"gridcolor\":\"white\",\"linecolor\":\"white\",\"ticks\":\"\"},\"radialaxis\":{\"gridcolor\":\"white\",\"linecolor\":\"white\",\"ticks\":\"\"}},\"ternary\":{\"bgcolor\":\"#E5ECF6\",\"aaxis\":{\"gridcolor\":\"white\",\"linecolor\":\"white\",\"ticks\":\"\"},\"baxis\":{\"gridcolor\":\"white\",\"linecolor\":\"white\",\"ticks\":\"\"},\"caxis\":{\"gridcolor\":\"white\",\"linecolor\":\"white\",\"ticks\":\"\"}},\"coloraxis\":{\"colorbar\":{\"outlinewidth\":0,\"ticks\":\"\"}},\"colorscale\":{\"sequential\":[[0.0,\"#0d0887\"],[0.1111111111111111,\"#46039f\"],[0.2222222222222222,\"#7201a8\"],[0.3333333333333333,\"#9c179e\"],[0.4444444444444444,\"#bd3786\"],[0.5555555555555556,\"#d8576b\"],[0.6666666666666666,\"#ed7953\"],[0.7777777777777778,\"#fb9f3a\"],[0.8888888888888888,\"#fdca26\"],[1.0,\"#f0f921\"]],\"sequentialminus\":[[0.0,\"#0d0887\"],[0.1111111111111111,\"#46039f\"],[0.2222222222222222,\"#7201a8\"],[0.3333333333333333,\"#9c179e\"],[0.4444444444444444,\"#bd3786\"],[0.5555555555555556,\"#d8576b\"],[0.6666666666666666,\"#ed7953\"],[0.7777777777777778,\"#fb9f3a\"],[0.8888888888888888,\"#fdca26\"],[1.0,\"#f0f921\"]],\"diverging\":[[0,\"#8e0152\"],[0.1,\"#c51b7d\"],[0.2,\"#de77ae\"],[0.3,\"#f1b6da\"],[0.4,\"#fde0ef\"],[0.5,\"#f7f7f7\"],[0.6,\"#e6f5d0\"],[0.7,\"#b8e186\"],[0.8,\"#7fbc41\"],[0.9,\"#4d9221\"],[1,\"#276419\"]]},\"xaxis\":{\"gridcolor\":\"white\",\"linecolor\":\"white\",\"ticks\":\"\",\"title\":{\"standoff\":15},\"zerolinecolor\":\"white\",\"automargin\":true,\"zerolinewidth\":2},\"yaxis\":{\"gridcolor\":\"white\",\"linecolor\":\"white\",\"ticks\":\"\",\"title\":{\"standoff\":15},\"zerolinecolor\":\"white\",\"automargin\":true,\"zerolinewidth\":2},\"scene\":{\"xaxis\":{\"backgroundcolor\":\"#E5ECF6\",\"gridcolor\":\"white\",\"linecolor\":\"white\",\"showbackground\":true,\"ticks\":\"\",\"zerolinecolor\":\"white\",\"gridwidth\":2},\"yaxis\":{\"backgroundcolor\":\"#E5ECF6\",\"gridcolor\":\"white\",\"linecolor\":\"white\",\"showbackground\":true,\"ticks\":\"\",\"zerolinecolor\":\"white\",\"gridwidth\":2},\"zaxis\":{\"backgroundcolor\":\"#E5ECF6\",\"gridcolor\":\"white\",\"linecolor\":\"white\",\"showbackground\":true,\"ticks\":\"\",\"zerolinecolor\":\"white\",\"gridwidth\":2}},\"shapedefaults\":{\"line\":{\"color\":\"#2a3f5f\"}},\"annotationdefaults\":{\"arrowcolor\":\"#2a3f5f\",\"arrowhead\":0,\"arrowwidth\":1},\"geo\":{\"bgcolor\":\"white\",\"landcolor\":\"#E5ECF6\",\"subunitcolor\":\"white\",\"showland\":true,\"showlakes\":true,\"lakecolor\":\"white\"},\"title\":{\"x\":0.05},\"mapbox\":{\"style\":\"light\"}}},\"xaxis\":{\"anchor\":\"y\",\"domain\":[0.0,1.0],\"title\":{\"text\":\"option\"}},\"yaxis\":{\"anchor\":\"x\",\"domain\":[0.0,1.0],\"title\":{\"text\":\"value\"}},\"legend\":{\"tracegroupgap\":0},\"margin\":{\"t\":60},\"violinmode\":\"group\"},                        {\"responsive\": true}                    ).then(function(){\n",
       "                            \n",
       "var gd = document.getElementById('e065179b-c4db-4bd5-b91e-194c3693fee0');\n",
       "var x = new MutationObserver(function (mutations, observer) {{\n",
       "        var display = window.getComputedStyle(gd).display;\n",
       "        if (!display || display === 'none') {{\n",
       "            console.log([gd, 'removed!']);\n",
       "            Plotly.purge(gd);\n",
       "            observer.disconnect();\n",
       "        }}\n",
       "}});\n",
       "\n",
       "// Listen for the removal of the full notebook cells\n",
       "var notebookContainer = gd.closest('#notebook-container');\n",
       "if (notebookContainer) {{\n",
       "    x.observe(notebookContainer, {childList: true});\n",
       "}}\n",
       "\n",
       "// Listen for the clearing of the current output cell\n",
       "var outputEl = gd.closest('.output');\n",
       "if (outputEl) {{\n",
       "    x.observe(outputEl, {childList: true});\n",
       "}}\n",
       "\n",
       "                        })                };                });            </script>        </div>"
      ]
     },
     "metadata": {},
     "output_type": "display_data"
    }
   ],
   "source": [
    "fig = px.violin(morning_exit.history, y=\"value\", x=\"option\", box=True, points=\"all\",\n",
    "          hover_data=cups.history.columns)\n",
    "fig.show()"
   ]
  },
  {
   "cell_type": "markdown",
   "id": "d4235aa6",
   "metadata": {
    "papermill": {
     "duration": 0.006711,
     "end_time": "2024-12-06T12:13:54.168266",
     "exception": false,
     "start_time": "2024-12-06T12:13:54.161555",
     "status": "completed"
    },
    "tags": []
   },
   "source": [
    "# Какой вход в МЦК вечером?\n",
    "* Садиться в ту дверь, которая кажется ближе к выходу\n",
    "* считать от выхода из крутящихся дверей до посадки в поезд\n"
   ]
  },
  {
   "cell_type": "code",
   "execution_count": 7,
   "id": "2d86cf4b",
   "metadata": {
    "execution": {
     "iopub.execute_input": "2024-12-06T12:13:54.182100Z",
     "iopub.status.busy": "2024-12-06T12:13:54.181607Z",
     "iopub.status.idle": "2024-12-06T12:13:54.227986Z",
     "shell.execute_reply": "2024-12-06T12:13:54.226779Z"
    },
    "papermill": {
     "duration": 0.056197,
     "end_time": "2024-12-06T12:13:54.230348",
     "exception": false,
     "start_time": "2024-12-06T12:13:54.174151",
     "status": "completed"
    },
    "tags": []
   },
   "outputs": [
    {
     "data": {
      "text/html": [
       "<div>\n",
       "<style scoped>\n",
       "    .dataframe tbody tr th:only-of-type {\n",
       "        vertical-align: middle;\n",
       "    }\n",
       "\n",
       "    .dataframe tbody tr th {\n",
       "        vertical-align: top;\n",
       "    }\n",
       "\n",
       "    .dataframe thead th {\n",
       "        text-align: right;\n",
       "    }\n",
       "</style>\n",
       "<table border=\"1\" class=\"dataframe\">\n",
       "  <thead>\n",
       "    <tr style=\"text-align: right;\">\n",
       "      <th></th>\n",
       "      <th>name</th>\n",
       "      <th>mu</th>\n",
       "      <th>Te</th>\n",
       "      <th>alpha</th>\n",
       "      <th>beta</th>\n",
       "      <th>tau</th>\n",
       "      <th>theta</th>\n",
       "      <th>SD</th>\n",
       "      <th>var95</th>\n",
       "    </tr>\n",
       "  </thead>\n",
       "  <tbody>\n",
       "    <tr>\n",
       "      <th>0</th>\n",
       "      <td>мцк</td>\n",
       "      <td>12.815000</td>\n",
       "      <td>4.0</td>\n",
       "      <td>2.5</td>\n",
       "      <td>6.108492</td>\n",
       "      <td>0.206688</td>\n",
       "      <td>12.680979</td>\n",
       "      <td>2.199593</td>\n",
       "      <td>16.992102</td>\n",
       "    </tr>\n",
       "    <tr>\n",
       "      <th>1</th>\n",
       "      <td>мцд</td>\n",
       "      <td>11.929167</td>\n",
       "      <td>2.0</td>\n",
       "      <td>1.5</td>\n",
       "      <td>15.457556</td>\n",
       "      <td>0.123544</td>\n",
       "      <td>12.450334</td>\n",
       "      <td>2.845041</td>\n",
       "      <td>18.026511</td>\n",
       "    </tr>\n",
       "  </tbody>\n",
       "</table>\n",
       "</div>"
      ],
      "text/plain": [
       "  name         mu   Te  alpha       beta       tau      theta        SD  \\\n",
       "0  мцк  12.815000  4.0    2.5   6.108492  0.206688  12.680979  2.199593   \n",
       "1  мцд  11.929167  2.0    1.5  15.457556  0.123544  12.450334  2.845041   \n",
       "\n",
       "       var95  \n",
       "0  16.992102  \n",
       "1  18.026511  "
      ]
     },
     "execution_count": 7,
     "metadata": {},
     "output_type": "execute_result"
    }
   ],
   "source": [
    "evening_entrance = HandsTable(options_list=[\"мцк\",\"мцд\"], minimize=True)\n",
    "# 3 мцк\n",
    "# 6 мцд\n",
    "evening_entrance.update_hands(\"мцд\", '0:08:03.7') # четверг 21 ноября\n",
    "evening_entrance.update_hands(\"мцк\", '0:11:14') # четверг 28 ноября\n",
    "evening_entrance.update_hands(\"мцд\", '0:15:47.8') # понедельник 2 декабря\n",
    "evening_entrance.update_hands(\"мцк\", '0:11:03') # tue 3 dec\n",
    "evening_entrance.update_hands(\"мцк\", '0:14:29.3') # wed 4 dec\n",
    "evening_entrance.update_hands(\"мцк\", '0:14:29.3') # fr 06 dec\n",
    "\n",
    "evening_entrance.grade()"
   ]
  },
  {
   "cell_type": "code",
   "execution_count": 8,
   "id": "83b0c25d",
   "metadata": {
    "execution": {
     "iopub.execute_input": "2024-12-06T12:13:54.244522Z",
     "iopub.status.busy": "2024-12-06T12:13:54.244077Z",
     "iopub.status.idle": "2024-12-06T12:13:54.303557Z",
     "shell.execute_reply": "2024-12-06T12:13:54.302345Z"
    },
    "papermill": {
     "duration": 0.069857,
     "end_time": "2024-12-06T12:13:54.306340",
     "exception": false,
     "start_time": "2024-12-06T12:13:54.236483",
     "status": "completed"
    },
    "tags": []
   },
   "outputs": [
    {
     "data": {
      "text/html": [
       "<div>                            <div id=\"542c8d19-b040-47be-bbb7-1c5571b62a54\" class=\"plotly-graph-div\" style=\"height:525px; width:100%;\"></div>            <script type=\"text/javascript\">                require([\"plotly\"], function(Plotly) {                    window.PLOTLYENV=window.PLOTLYENV || {};                                    if (document.getElementById(\"542c8d19-b040-47be-bbb7-1c5571b62a54\")) {                    Plotly.newPlot(                        \"542c8d19-b040-47be-bbb7-1c5571b62a54\",                        [{\"alignmentgroup\":\"True\",\"box\":{\"visible\":true},\"hovertemplate\":\"option=%{x}\\u003cbr\\u003evalue=%{y}\\u003cextra\\u003e\\u003c\\u002fextra\\u003e\",\"legendgroup\":\"\",\"marker\":{\"color\":\"#636efa\"},\"name\":\"\",\"offsetgroup\":\"\",\"orientation\":\"v\",\"points\":\"all\",\"scalegroup\":\"True\",\"showlegend\":false,\"x\":[\"мцд\",\"мцк\",\"мцд\",\"мцк\",\"мцк\",\"мцк\"],\"x0\":\" \",\"xaxis\":\"x\",\"y\":[8.061666666666666,11.233333333333333,15.796666666666665,11.05,14.488333333333333,14.488333333333333],\"y0\":\" \",\"yaxis\":\"y\",\"type\":\"violin\"}],                        {\"template\":{\"data\":{\"histogram2dcontour\":[{\"type\":\"histogram2dcontour\",\"colorbar\":{\"outlinewidth\":0,\"ticks\":\"\"},\"colorscale\":[[0.0,\"#0d0887\"],[0.1111111111111111,\"#46039f\"],[0.2222222222222222,\"#7201a8\"],[0.3333333333333333,\"#9c179e\"],[0.4444444444444444,\"#bd3786\"],[0.5555555555555556,\"#d8576b\"],[0.6666666666666666,\"#ed7953\"],[0.7777777777777778,\"#fb9f3a\"],[0.8888888888888888,\"#fdca26\"],[1.0,\"#f0f921\"]]}],\"choropleth\":[{\"type\":\"choropleth\",\"colorbar\":{\"outlinewidth\":0,\"ticks\":\"\"}}],\"histogram2d\":[{\"type\":\"histogram2d\",\"colorbar\":{\"outlinewidth\":0,\"ticks\":\"\"},\"colorscale\":[[0.0,\"#0d0887\"],[0.1111111111111111,\"#46039f\"],[0.2222222222222222,\"#7201a8\"],[0.3333333333333333,\"#9c179e\"],[0.4444444444444444,\"#bd3786\"],[0.5555555555555556,\"#d8576b\"],[0.6666666666666666,\"#ed7953\"],[0.7777777777777778,\"#fb9f3a\"],[0.8888888888888888,\"#fdca26\"],[1.0,\"#f0f921\"]]}],\"heatmap\":[{\"type\":\"heatmap\",\"colorbar\":{\"outlinewidth\":0,\"ticks\":\"\"},\"colorscale\":[[0.0,\"#0d0887\"],[0.1111111111111111,\"#46039f\"],[0.2222222222222222,\"#7201a8\"],[0.3333333333333333,\"#9c179e\"],[0.4444444444444444,\"#bd3786\"],[0.5555555555555556,\"#d8576b\"],[0.6666666666666666,\"#ed7953\"],[0.7777777777777778,\"#fb9f3a\"],[0.8888888888888888,\"#fdca26\"],[1.0,\"#f0f921\"]]}],\"heatmapgl\":[{\"type\":\"heatmapgl\",\"colorbar\":{\"outlinewidth\":0,\"ticks\":\"\"},\"colorscale\":[[0.0,\"#0d0887\"],[0.1111111111111111,\"#46039f\"],[0.2222222222222222,\"#7201a8\"],[0.3333333333333333,\"#9c179e\"],[0.4444444444444444,\"#bd3786\"],[0.5555555555555556,\"#d8576b\"],[0.6666666666666666,\"#ed7953\"],[0.7777777777777778,\"#fb9f3a\"],[0.8888888888888888,\"#fdca26\"],[1.0,\"#f0f921\"]]}],\"contourcarpet\":[{\"type\":\"contourcarpet\",\"colorbar\":{\"outlinewidth\":0,\"ticks\":\"\"}}],\"contour\":[{\"type\":\"contour\",\"colorbar\":{\"outlinewidth\":0,\"ticks\":\"\"},\"colorscale\":[[0.0,\"#0d0887\"],[0.1111111111111111,\"#46039f\"],[0.2222222222222222,\"#7201a8\"],[0.3333333333333333,\"#9c179e\"],[0.4444444444444444,\"#bd3786\"],[0.5555555555555556,\"#d8576b\"],[0.6666666666666666,\"#ed7953\"],[0.7777777777777778,\"#fb9f3a\"],[0.8888888888888888,\"#fdca26\"],[1.0,\"#f0f921\"]]}],\"surface\":[{\"type\":\"surface\",\"colorbar\":{\"outlinewidth\":0,\"ticks\":\"\"},\"colorscale\":[[0.0,\"#0d0887\"],[0.1111111111111111,\"#46039f\"],[0.2222222222222222,\"#7201a8\"],[0.3333333333333333,\"#9c179e\"],[0.4444444444444444,\"#bd3786\"],[0.5555555555555556,\"#d8576b\"],[0.6666666666666666,\"#ed7953\"],[0.7777777777777778,\"#fb9f3a\"],[0.8888888888888888,\"#fdca26\"],[1.0,\"#f0f921\"]]}],\"mesh3d\":[{\"type\":\"mesh3d\",\"colorbar\":{\"outlinewidth\":0,\"ticks\":\"\"}}],\"scatter\":[{\"fillpattern\":{\"fillmode\":\"overlay\",\"size\":10,\"solidity\":0.2},\"type\":\"scatter\"}],\"parcoords\":[{\"type\":\"parcoords\",\"line\":{\"colorbar\":{\"outlinewidth\":0,\"ticks\":\"\"}}}],\"scatterpolargl\":[{\"type\":\"scatterpolargl\",\"marker\":{\"colorbar\":{\"outlinewidth\":0,\"ticks\":\"\"}}}],\"bar\":[{\"error_x\":{\"color\":\"#2a3f5f\"},\"error_y\":{\"color\":\"#2a3f5f\"},\"marker\":{\"line\":{\"color\":\"#E5ECF6\",\"width\":0.5},\"pattern\":{\"fillmode\":\"overlay\",\"size\":10,\"solidity\":0.2}},\"type\":\"bar\"}],\"scattergeo\":[{\"type\":\"scattergeo\",\"marker\":{\"colorbar\":{\"outlinewidth\":0,\"ticks\":\"\"}}}],\"scatterpolar\":[{\"type\":\"scatterpolar\",\"marker\":{\"colorbar\":{\"outlinewidth\":0,\"ticks\":\"\"}}}],\"histogram\":[{\"marker\":{\"pattern\":{\"fillmode\":\"overlay\",\"size\":10,\"solidity\":0.2}},\"type\":\"histogram\"}],\"scattergl\":[{\"type\":\"scattergl\",\"marker\":{\"colorbar\":{\"outlinewidth\":0,\"ticks\":\"\"}}}],\"scatter3d\":[{\"type\":\"scatter3d\",\"line\":{\"colorbar\":{\"outlinewidth\":0,\"ticks\":\"\"}},\"marker\":{\"colorbar\":{\"outlinewidth\":0,\"ticks\":\"\"}}}],\"scattermapbox\":[{\"type\":\"scattermapbox\",\"marker\":{\"colorbar\":{\"outlinewidth\":0,\"ticks\":\"\"}}}],\"scatterternary\":[{\"type\":\"scatterternary\",\"marker\":{\"colorbar\":{\"outlinewidth\":0,\"ticks\":\"\"}}}],\"scattercarpet\":[{\"type\":\"scattercarpet\",\"marker\":{\"colorbar\":{\"outlinewidth\":0,\"ticks\":\"\"}}}],\"carpet\":[{\"aaxis\":{\"endlinecolor\":\"#2a3f5f\",\"gridcolor\":\"white\",\"linecolor\":\"white\",\"minorgridcolor\":\"white\",\"startlinecolor\":\"#2a3f5f\"},\"baxis\":{\"endlinecolor\":\"#2a3f5f\",\"gridcolor\":\"white\",\"linecolor\":\"white\",\"minorgridcolor\":\"white\",\"startlinecolor\":\"#2a3f5f\"},\"type\":\"carpet\"}],\"table\":[{\"cells\":{\"fill\":{\"color\":\"#EBF0F8\"},\"line\":{\"color\":\"white\"}},\"header\":{\"fill\":{\"color\":\"#C8D4E3\"},\"line\":{\"color\":\"white\"}},\"type\":\"table\"}],\"barpolar\":[{\"marker\":{\"line\":{\"color\":\"#E5ECF6\",\"width\":0.5},\"pattern\":{\"fillmode\":\"overlay\",\"size\":10,\"solidity\":0.2}},\"type\":\"barpolar\"}],\"pie\":[{\"automargin\":true,\"type\":\"pie\"}]},\"layout\":{\"autotypenumbers\":\"strict\",\"colorway\":[\"#636efa\",\"#EF553B\",\"#00cc96\",\"#ab63fa\",\"#FFA15A\",\"#19d3f3\",\"#FF6692\",\"#B6E880\",\"#FF97FF\",\"#FECB52\"],\"font\":{\"color\":\"#2a3f5f\"},\"hovermode\":\"closest\",\"hoverlabel\":{\"align\":\"left\"},\"paper_bgcolor\":\"white\",\"plot_bgcolor\":\"#E5ECF6\",\"polar\":{\"bgcolor\":\"#E5ECF6\",\"angularaxis\":{\"gridcolor\":\"white\",\"linecolor\":\"white\",\"ticks\":\"\"},\"radialaxis\":{\"gridcolor\":\"white\",\"linecolor\":\"white\",\"ticks\":\"\"}},\"ternary\":{\"bgcolor\":\"#E5ECF6\",\"aaxis\":{\"gridcolor\":\"white\",\"linecolor\":\"white\",\"ticks\":\"\"},\"baxis\":{\"gridcolor\":\"white\",\"linecolor\":\"white\",\"ticks\":\"\"},\"caxis\":{\"gridcolor\":\"white\",\"linecolor\":\"white\",\"ticks\":\"\"}},\"coloraxis\":{\"colorbar\":{\"outlinewidth\":0,\"ticks\":\"\"}},\"colorscale\":{\"sequential\":[[0.0,\"#0d0887\"],[0.1111111111111111,\"#46039f\"],[0.2222222222222222,\"#7201a8\"],[0.3333333333333333,\"#9c179e\"],[0.4444444444444444,\"#bd3786\"],[0.5555555555555556,\"#d8576b\"],[0.6666666666666666,\"#ed7953\"],[0.7777777777777778,\"#fb9f3a\"],[0.8888888888888888,\"#fdca26\"],[1.0,\"#f0f921\"]],\"sequentialminus\":[[0.0,\"#0d0887\"],[0.1111111111111111,\"#46039f\"],[0.2222222222222222,\"#7201a8\"],[0.3333333333333333,\"#9c179e\"],[0.4444444444444444,\"#bd3786\"],[0.5555555555555556,\"#d8576b\"],[0.6666666666666666,\"#ed7953\"],[0.7777777777777778,\"#fb9f3a\"],[0.8888888888888888,\"#fdca26\"],[1.0,\"#f0f921\"]],\"diverging\":[[0,\"#8e0152\"],[0.1,\"#c51b7d\"],[0.2,\"#de77ae\"],[0.3,\"#f1b6da\"],[0.4,\"#fde0ef\"],[0.5,\"#f7f7f7\"],[0.6,\"#e6f5d0\"],[0.7,\"#b8e186\"],[0.8,\"#7fbc41\"],[0.9,\"#4d9221\"],[1,\"#276419\"]]},\"xaxis\":{\"gridcolor\":\"white\",\"linecolor\":\"white\",\"ticks\":\"\",\"title\":{\"standoff\":15},\"zerolinecolor\":\"white\",\"automargin\":true,\"zerolinewidth\":2},\"yaxis\":{\"gridcolor\":\"white\",\"linecolor\":\"white\",\"ticks\":\"\",\"title\":{\"standoff\":15},\"zerolinecolor\":\"white\",\"automargin\":true,\"zerolinewidth\":2},\"scene\":{\"xaxis\":{\"backgroundcolor\":\"#E5ECF6\",\"gridcolor\":\"white\",\"linecolor\":\"white\",\"showbackground\":true,\"ticks\":\"\",\"zerolinecolor\":\"white\",\"gridwidth\":2},\"yaxis\":{\"backgroundcolor\":\"#E5ECF6\",\"gridcolor\":\"white\",\"linecolor\":\"white\",\"showbackground\":true,\"ticks\":\"\",\"zerolinecolor\":\"white\",\"gridwidth\":2},\"zaxis\":{\"backgroundcolor\":\"#E5ECF6\",\"gridcolor\":\"white\",\"linecolor\":\"white\",\"showbackground\":true,\"ticks\":\"\",\"zerolinecolor\":\"white\",\"gridwidth\":2}},\"shapedefaults\":{\"line\":{\"color\":\"#2a3f5f\"}},\"annotationdefaults\":{\"arrowcolor\":\"#2a3f5f\",\"arrowhead\":0,\"arrowwidth\":1},\"geo\":{\"bgcolor\":\"white\",\"landcolor\":\"#E5ECF6\",\"subunitcolor\":\"white\",\"showland\":true,\"showlakes\":true,\"lakecolor\":\"white\"},\"title\":{\"x\":0.05},\"mapbox\":{\"style\":\"light\"}}},\"xaxis\":{\"anchor\":\"y\",\"domain\":[0.0,1.0],\"title\":{\"text\":\"option\"}},\"yaxis\":{\"anchor\":\"x\",\"domain\":[0.0,1.0],\"title\":{\"text\":\"value\"}},\"legend\":{\"tracegroupgap\":0},\"margin\":{\"t\":60},\"violinmode\":\"group\"},                        {\"responsive\": true}                    ).then(function(){\n",
       "                            \n",
       "var gd = document.getElementById('542c8d19-b040-47be-bbb7-1c5571b62a54');\n",
       "var x = new MutationObserver(function (mutations, observer) {{\n",
       "        var display = window.getComputedStyle(gd).display;\n",
       "        if (!display || display === 'none') {{\n",
       "            console.log([gd, 'removed!']);\n",
       "            Plotly.purge(gd);\n",
       "            observer.disconnect();\n",
       "        }}\n",
       "}});\n",
       "\n",
       "// Listen for the removal of the full notebook cells\n",
       "var notebookContainer = gd.closest('#notebook-container');\n",
       "if (notebookContainer) {{\n",
       "    x.observe(notebookContainer, {childList: true});\n",
       "}}\n",
       "\n",
       "// Listen for the clearing of the current output cell\n",
       "var outputEl = gd.closest('.output');\n",
       "if (outputEl) {{\n",
       "    x.observe(outputEl, {childList: true});\n",
       "}}\n",
       "\n",
       "                        })                };                });            </script>        </div>"
      ]
     },
     "metadata": {},
     "output_type": "display_data"
    }
   ],
   "source": [
    "fig = px.violin(evening_entrance.history, y=\"value\", x=\"option\", box=True, points=\"all\",\n",
    "          hover_data=cups.history.columns)\n",
    "fig.show()"
   ]
  }
 ],
 "metadata": {
  "kaggle": {
   "accelerator": "none",
   "dataSources": [],
   "dockerImageVersionId": 30786,
   "isGpuEnabled": false,
   "isInternetEnabled": true,
   "language": "python",
   "sourceType": "notebook"
  },
  "kernelspec": {
   "display_name": "Python 3",
   "language": "python",
   "name": "python3"
  },
  "language_info": {
   "codemirror_mode": {
    "name": "ipython",
    "version": 3
   },
   "file_extension": ".py",
   "mimetype": "text/x-python",
   "name": "python",
   "nbconvert_exporter": "python",
   "pygments_lexer": "ipython3",
   "version": "3.10.14"
  },
  "papermill": {
   "default_parameters": {},
   "duration": 11.067338,
   "end_time": "2024-12-06T12:13:55.439356",
   "environment_variables": {},
   "exception": null,
   "input_path": "__notebook__.ipynb",
   "output_path": "__notebook__.ipynb",
   "parameters": {},
   "start_time": "2024-12-06T12:13:44.372018",
   "version": "2.6.0"
  }
 },
 "nbformat": 4,
 "nbformat_minor": 5
}
