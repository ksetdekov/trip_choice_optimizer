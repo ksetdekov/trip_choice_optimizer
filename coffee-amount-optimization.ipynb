{
 "cells": [
  {
   "cell_type": "markdown",
   "metadata": {},
   "source": [
    "<a href=\"https://www.kaggle.com/code/ksetdekov/coffee-amount-optimization?scriptVersionId=230674416\" target=\"_blank\"><img align=\"left\" alt=\"Kaggle\" title=\"Open in Kaggle\" src=\"https://kaggle.com/static/images/open-in-kaggle.svg\"></a>"
   ]
  },
  {
   "cell_type": "markdown",
   "id": "5dc4d7cc",
   "metadata": {
    "papermill": {
     "duration": 0.00467,
     "end_time": "2025-03-31T07:48:13.703302",
     "exception": false,
     "start_time": "2025-03-31T07:48:13.698632",
     "status": "completed"
    },
    "tags": []
   },
   "source": [
    "### Ноутбук для подбора количества кофе, которое минимизирует стресс"
   ]
  },
  {
   "cell_type": "markdown",
   "id": "20e738f3",
   "metadata": {
    "papermill": {
     "duration": 0.004547,
     "end_time": "2025-03-31T07:48:13.712234",
     "exception": false,
     "start_time": "2025-03-31T07:48:13.707687",
     "status": "completed"
    },
    "tags": []
   },
   "source": [
    "## main class"
   ]
  },
  {
   "cell_type": "code",
   "execution_count": 1,
   "id": "12fcfb79",
   "metadata": {
    "execution": {
     "iopub.execute_input": "2025-03-31T07:48:13.722233Z",
     "iopub.status.busy": "2025-03-31T07:48:13.72185Z",
     "iopub.status.idle": "2025-03-31T07:48:17.569317Z",
     "shell.execute_reply": "2025-03-31T07:48:17.568318Z"
    },
    "papermill": {
     "duration": 3.855468,
     "end_time": "2025-03-31T07:48:17.571655",
     "exception": false,
     "start_time": "2025-03-31T07:48:13.716187",
     "status": "completed"
    },
    "tags": []
   },
   "outputs": [],
   "source": [
    "import pandas as pd\n",
    "import numpy as np\n",
    "from scipy.stats import gamma, norm\n",
    "import seaborn as sns\n",
    "import matplotlib.pyplot as plt\n",
    "from tqdm import tqdm\n",
    "from collections import defaultdict\n",
    "import plotly.express as px\n",
    "from datetime import datetime, timedelta\n",
    "\n",
    "class HandsTable():\n",
    "    minimize = True\n",
    "    rho = 3.37\n",
    "\n",
    "    def __init__(self, options_list, minimize=True, rho=1.0):\n",
    "        \"\"\"инициализация\n",
    "\n",
    "        Args:\n",
    "            options_list (list): список из названий\n",
    "            minimize (bool, optional): Минимизировать если True, максимизировать если False. Defaults to True.\n",
    "            rho (float, optional): Риск толерантность, чем больше, тем больше риска готовы принять. Defaults to 1.0.\n",
    "        \"\"\"\n",
    "        self.hands = pd.DataFrame({'name': options_list,\n",
    "                                   'mu': 0.0,\n",
    "                                   'Te': 0.0,\n",
    "                                   'alpha': 0.5,\n",
    "                                   'beta': 0.5\n",
    "                                   })\n",
    "        self.minimize = minimize\n",
    "        if rho is not None:\n",
    "            self.rho = rho\n",
    "\n",
    "        self.history = pd.DataFrame(columns=['option', 'value'])\n",
    "\n",
    "    @classmethod\n",
    "    def to_minutes(self, timestr: str):\n",
    "        '''\n",
    "        convert timestr to float minutes\n",
    "        '''\n",
    "        return pd.to_timedelta(timestr).total_seconds()/60\n",
    "\n",
    "    @classmethod\n",
    "    def update_mean(self, X, T_last, mu_last):\n",
    "        mu_new = T_last * mu_last / (T_last + 1) + X / (T_last + 1)\n",
    "        return mu_new\n",
    "\n",
    "    @classmethod\n",
    "    def update_samples(self, T):\n",
    "        return T + 1\n",
    "\n",
    "    @classmethod\n",
    "    def update_shape(self, a):\n",
    "        return a + 0.5\n",
    "\n",
    "    @classmethod\n",
    "    def update_rate(self, X, mu_last, beta_last, T_last):\n",
    "        beta_new = beta_last + (T_last / (T_last + 1)) * \\\n",
    "            (np.square(X - mu_last)) / 2\n",
    "        return beta_new\n",
    "\n",
    "    def update_hands(self, name, value):\n",
    "        if isinstance(value, str):\n",
    "            try:\n",
    "                value = HandsTable.to_minutes(value)\n",
    "            except ValueError:\n",
    "                raise ValueError('input time string in hh:mm:ss format')\n",
    "        elif isinstance(value, float) or isinstance(value, int):\n",
    "            pass\n",
    "        else:\n",
    "            raise ValueError('input time string or int/float value')\n",
    "\n",
    "        _, mu, t, alpha, beta = self.hands[self.hands.name == name].values[0]\n",
    "        beta = HandsTable.update_rate(value, mu, beta, t)\n",
    "        mu = HandsTable.update_mean(value, t, mu)\n",
    "        t = HandsTable.update_samples(t)\n",
    "        alpha = HandsTable.update_shape(alpha)\n",
    "\n",
    "        # added code to write history\n",
    "        self.history.loc[len(self.history.index)] = [name, value]\n",
    "\n",
    "        self.hands.loc[self.hands.name == name, 'mu'] = mu\n",
    "        self.hands.loc[self.hands.name == name, 'Te'] = t\n",
    "        self.hands.loc[self.hands.name == name, 'alpha'] = alpha\n",
    "        self.hands.loc[self.hands.name == name, 'beta'] = beta\n",
    "\n",
    "    def grade(self):\n",
    "        hands_output = self.hands.copy()\n",
    "        tau = gamma.rvs(a=hands_output.alpha, scale=1/hands_output.beta)\n",
    "        theta_drops = norm.rvs(hands_output.mu, 1/hands_output.Te)\n",
    "        hands_output['tau'] = tau\n",
    "        hands_output['theta'] = theta_drops\n",
    "        hands_output['SD'] = np.sqrt(1/tau)\n",
    "\n",
    "        if self.minimize == True:\n",
    "            hands_output['var95'] = theta_drops + \\\n",
    "                norm.ppf(1-0.05/2) * hands_output.SD\n",
    "            if hands_output.mu.min() == 0:\n",
    "\n",
    "                output_df = hands_output.reindex(np.argsort(hands_output.Te))\n",
    "            else:\n",
    "                output_df = hands_output.reindex(\n",
    "                    np.argsort(self.rho * theta_drops + 1/tau))\n",
    "        else:\n",
    "            hands_output['var95'] = theta_drops + \\\n",
    "                norm.ppf(0.05/2) * hands_output.SD\n",
    "            if hands_output.mu.min() == 0:\n",
    "                output_df = hands_output.reindex(np.argsort(hands_output.Te))\n",
    "            else:\n",
    "                output_df = hands_output.reindex(\n",
    "                    np.argsort(self.rho * theta_drops - 1/tau)[::-1])\n",
    "\n",
    "        return output_df\n",
    "\n",
    "    def process_events(self, events, days=91):\n",
    "        \"\"\"Filter events and update hands\"\"\"\n",
    "        oldest_ok = max(events) - timedelta(days=days)\n",
    "        filtered_events = {k: v for k, v in events.items() if k > oldest_ok}\n",
    "\n",
    "        for category, value in filtered_events.values():\n",
    "            self.update_hands(category, value)\n",
    "        return self.grade()\n",
    "\n",
    "    def __str__(self):\n",
    "        return repr(self.hands)"
   ]
  },
  {
   "cell_type": "markdown",
   "id": "9a4e9f35",
   "metadata": {
    "papermill": {
     "duration": 0.003642,
     "end_time": "2025-03-31T07:48:17.579378",
     "exception": false,
     "start_time": "2025-03-31T07:48:17.575736",
     "status": "completed"
    },
    "tags": []
   },
   "source": [
    "# Применение"
   ]
  },
  {
   "cell_type": "code",
   "execution_count": 2,
   "id": "48a1a39c",
   "metadata": {
    "execution": {
     "iopub.execute_input": "2025-03-31T07:48:17.589492Z",
     "iopub.status.busy": "2025-03-31T07:48:17.588898Z",
     "iopub.status.idle": "2025-03-31T07:48:17.964339Z",
     "shell.execute_reply": "2025-03-31T07:48:17.963246Z"
    },
    "papermill": {
     "duration": 0.383932,
     "end_time": "2025-03-31T07:48:17.967184",
     "exception": false,
     "start_time": "2025-03-31T07:48:17.583252",
     "status": "completed"
    },
    "tags": []
   },
   "outputs": [
    {
     "name": "stdout",
     "output_type": "stream",
     "text": [
      "2024-04-05 00:00:00\n"
     ]
    },
    {
     "data": {
      "text/html": [
       "<div>\n",
       "<style scoped>\n",
       "    .dataframe tbody tr th:only-of-type {\n",
       "        vertical-align: middle;\n",
       "    }\n",
       "\n",
       "    .dataframe tbody tr th {\n",
       "        vertical-align: top;\n",
       "    }\n",
       "\n",
       "    .dataframe thead th {\n",
       "        text-align: right;\n",
       "    }\n",
       "</style>\n",
       "<table border=\"1\" class=\"dataframe\">\n",
       "  <thead>\n",
       "    <tr style=\"text-align: right;\">\n",
       "      <th></th>\n",
       "      <th>name</th>\n",
       "      <th>mu</th>\n",
       "      <th>Te</th>\n",
       "      <th>alpha</th>\n",
       "      <th>beta</th>\n",
       "      <th>tau</th>\n",
       "      <th>theta</th>\n",
       "      <th>SD</th>\n",
       "      <th>var95</th>\n",
       "    </tr>\n",
       "  </thead>\n",
       "  <tbody>\n",
       "    <tr>\n",
       "      <th>4</th>\n",
       "      <td>4</td>\n",
       "      <td>29.928571</td>\n",
       "      <td>28.0</td>\n",
       "      <td>14.5</td>\n",
       "      <td>412.428571</td>\n",
       "      <td>0.043191</td>\n",
       "      <td>29.892194</td>\n",
       "      <td>4.811750</td>\n",
       "      <td>39.323049</td>\n",
       "    </tr>\n",
       "    <tr>\n",
       "      <th>0</th>\n",
       "      <td>0</td>\n",
       "      <td>32.500000</td>\n",
       "      <td>4.0</td>\n",
       "      <td>2.5</td>\n",
       "      <td>35.000000</td>\n",
       "      <td>0.071974</td>\n",
       "      <td>32.246695</td>\n",
       "      <td>3.727455</td>\n",
       "      <td>39.552373</td>\n",
       "    </tr>\n",
       "    <tr>\n",
       "      <th>3</th>\n",
       "      <td>3</td>\n",
       "      <td>29.954545</td>\n",
       "      <td>22.0</td>\n",
       "      <td>11.5</td>\n",
       "      <td>341.977273</td>\n",
       "      <td>0.030557</td>\n",
       "      <td>29.916846</td>\n",
       "      <td>5.720687</td>\n",
       "      <td>41.129185</td>\n",
       "    </tr>\n",
       "    <tr>\n",
       "      <th>2</th>\n",
       "      <td>2</td>\n",
       "      <td>30.806452</td>\n",
       "      <td>31.0</td>\n",
       "      <td>16.0</td>\n",
       "      <td>311.919355</td>\n",
       "      <td>0.024806</td>\n",
       "      <td>30.812474</td>\n",
       "      <td>6.349194</td>\n",
       "      <td>43.256665</td>\n",
       "    </tr>\n",
       "    <tr>\n",
       "      <th>1</th>\n",
       "      <td>1</td>\n",
       "      <td>32.333333</td>\n",
       "      <td>6.0</td>\n",
       "      <td>3.5</td>\n",
       "      <td>231.166667</td>\n",
       "      <td>0.002427</td>\n",
       "      <td>32.233607</td>\n",
       "      <td>20.297045</td>\n",
       "      <td>72.015085</td>\n",
       "    </tr>\n",
       "  </tbody>\n",
       "</table>\n",
       "</div>"
      ],
      "text/plain": [
       "   name         mu    Te  alpha        beta       tau      theta         SD  \\\n",
       "4     4  29.928571  28.0   14.5  412.428571  0.043191  29.892194   4.811750   \n",
       "0     0  32.500000   4.0    2.5   35.000000  0.071974  32.246695   3.727455   \n",
       "3     3  29.954545  22.0   11.5  341.977273  0.030557  29.916846   5.720687   \n",
       "2     2  30.806452  31.0   16.0  311.919355  0.024806  30.812474   6.349194   \n",
       "1     1  32.333333   6.0    3.5  231.166667  0.002427  32.233607  20.297045   \n",
       "\n",
       "       var95  \n",
       "4  39.323049  \n",
       "0  39.552373  \n",
       "3  41.129185  \n",
       "2  43.256665  \n",
       "1  72.015085  "
      ]
     },
     "execution_count": 2,
     "metadata": {},
     "output_type": "execute_result"
    }
   ],
   "source": [
    "cups = HandsTable(options_list=[*range(4+1)], minimize=True, rho=5)\n",
    "\n",
    "\n",
    "events = {\n",
    "    datetime(2024,11,9):(0, 32), # суббота 9 ноября\n",
    "    datetime(2024,11,10):(2, 33), # воскресенье 10 ноября\n",
    "    datetime(2024,11,12):(1, 35), # вторник 12 ноября\n",
    "    datetime(2024,11,13):(3, 34), # среда 13 ноября\n",
    "    datetime(2024,11,14):(4, 34), # четверг 14 ноября\n",
    "    datetime(2024,11,15):(3, 34), # пятница 15 ноября\n",
    "    datetime(2024,11,16):(1, 34), # суббота 16 ноября\n",
    "    datetime(2024,11,17):(1, 43), # воскресенье 17 ноября\n",
    "    datetime(2024,11,20):(4, 38), # wednesday 20 ноября\n",
    "    datetime(2024,11,21):(0, 36), # thursday 21 ноября\n",
    "    datetime(2024,11,22):(2, 33), # friday 22 ноября\n",
    "    datetime(2024,11,23):(0, 37), # sat 23 ноября\n",
    "    datetime(2024,11,24):(1, 32), # sun 24 ноября\n",
    "    datetime(2024,11,25):(2, 28), # mon 25 ноября\n",
    "    datetime(2024,11,26):(3, 29), # tue 26 ноября\n",
    "    datetime(2024,11,27):(3, 25), # wed 27 ноября\n",
    "    datetime(2024,11,28):(2, 30), # th 28 ноября\n",
    "    datetime(2024,11,29):(2, 29), # fr 29 ноября\n",
    "    datetime(2024,11,30):(2, 29), # sat 30 ноября\n",
    "    datetime(2024,12,1):(2, 33), # sun 1 dec\n",
    "    datetime(2024,12,2):(2, 24), # mon 2 dec\n",
    "    datetime(2024,12,3):(2, 25), # tue 3 dec\n",
    "    datetime(2024,12,4):(3, 25), # wed 4 dec\n",
    "    datetime(2024,12,5):(3, 29), # th 5 dec\n",
    "    datetime(2024,12,6):(1, 31), # fr 6 dec\n",
    "    datetime(2024,12,7):(0, 35), # sat 7 dec\n",
    "    datetime(2024,12,8):(0, 25), # sun 8 dec\n",
    "    datetime(2024,12,9):(2, 25), # mon 9 dec\n",
    "    datetime(2024,12,10):(3, 34), # tue 10 dec\n",
    "    datetime(2024,12,11):(2, 34), # wed 11 dec\n",
    "    datetime(2024,12,12):(2, 33), # th 12 dec\n",
    "    datetime(2024,12,13):(2, 28), # пт 13 dec\n",
    "    datetime(2024,12,14):(2, 37), # сб 14 dec\n",
    "    datetime(2024,12,15):(2, 32), # вс 15 dec\n",
    "    datetime(2024,12,16):(3, 32), # mon 16 dec\n",
    "    datetime(2024,12,17):(3, 27), # tue 17 dec\n",
    "    datetime(2024,12,18):(3, 28), # wed 18 dec\n",
    "    datetime(2024,12,19):(3, 28), # th 19 dec\n",
    "    datetime(2024,12,20):(3, 30), # fr 20 dec\n",
    "    datetime(2024,12,21):(3, 44), # sat 21 dec\n",
    "    datetime(2024,12,22):(2, 29), # sun 22 dec\n",
    "    datetime(2024,12,23):(2, 31), # mon 23 dec\n",
    "    datetime(2024,12,24):(2, 34), # tue 24 dec\n",
    "    datetime(2024,12,25):(2, 32), # wed 25 dec\n",
    "    datetime(2024,12,26):(4, 22), # thr 26 dec\n",
    "    datetime(2024,12,27):(4, 30), # fr 27 dec\n",
    "    datetime(2024,12,28):(2, 37), # sat 28 dec !\n",
    "    datetime(2024,12,29):(1, 29), # sun 29 dec !\n",
    "    datetime(2024,12,30):(2, 23), # mon 30 dec !\n",
    "    datetime(2024,12,31):(2, 26), # tue 31 dec !\n",
    "    datetime(2025,1,1):(2, 29), # wed 1 jan !\n",
    "    datetime(2025,1,2):(2, 26), # thr 2 jan !\n",
    "    datetime(2025,1,3):(0, 28), # fr 3 jan !\n",
    "    datetime(2025,1,4):(3, 27), # sat 4 jan !\n",
    "    datetime(2025,1,5):(4, 25), # sun 5 jan !\n",
    "    datetime(2025,1,6):(2, 35), # mon 6 jan !\n",
    "    datetime(2025,1,7):(3, 29), # tue 7 jan !\n",
    "    datetime(2025,1,8):(4, 37), # wed 8 jan !\n",
    "    datetime(2025,1,9):(3, 20), # thr 9 jan !\n",
    "    datetime(2025,1,10):(3, 27), # fr 10 jan !\n",
    "    datetime(2025,1,11):(1, 41), # sat 11 jan !\n",
    "    datetime(2025,1,12):(3, 32), # sun 12 jan !\n",
    "    datetime(2025,1,13):(3, 22), # mon 13 jan !\n",
    "    datetime(2025,1,14):(4, 21), # tue 14 jan !\n",
    "    datetime(2025,1,15):(3, 38), # wed 15 jan !\n",
    "    datetime(2025,1,16):(0, 33), # thr 16 jan !\n",
    "    datetime(2025,1,17):(3, 27), # fr 17 jan !\n",
    "    datetime(2025,1,18):(0, 39), # sat 18 jan !\n",
    "    datetime(2025,1,19):(2, 27), # sun 19 jan !\n",
    "    datetime(2025,1,20):(2, 32), # mon 20 jan !\n",
    "    datetime(2025,1,21):(2, 28), # tue 21 jan !\n",
    "    datetime(2025,1,22):(4, 29), # wed 22 jan !\n",
    "    datetime(2025,1,23):(3, 35), # thr 23 jan !\n",
    "    datetime(2025,1,24):(2, 31), # fr 24 jan !\n",
    "    datetime(2025,1,25):(2, 40), # sat 25 jan !\n",
    "    datetime(2025,1,26):(3, 22), # sun 26 jan !\n",
    "    datetime(2025, 1, 27): (4, 31),\n",
    "    datetime(2025, 1, 28): (4, 25),\n",
    "    datetime(2025, 1, 29): (4, 35),\n",
    "    datetime(2025, 1, 30): (2, 29),\n",
    "    datetime(2025, 1, 31): (3, 26),\n",
    "    datetime(2025, 2, 1): (2, 34),\n",
    "    datetime(2025, 2, 2): (2, 29),\n",
    "    datetime(2025, 2, 3): (2, 32),\n",
    "    datetime(2025, 2, 4): (3, 31),\n",
    "    datetime(2025, 2, 5): (2, 31),\n",
    "    datetime(2025, 2, 6): (2, 25),\n",
    "    datetime(2025, 2, 7): (4, 26),\n",
    "    datetime(2025, 2, 8): (2, 35),\n",
    "    datetime(2025, 2, 9): (2, 33),\n",
    "    datetime(2025, 2, 10): (3, 35),\n",
    "    datetime(2025, 2, 11): (3, 33),\n",
    "    datetime(2025, 2, 12): (2, 35),\n",
    "    datetime(2025, 2, 13): (4, 26),\n",
    "    datetime(2025, 2, 14): (2, 35),\n",
    "    datetime(2025, 2, 15): (4, 30),\n",
    "    datetime(2025, 2, 16): (3, 43),\n",
    "    datetime(2025, 2, 17): (2, 38),\n",
    "    datetime(2025, 2, 18): (4, 25),\n",
    "    datetime(2025, 2, 19): (4, 33),\n",
    "    datetime(2025, 2, 20): (3, 28),\n",
    "    datetime(2025, 2, 21): (4, 38),\n",
    "    datetime(2025, 2, 22): (2, 34),\n",
    "    datetime(2025, 2, 23): (3, 34),\n",
    "    datetime(2025, 2, 24): (4, 27),\n",
    "    datetime(2025, 2, 25): (4, 25),\n",
    "    datetime(2025, 2, 26): (4, 26),\n",
    "    datetime(2025, 2, 27): (2, 25),\n",
    "    datetime(2025, 2, 28): (4, 27),\n",
    "    datetime(2025, 3, 1): (3, 37),\n",
    "    datetime(2025, 3, 2): (4, 39),\n",
    "    datetime(2025, 3, 3): (2, 33),\n",
    "    datetime(2025, 3, 4): (0, 30),\n",
    "    datetime(2025, 3, 5): (3, 25),\n",
    "    datetime(2025, 3, 6): (1, 30),\n",
    "    datetime(2025, 3, 7): (1, 32),\n",
    "    datetime(2025, 3, 8): (4, 39),\n",
    "    datetime(2025, 3, 9): (2, 29),\n",
    "    datetime(2025, 3,10): (2, 26),\n",
    "    datetime(2025, 3,11): (4, 26),\n",
    "    datetime(2025, 3,12): (3, 30),\n",
    "    datetime(2025, 3,13): (3, 26),\n",
    "    datetime(2025, 3,14): (4, 26),\n",
    "    datetime(2025, 3,15): (4, 38),\n",
    "    datetime(2025, 3,16): (2, 33),\n",
    "    datetime(2025, 3,17): (4, 23),\n",
    "    datetime(2025, 3,18): (1, 23),\n",
    "    datetime(2025, 3,19): (2, 27),\n",
    "    datetime(2025, 3,20): (2, 25),\n",
    "    datetime(2025, 3,21): (4, 32),\n",
    "    datetime(2025, 3,22): (4, 24),\n",
    "    datetime(2025, 3,23): (4, 36),\n",
    "    datetime(2025, 3,24): (2, 28),\n",
    "    datetime(2025, 3,25): (2, 24),\n",
    "    datetime(2025, 3,26): (4, 36),\n",
    "    datetime(2025, 3,27): (4, 33),\n",
    "    datetime(2025, 3,28): (2, 41),\n",
    "    datetime(2025, 3,29): (1, 46),\n",
    "    datetime(2025, 3,30): (3, 32),\n",
    "    datetime(2025, 3,31): (1, 22)\n",
    "\n",
    "}\n",
    "\n",
    "oldest_ok = max(events)-timedelta(days=360)\n",
    "print(oldest_ok)\n",
    "\n",
    "# Process events within the class\n",
    "cups.process_events(events, days=91)\n"
   ]
  },
  {
   "cell_type": "markdown",
   "id": "702e0ce7",
   "metadata": {
    "papermill": {
     "duration": 0.003918,
     "end_time": "2025-03-31T07:48:17.97553",
     "exception": false,
     "start_time": "2025-03-31T07:48:17.971612",
     "status": "completed"
    },
    "tags": []
   },
   "source": [
    "# Количество кофе и стресс"
   ]
  },
  {
   "cell_type": "code",
   "execution_count": 3,
   "id": "6cfc2f86",
   "metadata": {
    "execution": {
     "iopub.execute_input": "2025-03-31T07:48:17.985444Z",
     "iopub.status.busy": "2025-03-31T07:48:17.985024Z",
     "iopub.status.idle": "2025-03-31T07:48:46.574884Z",
     "shell.execute_reply": "2025-03-31T07:48:46.573155Z"
    },
    "papermill": {
     "duration": 28.597934,
     "end_time": "2025-03-31T07:48:46.577549",
     "exception": false,
     "start_time": "2025-03-31T07:48:17.979615",
     "status": "completed"
    },
    "tags": []
   },
   "outputs": [
    {
     "name": "stderr",
     "output_type": "stream",
     "text": [
      "100%|██████████| 10000/10000 [00:09<00:00, 1094.04it/s]\n"
     ]
    },
    {
     "data": {
      "image/png": "[encoded data removed]",
      "text/plain": [
       "<Figure size 640x480 with 1 Axes>"
      ]
     },
     "metadata": {},
     "output_type": "display_data"
    },
    {
     "data": {
      "text/html": [
       "<div>\n",
       "<style scoped>\n",
       "    .dataframe tbody tr th:only-of-type {\n",
       "        vertical-align: middle;\n",
       "    }\n",
       "\n",
       "    .dataframe tbody tr th {\n",
       "        vertical-align: top;\n",
       "    }\n",
       "\n",
       "    .dataframe thead th {\n",
       "        text-align: right;\n",
       "    }\n",
       "</style>\n",
       "<table border=\"1\" class=\"dataframe\">\n",
       "  <thead>\n",
       "    <tr style=\"text-align: right;\">\n",
       "      <th></th>\n",
       "      <th>variant</th>\n",
       "      <th>prob</th>\n",
       "    </tr>\n",
       "  </thead>\n",
       "  <tbody>\n",
       "    <tr>\n",
       "      <th>2</th>\n",
       "      <td>0</td>\n",
       "      <td>0.2169</td>\n",
       "    </tr>\n",
       "    <tr>\n",
       "      <th>4</th>\n",
       "      <td>1</td>\n",
       "      <td>0.0001</td>\n",
       "    </tr>\n",
       "    <tr>\n",
       "      <th>0</th>\n",
       "      <td>2</td>\n",
       "      <td>0.4535</td>\n",
       "    </tr>\n",
       "    <tr>\n",
       "      <th>3</th>\n",
       "      <td>3</td>\n",
       "      <td>0.1475</td>\n",
       "    </tr>\n",
       "    <tr>\n",
       "      <th>1</th>\n",
       "      <td>4</td>\n",
       "      <td>0.1820</td>\n",
       "    </tr>\n",
       "  </tbody>\n",
       "</table>\n",
       "</div>"
      ],
      "text/plain": [
       "   variant    prob\n",
       "2        0  0.2169\n",
       "4        1  0.0001\n",
       "0        2  0.4535\n",
       "3        3  0.1475\n",
       "1        4  0.1820"
      ]
     },
     "execution_count": 3,
     "metadata": {},
     "output_type": "execute_result"
    }
   ],
   "source": [
    "\n",
    "results = defaultdict(int)\n",
    "for i in tqdm(range(10000)):\n",
    "    i_res = cups.grade()\n",
    "    i_var = int(i_res.iloc[0]['name'])\n",
    "    results[i_var] += 1\n",
    "\n",
    "variants_proba_current = pd.DataFrame(results.items(), columns=['variant', 'prob'])\n",
    "variants_proba_current['prob'] = variants_proba_current['prob']/sum(variants_proba_current['prob'])\n",
    "variants_proba_current = variants_proba_current.sort_values('variant')\n",
    "\n",
    "plt.bar(variants_proba_current['variant'], variants_proba_current['prob'], align='center')\n",
    "\n",
    "plt.show()\n",
    "variants_proba_current"
   ]
  },
  {
   "cell_type": "code",
   "execution_count": 4,
   "id": "af5527da",
   "metadata": {
    "execution": {
     "iopub.execute_input": "2025-03-31T07:48:46.620663Z",
     "iopub.status.busy": "2025-03-31T07:48:46.620085Z",
     "iopub.status.idle": "2025-03-31T07:48:49.111078Z",
     "shell.execute_reply": "2025-03-31T07:48:49.10996Z"
    },
    "papermill": {
     "duration": 2.514832,
     "end_time": "2025-03-31T07:48:49.113223",
     "exception": false,
     "start_time": "2025-03-31T07:48:46.598391",
     "status": "completed"
    },
    "tags": []
   },
   "outputs": [
    {
     "data": {
      "application/vnd.plotly.v1+json": {
       "config": {
        "plotlyServerURL": "https://plot.ly"
       },
       "data": [
        {
         "alignmentgroup": "True",
         "box": {
          "visible": true
         },
         "hovertemplate": "option=%{x}<br>value=%{y}<extra></extra>",
         "legendgroup": "",
         "marker": {
          "color": "#636efa"
         },
         "name": "",
         "offsetgroup": "",
         "orientation": "v",
         "points": "all",
         "scalegroup": "True",
         "showlegend": false,
         "type": "violin",
         "x": {
          "bdata": "AgICAAMEAgMEAwMBAwMEAwADAAICAgQDAgIDBAQEAgMCAgIDAgIEAgIDAwIEAgQDAgQEAwQCAwQEBAIEAwQCAAMBAQQCAgQDAwQEAgQBAgIEBAQCAgQEAgEDAQ==",
          "dtype": "i1"
         },
         "x0": " ",
         "xaxis": "x",
         "y": {
          "bdata": "Gh0aHBsZIx0lFBspIBYVJiEbJxsgHB0jHygWHxkjHRoiHSAfHxkaIyEjISMaIx4rJhkhHCYiIhsZGhkbJSchHhkeICcdGhoeGhomIRcXGxkgGCQcGCQhKS4gFg==",
          "dtype": "i1"
         },
         "y0": " ",
         "yaxis": "y"
        }
       ],
       "layout": {
        "legend": {
         "tracegroupgap": 0
        },
        "margin": {
         "t": 60
        },
        "template": {
         "data": {
          "bar": [
           {
            "error_x": {
             "color": "#2a3f5f"
            },
            "error_y": {
             "color": "#2a3f5f"
            },
            "marker": {
             "line": {
              "color": "#E5ECF6",
              "width": 0.5
             },
             "pattern": {
              "fillmode": "overlay",
              "size": 10,
              "solidity": 0.2
             }
            },
            "type": "bar"
           }
          ],
          "barpolar": [
           {
            "marker": {
             "line": {
              "color": "#E5ECF6",
              "width": 0.5
             },
             "pattern": {
              "fillmode": "overlay",
              "size": 10,
              "solidity": 0.2
             }
            },
            "type": "barpolar"
           }
          ],
          "carpet": [
           {
            "aaxis": {
             "endlinecolor": "#2a3f5f",
             "gridcolor": "white",
             "linecolor": "white",
             "minorgridcolor": "white",
             "startlinecolor": "#2a3f5f"
            },
            "baxis": {
             "endlinecolor": "#2a3f5f",
             "gridcolor": "white",
             "linecolor": "white",
             "minorgridcolor": "white",
             "startlinecolor": "#2a3f5f"
            },
            "type": "carpet"
           }
          ],
          "choropleth": [
           {
            "colorbar": {
             "outlinewidth": 0,
             "ticks": ""
            },
            "type": "choropleth"
           }
          ],
          "contour": [
           {
            "colorbar": {
             "outlinewidth": 0,
             "ticks": ""
            },
            "colorscale": [
             [
              0,
              "#0d0887"
             ],
             [
              0.1111111111111111,
              "#46039f"
             ],
             [
              0.2222222222222222,
              "#7201a8"
             ],
             [
              0.3333333333333333,
              "#9c179e"
             ],
             [
              0.4444444444444444,
              "#bd3786"
             ],
             [
              0.5555555555555556,
              "#d8576b"
             ],
             [
              0.6666666666666666,
              "#ed7953"
             ],
             [
              0.7777777777777778,
              "#fb9f3a"
             ],
             [
              0.8888888888888888,
              "#fdca26"
             ],
             [
              1,
              "#f0f921"
             ]
            ],
            "type": "contour"
           }
          ],
          "contourcarpet": [
           {
            "colorbar": {
             "outlinewidth": 0,
             "ticks": ""
            },
            "type": "contourcarpet"
           }
          ],
          "heatmap": [
           {
            "colorbar": {
             "outlinewidth": 0,
             "ticks": ""
            },
            "colorscale": [
             [
              0,
              "#0d0887"
             ],
             [
              0.1111111111111111,
              "#46039f"
             ],
             [
              0.2222222222222222,
              "#7201a8"
             ],
             [
              0.3333333333333333,
              "#9c179e"
             ],
             [
              0.4444444444444444,
              "#bd3786"
             ],
             [
              0.5555555555555556,
              "#d8576b"
             ],
             [
              0.6666666666666666,
              "#ed7953"
             ],
             [
              0.7777777777777778,
              "#fb9f3a"
             ],
             [
              0.8888888888888888,
              "#fdca26"
             ],
             [
              1,
              "#f0f921"
             ]
            ],
            "type": "heatmap"
           }
          ],
          "histogram": [
           {
            "marker": {
             "pattern": {
              "fillmode": "overlay",
              "size": 10,
              "solidity": 0.2
             }
            },
            "type": "histogram"
           }
          ],
          "histogram2d": [
           {
            "colorbar": {
             "outlinewidth": 0,
             "ticks": ""
            },
            "colorscale": [
             [
              0,
              "#0d0887"
             ],
             [
              0.1111111111111111,
              "#46039f"
             ],
             [
              0.2222222222222222,
              "#7201a8"
             ],
             [
              0.3333333333333333,
              "#9c179e"
             ],
             [
              0.4444444444444444,
              "#bd3786"
             ],
             [
              0.5555555555555556,
              "#d8576b"
             ],
             [
              0.6666666666666666,
              "#ed7953"
             ],
             [
              0.7777777777777778,
              "#fb9f3a"
             ],
             [
              0.8888888888888888,
              "#fdca26"
             ],
             [
              1,
              "#f0f921"
             ]
            ],
            "type": "histogram2d"
           }
          ],
          "histogram2dcontour": [
           {
            "colorbar": {
             "outlinewidth": 0,
             "ticks": ""
            },
            "colorscale": [
             [
              0,
              "#0d0887"
             ],
             [
              0.1111111111111111,
              "#46039f"
             ],
             [
              0.2222222222222222,
              "#7201a8"
             ],
             [
              0.3333333333333333,
              "#9c179e"
             ],
             [
              0.4444444444444444,
              "#bd3786"
             ],
             [
              0.5555555555555556,
              "#d8576b"
             ],
             [
              0.6666666666666666,
              "#ed7953"
             ],
             [
              0.7777777777777778,
              "#fb9f3a"
             ],
             [
              0.8888888888888888,
              "#fdca26"
             ],
             [
              1,
              "#f0f921"
             ]
            ],
            "type": "histogram2dcontour"
           }
          ],
          "mesh3d": [
           {
            "colorbar": {
             "outlinewidth": 0,
             "ticks": ""
            },
            "type": "mesh3d"
           }
          ],
          "parcoords": [
           {
            "line": {
             "colorbar": {
              "outlinewidth": 0,
              "ticks": ""
             }
            },
            "type": "parcoords"
           }
          ],
          "pie": [
           {
            "automargin": true,
            "type": "pie"
           }
          ],
          "scatter": [
           {
            "fillpattern": {
             "fillmode": "overlay",
             "size": 10,
             "solidity": 0.2
            },
            "type": "scatter"
           }
          ],
          "scatter3d": [
           {
            "line": {
             "colorbar": {
              "outlinewidth": 0,
              "ticks": ""
             }
            },
            "marker": {
             "colorbar": {
              "outlinewidth": 0,
              "ticks": ""
             }
            },
            "type": "scatter3d"
           }
          ],
          "scattercarpet": [
           {
            "marker": {
             "colorbar": {
              "outlinewidth": 0,
              "ticks": ""
             }
            },
            "type": "scattercarpet"
           }
          ],
          "scattergeo": [
           {
            "marker": {
             "colorbar": {
              "outlinewidth": 0,
              "ticks": ""
             }
            },
            "type": "scattergeo"
           }
          ],
          "scattergl": [
           {
            "marker": {
             "colorbar": {
              "outlinewidth": 0,
              "ticks": ""
             }
            },
            "type": "scattergl"
           }
          ],
          "scattermap": [
           {
            "marker": {
             "colorbar": {
              "outlinewidth": 0,
              "ticks": ""
             }
            },
            "type": "scattermap"
           }
          ],
          "scattermapbox": [
           {
            "marker": {
             "colorbar": {
              "outlinewidth": 0,
              "ticks": ""
             }
            },
            "type": "scattermapbox"
           }
          ],
          "scatterpolar": [
           {
            "marker": {
             "colorbar": {
              "outlinewidth": 0,
              "ticks": ""
             }
            },
            "type": "scatterpolar"
           }
          ],
          "scatterpolargl": [
           {
            "marker": {
             "colorbar": {
              "outlinewidth": 0,
              "ticks": ""
             }
            },
            "type": "scatterpolargl"
           }
          ],
          "scatterternary": [
           {
            "marker": {
             "colorbar": {
              "outlinewidth": 0,
              "ticks": ""
             }
            },
            "type": "scatterternary"
           }
          ],
          "surface": [
           {
            "colorbar": {
             "outlinewidth": 0,
             "ticks": ""
            },
            "colorscale": [
             [
              0,
              "#0d0887"
             ],
             [
              0.1111111111111111,
              "#46039f"
             ],
             [
              0.2222222222222222,
              "#7201a8"
             ],
             [
              0.3333333333333333,
              "#9c179e"
             ],
             [
              0.4444444444444444,
              "#bd3786"
             ],
             [
              0.5555555555555556,
              "#d8576b"
             ],
             [
              0.6666666666666666,
              "#ed7953"
             ],
             [
              0.7777777777777778,
              "#fb9f3a"
             ],
             [
              0.8888888888888888,
              "#fdca26"
             ],
             [
              1,
              "#f0f921"
             ]
            ],
            "type": "surface"
           }
          ],
          "table": [
           {
            "cells": {
             "fill": {
              "color": "#EBF0F8"
             },
             "line": {
              "color": "white"
             }
            },
            "header": {
             "fill": {
              "color": "#C8D4E3"
             },
             "line": {
              "color": "white"
             }
            },
            "type": "table"
           }
          ]
         },
         "layout": {
          "annotationdefaults": {
           "arrowcolor": "#2a3f5f",
           "arrowhead": 0,
           "arrowwidth": 1
          },
          "autotypenumbers": "strict",
          "coloraxis": {
           "colorbar": {
            "outlinewidth": 0,
            "ticks": ""
           }
          },
          "colorscale": {
           "diverging": [
            [
             0,
             "#8e0152"
            ],
            [
             0.1,
             "#c51b7d"
            ],
            [
             0.2,
             "#de77ae"
            ],
            [
             0.3,
             "#f1b6da"
            ],
            [
             0.4,
             "#fde0ef"
            ],
            [
             0.5,
             "#f7f7f7"
            ],
            [
             0.6,
             "#e6f5d0"
            ],
            [
             0.7,
             "#b8e186"
            ],
            [
             0.8,
             "#7fbc41"
            ],
            [
             0.9,
             "#4d9221"
            ],
            [
             1,
             "#276419"
            ]
           ],
           "sequential": [
            [
             0,
             "#0d0887"
            ],
            [
             0.1111111111111111,
             "#46039f"
            ],
            [
             0.2222222222222222,
             "#7201a8"
            ],
            [
             0.3333333333333333,
             "#9c179e"
            ],
            [
             0.4444444444444444,
             "#bd3786"
            ],
            [
             0.5555555555555556,
             "#d8576b"
            ],
            [
             0.6666666666666666,
             "#ed7953"
            ],
            [
             0.7777777777777778,
             "#fb9f3a"
            ],
            [
             0.8888888888888888,
             "#fdca26"
            ],
            [
             1,
             "#f0f921"
            ]
           ],
           "sequentialminus": [
            [
             0,
             "#0d0887"
            ],
            [
             0.1111111111111111,
             "#46039f"
            ],
            [
             0.2222222222222222,
             "#7201a8"
            ],
            [
             0.3333333333333333,
             "#9c179e"
            ],
            [
             0.4444444444444444,
             "#bd3786"
            ],
            [
             0.5555555555555556,
             "#d8576b"
            ],
            [
             0.6666666666666666,
             "#ed7953"
            ],
            [
             0.7777777777777778,
             "#fb9f3a"
            ],
            [
             0.8888888888888888,
             "#fdca26"
            ],
            [
             1,
             "#f0f921"
            ]
           ]
          },
          "colorway": [
           "#636efa",
           "#EF553B",
           "#00cc96",
           "#ab63fa",
           "#FFA15A",
           "#19d3f3",
           "#FF6692",
           "#B6E880",
           "#FF97FF",
           "#FECB52"
          ],
          "font": {
           "color": "#2a3f5f"
          },
          "geo": {
           "bgcolor": "white",
           "lakecolor": "white",
           "landcolor": "#E5ECF6",
           "showlakes": true,
           "showland": true,
           "subunitcolor": "white"
          },
          "hoverlabel": {
           "align": "left"
          },
          "hovermode": "closest",
          "mapbox": {
           "style": "light"
          },
          "paper_bgcolor": "white",
          "plot_bgcolor": "#E5ECF6",
          "polar": {
           "angularaxis": {
            "gridcolor": "white",
            "linecolor": "white",
            "ticks": ""
           },
           "bgcolor": "#E5ECF6",
           "radialaxis": {
            "gridcolor": "white",
            "linecolor": "white",
            "ticks": ""
           }
          },
          "scene": {
           "xaxis": {
            "backgroundcolor": "#E5ECF6",
            "gridcolor": "white",
            "gridwidth": 2,
            "linecolor": "white",
            "showbackground": true,
            "ticks": "",
            "zerolinecolor": "white"
           },
           "yaxis": {
            "backgroundcolor": "#E5ECF6",
            "gridcolor": "white",
            "gridwidth": 2,
            "linecolor": "white",
            "showbackground": true,
            "ticks": "",
            "zerolinecolor": "white"
           },
           "zaxis": {
            "backgroundcolor": "#E5ECF6",
            "gridcolor": "white",
            "gridwidth": 2,
            "linecolor": "white",
            "showbackground": true,
            "ticks": "",
            "zerolinecolor": "white"
           }
          },
          "shapedefaults": {
           "line": {
            "color": "#2a3f5f"
           }
          },
          "ternary": {
           "aaxis": {
            "gridcolor": "white",
            "linecolor": "white",
            "ticks": ""
           },
           "baxis": {
            "gridcolor": "white",
            "linecolor": "white",
            "ticks": ""
           },
           "bgcolor": "#E5ECF6",
           "caxis": {
            "gridcolor": "white",
            "linecolor": "white",
            "ticks": ""
           }
          },
          "title": {
           "x": 0.05
          },
          "xaxis": {
           "automargin": true,
           "gridcolor": "white",
           "linecolor": "white",
           "ticks": "",
           "title": {
            "standoff": 15
           },
           "zerolinecolor": "white",
           "zerolinewidth": 2
          },
          "yaxis": {
           "automargin": true,
           "gridcolor": "white",
           "linecolor": "white",
           "ticks": "",
           "title": {
            "standoff": 15
           },
           "zerolinecolor": "white",
           "zerolinewidth": 2
          }
         }
        },
        "violinmode": "group",
        "xaxis": {
         "anchor": "y",
         "domain": [
          0,
          1
         ],
         "title": {
          "text": "option"
         }
        },
        "yaxis": {
         "anchor": "x",
         "domain": [
          0,
          1
         ],
         "title": {
          "text": "value"
         }
        }
       }
      }
     },
     "metadata": {},
     "output_type": "display_data"
    }
   ],
   "source": [
    "\n",
    "fig = px.violin(cups.history, y=\"value\", x=\"option\", box=True, points=\"all\",\n",
    "          hover_data=cups.history.columns)\n",
    "fig.show()"
   ]
  },
  {
   "cell_type": "code",
   "execution_count": 5,
   "id": "1e234b8c",
   "metadata": {
    "execution": {
     "iopub.execute_input": "2025-03-31T07:48:49.155186Z",
     "iopub.status.busy": "2025-03-31T07:48:49.154782Z",
     "iopub.status.idle": "2025-03-31T07:48:49.600416Z",
     "shell.execute_reply": "2025-03-31T07:48:49.599074Z"
    },
    "papermill": {
     "duration": 0.469411,
     "end_time": "2025-03-31T07:48:49.602754",
     "exception": false,
     "start_time": "2025-03-31T07:48:49.133343",
     "status": "completed"
    },
    "tags": []
   },
   "outputs": [
    {
     "data": {
      "image/png": "[encoded data removed]",
      "text/plain": [
       "<Figure size 1000x600 with 1 Axes>"
      ]
     },
     "metadata": {},
     "output_type": "display_data"
    }
   ],
   "source": [
    "\n",
    "grouped_data = [group['value'].values for name, group in cups.history.groupby('option')]\n",
    "fix, ax = plt.subplots(figsize=(10, 6))\n",
    "sns.violinplot(x='option', y='value', data=cups.history, ax=ax)\n",
    "ax.set_title('Violin plot of daly stress distribution for different cups of coffee')\n",
    "ax.set_xlabel('Cups of coffee')\n",
    "ax.set_ylabel('Garmin daily stress')\n",
    "plt.tight_layout()\n",
    "plt.show()"
   ]
  },
  {
   "cell_type": "markdown",
   "id": "37acb77d",
   "metadata": {
    "papermill": {
     "duration": 0.019649,
     "end_time": "2025-03-31T07:48:49.647263",
     "exception": false,
     "start_time": "2025-03-31T07:48:49.627614",
     "status": "completed"
    },
    "tags": []
   },
   "source": [
    "# Какой выход из МЦК утром?\n",
    "* Садиться в ту дверь, которая кажется ближе к выходу\n",
    "* считать от выхода на платформу до выхода из крутящихся дверей офиса\n"
   ]
  },
  {
   "cell_type": "code",
   "execution_count": 6,
   "id": "19b7af60",
   "metadata": {
    "execution": {
     "iopub.execute_input": "2025-03-31T07:48:49.68903Z",
     "iopub.status.busy": "2025-03-31T07:48:49.688623Z",
     "iopub.status.idle": "2025-03-31T07:48:49.916028Z",
     "shell.execute_reply": "2025-03-31T07:48:49.915025Z"
    },
    "papermill": {
     "duration": 0.250962,
     "end_time": "2025-03-31T07:48:49.918204",
     "exception": false,
     "start_time": "2025-03-31T07:48:49.667242",
     "status": "completed"
    },
    "tags": []
   },
   "outputs": [
    {
     "data": {
      "text/html": [
       "<div>\n",
       "<style scoped>\n",
       "    .dataframe tbody tr th:only-of-type {\n",
       "        vertical-align: middle;\n",
       "    }\n",
       "\n",
       "    .dataframe tbody tr th {\n",
       "        vertical-align: top;\n",
       "    }\n",
       "\n",
       "    .dataframe thead th {\n",
       "        text-align: right;\n",
       "    }\n",
       "</style>\n",
       "<table border=\"1\" class=\"dataframe\">\n",
       "  <thead>\n",
       "    <tr style=\"text-align: right;\">\n",
       "      <th></th>\n",
       "      <th>name</th>\n",
       "      <th>mu</th>\n",
       "      <th>Te</th>\n",
       "      <th>alpha</th>\n",
       "      <th>beta</th>\n",
       "      <th>tau</th>\n",
       "      <th>theta</th>\n",
       "      <th>SD</th>\n",
       "      <th>var95</th>\n",
       "    </tr>\n",
       "  </thead>\n",
       "  <tbody>\n",
       "    <tr>\n",
       "      <th>1</th>\n",
       "      <td>мцд эскалатор</td>\n",
       "      <td>8.027791</td>\n",
       "      <td>51.0</td>\n",
       "      <td>26.0</td>\n",
       "      <td>6.689018</td>\n",
       "      <td>5.783697</td>\n",
       "      <td>8.024506</td>\n",
       "      <td>0.415812</td>\n",
       "      <td>8.839483</td>\n",
       "    </tr>\n",
       "    <tr>\n",
       "      <th>2</th>\n",
       "      <td>мцд пешком</td>\n",
       "      <td>8.236667</td>\n",
       "      <td>5.0</td>\n",
       "      <td>3.0</td>\n",
       "      <td>0.677297</td>\n",
       "      <td>5.963611</td>\n",
       "      <td>8.294720</td>\n",
       "      <td>0.409492</td>\n",
       "      <td>9.097310</td>\n",
       "    </tr>\n",
       "    <tr>\n",
       "      <th>0</th>\n",
       "      <td>мцк</td>\n",
       "      <td>8.905417</td>\n",
       "      <td>4.0</td>\n",
       "      <td>2.5</td>\n",
       "      <td>1.015287</td>\n",
       "      <td>4.174850</td>\n",
       "      <td>8.805134</td>\n",
       "      <td>0.489418</td>\n",
       "      <td>9.764375</td>\n",
       "    </tr>\n",
       "  </tbody>\n",
       "</table>\n",
       "</div>"
      ],
      "text/plain": [
       "            name        mu    Te  alpha      beta       tau     theta  \\\n",
       "1  мцд эскалатор  8.027791  51.0   26.0  6.689018  5.783697  8.024506   \n",
       "2     мцд пешком  8.236667   5.0    3.0  0.677297  5.963611  8.294720   \n",
       "0            мцк  8.905417   4.0    2.5  1.015287  4.174850  8.805134   \n",
       "\n",
       "         SD     var95  \n",
       "1  0.415812  8.839483  \n",
       "2  0.409492  9.097310  \n",
       "0  0.489418  9.764375  "
      ]
     },
     "execution_count": 6,
     "metadata": {},
     "output_type": "execute_result"
    }
   ],
   "source": [
    "morning_exit = HandsTable(options_list=[\"мцк\",\"мцд эскалатор\", \"мцд пешком\"], minimize=True)\n",
    "# 3 мцк\n",
    "# 6 мцд эскалатор\n",
    "morning_exit.update_hands(\"мцк\", '0:08:03.7') # вторник 19 ноября\n",
    "morning_exit.update_hands(\"мцд эскалатор\", '0:08:40') # среда 20 ноября\n",
    "morning_exit.update_hands(\"мцк\", '0:09:23.4') # mon 25 ноября\n",
    "morning_exit.update_hands(\"мцд эскалатор\", '0:07:46.5') # вторник 26 ноября\n",
    "morning_exit.update_hands(\"мцд эскалатор\", '0:07:27.9') # среда 27 ноября\n",
    "morning_exit.update_hands(\"мцк\", '0:09:11') # пятница 29 ноября\n",
    "morning_exit.update_hands(\"мцд эскалатор\", '0:08:17.6') # понедельник 2 декабря\n",
    "morning_exit.update_hands(\"мцд эскалатор\", '0:08:28.4') # вторник 3 декабря\n",
    "morning_exit.update_hands(\"мцд эскалатор\", '0:08:28.4') # wed 4 dec\n",
    "morning_exit.update_hands(\"мцд эскалатор\", '0:07:26') # th 5 dec\n",
    "morning_exit.update_hands(\"мцд эскалатор\", '0:08:46.4') # fr 6 dec\n",
    "morning_exit.update_hands(\"мцд эскалатор\", '0:08:51.5') # mon 9 dec\n",
    "morning_exit.update_hands(\"мцд эскалатор\", '0:07:54.6') # th 12 dec\n",
    "morning_exit.update_hands(\"мцд эскалатор\", '0:08:05.6') # fr 13 dec\n",
    "morning_exit.update_hands(\"мцд эскалатор\", '0:08:37') # пн 16 dec\n",
    "morning_exit.update_hands(\"мцд эскалатор\", '0:07:38.9') # tue 17 dec\n",
    "morning_exit.update_hands(\"мцк\", '0:08:59.2') # wed 18 dec\n",
    "morning_exit.update_hands(\"мцд эскалатор\", '0:07:27.7') # th 19 dec\n",
    "morning_exit.update_hands(\"мцд эскалатор\", '0:07:56.5') # fr 20 dec\n",
    "morning_exit.update_hands(\"мцд эскалатор\", '0:07:26.32') # mon 23 dec\n",
    "morning_exit.update_hands(\"мцд эскалатор\", '0:09:09.3') # tue 24 dec\n",
    "morning_exit.update_hands(\"мцд эскалатор\", '0:07:53.2') # wed 25 dec\n",
    "morning_exit.update_hands(\"мцд эскалатор\", '0:07:32.9') # thr 26 dec\n",
    "morning_exit.update_hands(\"мцд эскалатор\", '0:07:06.4') # thr 09 jan 2025\n",
    "morning_exit.update_hands(\"мцд эскалатор\", '0:08:12.6') # fr 10 jan 2025\n",
    "morning_exit.update_hands(\"мцд эскалатор\", '0:07:39.3') # mon 13 jan 2025\n",
    "morning_exit.update_hands(\"мцд эскалатор\", '0:07:54.4') # tue 14 jan 2025\n",
    "morning_exit.update_hands(\"мцд эскалатор\", '0:07:47.1') # wed 15 jan 2025\n",
    "morning_exit.update_hands(\"мцд эскалатор\", '0:08:24.0') # thr 16 jan 2025\n",
    "morning_exit.update_hands(\"мцд эскалатор\", '0:07:15.4') # fr 17 jan 2025\n",
    "morning_exit.update_hands(\"мцд эскалатор\", '0:08:04.1') # mon 20 jan 2025\n",
    "morning_exit.update_hands(\"мцд эскалатор\", '0:07:52.4') # tue 21 jan 2025\n",
    "morning_exit.update_hands(\"мцд эскалатор\", '0:07:40.0') # wed 22 jan 2025\n",
    "morning_exit.update_hands(\"мцд эскалатор\", '0:07:21.0') # thr 23 jan 2025\n",
    "morning_exit.update_hands(\"мцд эскалатор\", '0:07:50.5') # fr 24 jan 2025\n",
    "morning_exit.update_hands(\"мцд эскалатор\", '0:08:11.1') # mon 27 jan 2025\n",
    "morning_exit.update_hands(\"мцд эскалатор\", '0:07:21.52') # tue 28 jan 2025\n",
    "morning_exit.update_hands(\"мцд эскалатор\", '0:08:26.8') # wed 29 jan 2025\n",
    "morning_exit.update_hands(\"мцд эскалатор\", '0:08:01.8') # thr 30 jan 2025\n",
    "morning_exit.update_hands(\"мцд эскалатор\", '0:08:14.0') # mon 3 feb 2025\n",
    "morning_exit.update_hands(\"мцд эскалатор\", '0:07:51.4') # tue 4 feb 2025\n",
    "morning_exit.update_hands(\"мцд эскалатор\", '0:07:53') # wed 5 feb 2025\n",
    "morning_exit.update_hands(\"мцд эскалатор\", '0:08:05') # thr 6 feb 2025\n",
    "morning_exit.update_hands(\"мцд пешком\", '0:08:26.8') # fr 7 feb 2025\n",
    "morning_exit.update_hands(\"мцд пешком\", '0:08:27.8') # monday 10 feb 2025\n",
    "morning_exit.update_hands(\"мцд эскалатор\", '0:07:58.9') # tue 11 feb 2025\n",
    "morning_exit.update_hands(\"мцд пешком\", '0:08:24.6') # wed 12 feb 2025\n",
    "morning_exit.update_hands(\"мцд пешком\", '0:07:47.1') # thr 13 feb 2025\n",
    "morning_exit.update_hands(\"мцд эскалатор\", '0:07:54.1') # fr 14 feb 2025\n",
    "morning_exit.update_hands(\"мцд эскалатор\", '0:08:59.6') # mon 17 feb 2025\n",
    "morning_exit.update_hands(\"мцд эскалатор\", '0:08:53.3') # tue 18 feb 2025\n",
    "morning_exit.update_hands(\"мцд пешком\", '0:08:04.7') # wed 19 feb 2025\n",
    "morning_exit.update_hands(\"мцд эскалатор\", '0:07:15.3') # thr 20 feb 2025\n",
    "morning_exit.update_hands(\"мцд эскалатор\", '0:08:37.7') # fr 21 feb 2025\n",
    "morning_exit.update_hands(\"мцд эскалатор\", '0:08:18.5') # tue 25 feb 2025\n",
    "morning_exit.update_hands(\"мцд эскалатор\", '0:08:12.0') # fr 28 feb 2025\n",
    "morning_exit.update_hands(\"мцд эскалатор\", '0:08:39.4') # mon 10 march 2025\n",
    "morning_exit.update_hands(\"мцд эскалатор\", '0:08:17.5') # wed 12 march 2025\n",
    "morning_exit.update_hands(\"мцд эскалатор\", '0:07:31.4') # thr 13 march 2025\n",
    "morning_exit.update_hands(\"мцд эскалатор\", '0:07:40.8') # fr 14 march 2025\n",
    "\n",
    "\n",
    "morning_exit.grade()"
   ]
  },
  {
   "cell_type": "code",
   "execution_count": 7,
   "id": "42cc3669",
   "metadata": {
    "execution": {
     "iopub.execute_input": "2025-03-31T07:48:49.961325Z",
     "iopub.status.busy": "2025-03-31T07:48:49.960936Z",
     "iopub.status.idle": "2025-03-31T07:48:50.010954Z",
     "shell.execute_reply": "2025-03-31T07:48:50.009952Z"
    },
    "papermill": {
     "duration": 0.074521,
     "end_time": "2025-03-31T07:48:50.013328",
     "exception": false,
     "start_time": "2025-03-31T07:48:49.938807",
     "status": "completed"
    },
    "tags": []
   },
   "outputs": [
    {
     "data": {
      "application/vnd.plotly.v1+json": {
       "config": {
        "plotlyServerURL": "https://plot.ly"
       },
       "data": [
        {
         "alignmentgroup": "True",
         "box": {
          "visible": true
         },
         "hovertemplate": "option=%{x}<br>value=%{y}<extra></extra>",
         "legendgroup": "",
         "marker": {
          "color": "#636efa"
         },
         "name": "",
         "offsetgroup": "",
         "orientation": "v",
         "points": "all",
         "scalegroup": "True",
         "showlegend": false,
         "type": "violin",
         "x": [
          "мцк",
          "мцд эскалатор",
          "мцк",
          "мцд эскалатор",
          "мцд эскалатор",
          "мцк",
          "мцд эскалатор",
          "мцд эскалатор",
          "мцд эскалатор",
          "мцд эскалатор",
          "мцд эскалатор",
          "мцд эскалатор",
          "мцд эскалатор",
          "мцд эскалатор",
          "мцд эскалатор",
          "мцд эскалатор",
          "мцк",
          "мцд эскалатор",
          "мцд эскалатор",
          "мцд эскалатор",
          "мцд эскалатор",
          "мцд эскалатор",
          "мцд эскалатор",
          "мцд эскалатор",
          "мцд эскалатор",
          "мцд эскалатор",
          "мцд эскалатор",
          "мцд эскалатор",
          "мцд эскалатор",
          "мцд эскалатор",
          "мцд эскалатор",
          "мцд эскалатор",
          "мцд эскалатор",
          "мцд эскалатор",
          "мцд эскалатор",
          "мцд эскалатор",
          "мцд эскалатор",
          "мцд эскалатор",
          "мцд эскалатор",
          "мцд эскалатор",
          "мцд эскалатор",
          "мцд эскалатор",
          "мцд эскалатор",
          "мцд пешком",
          "мцд пешком",
          "мцд эскалатор",
          "мцд пешком",
          "мцд пешком",
          "мцд эскалатор",
          "мцд эскалатор",
          "мцд эскалатор",
          "мцд пешком",
          "мцд эскалатор",
          "мцд эскалатор",
          "мцд эскалатор",
          "мцд эскалатор",
          "мцд эскалатор",
          "мцд эскалатор",
          "мцд эскалатор",
          "мцд эскалатор"
         ],
         "x0": " ",
         "xaxis": "x",
         "y": {
          "bdata": "Xyz5xZIfIEBVVVVVVVUhQEfhehSuxyJAmpmZmZkZH0Bcj8L1KNwdQN7d3d3dXSJAlvxiyS+WIEDyiyW/WPIgQPKLJb9Y8iBAvLu7u7u7HUCMJb9Y8oshQHd3d3d3tyFApHA9CtejH0AwlvxiyS8gQLy7u7u7OyFAF0t+seSXHkD6xZJfLPkhQFnyiyW/2B1ARERERETEH0D0tqzVMcEdQI/C9ShcTyJAjCW/WPKLH0Cx5BdLfjEeQG2g0wY6bRxA7FG4HoVrIEAfhetRuJ4eQKDTBjptoB9ApHA9CtcjH0DNzMzMzMwgQAY6baDTBh1AY8kvlvwiIEB+seQXS34fQKuqqqqqqh5AZmZmZmZmHUDe3d3d3V0fQB+F61G4XiBAov6NUEZvHUDlF0t+seQgQI/C9ShcDyBAd3d3d3d3IEBtoNMGOm0fQImIiIiIiB9Aq6qqqqoqIEDlF0t+seQgQG2g0wY67SBAbaDTBjrtH0BSuB6F69EgQKRwPQrXIx9AHOi0gU6bH0D9YskvlvwhQAY6baDTxiFA6LSBThsoIECF61G4HgUdQIJOG+i0QSFA3t3d3d2dIEBmZmZmZmYgQNBpA502UCFAVVVVVVWVIEAXS36x5BceQLkehetRuB5A",
          "dtype": "f8"
         },
         "y0": " ",
         "yaxis": "y"
        }
       ],
       "layout": {
        "legend": {
         "tracegroupgap": 0
        },
        "margin": {
         "t": 60
        },
        "template": {
         "data": {
          "bar": [
           {
            "error_x": {
             "color": "#2a3f5f"
            },
            "error_y": {
             "color": "#2a3f5f"
            },
            "marker": {
             "line": {
              "color": "#E5ECF6",
              "width": 0.5
             },
             "pattern": {
              "fillmode": "overlay",
              "size": 10,
              "solidity": 0.2
             }
            },
            "type": "bar"
           }
          ],
          "barpolar": [
           {
            "marker": {
             "line": {
              "color": "#E5ECF6",
              "width": 0.5
             },
             "pattern": {
              "fillmode": "overlay",
              "size": 10,
              "solidity": 0.2
             }
            },
            "type": "barpolar"
           }
          ],
          "carpet": [
           {
            "aaxis": {
             "endlinecolor": "#2a3f5f",
             "gridcolor": "white",
             "linecolor": "white",
             "minorgridcolor": "white",
             "startlinecolor": "#2a3f5f"
            },
            "baxis": {
             "endlinecolor": "#2a3f5f",
             "gridcolor": "white",
             "linecolor": "white",
             "minorgridcolor": "white",
             "startlinecolor": "#2a3f5f"
            },
            "type": "carpet"
           }
          ],
          "choropleth": [
           {
            "colorbar": {
             "outlinewidth": 0,
             "ticks": ""
            },
            "type": "choropleth"
           }
          ],
          "contour": [
           {
            "colorbar": {
             "outlinewidth": 0,
             "ticks": ""
            },
            "colorscale": [
             [
              0,
              "#0d0887"
             ],
             [
              0.1111111111111111,
              "#46039f"
             ],
             [
              0.2222222222222222,
              "#7201a8"
             ],
             [
              0.3333333333333333,
              "#9c179e"
             ],
             [
              0.4444444444444444,
              "#bd3786"
             ],
             [
              0.5555555555555556,
              "#d8576b"
             ],
             [
              0.6666666666666666,
              "#ed7953"
             ],
             [
              0.7777777777777778,
              "#fb9f3a"
             ],
             [
              0.8888888888888888,
              "#fdca26"
             ],
             [
              1,
              "#f0f921"
             ]
            ],
            "type": "contour"
           }
          ],
          "contourcarpet": [
           {
            "colorbar": {
             "outlinewidth": 0,
             "ticks": ""
            },
            "type": "contourcarpet"
           }
          ],
          "heatmap": [
           {
            "colorbar": {
             "outlinewidth": 0,
             "ticks": ""
            },
            "colorscale": [
             [
              0,
              "#0d0887"
             ],
             [
              0.1111111111111111,
              "#46039f"
             ],
             [
              0.2222222222222222,
              "#7201a8"
             ],
             [
              0.3333333333333333,
              "#9c179e"
             ],
             [
              0.4444444444444444,
              "#bd3786"
             ],
             [
              0.5555555555555556,
              "#d8576b"
             ],
             [
              0.6666666666666666,
              "#ed7953"
             ],
             [
              0.7777777777777778,
              "#fb9f3a"
             ],
             [
              0.8888888888888888,
              "#fdca26"
             ],
             [
              1,
              "#f0f921"
             ]
            ],
            "type": "heatmap"
           }
          ],
          "histogram": [
           {
            "marker": {
             "pattern": {
              "fillmode": "overlay",
              "size": 10,
              "solidity": 0.2
             }
            },
            "type": "histogram"
           }
          ],
          "histogram2d": [
           {
            "colorbar": {
             "outlinewidth": 0,
             "ticks": ""
            },
            "colorscale": [
             [
              0,
              "#0d0887"
             ],
             [
              0.1111111111111111,
              "#46039f"
             ],
             [
              0.2222222222222222,
              "#7201a8"
             ],
             [
              0.3333333333333333,
              "#9c179e"
             ],
             [
              0.4444444444444444,
              "#bd3786"
             ],
             [
              0.5555555555555556,
              "#d8576b"
             ],
             [
              0.6666666666666666,
              "#ed7953"
             ],
             [
              0.7777777777777778,
              "#fb9f3a"
             ],
             [
              0.8888888888888888,
              "#fdca26"
             ],
             [
              1,
              "#f0f921"
             ]
            ],
            "type": "histogram2d"
           }
          ],
          "histogram2dcontour": [
           {
            "colorbar": {
             "outlinewidth": 0,
             "ticks": ""
            },
            "colorscale": [
             [
              0,
              "#0d0887"
             ],
             [
              0.1111111111111111,
              "#46039f"
             ],
             [
              0.2222222222222222,
              "#7201a8"
             ],
             [
              0.3333333333333333,
              "#9c179e"
             ],
             [
              0.4444444444444444,
              "#bd3786"
             ],
             [
              0.5555555555555556,
              "#d8576b"
             ],
             [
              0.6666666666666666,
              "#ed7953"
             ],
             [
              0.7777777777777778,
              "#fb9f3a"
             ],
             [
              0.8888888888888888,
              "#fdca26"
             ],
             [
              1,
              "#f0f921"
             ]
            ],
            "type": "histogram2dcontour"
           }
          ],
          "mesh3d": [
           {
            "colorbar": {
             "outlinewidth": 0,
             "ticks": ""
            },
            "type": "mesh3d"
           }
          ],
          "parcoords": [
           {
            "line": {
             "colorbar": {
              "outlinewidth": 0,
              "ticks": ""
             }
            },
            "type": "parcoords"
           }
          ],
          "pie": [
           {
            "automargin": true,
            "type": "pie"
           }
          ],
          "scatter": [
           {
            "fillpattern": {
             "fillmode": "overlay",
             "size": 10,
             "solidity": 0.2
            },
            "type": "scatter"
           }
          ],
          "scatter3d": [
           {
            "line": {
             "colorbar": {
              "outlinewidth": 0,
              "ticks": ""
             }
            },
            "marker": {
             "colorbar": {
              "outlinewidth": 0,
              "ticks": ""
             }
            },
            "type": "scatter3d"
           }
          ],
          "scattercarpet": [
           {
            "marker": {
             "colorbar": {
              "outlinewidth": 0,
              "ticks": ""
             }
            },
            "type": "scattercarpet"
           }
          ],
          "scattergeo": [
           {
            "marker": {
             "colorbar": {
              "outlinewidth": 0,
              "ticks": ""
             }
            },
            "type": "scattergeo"
           }
          ],
          "scattergl": [
           {
            "marker": {
             "colorbar": {
              "outlinewidth": 0,
              "ticks": ""
             }
            },
            "type": "scattergl"
           }
          ],
          "scattermap": [
           {
            "marker": {
             "colorbar": {
              "outlinewidth": 0,
              "ticks": ""
             }
            },
            "type": "scattermap"
           }
          ],
          "scattermapbox": [
           {
            "marker": {
             "colorbar": {
              "outlinewidth": 0,
              "ticks": ""
             }
            },
            "type": "scattermapbox"
           }
          ],
          "scatterpolar": [
           {
            "marker": {
             "colorbar": {
              "outlinewidth": 0,
              "ticks": ""
             }
            },
            "type": "scatterpolar"
           }
          ],
          "scatterpolargl": [
           {
            "marker": {
             "colorbar": {
              "outlinewidth": 0,
              "ticks": ""
             }
            },
            "type": "scatterpolargl"
           }
          ],
          "scatterternary": [
           {
            "marker": {
             "colorbar": {
              "outlinewidth": 0,
              "ticks": ""
             }
            },
            "type": "scatterternary"
           }
          ],
          "surface": [
           {
            "colorbar": {
             "outlinewidth": 0,
             "ticks": ""
            },
            "colorscale": [
             [
              0,
              "#0d0887"
             ],
             [
              0.1111111111111111,
              "#46039f"
             ],
             [
              0.2222222222222222,
              "#7201a8"
             ],
             [
              0.3333333333333333,
              "#9c179e"
             ],
             [
              0.4444444444444444,
              "#bd3786"
             ],
             [
              0.5555555555555556,
              "#d8576b"
             ],
             [
              0.6666666666666666,
              "#ed7953"
             ],
             [
              0.7777777777777778,
              "#fb9f3a"
             ],
             [
              0.8888888888888888,
              "#fdca26"
             ],
             [
              1,
              "#f0f921"
             ]
            ],
            "type": "surface"
           }
          ],
          "table": [
           {
            "cells": {
             "fill": {
              "color": "#EBF0F8"
             },
             "line": {
              "color": "white"
             }
            },
            "header": {
             "fill": {
              "color": "#C8D4E3"
             },
             "line": {
              "color": "white"
             }
            },
            "type": "table"
           }
          ]
         },
         "layout": {
          "annotationdefaults": {
           "arrowcolor": "#2a3f5f",
           "arrowhead": 0,
           "arrowwidth": 1
          },
          "autotypenumbers": "strict",
          "coloraxis": {
           "colorbar": {
            "outlinewidth": 0,
            "ticks": ""
           }
          },
          "colorscale": {
           "diverging": [
            [
             0,
             "#8e0152"
            ],
            [
             0.1,
             "#c51b7d"
            ],
            [
             0.2,
             "#de77ae"
            ],
            [
             0.3,
             "#f1b6da"
            ],
            [
             0.4,
             "#fde0ef"
            ],
            [
             0.5,
             "#f7f7f7"
            ],
            [
             0.6,
             "#e6f5d0"
            ],
            [
             0.7,
             "#b8e186"
            ],
            [
             0.8,
             "#7fbc41"
            ],
            [
             0.9,
             "#4d9221"
            ],
            [
             1,
             "#276419"
            ]
           ],
           "sequential": [
            [
             0,
             "#0d0887"
            ],
            [
             0.1111111111111111,
             "#46039f"
            ],
            [
             0.2222222222222222,
             "#7201a8"
            ],
            [
             0.3333333333333333,
             "#9c179e"
            ],
            [
             0.4444444444444444,
             "#bd3786"
            ],
            [
             0.5555555555555556,
             "#d8576b"
            ],
            [
             0.6666666666666666,
             "#ed7953"
            ],
            [
             0.7777777777777778,
             "#fb9f3a"
            ],
            [
             0.8888888888888888,
             "#fdca26"
            ],
            [
             1,
             "#f0f921"
            ]
           ],
           "sequentialminus": [
            [
             0,
             "#0d0887"
            ],
            [
             0.1111111111111111,
             "#46039f"
            ],
            [
             0.2222222222222222,
             "#7201a8"
            ],
            [
             0.3333333333333333,
             "#9c179e"
            ],
            [
             0.4444444444444444,
             "#bd3786"
            ],
            [
             0.5555555555555556,
             "#d8576b"
            ],
            [
             0.6666666666666666,
             "#ed7953"
            ],
            [
             0.7777777777777778,
             "#fb9f3a"
            ],
            [
             0.8888888888888888,
             "#fdca26"
            ],
            [
             1,
             "#f0f921"
            ]
           ]
          },
          "colorway": [
           "#636efa",
           "#EF553B",
           "#00cc96",
           "#ab63fa",
           "#FFA15A",
           "#19d3f3",
           "#FF6692",
           "#B6E880",
           "#FF97FF",
           "#FECB52"
          ],
          "font": {
           "color": "#2a3f5f"
          },
          "geo": {
           "bgcolor": "white",
           "lakecolor": "white",
           "landcolor": "#E5ECF6",
           "showlakes": true,
           "showland": true,
           "subunitcolor": "white"
          },
          "hoverlabel": {
           "align": "left"
          },
          "hovermode": "closest",
          "mapbox": {
           "style": "light"
          },
          "paper_bgcolor": "white",
          "plot_bgcolor": "#E5ECF6",
          "polar": {
           "angularaxis": {
            "gridcolor": "white",
            "linecolor": "white",
            "ticks": ""
           },
           "bgcolor": "#E5ECF6",
           "radialaxis": {
            "gridcolor": "white",
            "linecolor": "white",
            "ticks": ""
           }
          },
          "scene": {
           "xaxis": {
            "backgroundcolor": "#E5ECF6",
            "gridcolor": "white",
            "gridwidth": 2,
            "linecolor": "white",
            "showbackground": true,
            "ticks": "",
            "zerolinecolor": "white"
           },
           "yaxis": {
            "backgroundcolor": "#E5ECF6",
            "gridcolor": "white",
            "gridwidth": 2,
            "linecolor": "white",
            "showbackground": true,
            "ticks": "",
            "zerolinecolor": "white"
           },
           "zaxis": {
            "backgroundcolor": "#E5ECF6",
            "gridcolor": "white",
            "gridwidth": 2,
            "linecolor": "white",
            "showbackground": true,
            "ticks": "",
            "zerolinecolor": "white"
           }
          },
          "shapedefaults": {
           "line": {
            "color": "#2a3f5f"
           }
          },
          "ternary": {
           "aaxis": {
            "gridcolor": "white",
            "linecolor": "white",
            "ticks": ""
           },
           "baxis": {
            "gridcolor": "white",
            "linecolor": "white",
            "ticks": ""
           },
           "bgcolor": "#E5ECF6",
           "caxis": {
            "gridcolor": "white",
            "linecolor": "white",
            "ticks": ""
           }
          },
          "title": {
           "x": 0.05
          },
          "xaxis": {
           "automargin": true,
           "gridcolor": "white",
           "linecolor": "white",
           "ticks": "",
           "title": {
            "standoff": 15
           },
           "zerolinecolor": "white",
           "zerolinewidth": 2
          },
          "yaxis": {
           "automargin": true,
           "gridcolor": "white",
           "linecolor": "white",
           "ticks": "",
           "title": {
            "standoff": 15
           },
           "zerolinecolor": "white",
           "zerolinewidth": 2
          }
         }
        },
        "violinmode": "group",
        "xaxis": {
         "anchor": "y",
         "domain": [
          0,
          1
         ],
         "title": {
          "text": "option"
         }
        },
        "yaxis": {
         "anchor": "x",
         "domain": [
          0,
          1
         ],
         "title": {
          "text": "value"
         }
        }
       }
      }
     },
     "metadata": {},
     "output_type": "display_data"
    }
   ],
   "source": [
    "fig = px.violin(morning_exit.history, y=\"value\", x=\"option\", box=True, points=\"all\",\n",
    "          hover_data=cups.history.columns)\n",
    "fig.show()"
   ]
  },
  {
   "cell_type": "markdown",
   "id": "9c0de186",
   "metadata": {
    "papermill": {
     "duration": 0.021199,
     "end_time": "2025-03-31T07:48:50.055943",
     "exception": false,
     "start_time": "2025-03-31T07:48:50.034744",
     "status": "completed"
    },
    "tags": []
   },
   "source": [
    "# Какой вход в МЦК вечером?\n",
    "* Садиться в ту дверь, которая кажется ближе к выходу\n",
    "* считать от выхода из крутящихся дверей до посадки в поезд\n"
   ]
  },
  {
   "cell_type": "code",
   "execution_count": 8,
   "id": "d970a376",
   "metadata": {
    "execution": {
     "iopub.execute_input": "2025-03-31T07:48:50.101304Z",
     "iopub.status.busy": "2025-03-31T07:48:50.100948Z",
     "iopub.status.idle": "2025-03-31T07:48:50.240971Z",
     "shell.execute_reply": "2025-03-31T07:48:50.239792Z"
    },
    "papermill": {
     "duration": 0.164193,
     "end_time": "2025-03-31T07:48:50.243092",
     "exception": false,
     "start_time": "2025-03-31T07:48:50.078899",
     "status": "completed"
    },
    "tags": []
   },
   "outputs": [
    {
     "data": {
      "text/html": [
       "<div>\n",
       "<style scoped>\n",
       "    .dataframe tbody tr th:only-of-type {\n",
       "        vertical-align: middle;\n",
       "    }\n",
       "\n",
       "    .dataframe tbody tr th {\n",
       "        vertical-align: top;\n",
       "    }\n",
       "\n",
       "    .dataframe thead th {\n",
       "        text-align: right;\n",
       "    }\n",
       "</style>\n",
       "<table border=\"1\" class=\"dataframe\">\n",
       "  <thead>\n",
       "    <tr style=\"text-align: right;\">\n",
       "      <th></th>\n",
       "      <th>name</th>\n",
       "      <th>mu</th>\n",
       "      <th>Te</th>\n",
       "      <th>alpha</th>\n",
       "      <th>beta</th>\n",
       "      <th>tau</th>\n",
       "      <th>theta</th>\n",
       "      <th>SD</th>\n",
       "      <th>var95</th>\n",
       "    </tr>\n",
       "  </thead>\n",
       "  <tbody>\n",
       "    <tr>\n",
       "      <th>1</th>\n",
       "      <td>мцд эскалатор</td>\n",
       "      <td>10.586538</td>\n",
       "      <td>13.0</td>\n",
       "      <td>7.0</td>\n",
       "      <td>22.144001</td>\n",
       "      <td>0.587573</td>\n",
       "      <td>10.596884</td>\n",
       "      <td>1.304575</td>\n",
       "      <td>13.153803</td>\n",
       "    </tr>\n",
       "    <tr>\n",
       "      <th>2</th>\n",
       "      <td>мцд пешком</td>\n",
       "      <td>11.161000</td>\n",
       "      <td>10.0</td>\n",
       "      <td>5.5</td>\n",
       "      <td>15.254734</td>\n",
       "      <td>0.419415</td>\n",
       "      <td>11.077866</td>\n",
       "      <td>1.544110</td>\n",
       "      <td>14.104265</td>\n",
       "    </tr>\n",
       "    <tr>\n",
       "      <th>0</th>\n",
       "      <td>мцк</td>\n",
       "      <td>11.290972</td>\n",
       "      <td>12.0</td>\n",
       "      <td>6.5</td>\n",
       "      <td>34.899532</td>\n",
       "      <td>0.192671</td>\n",
       "      <td>11.364541</td>\n",
       "      <td>2.278201</td>\n",
       "      <td>15.829733</td>\n",
       "    </tr>\n",
       "  </tbody>\n",
       "</table>\n",
       "</div>"
      ],
      "text/plain": [
       "            name         mu    Te  alpha       beta       tau      theta  \\\n",
       "1  мцд эскалатор  10.586538  13.0    7.0  22.144001  0.587573  10.596884   \n",
       "2     мцд пешком  11.161000  10.0    5.5  15.254734  0.419415  11.077866   \n",
       "0            мцк  11.290972  12.0    6.5  34.899532  0.192671  11.364541   \n",
       "\n",
       "         SD      var95  \n",
       "1  1.304575  13.153803  \n",
       "2  1.544110  14.104265  \n",
       "0  2.278201  15.829733  "
      ]
     },
     "execution_count": 8,
     "metadata": {},
     "output_type": "execute_result"
    }
   ],
   "source": [
    "evening_entrance = HandsTable(options_list=[\"мцк\",\"мцд эскалатор\", \"мцд пешком\"], minimize=True)\n",
    "# 3 мцк\n",
    "# 6 мцд эскалатор\n",
    "evening_entrance.update_hands(\"мцд эскалатор\", '0:08:03.7') # четверг 21 ноября\n",
    "evening_entrance.update_hands(\"мцк\", '0:11:14') # четверг 28 ноября\n",
    "evening_entrance.update_hands(\"мцд эскалатор\", '0:15:47.8') # понедельник 2 декабря\n",
    "evening_entrance.update_hands(\"мцк\", '0:11:03') # tue 3 dec\n",
    "evening_entrance.update_hands(\"мцк\", '0:14:29.3') # wed 4 dec\n",
    "evening_entrance.update_hands(\"мцк\", '0:12:05') # fr 06 dec\n",
    "evening_entrance.update_hands(\"мцк\", '0:13:53') # mon 09 dec\n",
    "evening_entrance.update_hands(\"мцд эскалатор\", '0:10:14') # fr 13 декабря\n",
    "evening_entrance.update_hands(\"мцк\", '0:09:31.7') # tue 17 dec\n",
    "evening_entrance.update_hands(\"мцк\", '0:08:33') # wed 18 dec\n",
    "evening_entrance.update_hands(\"мцд эскалатор\", '0:09:51.9') # th 19 dec\n",
    "evening_entrance.update_hands(\"мцд эскалатор\", '0:09:16.1') # mon 23 dec\n",
    "evening_entrance.update_hands(\"мцд эскалатор\", '0:09:31.7') # tue 24 dec\n",
    "evening_entrance.update_hands(\"мцк\", '0:08:19.6') # wed 18 dec\n",
    "evening_entrance.update_hands(\"мцд эскалатор\", '0:09:18.6') # th 9 jan\n",
    "evening_entrance.update_hands(\"мцк\", '0:08:11.9') # fr 10 jan\n",
    "evening_entrance.update_hands(\"мцд эскалатор\", '0:10:50') # mon 13 jan\n",
    "evening_entrance.update_hands(\"мцд эскалатор\", '0:11:15') # tue 14 jan\n",
    "evening_entrance.update_hands(\"мцк\", '0:12:08') # wed 15 jan\n",
    "evening_entrance.update_hands(\"мцк\", '0:10:13') # mon 20 jan\n",
    "evening_entrance.update_hands(\"мцд эскалатор\", '0:11:40') # tue 21 jan\n",
    "evening_entrance.update_hands(\"мцк\", '0:15:48') # wed 22 jan\n",
    "evening_entrance.update_hands(\"мцд эскалатор\", '0:09:34.7') # thr 23 jan\n",
    "evening_entrance.update_hands(\"мцд пешком\", '0:10:45') # thr 6 feb\n",
    "evening_entrance.update_hands(\"мцд пешком\", '0:12:01') # fr 7 feb\n",
    "evening_entrance.update_hands(\"мцд пешком\", '0:10:34') # monday 10 feb\n",
    "evening_entrance.update_hands(\"мцд пешком\", '0:09:08.2') # thr 13 feb\n",
    "evening_entrance.update_hands(\"мцд пешком\", '0:09:57.6') # fr 14 feb\n",
    "evening_entrance.update_hands(\"мцд пешком\", '0:09:46.8') # mon 17 feb\n",
    "evening_entrance.update_hands(\"мцд пешком\", '0:15:38') # wed 19 feb\n",
    "evening_entrance.update_hands(\"мцд пешком\", '0:11:49') # thr 20 feb\n",
    "evening_entrance.update_hands(\"мцд пешком\", '0:10:35') # thr 27 feb\n",
    "evening_entrance.update_hands(\"мцд эскалатор\", '0:11:57.0') # mon 10 march\n",
    "evening_entrance.update_hands(\"мцд эскалатор\", '0:10:17.0') # tue 11 march\n",
    "evening_entrance.update_hands(\"мцд пешком\", '0:11:22.0') # thr 13 march\n",
    "\n",
    "evening_entrance.grade()"
   ]
  },
  {
   "cell_type": "code",
   "execution_count": 9,
   "id": "45e30c43",
   "metadata": {
    "execution": {
     "iopub.execute_input": "2025-03-31T07:48:50.288915Z",
     "iopub.status.busy": "2025-03-31T07:48:50.288529Z",
     "iopub.status.idle": "2025-03-31T07:48:50.341273Z",
     "shell.execute_reply": "2025-03-31T07:48:50.340026Z"
    },
    "papermill": {
     "duration": 0.078108,
     "end_time": "2025-03-31T07:48:50.343598",
     "exception": false,
     "start_time": "2025-03-31T07:48:50.26549",
     "status": "completed"
    },
    "tags": []
   },
   "outputs": [
    {
     "data": {
      "application/vnd.plotly.v1+json": {
       "config": {
        "plotlyServerURL": "https://plot.ly"
       },
       "data": [
        {
         "alignmentgroup": "True",
         "box": {
          "visible": true
         },
         "hovertemplate": "option=%{x}<br>value=%{y}<extra></extra>",
         "legendgroup": "",
         "marker": {
          "color": "#636efa"
         },
         "name": "",
         "offsetgroup": "",
         "orientation": "v",
         "points": "all",
         "scalegroup": "True",
         "showlegend": false,
         "type": "violin",
         "x": [
          "мцд эскалатор",
          "мцк",
          "мцд эскалатор",
          "мцк",
          "мцк",
          "мцк",
          "мцк",
          "мцд эскалатор",
          "мцк",
          "мцк",
          "мцд эскалатор",
          "мцд эскалатор",
          "мцд эскалатор",
          "мцк",
          "мцд эскалатор",
          "мцк",
          "мцд эскалатор",
          "мцд эскалатор",
          "мцк",
          "мцк",
          "мцд эскалатор",
          "мцк",
          "мцд эскалатор",
          "мцд пешком",
          "мцд пешком",
          "мцд пешком",
          "мцд пешком",
          "мцд пешком",
          "мцд пешком",
          "мцд пешком",
          "мцд пешком",
          "мцд пешком",
          "мцд эскалатор",
          "мцд эскалатор",
          "мцд пешком"
         ],
         "x0": " ",
         "xaxis": "x",
         "y": {
          "bdata": "Xyz5xZIfIEB3d3d3d3cmQBdLfrHkly9AmpmZmZkZJkA6baDTBvosQKuqqqqqKihARERERETEK0B3d3d3d3ckQE8b6LSBDiNAmpmZmZkZIUB7FK5H4bojQMovlvxiiSJATxvotIEOI0CnDXTaQKcgQB+F61G4niJAJb9Y8otlIECrqqqqqqolQAAAAAAAgCZAREREREREKEDv7u7u7m4kQFVVVVVVVSdAmpmZmZmZL0DptIFOGygjQAAAAAAAgCVAiYiIiIgIKEAiIiIiIiIlQMaSXyz5RSJA7FG4HoXrI0CPwvUoXI8jQERERERERC9AIiIiIiKiJ0CrqqqqqiolQGZmZmZm5idAERERERGRJEC8u7u7u7smQA==",
          "dtype": "f8"
         },
         "y0": " ",
         "yaxis": "y"
        }
       ],
       "layout": {
        "legend": {
         "tracegroupgap": 0
        },
        "margin": {
         "t": 60
        },
        "template": {
         "data": {
          "bar": [
           {
            "error_x": {
             "color": "#2a3f5f"
            },
            "error_y": {
             "color": "#2a3f5f"
            },
            "marker": {
             "line": {
              "color": "#E5ECF6",
              "width": 0.5
             },
             "pattern": {
              "fillmode": "overlay",
              "size": 10,
              "solidity": 0.2
             }
            },
            "type": "bar"
           }
          ],
          "barpolar": [
           {
            "marker": {
             "line": {
              "color": "#E5ECF6",
              "width": 0.5
             },
             "pattern": {
              "fillmode": "overlay",
              "size": 10,
              "solidity": 0.2
             }
            },
            "type": "barpolar"
           }
          ],
          "carpet": [
           {
            "aaxis": {
             "endlinecolor": "#2a3f5f",
             "gridcolor": "white",
             "linecolor": "white",
             "minorgridcolor": "white",
             "startlinecolor": "#2a3f5f"
            },
            "baxis": {
             "endlinecolor": "#2a3f5f",
             "gridcolor": "white",
             "linecolor": "white",
             "minorgridcolor": "white",
             "startlinecolor": "#2a3f5f"
            },
            "type": "carpet"
           }
          ],
          "choropleth": [
           {
            "colorbar": {
             "outlinewidth": 0,
             "ticks": ""
            },
            "type": "choropleth"
           }
          ],
          "contour": [
           {
            "colorbar": {
             "outlinewidth": 0,
             "ticks": ""
            },
            "colorscale": [
             [
              0,
              "#0d0887"
             ],
             [
              0.1111111111111111,
              "#46039f"
             ],
             [
              0.2222222222222222,
              "#7201a8"
             ],
             [
              0.3333333333333333,
              "#9c179e"
             ],
             [
              0.4444444444444444,
              "#bd3786"
             ],
             [
              0.5555555555555556,
              "#d8576b"
             ],
             [
              0.6666666666666666,
              "#ed7953"
             ],
             [
              0.7777777777777778,
              "#fb9f3a"
             ],
             [
              0.8888888888888888,
              "#fdca26"
             ],
             [
              1,
              "#f0f921"
             ]
            ],
            "type": "contour"
           }
          ],
          "contourcarpet": [
           {
            "colorbar": {
             "outlinewidth": 0,
             "ticks": ""
            },
            "type": "contourcarpet"
           }
          ],
          "heatmap": [
           {
            "colorbar": {
             "outlinewidth": 0,
             "ticks": ""
            },
            "colorscale": [
             [
              0,
              "#0d0887"
             ],
             [
              0.1111111111111111,
              "#46039f"
             ],
             [
              0.2222222222222222,
              "#7201a8"
             ],
             [
              0.3333333333333333,
              "#9c179e"
             ],
             [
              0.4444444444444444,
              "#bd3786"
             ],
             [
              0.5555555555555556,
              "#d8576b"
             ],
             [
              0.6666666666666666,
              "#ed7953"
             ],
             [
              0.7777777777777778,
              "#fb9f3a"
             ],
             [
              0.8888888888888888,
              "#fdca26"
             ],
             [
              1,
              "#f0f921"
             ]
            ],
            "type": "heatmap"
           }
          ],
          "histogram": [
           {
            "marker": {
             "pattern": {
              "fillmode": "overlay",
              "size": 10,
              "solidity": 0.2
             }
            },
            "type": "histogram"
           }
          ],
          "histogram2d": [
           {
            "colorbar": {
             "outlinewidth": 0,
             "ticks": ""
            },
            "colorscale": [
             [
              0,
              "#0d0887"
             ],
             [
              0.1111111111111111,
              "#46039f"
             ],
             [
              0.2222222222222222,
              "#7201a8"
             ],
             [
              0.3333333333333333,
              "#9c179e"
             ],
             [
              0.4444444444444444,
              "#bd3786"
             ],
             [
              0.5555555555555556,
              "#d8576b"
             ],
             [
              0.6666666666666666,
              "#ed7953"
             ],
             [
              0.7777777777777778,
              "#fb9f3a"
             ],
             [
              0.8888888888888888,
              "#fdca26"
             ],
             [
              1,
              "#f0f921"
             ]
            ],
            "type": "histogram2d"
           }
          ],
          "histogram2dcontour": [
           {
            "colorbar": {
             "outlinewidth": 0,
             "ticks": ""
            },
            "colorscale": [
             [
              0,
              "#0d0887"
             ],
             [
              0.1111111111111111,
              "#46039f"
             ],
             [
              0.2222222222222222,
              "#7201a8"
             ],
             [
              0.3333333333333333,
              "#9c179e"
             ],
             [
              0.4444444444444444,
              "#bd3786"
             ],
             [
              0.5555555555555556,
              "#d8576b"
             ],
             [
              0.6666666666666666,
              "#ed7953"
             ],
             [
              0.7777777777777778,
              "#fb9f3a"
             ],
             [
              0.8888888888888888,
              "#fdca26"
             ],
             [
              1,
              "#f0f921"
             ]
            ],
            "type": "histogram2dcontour"
           }
          ],
          "mesh3d": [
           {
            "colorbar": {
             "outlinewidth": 0,
             "ticks": ""
            },
            "type": "mesh3d"
           }
          ],
          "parcoords": [
           {
            "line": {
             "colorbar": {
              "outlinewidth": 0,
              "ticks": ""
             }
            },
            "type": "parcoords"
           }
          ],
          "pie": [
           {
            "automargin": true,
            "type": "pie"
           }
          ],
          "scatter": [
           {
            "fillpattern": {
             "fillmode": "overlay",
             "size": 10,
             "solidity": 0.2
            },
            "type": "scatter"
           }
          ],
          "scatter3d": [
           {
            "line": {
             "colorbar": {
              "outlinewidth": 0,
              "ticks": ""
             }
            },
            "marker": {
             "colorbar": {
              "outlinewidth": 0,
              "ticks": ""
             }
            },
            "type": "scatter3d"
           }
          ],
          "scattercarpet": [
           {
            "marker": {
             "colorbar": {
              "outlinewidth": 0,
              "ticks": ""
             }
            },
            "type": "scattercarpet"
           }
          ],
          "scattergeo": [
           {
            "marker": {
             "colorbar": {
              "outlinewidth": 0,
              "ticks": ""
             }
            },
            "type": "scattergeo"
           }
          ],
          "scattergl": [
           {
            "marker": {
             "colorbar": {
              "outlinewidth": 0,
              "ticks": ""
             }
            },
            "type": "scattergl"
           }
          ],
          "scattermap": [
           {
            "marker": {
             "colorbar": {
              "outlinewidth": 0,
              "ticks": ""
             }
            },
            "type": "scattermap"
           }
          ],
          "scattermapbox": [
           {
            "marker": {
             "colorbar": {
              "outlinewidth": 0,
              "ticks": ""
             }
            },
            "type": "scattermapbox"
           }
          ],
          "scatterpolar": [
           {
            "marker": {
             "colorbar": {
              "outlinewidth": 0,
              "ticks": ""
             }
            },
            "type": "scatterpolar"
           }
          ],
          "scatterpolargl": [
           {
            "marker": {
             "colorbar": {
              "outlinewidth": 0,
              "ticks": ""
             }
            },
            "type": "scatterpolargl"
           }
          ],
          "scatterternary": [
           {
            "marker": {
             "colorbar": {
              "outlinewidth": 0,
              "ticks": ""
             }
            },
            "type": "scatterternary"
           }
          ],
          "surface": [
           {
            "colorbar": {
             "outlinewidth": 0,
             "ticks": ""
            },
            "colorscale": [
             [
              0,
              "#0d0887"
             ],
             [
              0.1111111111111111,
              "#46039f"
             ],
             [
              0.2222222222222222,
              "#7201a8"
             ],
             [
              0.3333333333333333,
              "#9c179e"
             ],
             [
              0.4444444444444444,
              "#bd3786"
             ],
             [
              0.5555555555555556,
              "#d8576b"
             ],
             [
              0.6666666666666666,
              "#ed7953"
             ],
             [
              0.7777777777777778,
              "#fb9f3a"
             ],
             [
              0.8888888888888888,
              "#fdca26"
             ],
             [
              1,
              "#f0f921"
             ]
            ],
            "type": "surface"
           }
          ],
          "table": [
           {
            "cells": {
             "fill": {
              "color": "#EBF0F8"
             },
             "line": {
              "color": "white"
             }
            },
            "header": {
             "fill": {
              "color": "#C8D4E3"
             },
             "line": {
              "color": "white"
             }
            },
            "type": "table"
           }
          ]
         },
         "layout": {
          "annotationdefaults": {
           "arrowcolor": "#2a3f5f",
           "arrowhead": 0,
           "arrowwidth": 1
          },
          "autotypenumbers": "strict",
          "coloraxis": {
           "colorbar": {
            "outlinewidth": 0,
            "ticks": ""
           }
          },
          "colorscale": {
           "diverging": [
            [
             0,
             "#8e0152"
            ],
            [
             0.1,
             "#c51b7d"
            ],
            [
             0.2,
             "#de77ae"
            ],
            [
             0.3,
             "#f1b6da"
            ],
            [
             0.4,
             "#fde0ef"
            ],
            [
             0.5,
             "#f7f7f7"
            ],
            [
             0.6,
             "#e6f5d0"
            ],
            [
             0.7,
             "#b8e186"
            ],
            [
             0.8,
             "#7fbc41"
            ],
            [
             0.9,
             "#4d9221"
            ],
            [
             1,
             "#276419"
            ]
           ],
           "sequential": [
            [
             0,
             "#0d0887"
            ],
            [
             0.1111111111111111,
             "#46039f"
            ],
            [
             0.2222222222222222,
             "#7201a8"
            ],
            [
             0.3333333333333333,
             "#9c179e"
            ],
            [
             0.4444444444444444,
             "#bd3786"
            ],
            [
             0.5555555555555556,
             "#d8576b"
            ],
            [
             0.6666666666666666,
             "#ed7953"
            ],
            [
             0.7777777777777778,
             "#fb9f3a"
            ],
            [
             0.8888888888888888,
             "#fdca26"
            ],
            [
             1,
             "#f0f921"
            ]
           ],
           "sequentialminus": [
            [
             0,
             "#0d0887"
            ],
            [
             0.1111111111111111,
             "#46039f"
            ],
            [
             0.2222222222222222,
             "#7201a8"
            ],
            [
             0.3333333333333333,
             "#9c179e"
            ],
            [
             0.4444444444444444,
             "#bd3786"
            ],
            [
             0.5555555555555556,
             "#d8576b"
            ],
            [
             0.6666666666666666,
             "#ed7953"
            ],
            [
             0.7777777777777778,
             "#fb9f3a"
            ],
            [
             0.8888888888888888,
             "#fdca26"
            ],
            [
             1,
             "#f0f921"
            ]
           ]
          },
          "colorway": [
           "#636efa",
           "#EF553B",
           "#00cc96",
           "#ab63fa",
           "#FFA15A",
           "#19d3f3",
           "#FF6692",
           "#B6E880",
           "#FF97FF",
           "#FECB52"
          ],
          "font": {
           "color": "#2a3f5f"
          },
          "geo": {
           "bgcolor": "white",
           "lakecolor": "white",
           "landcolor": "#E5ECF6",
           "showlakes": true,
           "showland": true,
           "subunitcolor": "white"
          },
          "hoverlabel": {
           "align": "left"
          },
          "hovermode": "closest",
          "mapbox": {
           "style": "light"
          },
          "paper_bgcolor": "white",
          "plot_bgcolor": "#E5ECF6",
          "polar": {
           "angularaxis": {
            "gridcolor": "white",
            "linecolor": "white",
            "ticks": ""
           },
           "bgcolor": "#E5ECF6",
           "radialaxis": {
            "gridcolor": "white",
            "linecolor": "white",
            "ticks": ""
           }
          },
          "scene": {
           "xaxis": {
            "backgroundcolor": "#E5ECF6",
            "gridcolor": "white",
            "gridwidth": 2,
            "linecolor": "white",
            "showbackground": true,
            "ticks": "",
            "zerolinecolor": "white"
           },
           "yaxis": {
            "backgroundcolor": "#E5ECF6",
            "gridcolor": "white",
            "gridwidth": 2,
            "linecolor": "white",
            "showbackground": true,
            "ticks": "",
            "zerolinecolor": "white"
           },
           "zaxis": {
            "backgroundcolor": "#E5ECF6",
            "gridcolor": "white",
            "gridwidth": 2,
            "linecolor": "white",
            "showbackground": true,
            "ticks": "",
            "zerolinecolor": "white"
           }
          },
          "shapedefaults": {
           "line": {
            "color": "#2a3f5f"
           }
          },
          "ternary": {
           "aaxis": {
            "gridcolor": "white",
            "linecolor": "white",
            "ticks": ""
           },
           "baxis": {
            "gridcolor": "white",
            "linecolor": "white",
            "ticks": ""
           },
           "bgcolor": "#E5ECF6",
           "caxis": {
            "gridcolor": "white",
            "linecolor": "white",
            "ticks": ""
           }
          },
          "title": {
           "x": 0.05
          },
          "xaxis": {
           "automargin": true,
           "gridcolor": "white",
           "linecolor": "white",
           "ticks": "",
           "title": {
            "standoff": 15
           },
           "zerolinecolor": "white",
           "zerolinewidth": 2
          },
          "yaxis": {
           "automargin": true,
           "gridcolor": "white",
           "linecolor": "white",
           "ticks": "",
           "title": {
            "standoff": 15
           },
           "zerolinecolor": "white",
           "zerolinewidth": 2
          }
         }
        },
        "violinmode": "group",
        "xaxis": {
         "anchor": "y",
         "domain": [
          0,
          1
         ],
         "title": {
          "text": "option"
         }
        },
        "yaxis": {
         "anchor": "x",
         "domain": [
          0,
          1
         ],
         "title": {
          "text": "value"
         }
        }
       }
      }
     },
     "metadata": {},
     "output_type": "display_data"
    }
   ],
   "source": [
    "fig = px.violin(evening_entrance.history, y=\"value\", x=\"option\", box=True, points=\"all\",\n",
    "          hover_data=cups.history.columns)\n",
    "fig.show()"
   ]
  },
  {
   "cell_type": "code",
   "execution_count": null,
   "id": "9486a308",
   "metadata": {
    "papermill": {
     "duration": 0.020688,
     "end_time": "2025-03-31T07:48:50.385178",
     "exception": false,
     "start_time": "2025-03-31T07:48:50.36449",
     "status": "completed"
    },
    "tags": []
   },
   "outputs": [],
   "source": []
  }
 ],
 "metadata": {
  "kaggle": {
   "accelerator": "none",
   "dataSources": [],
   "dockerImageVersionId": 30786,
   "isGpuEnabled": false,
   "isInternetEnabled": true,
   "language": "python",
   "sourceType": "notebook"
  },
  "kernelspec": {
   "display_name": "venv",
   "language": "python",
   "name": "python3"
  },
  "language_info": {
   "codemirror_mode": {
    "name": "ipython",
    "version": 3
   },
   "file_extension": ".py",
   "mimetype": "text/x-python",
   "name": "python",
   "nbconvert_exporter": "python",
   "pygments_lexer": "ipython3",
   "version": "3.9.6"
  },
  "papermill": {
   "default_parameters": {},
   "duration": 41.023966,
   "end_time": "2025-03-31T07:48:51.128441",
   "environment_variables": {},
   "exception": null,
   "input_path": "__notebook__.ipynb",
   "output_path": "__notebook__.ipynb",
   "parameters": {},
   "start_time": "2025-03-31T07:48:10.104475",
   "version": "2.6.0"
  }
 },
 "nbformat": 4,
 "nbformat_minor": 5
}
