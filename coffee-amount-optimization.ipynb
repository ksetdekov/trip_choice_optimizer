{
 "cells": [
  {
   "cell_type": "markdown",
   "id": "d9c76388",
   "metadata": {
    "papermill": {
     "duration": 0.003628,
     "end_time": "2024-11-29T07:21:27.135201",
     "exception": false,
     "start_time": "2024-11-29T07:21:27.131573",
     "status": "completed"
    },
    "tags": []
   },
   "source": [
    "# Ноутбук для подбора количества кофе, которое минимизирует стресс"
   ]
  },
  {
   "cell_type": "markdown",
   "id": "08e342c6",
   "metadata": {
    "papermill": {
     "duration": 0.003313,
     "end_time": "2024-11-29T07:21:27.142136",
     "exception": false,
     "start_time": "2024-11-29T07:21:27.138823",
     "status": "completed"
    },
    "tags": []
   },
   "source": [
    "## main class"
   ]
  },
  {
   "cell_type": "code",
   "execution_count": 1,
   "id": "a5da9721",
   "metadata": {
    "execution": {
     "iopub.execute_input": "2024-11-29T07:21:27.152083Z",
     "iopub.status.busy": "2024-11-29T07:21:27.151674Z",
     "iopub.status.idle": "2024-11-29T07:21:30.138101Z",
     "shell.execute_reply": "2024-11-29T07:21:30.135528Z"
    },
    "papermill": {
     "duration": 2.996458,
     "end_time": "2024-11-29T07:21:30.142040",
     "exception": false,
     "start_time": "2024-11-29T07:21:27.145582",
     "status": "completed"
    },
    "tags": []
   },
   "outputs": [],
   "source": [
    "import pandas as pd\n",
    "import numpy as np\n",
    "from scipy.stats import gamma, norm\n",
    "\n",
    "\n",
    "class HandsTable():\n",
    "    minimize = True\n",
    "    rho = 3.37\n",
    "\n",
    "    def __init__(self, options_list, minimize=True, rho=1.0):\n",
    "        \"\"\"инициализация\n",
    "\n",
    "        Args:\n",
    "            options_list (list): список из названий\n",
    "            minimize (bool, optional): Минимизировать если True, максимизировать если False. Defaults to True.\n",
    "            rho (float, optional): Риск толерантность, чем больше, тем больше риска готовы принять. Defaults to 1.0.\n",
    "        \"\"\"\n",
    "        self.hands = pd.DataFrame({'name': options_list,\n",
    "                                   'mu': 0.0,\n",
    "                                   'Te': 0.0,\n",
    "                                   'alpha': 0.5,\n",
    "                                   'beta': 0.5\n",
    "                                   })\n",
    "        self.minimize = minimize\n",
    "        if rho is not None:\n",
    "            self.rho = rho\n",
    "\n",
    "        self.history = pd.DataFrame(columns=['option', 'value'])\n",
    "\n",
    "    @classmethod\n",
    "    def to_minutes(self, timestr: str):\n",
    "        '''\n",
    "        convert timestr to float minutes\n",
    "        '''\n",
    "        return pd.to_timedelta(timestr).total_seconds()/60\n",
    "\n",
    "    @classmethod\n",
    "    def update_mean(self, X, T_last, mu_last):\n",
    "        mu_new = T_last * mu_last / (T_last + 1) + X / (T_last + 1)\n",
    "        return mu_new\n",
    "\n",
    "    @classmethod\n",
    "    def update_samples(self, T):\n",
    "        return T + 1\n",
    "\n",
    "    @classmethod\n",
    "    def update_shape(self, a):\n",
    "        return a + 0.5\n",
    "\n",
    "    @classmethod\n",
    "    def update_rate(self, X, mu_last, beta_last, T_last):\n",
    "        beta_new = beta_last + (T_last / (T_last + 1)) * \\\n",
    "            (np.square(X - mu_last)) / 2\n",
    "        return beta_new\n",
    "\n",
    "    def update_hands(self, name, value):\n",
    "        if isinstance(value, str):\n",
    "            try:\n",
    "                value = HandsTable.to_minutes(value)\n",
    "            except ValueError:\n",
    "                raise ValueError('input time string in hh:mm:ss format')\n",
    "        elif isinstance(value, float) or isinstance(value, int):\n",
    "            pass\n",
    "        else:\n",
    "            raise ValueError('input time string or int/float value')\n",
    "\n",
    "        _, mu, t, alpha, beta = self.hands[self.hands.name == name].values[0]\n",
    "        beta = HandsTable.update_rate(value, mu, beta, t)\n",
    "        mu = HandsTable.update_mean(value, t, mu)\n",
    "        t = HandsTable.update_samples(t)\n",
    "        alpha = HandsTable.update_shape(alpha)\n",
    "\n",
    "        # added code to write history\n",
    "        self.history.loc[len(self.history.index)] = [name, value]\n",
    "\n",
    "        self.hands.loc[self.hands.name == name, 'mu'] = mu\n",
    "        self.hands.loc[self.hands.name == name, 'Te'] = t\n",
    "        self.hands.loc[self.hands.name == name, 'alpha'] = alpha\n",
    "        self.hands.loc[self.hands.name == name, 'beta'] = beta\n",
    "\n",
    "    def grade(self):\n",
    "        hands_output = self.hands.copy()\n",
    "        tau = gamma.rvs(a=hands_output.alpha, scale=1/hands_output.beta)\n",
    "        theta_drops = norm.rvs(hands_output.mu, 1/hands_output.Te)\n",
    "        hands_output['tau'] = tau\n",
    "        hands_output['theta'] = theta_drops\n",
    "        hands_output['SD'] = np.sqrt(1/tau)\n",
    "\n",
    "        if self.minimize == True:\n",
    "            hands_output['var95'] = theta_drops + \\\n",
    "                norm.ppf(1-0.05/2) * hands_output.SD\n",
    "            if hands_output.mu.min() == 0:\n",
    "\n",
    "                output_df = hands_output.reindex(np.argsort(hands_output.Te))\n",
    "            else:\n",
    "                output_df = hands_output.reindex(\n",
    "                    np.argsort(self.rho * theta_drops + 1/tau))\n",
    "        else:\n",
    "            hands_output['var95'] = theta_drops + \\\n",
    "                norm.ppf(0.05/2) * hands_output.SD\n",
    "            if hands_output.mu.min() == 0:\n",
    "                output_df = hands_output.reindex(np.argsort(hands_output.Te))\n",
    "            else:\n",
    "                output_df = hands_output.reindex(\n",
    "                    np.argsort(self.rho * theta_drops - 1/tau)[::-1])\n",
    "\n",
    "        return output_df\n",
    "\n",
    "    def __str__(self):\n",
    "        return repr(self.hands)"
   ]
  },
  {
   "cell_type": "markdown",
   "id": "2bbd3f4d",
   "metadata": {
    "papermill": {
     "duration": 0.005733,
     "end_time": "2024-11-29T07:21:30.150873",
     "exception": false,
     "start_time": "2024-11-29T07:21:30.145140",
     "status": "completed"
    },
    "tags": []
   },
   "source": [
    "# Применение"
   ]
  },
  {
   "cell_type": "code",
   "execution_count": 2,
   "id": "549084d3",
   "metadata": {
    "execution": {
     "iopub.execute_input": "2024-11-29T07:21:30.161204Z",
     "iopub.status.busy": "2024-11-29T07:21:30.159467Z",
     "iopub.status.idle": "2024-11-29T07:21:30.323595Z",
     "shell.execute_reply": "2024-11-29T07:21:30.321230Z"
    },
    "papermill": {
     "duration": 0.172954,
     "end_time": "2024-11-29T07:21:30.327185",
     "exception": false,
     "start_time": "2024-11-29T07:21:30.154231",
     "status": "completed"
    },
    "tags": []
   },
   "outputs": [
    {
     "data": {
      "text/html": [
       "<div>\n",
       "<style scoped>\n",
       "    .dataframe tbody tr th:only-of-type {\n",
       "        vertical-align: middle;\n",
       "    }\n",
       "\n",
       "    .dataframe tbody tr th {\n",
       "        vertical-align: top;\n",
       "    }\n",
       "\n",
       "    .dataframe thead th {\n",
       "        text-align: right;\n",
       "    }\n",
       "</style>\n",
       "<table border=\"1\" class=\"dataframe\">\n",
       "  <thead>\n",
       "    <tr style=\"text-align: right;\">\n",
       "      <th></th>\n",
       "      <th>name</th>\n",
       "      <th>mu</th>\n",
       "      <th>Te</th>\n",
       "      <th>alpha</th>\n",
       "      <th>beta</th>\n",
       "      <th>tau</th>\n",
       "      <th>theta</th>\n",
       "      <th>SD</th>\n",
       "      <th>var95</th>\n",
       "    </tr>\n",
       "  </thead>\n",
       "  <tbody>\n",
       "    <tr>\n",
       "      <th>2</th>\n",
       "      <td>2</td>\n",
       "      <td>30.8</td>\n",
       "      <td>5.0</td>\n",
       "      <td>3.0</td>\n",
       "      <td>9.9</td>\n",
       "      <td>0.118033</td>\n",
       "      <td>30.970013</td>\n",
       "      <td>2.910708</td>\n",
       "      <td>36.674896</td>\n",
       "    </tr>\n",
       "    <tr>\n",
       "      <th>3</th>\n",
       "      <td>3</td>\n",
       "      <td>30.5</td>\n",
       "      <td>4.0</td>\n",
       "      <td>2.5</td>\n",
       "      <td>29.0</td>\n",
       "      <td>0.111103</td>\n",
       "      <td>30.912907</td>\n",
       "      <td>3.000106</td>\n",
       "      <td>36.793006</td>\n",
       "    </tr>\n",
       "    <tr>\n",
       "      <th>0</th>\n",
       "      <td>0</td>\n",
       "      <td>35.0</td>\n",
       "      <td>3.0</td>\n",
       "      <td>2.0</td>\n",
       "      <td>7.5</td>\n",
       "      <td>0.195396</td>\n",
       "      <td>34.994478</td>\n",
       "      <td>2.262259</td>\n",
       "      <td>39.428424</td>\n",
       "    </tr>\n",
       "    <tr>\n",
       "      <th>4</th>\n",
       "      <td>4</td>\n",
       "      <td>36.0</td>\n",
       "      <td>2.0</td>\n",
       "      <td>1.5</td>\n",
       "      <td>4.5</td>\n",
       "      <td>0.212637</td>\n",
       "      <td>36.080246</td>\n",
       "      <td>2.168607</td>\n",
       "      <td>40.330637</td>\n",
       "    </tr>\n",
       "    <tr>\n",
       "      <th>1</th>\n",
       "      <td>1</td>\n",
       "      <td>36.0</td>\n",
       "      <td>4.0</td>\n",
       "      <td>2.5</td>\n",
       "      <td>35.5</td>\n",
       "      <td>0.107008</td>\n",
       "      <td>35.900658</td>\n",
       "      <td>3.056974</td>\n",
       "      <td>41.892217</td>\n",
       "    </tr>\n",
       "  </tbody>\n",
       "</table>\n",
       "</div>"
      ],
      "text/plain": [
       "   name    mu   Te  alpha  beta       tau      theta        SD      var95\n",
       "2     2  30.8  5.0    3.0   9.9  0.118033  30.970013  2.910708  36.674896\n",
       "3     3  30.5  4.0    2.5  29.0  0.111103  30.912907  3.000106  36.793006\n",
       "0     0  35.0  3.0    2.0   7.5  0.195396  34.994478  2.262259  39.428424\n",
       "4     4  36.0  2.0    1.5   4.5  0.212637  36.080246  2.168607  40.330637\n",
       "1     1  36.0  4.0    2.5  35.5  0.107008  35.900658  3.056974  41.892217"
      ]
     },
     "execution_count": 2,
     "metadata": {},
     "output_type": "execute_result"
    }
   ],
   "source": [
    "cups = HandsTable(options_list=[*range(4+1)], minimize=True)\n",
    "cups.update_hands(0, 32) # суббота 9 ноября\n",
    "cups.update_hands(2, 33) # воскресенье 10 ноября\n",
    "cups.update_hands(1, 35) # вторник 12 ноября\n",
    "cups.update_hands(3, 34) # среда 13 ноября\n",
    "cups.update_hands(4, 34) # четверг 14 ноября\n",
    "cups.update_hands(3, 34) # пятница 15 ноября\n",
    "cups.update_hands(1, 34) # суббота 16 ноября\n",
    "cups.update_hands(1, 43) # воскресенье 17 ноября\n",
    "# cups.update_hands(6, 28) # понедельник 18 ноября я убрал 5  и 6 из подбора, это мучительно\n",
    "# cups.update_hands(5, 39) # вторник 19 ноября\n",
    "cups.update_hands(4, 38) # wednesday 20 ноября\n",
    "cups.update_hands(0, 36) # thursday 21 ноября\n",
    "cups.update_hands(2, 33) # friday 22 ноября\n",
    "cups.update_hands(0, 37) # sat 23 ноября\n",
    "cups.update_hands(1, 32) # sun 24 ноября\n",
    "cups.update_hands(2, 28) # mon 25 ноября\n",
    "cups.update_hands(3, 29) # tue 26 ноября\n",
    "cups.update_hands(3, 25) # wed 27 ноября\n",
    "cups.update_hands(2, 30) # th 28 ноября\n",
    "cups.update_hands(2, 30) # th 29 ноября\n",
    "\n",
    "cups.grade()"
   ]
  },
  {
   "cell_type": "code",
   "execution_count": 3,
   "id": "886a8907",
   "metadata": {
    "execution": {
     "iopub.execute_input": "2024-11-29T07:21:30.336560Z",
     "iopub.status.busy": "2024-11-29T07:21:30.336132Z",
     "iopub.status.idle": "2024-11-29T07:21:34.191183Z",
     "shell.execute_reply": "2024-11-29T07:21:34.188867Z"
    },
    "papermill": {
     "duration": 3.864995,
     "end_time": "2024-11-29T07:21:34.196190",
     "exception": false,
     "start_time": "2024-11-29T07:21:30.331195",
     "status": "completed"
    },
    "tags": []
   },
   "outputs": [
    {
     "data": {
      "text/html": [
       "        <script type=\"text/javascript\">\n",
       "        window.PlotlyConfig = {MathJaxConfig: 'local'};\n",
       "        if (window.MathJax && window.MathJax.Hub && window.MathJax.Hub.Config) {window.MathJax.Hub.Config({SVG: {font: \"STIX-Web\"}});}\n",
       "        if (typeof require !== 'undefined') {\n",
       "        require.undef(\"plotly\");\n",
       "        requirejs.config({\n",
       "            paths: {\n",
       "                'plotly': ['https://cdn.plot.ly/plotly-2.32.0.min']\n",
       "            }\n",
       "        });\n",
       "        require(['plotly'], function(Plotly) {\n",
       "            window._Plotly = Plotly;\n",
       "        });\n",
       "        }\n",
       "        </script>\n",
       "        "
      ]
     },
     "metadata": {},
     "output_type": "display_data"
    },
    {
     "data": {
      "text/html": [
       "<div>                            <div id=\"4e71c210-ff15-4e6b-a3f9-dac9400be9d0\" class=\"plotly-graph-div\" style=\"height:525px; width:100%;\"></div>            <script type=\"text/javascript\">                require([\"plotly\"], function(Plotly) {                    window.PLOTLYENV=window.PLOTLYENV || {};                                    if (document.getElementById(\"4e71c210-ff15-4e6b-a3f9-dac9400be9d0\")) {                    Plotly.newPlot(                        \"4e71c210-ff15-4e6b-a3f9-dac9400be9d0\",                        [{\"alignmentgroup\":\"True\",\"box\":{\"visible\":true},\"hovertemplate\":\"option=%{x}\\u003cbr\\u003evalue=%{y}\\u003cextra\\u003e\\u003c\\u002fextra\\u003e\",\"legendgroup\":\"\",\"marker\":{\"color\":\"#636efa\"},\"name\":\"\",\"offsetgroup\":\"\",\"orientation\":\"v\",\"points\":\"all\",\"scalegroup\":\"True\",\"showlegend\":false,\"x\":[0,2,1,3,4,3,1,1,4,0,2,0,1,2,3,3,2,2],\"x0\":\" \",\"xaxis\":\"x\",\"y\":[32,33,35,34,34,34,34,43,38,36,33,37,32,28,29,25,30,30],\"y0\":\" \",\"yaxis\":\"y\",\"type\":\"violin\"}],                        {\"template\":{\"data\":{\"histogram2dcontour\":[{\"type\":\"histogram2dcontour\",\"colorbar\":{\"outlinewidth\":0,\"ticks\":\"\"},\"colorscale\":[[0.0,\"#0d0887\"],[0.1111111111111111,\"#46039f\"],[0.2222222222222222,\"#7201a8\"],[0.3333333333333333,\"#9c179e\"],[0.4444444444444444,\"#bd3786\"],[0.5555555555555556,\"#d8576b\"],[0.6666666666666666,\"#ed7953\"],[0.7777777777777778,\"#fb9f3a\"],[0.8888888888888888,\"#fdca26\"],[1.0,\"#f0f921\"]]}],\"choropleth\":[{\"type\":\"choropleth\",\"colorbar\":{\"outlinewidth\":0,\"ticks\":\"\"}}],\"histogram2d\":[{\"type\":\"histogram2d\",\"colorbar\":{\"outlinewidth\":0,\"ticks\":\"\"},\"colorscale\":[[0.0,\"#0d0887\"],[0.1111111111111111,\"#46039f\"],[0.2222222222222222,\"#7201a8\"],[0.3333333333333333,\"#9c179e\"],[0.4444444444444444,\"#bd3786\"],[0.5555555555555556,\"#d8576b\"],[0.6666666666666666,\"#ed7953\"],[0.7777777777777778,\"#fb9f3a\"],[0.8888888888888888,\"#fdca26\"],[1.0,\"#f0f921\"]]}],\"heatmap\":[{\"type\":\"heatmap\",\"colorbar\":{\"outlinewidth\":0,\"ticks\":\"\"},\"colorscale\":[[0.0,\"#0d0887\"],[0.1111111111111111,\"#46039f\"],[0.2222222222222222,\"#7201a8\"],[0.3333333333333333,\"#9c179e\"],[0.4444444444444444,\"#bd3786\"],[0.5555555555555556,\"#d8576b\"],[0.6666666666666666,\"#ed7953\"],[0.7777777777777778,\"#fb9f3a\"],[0.8888888888888888,\"#fdca26\"],[1.0,\"#f0f921\"]]}],\"heatmapgl\":[{\"type\":\"heatmapgl\",\"colorbar\":{\"outlinewidth\":0,\"ticks\":\"\"},\"colorscale\":[[0.0,\"#0d0887\"],[0.1111111111111111,\"#46039f\"],[0.2222222222222222,\"#7201a8\"],[0.3333333333333333,\"#9c179e\"],[0.4444444444444444,\"#bd3786\"],[0.5555555555555556,\"#d8576b\"],[0.6666666666666666,\"#ed7953\"],[0.7777777777777778,\"#fb9f3a\"],[0.8888888888888888,\"#fdca26\"],[1.0,\"#f0f921\"]]}],\"contourcarpet\":[{\"type\":\"contourcarpet\",\"colorbar\":{\"outlinewidth\":0,\"ticks\":\"\"}}],\"contour\":[{\"type\":\"contour\",\"colorbar\":{\"outlinewidth\":0,\"ticks\":\"\"},\"colorscale\":[[0.0,\"#0d0887\"],[0.1111111111111111,\"#46039f\"],[0.2222222222222222,\"#7201a8\"],[0.3333333333333333,\"#9c179e\"],[0.4444444444444444,\"#bd3786\"],[0.5555555555555556,\"#d8576b\"],[0.6666666666666666,\"#ed7953\"],[0.7777777777777778,\"#fb9f3a\"],[0.8888888888888888,\"#fdca26\"],[1.0,\"#f0f921\"]]}],\"surface\":[{\"type\":\"surface\",\"colorbar\":{\"outlinewidth\":0,\"ticks\":\"\"},\"colorscale\":[[0.0,\"#0d0887\"],[0.1111111111111111,\"#46039f\"],[0.2222222222222222,\"#7201a8\"],[0.3333333333333333,\"#9c179e\"],[0.4444444444444444,\"#bd3786\"],[0.5555555555555556,\"#d8576b\"],[0.6666666666666666,\"#ed7953\"],[0.7777777777777778,\"#fb9f3a\"],[0.8888888888888888,\"#fdca26\"],[1.0,\"#f0f921\"]]}],\"mesh3d\":[{\"type\":\"mesh3d\",\"colorbar\":{\"outlinewidth\":0,\"ticks\":\"\"}}],\"scatter\":[{\"fillpattern\":{\"fillmode\":\"overlay\",\"size\":10,\"solidity\":0.2},\"type\":\"scatter\"}],\"parcoords\":[{\"type\":\"parcoords\",\"line\":{\"colorbar\":{\"outlinewidth\":0,\"ticks\":\"\"}}}],\"scatterpolargl\":[{\"type\":\"scatterpolargl\",\"marker\":{\"colorbar\":{\"outlinewidth\":0,\"ticks\":\"\"}}}],\"bar\":[{\"error_x\":{\"color\":\"#2a3f5f\"},\"error_y\":{\"color\":\"#2a3f5f\"},\"marker\":{\"line\":{\"color\":\"#E5ECF6\",\"width\":0.5},\"pattern\":{\"fillmode\":\"overlay\",\"size\":10,\"solidity\":0.2}},\"type\":\"bar\"}],\"scattergeo\":[{\"type\":\"scattergeo\",\"marker\":{\"colorbar\":{\"outlinewidth\":0,\"ticks\":\"\"}}}],\"scatterpolar\":[{\"type\":\"scatterpolar\",\"marker\":{\"colorbar\":{\"outlinewidth\":0,\"ticks\":\"\"}}}],\"histogram\":[{\"marker\":{\"pattern\":{\"fillmode\":\"overlay\",\"size\":10,\"solidity\":0.2}},\"type\":\"histogram\"}],\"scattergl\":[{\"type\":\"scattergl\",\"marker\":{\"colorbar\":{\"outlinewidth\":0,\"ticks\":\"\"}}}],\"scatter3d\":[{\"type\":\"scatter3d\",\"line\":{\"colorbar\":{\"outlinewidth\":0,\"ticks\":\"\"}},\"marker\":{\"colorbar\":{\"outlinewidth\":0,\"ticks\":\"\"}}}],\"scattermapbox\":[{\"type\":\"scattermapbox\",\"marker\":{\"colorbar\":{\"outlinewidth\":0,\"ticks\":\"\"}}}],\"scatterternary\":[{\"type\":\"scatterternary\",\"marker\":{\"colorbar\":{\"outlinewidth\":0,\"ticks\":\"\"}}}],\"scattercarpet\":[{\"type\":\"scattercarpet\",\"marker\":{\"colorbar\":{\"outlinewidth\":0,\"ticks\":\"\"}}}],\"carpet\":[{\"aaxis\":{\"endlinecolor\":\"#2a3f5f\",\"gridcolor\":\"white\",\"linecolor\":\"white\",\"minorgridcolor\":\"white\",\"startlinecolor\":\"#2a3f5f\"},\"baxis\":{\"endlinecolor\":\"#2a3f5f\",\"gridcolor\":\"white\",\"linecolor\":\"white\",\"minorgridcolor\":\"white\",\"startlinecolor\":\"#2a3f5f\"},\"type\":\"carpet\"}],\"table\":[{\"cells\":{\"fill\":{\"color\":\"#EBF0F8\"},\"line\":{\"color\":\"white\"}},\"header\":{\"fill\":{\"color\":\"#C8D4E3\"},\"line\":{\"color\":\"white\"}},\"type\":\"table\"}],\"barpolar\":[{\"marker\":{\"line\":{\"color\":\"#E5ECF6\",\"width\":0.5},\"pattern\":{\"fillmode\":\"overlay\",\"size\":10,\"solidity\":0.2}},\"type\":\"barpolar\"}],\"pie\":[{\"automargin\":true,\"type\":\"pie\"}]},\"layout\":{\"autotypenumbers\":\"strict\",\"colorway\":[\"#636efa\",\"#EF553B\",\"#00cc96\",\"#ab63fa\",\"#FFA15A\",\"#19d3f3\",\"#FF6692\",\"#B6E880\",\"#FF97FF\",\"#FECB52\"],\"font\":{\"color\":\"#2a3f5f\"},\"hovermode\":\"closest\",\"hoverlabel\":{\"align\":\"left\"},\"paper_bgcolor\":\"white\",\"plot_bgcolor\":\"#E5ECF6\",\"polar\":{\"bgcolor\":\"#E5ECF6\",\"angularaxis\":{\"gridcolor\":\"white\",\"linecolor\":\"white\",\"ticks\":\"\"},\"radialaxis\":{\"gridcolor\":\"white\",\"linecolor\":\"white\",\"ticks\":\"\"}},\"ternary\":{\"bgcolor\":\"#E5ECF6\",\"aaxis\":{\"gridcolor\":\"white\",\"linecolor\":\"white\",\"ticks\":\"\"},\"baxis\":{\"gridcolor\":\"white\",\"linecolor\":\"white\",\"ticks\":\"\"},\"caxis\":{\"gridcolor\":\"white\",\"linecolor\":\"white\",\"ticks\":\"\"}},\"coloraxis\":{\"colorbar\":{\"outlinewidth\":0,\"ticks\":\"\"}},\"colorscale\":{\"sequential\":[[0.0,\"#0d0887\"],[0.1111111111111111,\"#46039f\"],[0.2222222222222222,\"#7201a8\"],[0.3333333333333333,\"#9c179e\"],[0.4444444444444444,\"#bd3786\"],[0.5555555555555556,\"#d8576b\"],[0.6666666666666666,\"#ed7953\"],[0.7777777777777778,\"#fb9f3a\"],[0.8888888888888888,\"#fdca26\"],[1.0,\"#f0f921\"]],\"sequentialminus\":[[0.0,\"#0d0887\"],[0.1111111111111111,\"#46039f\"],[0.2222222222222222,\"#7201a8\"],[0.3333333333333333,\"#9c179e\"],[0.4444444444444444,\"#bd3786\"],[0.5555555555555556,\"#d8576b\"],[0.6666666666666666,\"#ed7953\"],[0.7777777777777778,\"#fb9f3a\"],[0.8888888888888888,\"#fdca26\"],[1.0,\"#f0f921\"]],\"diverging\":[[0,\"#8e0152\"],[0.1,\"#c51b7d\"],[0.2,\"#de77ae\"],[0.3,\"#f1b6da\"],[0.4,\"#fde0ef\"],[0.5,\"#f7f7f7\"],[0.6,\"#e6f5d0\"],[0.7,\"#b8e186\"],[0.8,\"#7fbc41\"],[0.9,\"#4d9221\"],[1,\"#276419\"]]},\"xaxis\":{\"gridcolor\":\"white\",\"linecolor\":\"white\",\"ticks\":\"\",\"title\":{\"standoff\":15},\"zerolinecolor\":\"white\",\"automargin\":true,\"zerolinewidth\":2},\"yaxis\":{\"gridcolor\":\"white\",\"linecolor\":\"white\",\"ticks\":\"\",\"title\":{\"standoff\":15},\"zerolinecolor\":\"white\",\"automargin\":true,\"zerolinewidth\":2},\"scene\":{\"xaxis\":{\"backgroundcolor\":\"#E5ECF6\",\"gridcolor\":\"white\",\"linecolor\":\"white\",\"showbackground\":true,\"ticks\":\"\",\"zerolinecolor\":\"white\",\"gridwidth\":2},\"yaxis\":{\"backgroundcolor\":\"#E5ECF6\",\"gridcolor\":\"white\",\"linecolor\":\"white\",\"showbackground\":true,\"ticks\":\"\",\"zerolinecolor\":\"white\",\"gridwidth\":2},\"zaxis\":{\"backgroundcolor\":\"#E5ECF6\",\"gridcolor\":\"white\",\"linecolor\":\"white\",\"showbackground\":true,\"ticks\":\"\",\"zerolinecolor\":\"white\",\"gridwidth\":2}},\"shapedefaults\":{\"line\":{\"color\":\"#2a3f5f\"}},\"annotationdefaults\":{\"arrowcolor\":\"#2a3f5f\",\"arrowhead\":0,\"arrowwidth\":1},\"geo\":{\"bgcolor\":\"white\",\"landcolor\":\"#E5ECF6\",\"subunitcolor\":\"white\",\"showland\":true,\"showlakes\":true,\"lakecolor\":\"white\"},\"title\":{\"x\":0.05},\"mapbox\":{\"style\":\"light\"}}},\"xaxis\":{\"anchor\":\"y\",\"domain\":[0.0,1.0],\"title\":{\"text\":\"option\"}},\"yaxis\":{\"anchor\":\"x\",\"domain\":[0.0,1.0],\"title\":{\"text\":\"value\"}},\"legend\":{\"tracegroupgap\":0},\"margin\":{\"t\":60},\"violinmode\":\"group\"},                        {\"responsive\": true}                    ).then(function(){\n",
       "                            \n",
       "var gd = document.getElementById('4e71c210-ff15-4e6b-a3f9-dac9400be9d0');\n",
       "var x = new MutationObserver(function (mutations, observer) {{\n",
       "        var display = window.getComputedStyle(gd).display;\n",
       "        if (!display || display === 'none') {{\n",
       "            console.log([gd, 'removed!']);\n",
       "            Plotly.purge(gd);\n",
       "            observer.disconnect();\n",
       "        }}\n",
       "}});\n",
       "\n",
       "// Listen for the removal of the full notebook cells\n",
       "var notebookContainer = gd.closest('#notebook-container');\n",
       "if (notebookContainer) {{\n",
       "    x.observe(notebookContainer, {childList: true});\n",
       "}}\n",
       "\n",
       "// Listen for the clearing of the current output cell\n",
       "var outputEl = gd.closest('.output');\n",
       "if (outputEl) {{\n",
       "    x.observe(outputEl, {childList: true});\n",
       "}}\n",
       "\n",
       "                        })                };                });            </script>        </div>"
      ]
     },
     "metadata": {},
     "output_type": "display_data"
    }
   ],
   "source": [
    "import plotly.express as px\n",
    "\n",
    "fig = px.violin(cups.history, y=\"value\", x=\"option\", box=True, points=\"all\",\n",
    "          hover_data=cups.history.columns)\n",
    "fig.show()"
   ]
  },
  {
   "cell_type": "markdown",
   "id": "16e20fb0",
   "metadata": {
    "papermill": {
     "duration": 0.004711,
     "end_time": "2024-11-29T07:21:34.206684",
     "exception": false,
     "start_time": "2024-11-29T07:21:34.201973",
     "status": "completed"
    },
    "tags": []
   },
   "source": [
    "# Какой выход из МЦК утром?\n",
    "* Садиться в ту дверь, которая кажется ближе к выходу\n",
    "* считать от выхода на платформу до выхода из крутящихся дверей офиса\n"
   ]
  },
  {
   "cell_type": "code",
   "execution_count": 4,
   "id": "85caf5ae",
   "metadata": {
    "execution": {
     "iopub.execute_input": "2024-11-29T07:21:34.219584Z",
     "iopub.status.busy": "2024-11-29T07:21:34.219158Z",
     "iopub.status.idle": "2024-11-29T07:21:34.299788Z",
     "shell.execute_reply": "2024-11-29T07:21:34.298012Z"
    },
    "papermill": {
     "duration": 0.091521,
     "end_time": "2024-11-29T07:21:34.303833",
     "exception": false,
     "start_time": "2024-11-29T07:21:34.212312",
     "status": "completed"
    },
    "tags": []
   },
   "outputs": [
    {
     "data": {
      "text/html": [
       "<div>\n",
       "<style scoped>\n",
       "    .dataframe tbody tr th:only-of-type {\n",
       "        vertical-align: middle;\n",
       "    }\n",
       "\n",
       "    .dataframe tbody tr th {\n",
       "        vertical-align: top;\n",
       "    }\n",
       "\n",
       "    .dataframe thead th {\n",
       "        text-align: right;\n",
       "    }\n",
       "</style>\n",
       "<table border=\"1\" class=\"dataframe\">\n",
       "  <thead>\n",
       "    <tr style=\"text-align: right;\">\n",
       "      <th></th>\n",
       "      <th>name</th>\n",
       "      <th>mu</th>\n",
       "      <th>Te</th>\n",
       "      <th>alpha</th>\n",
       "      <th>beta</th>\n",
       "      <th>tau</th>\n",
       "      <th>theta</th>\n",
       "      <th>SD</th>\n",
       "      <th>var95</th>\n",
       "    </tr>\n",
       "  </thead>\n",
       "  <tbody>\n",
       "    <tr>\n",
       "      <th>1</th>\n",
       "      <td>мцд</td>\n",
       "      <td>7.968889</td>\n",
       "      <td>3.0</td>\n",
       "      <td>2.0</td>\n",
       "      <td>0.889195</td>\n",
       "      <td>2.215633</td>\n",
       "      <td>7.945037</td>\n",
       "      <td>0.671817</td>\n",
       "      <td>9.261775</td>\n",
       "    </tr>\n",
       "    <tr>\n",
       "      <th>0</th>\n",
       "      <td>мцк</td>\n",
       "      <td>8.878333</td>\n",
       "      <td>3.0</td>\n",
       "      <td>2.0</td>\n",
       "      <td>1.010886</td>\n",
       "      <td>6.971649</td>\n",
       "      <td>9.055433</td>\n",
       "      <td>0.378732</td>\n",
       "      <td>9.797734</td>\n",
       "    </tr>\n",
       "  </tbody>\n",
       "</table>\n",
       "</div>"
      ],
      "text/plain": [
       "  name        mu   Te  alpha      beta       tau     theta        SD     var95\n",
       "1  мцд  7.968889  3.0    2.0  0.889195  2.215633  7.945037  0.671817  9.261775\n",
       "0  мцк  8.878333  3.0    2.0  1.010886  6.971649  9.055433  0.378732  9.797734"
      ]
     },
     "execution_count": 4,
     "metadata": {},
     "output_type": "execute_result"
    }
   ],
   "source": [
    "morning_exit = HandsTable(options_list=[\"мцк\",\"мцд\"], minimize=True)\n",
    "# 3 мцк\n",
    "# 6 мцд\n",
    "morning_exit.update_hands(\"мцк\", '0:08:03.7') # вторник 19 ноября\n",
    "morning_exit.update_hands(\"мцд\", '0:08:40') # среда 20 ноября\n",
    "morning_exit.update_hands(\"мцк\", '0:09:23.4') # mon 25 ноября\n",
    "morning_exit.update_hands(\"мцд\", '0:07:46.5') # вторник 26 ноября\n",
    "morning_exit.update_hands(\"мцд\", '0:07:27.9') # среда 27 ноября\n",
    "morning_exit.update_hands(\"мцк\", '0:09:11') # пятница 29 ноября\n",
    "\n",
    "morning_exit.grade()"
   ]
  },
  {
   "cell_type": "markdown",
   "id": "fc06fad6",
   "metadata": {
    "papermill": {
     "duration": 0.00361,
     "end_time": "2024-11-29T07:21:34.311926",
     "exception": false,
     "start_time": "2024-11-29T07:21:34.308316",
     "status": "completed"
    },
    "tags": []
   },
   "source": [
    "# Какой вход в МЦК вечером?\n",
    "* Садиться в ту дверь, которая кажется ближе к выходу\n",
    "* считать от выхода из крутящихся дверей до посадки в поезд\n"
   ]
  },
  {
   "cell_type": "code",
   "execution_count": 5,
   "id": "62f9625b",
   "metadata": {
    "execution": {
     "iopub.execute_input": "2024-11-29T07:21:34.322485Z",
     "iopub.status.busy": "2024-11-29T07:21:34.322064Z",
     "iopub.status.idle": "2024-11-29T07:21:34.356607Z",
     "shell.execute_reply": "2024-11-29T07:21:34.355111Z"
    },
    "papermill": {
     "duration": 0.043067,
     "end_time": "2024-11-29T07:21:34.359569",
     "exception": false,
     "start_time": "2024-11-29T07:21:34.316502",
     "status": "completed"
    },
    "tags": []
   },
   "outputs": [
    {
     "data": {
      "text/html": [
       "<div>\n",
       "<style scoped>\n",
       "    .dataframe tbody tr th:only-of-type {\n",
       "        vertical-align: middle;\n",
       "    }\n",
       "\n",
       "    .dataframe tbody tr th {\n",
       "        vertical-align: top;\n",
       "    }\n",
       "\n",
       "    .dataframe thead th {\n",
       "        text-align: right;\n",
       "    }\n",
       "</style>\n",
       "<table border=\"1\" class=\"dataframe\">\n",
       "  <thead>\n",
       "    <tr style=\"text-align: right;\">\n",
       "      <th></th>\n",
       "      <th>name</th>\n",
       "      <th>mu</th>\n",
       "      <th>Te</th>\n",
       "      <th>alpha</th>\n",
       "      <th>beta</th>\n",
       "      <th>tau</th>\n",
       "      <th>theta</th>\n",
       "      <th>SD</th>\n",
       "      <th>var95</th>\n",
       "    </tr>\n",
       "  </thead>\n",
       "  <tbody>\n",
       "    <tr>\n",
       "      <th>1</th>\n",
       "      <td>мцд</td>\n",
       "      <td>8.061667</td>\n",
       "      <td>1.0</td>\n",
       "      <td>1.0</td>\n",
       "      <td>0.5</td>\n",
       "      <td>3.916454</td>\n",
       "      <td>6.959189</td>\n",
       "      <td>0.505305</td>\n",
       "      <td>7.949569</td>\n",
       "    </tr>\n",
       "    <tr>\n",
       "      <th>0</th>\n",
       "      <td>мцк</td>\n",
       "      <td>11.233333</td>\n",
       "      <td>1.0</td>\n",
       "      <td>1.0</td>\n",
       "      <td>0.5</td>\n",
       "      <td>0.922171</td>\n",
       "      <td>11.763908</td>\n",
       "      <td>1.041344</td>\n",
       "      <td>13.804905</td>\n",
       "    </tr>\n",
       "  </tbody>\n",
       "</table>\n",
       "</div>"
      ],
      "text/plain": [
       "  name         mu   Te  alpha  beta       tau      theta        SD      var95\n",
       "1  мцд   8.061667  1.0    1.0   0.5  3.916454   6.959189  0.505305   7.949569\n",
       "0  мцк  11.233333  1.0    1.0   0.5  0.922171  11.763908  1.041344  13.804905"
      ]
     },
     "execution_count": 5,
     "metadata": {},
     "output_type": "execute_result"
    }
   ],
   "source": [
    "evening_entrance = HandsTable(options_list=[\"мцк\",\"мцд\"], minimize=True)\n",
    "# 3 мцк\n",
    "# 6 мцд\n",
    "evening_entrance.update_hands(\"мцд\", '0:08:03.7') # четверг 21 ноября\n",
    "evening_entrance.update_hands(\"мцк\", '0:11:14') # четверг 28 ноября\n",
    "\n",
    "evening_entrance.grade()"
   ]
  }
 ],
 "metadata": {
  "kaggle": {
   "accelerator": "none",
   "dataSources": [],
   "dockerImageVersionId": 30786,
   "isGpuEnabled": false,
   "isInternetEnabled": true,
   "language": "python",
   "sourceType": "notebook"
  },
  "kernelspec": {
   "display_name": "Python 3",
   "language": "python",
   "name": "python3"
  },
  "language_info": {
   "codemirror_mode": {
    "name": "ipython",
    "version": 3
   },
   "file_extension": ".py",
   "mimetype": "text/x-python",
   "name": "python",
   "nbconvert_exporter": "python",
   "pygments_lexer": "ipython3",
   "version": "3.10.14"
  },
  "papermill": {
   "default_parameters": {},
   "duration": 11.673259,
   "end_time": "2024-11-29T07:21:35.290183",
   "environment_variables": {},
   "exception": null,
   "input_path": "__notebook__.ipynb",
   "output_path": "__notebook__.ipynb",
   "parameters": {},
   "start_time": "2024-11-29T07:21:23.616924",
   "version": "2.6.0"
  }
 },
 "nbformat": 4,
 "nbformat_minor": 5
}
