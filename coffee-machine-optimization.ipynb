{
 "cells": [
  {
   "cell_type": "markdown",
   "id": "8d51301b",
   "metadata": {
    "papermill": {
     "duration": 0.002245,
     "end_time": "2024-11-11T12:03:03.765811",
     "exception": false,
     "start_time": "2024-11-11T12:03:03.763566",
     "status": "completed"
    },
    "tags": []
   },
   "source": [
    "# Ноутбук для подбора настроек кофемашины"
   ]
  },
  {
   "cell_type": "code",
   "execution_count": null,
   "id": "c70f7169",
   "metadata": {
    "papermill": {
     "duration": 0.001452,
     "end_time": "2024-11-11T12:03:03.769117",
     "exception": false,
     "start_time": "2024-11-11T12:03:03.767665",
     "status": "completed"
    },
    "tags": []
   },
   "outputs": [],
   "source": []
  }
 ],
 "metadata": {
  "kaggle": {
   "accelerator": "none",
   "dataSources": [],
   "dockerImageVersionId": 30786,
   "isGpuEnabled": false,
   "isInternetEnabled": true,
   "language": "python",
   "sourceType": "notebook"
  },
  "kernelspec": {
   "display_name": "Python 3",
   "language": "python",
   "name": "python3"
  },
  "language_info": {
   "codemirror_mode": {
    "name": "ipython",
    "version": 3
   },
   "file_extension": ".py",
   "mimetype": "text/x-python",
   "name": "python",
   "nbconvert_exporter": "python",
   "pygments_lexer": "ipython3",
   "version": "3.10.14"
  },
  "papermill": {
   "default_parameters": {},
   "duration": 3.51675,
   "end_time": "2024-11-11T12:03:04.191913",
   "environment_variables": {},
   "exception": null,
   "input_path": "__notebook__.ipynb",
   "output_path": "__notebook__.ipynb",
   "parameters": {},
   "start_time": "2024-11-11T12:03:00.675163",
   "version": "2.6.0"
  }
 },
 "nbformat": 4,
 "nbformat_minor": 5
}
